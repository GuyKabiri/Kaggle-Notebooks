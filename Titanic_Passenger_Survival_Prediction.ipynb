{
  "nbformat": 4,
  "nbformat_minor": 0,
  "metadata": {
    "kernelspec": {
      "display_name": "Python 3",
      "language": "python",
      "name": "python3"
    },
    "language_info": {
      "codemirror_mode": {
        "name": "ipython",
        "version": 3
      },
      "file_extension": ".py",
      "mimetype": "text/x-python",
      "name": "python",
      "nbconvert_exporter": "python",
      "pygments_lexer": "ipython3",
      "version": "3.7.6"
    },
    "papermill": {
      "duration": 50.443833,
      "end_time": "2020-11-16T15:47:42.372629",
      "environment_variables": {},
      "exception": null,
      "input_path": "__notebook__.ipynb",
      "output_path": "__notebook__.ipynb",
      "parameters": {},
      "start_time": "2020-11-16T15:46:51.928796",
      "version": "2.1.0"
    },
    "colab": {
      "name": "Titanic Passenger Survival Prediction.ipynb",
      "provenance": []
    }
  },
  "cells": [
    {
      "cell_type": "markdown",
      "metadata": {
        "papermill": {
          "duration": 0.070417,
          "end_time": "2020-11-16T15:46:57.078796",
          "exception": false,
          "start_time": "2020-11-16T15:46:57.008379",
          "status": "completed"
        },
        "tags": [],
        "id": "TEhchPK6T7By"
      },
      "source": [
        "* Guy Kabiri (גיא כבירי)\n",
        "* https://www.kaggle.com/guykabiri"
      ]
    },
    {
      "cell_type": "markdown",
      "metadata": {
        "papermill": {
          "duration": 0.067885,
          "end_time": "2020-11-16T15:46:57.215026",
          "exception": false,
          "start_time": "2020-11-16T15:46:57.147141",
          "status": "completed"
        },
        "tags": [],
        "id": "v0b6bhCeT7CJ"
      },
      "source": [
        "# Intro\n",
        "In this competition I will investigate the data of passengers who boarded the Titanic.  \n",
        "I will try to study the connection between the different features in this data in order to create a model which will be able to predict whether a passenger survived or not.  \n",
        "I will use two types of models with different features to find the best model for this data.\n",
        "* SGD - a GD-like linear regression algorithm.\n",
        "* MLP - an artificial nueral network."
      ]
    },
    {
      "cell_type": "markdown",
      "metadata": {
        "papermill": {
          "duration": 0.068611,
          "end_time": "2020-11-16T15:46:57.352013",
          "exception": false,
          "start_time": "2020-11-16T15:46:57.283402",
          "status": "completed"
        },
        "tags": [],
        "id": "f7xPJfoOT7CN"
      },
      "source": [
        "# Imports"
      ]
    },
    {
      "cell_type": "code",
      "metadata": {
        "execution": {
          "iopub.execute_input": "2020-11-16T15:46:57.496899Z",
          "iopub.status.busy": "2020-11-16T15:46:57.496034Z",
          "iopub.status.idle": "2020-11-16T15:46:58.801003Z",
          "shell.execute_reply": "2020-11-16T15:46:58.800179Z"
        },
        "papermill": {
          "duration": 1.380372,
          "end_time": "2020-11-16T15:46:58.801130",
          "exception": false,
          "start_time": "2020-11-16T15:46:57.420758",
          "status": "completed"
        },
        "tags": [],
        "id": "T_j6yC2eT7CN"
      },
      "source": [
        "import math\n",
        "import numpy as np\n",
        "import pandas as pd\n",
        "import matplotlib.pyplot as plt\n",
        "import seaborn as sns\n",
        "\n",
        "import sklearn\n",
        "from sklearn import metrics\n",
        "from sklearn import datasets\n",
        "from sklearn import pipeline\n",
        "from sklearn import linear_model\n",
        "from sklearn import preprocessing\n",
        "from sklearn import model_selection\n",
        "from sklearn import neural_network"
      ],
      "execution_count": null,
      "outputs": []
    },
    {
      "cell_type": "markdown",
      "metadata": {
        "papermill": {
          "duration": 0.068082,
          "end_time": "2020-11-16T15:46:58.938828",
          "exception": false,
          "start_time": "2020-11-16T15:46:58.870746",
          "status": "completed"
        },
        "tags": [],
        "id": "XSjQgJSLT7CO"
      },
      "source": [
        "# Import The Data"
      ]
    },
    {
      "cell_type": "code",
      "metadata": {
        "execution": {
          "iopub.execute_input": "2020-11-16T15:46:59.086427Z",
          "iopub.status.busy": "2020-11-16T15:46:59.085533Z",
          "iopub.status.idle": "2020-11-16T15:46:59.105966Z",
          "shell.execute_reply": "2020-11-16T15:46:59.105138Z"
        },
        "papermill": {
          "duration": 0.097124,
          "end_time": "2020-11-16T15:46:59.106092",
          "exception": false,
          "start_time": "2020-11-16T15:46:59.008968",
          "status": "completed"
        },
        "tags": [],
        "id": "cqOq_eBpT7CQ"
      },
      "source": [
        "train_csv = pd.read_csv('../input/titanic/train.csv')\n",
        "titanic_df = pd.DataFrame(train_csv)\n",
        "test_csv = pd.read_csv('../input/titanic/test.csv')\n",
        "test = pd.DataFrame(test_csv)"
      ],
      "execution_count": null,
      "outputs": []
    },
    {
      "cell_type": "markdown",
      "metadata": {
        "papermill": {
          "duration": 0.067795,
          "end_time": "2020-11-16T15:46:59.243211",
          "exception": false,
          "start_time": "2020-11-16T15:46:59.175416",
          "status": "completed"
        },
        "tags": [],
        "id": "edUUTadpT7CS"
      },
      "source": [
        "# Explore The Data\n",
        "\n",
        "First of all, let's see the keys."
      ]
    },
    {
      "cell_type": "code",
      "metadata": {
        "execution": {
          "iopub.execute_input": "2020-11-16T15:46:59.388795Z",
          "iopub.status.busy": "2020-11-16T15:46:59.387891Z",
          "iopub.status.idle": "2020-11-16T15:46:59.391917Z",
          "shell.execute_reply": "2020-11-16T15:46:59.392499Z"
        },
        "papermill": {
          "duration": 0.081023,
          "end_time": "2020-11-16T15:46:59.392647",
          "exception": false,
          "start_time": "2020-11-16T15:46:59.311624",
          "status": "completed"
        },
        "tags": [],
        "id": "Ej_y2dxaT7CT",
        "outputId": "d562a37a-5147-420d-8e3c-3d91e0c966a0"
      },
      "source": [
        "display(titanic_df.keys())"
      ],
      "execution_count": null,
      "outputs": [
        {
          "output_type": "display_data",
          "data": {
            "text/plain": [
              "Index(['PassengerId', 'Survived', 'Pclass', 'Name', 'Sex', 'Age', 'SibSp',\n",
              "       'Parch', 'Ticket', 'Fare', 'Cabin', 'Embarked'],\n",
              "      dtype='object')"
            ]
          },
          "metadata": {
            "tags": []
          }
        }
      ]
    },
    {
      "cell_type": "markdown",
      "metadata": {
        "papermill": {
          "duration": 0.068513,
          "end_time": "2020-11-16T15:46:59.530602",
          "exception": false,
          "start_time": "2020-11-16T15:46:59.462089",
          "status": "completed"
        },
        "tags": [],
        "id": "DlVJoTrsT7CU"
      },
      "source": [
        "Understanding the keys meaning:\n",
        "* `PassengareId` - Id of the passenger .\n",
        "* `Survived` - Whether the passenger survives or not.\n",
        "* `Pclass` - The ticket class (SES)\n",
        "* `Name` - Name of the passenger.\n",
        "* `Sex` - Gender of the passenger.\n",
        "* `Age` - Age of the passenger.\n",
        "* `SibSp` - Number of siblings and spouse.\n",
        "* `Parch` - Number of parents and children.\n",
        "* `Ticket` - Ticket number.\n",
        "* `Fare` - How much the passenger paid.\n",
        "* `Cabin` - Cabin of the passenger.\n",
        "* `Embarked` - Which port the passenger borded."
      ]
    },
    {
      "cell_type": "markdown",
      "metadata": {
        "papermill": {
          "duration": 0.081868,
          "end_time": "2020-11-16T15:46:59.684092",
          "exception": false,
          "start_time": "2020-11-16T15:46:59.602224",
          "status": "completed"
        },
        "tags": [],
        "id": "ZrDd-MvAT7CV"
      },
      "source": [
        "## Variable Analysis\n",
        "* Categorical Variables: Survived, Sex, Cabin and Embarked.\n",
        "* Ordinal Variables: Pclass, SubSp and Parch\n",
        "* Numerical Variables: Age and Fare."
      ]
    },
    {
      "cell_type": "markdown",
      "metadata": {
        "papermill": {
          "duration": 0.068933,
          "end_time": "2020-11-16T15:46:59.830884",
          "exception": false,
          "start_time": "2020-11-16T15:46:59.761951",
          "status": "completed"
        },
        "tags": [],
        "id": "w1Tx8AkJT7CW"
      },
      "source": [
        "Now let's observe the data and it's structure.\n",
        "It contains 891 rows with 11 features and the target which means if a passenger survived or not."
      ]
    },
    {
      "cell_type": "code",
      "metadata": {
        "execution": {
          "iopub.execute_input": "2020-11-16T15:47:00.011701Z",
          "iopub.status.busy": "2020-11-16T15:46:59.994058Z",
          "iopub.status.idle": "2020-11-16T15:47:00.039128Z",
          "shell.execute_reply": "2020-11-16T15:47:00.039780Z"
        },
        "papermill": {
          "duration": 0.138795,
          "end_time": "2020-11-16T15:47:00.039936",
          "exception": false,
          "start_time": "2020-11-16T15:46:59.901141",
          "status": "completed"
        },
        "tags": [],
        "id": "ebFfpm8QT7CW",
        "outputId": "d174aa3e-f831-4bb7-e182-5fdb458ba83d"
      },
      "source": [
        "survived = titanic_df[\"Survived\"]\n",
        "titanic_df = titanic_df.drop(\"Survived\", axis=1)\n",
        "titanic_df.insert(0, \"Survived\", survived)\n",
        "display(titanic_df)\n",
        "titanic_df.info()"
      ],
      "execution_count": null,
      "outputs": [
        {
          "output_type": "display_data",
          "data": {
            "text/html": [
              "<div>\n",
              "<style scoped>\n",
              "    .dataframe tbody tr th:only-of-type {\n",
              "        vertical-align: middle;\n",
              "    }\n",
              "\n",
              "    .dataframe tbody tr th {\n",
              "        vertical-align: top;\n",
              "    }\n",
              "\n",
              "    .dataframe thead th {\n",
              "        text-align: right;\n",
              "    }\n",
              "</style>\n",
              "<table border=\"1\" class=\"dataframe\">\n",
              "  <thead>\n",
              "    <tr style=\"text-align: right;\">\n",
              "      <th></th>\n",
              "      <th>Survived</th>\n",
              "      <th>PassengerId</th>\n",
              "      <th>Pclass</th>\n",
              "      <th>Name</th>\n",
              "      <th>Sex</th>\n",
              "      <th>Age</th>\n",
              "      <th>SibSp</th>\n",
              "      <th>Parch</th>\n",
              "      <th>Ticket</th>\n",
              "      <th>Fare</th>\n",
              "      <th>Cabin</th>\n",
              "      <th>Embarked</th>\n",
              "    </tr>\n",
              "  </thead>\n",
              "  <tbody>\n",
              "    <tr>\n",
              "      <th>0</th>\n",
              "      <td>0</td>\n",
              "      <td>1</td>\n",
              "      <td>3</td>\n",
              "      <td>Braund, Mr. Owen Harris</td>\n",
              "      <td>male</td>\n",
              "      <td>22.0</td>\n",
              "      <td>1</td>\n",
              "      <td>0</td>\n",
              "      <td>A/5 21171</td>\n",
              "      <td>7.2500</td>\n",
              "      <td>NaN</td>\n",
              "      <td>S</td>\n",
              "    </tr>\n",
              "    <tr>\n",
              "      <th>1</th>\n",
              "      <td>1</td>\n",
              "      <td>2</td>\n",
              "      <td>1</td>\n",
              "      <td>Cumings, Mrs. John Bradley (Florence Briggs Th...</td>\n",
              "      <td>female</td>\n",
              "      <td>38.0</td>\n",
              "      <td>1</td>\n",
              "      <td>0</td>\n",
              "      <td>PC 17599</td>\n",
              "      <td>71.2833</td>\n",
              "      <td>C85</td>\n",
              "      <td>C</td>\n",
              "    </tr>\n",
              "    <tr>\n",
              "      <th>2</th>\n",
              "      <td>1</td>\n",
              "      <td>3</td>\n",
              "      <td>3</td>\n",
              "      <td>Heikkinen, Miss. Laina</td>\n",
              "      <td>female</td>\n",
              "      <td>26.0</td>\n",
              "      <td>0</td>\n",
              "      <td>0</td>\n",
              "      <td>STON/O2. 3101282</td>\n",
              "      <td>7.9250</td>\n",
              "      <td>NaN</td>\n",
              "      <td>S</td>\n",
              "    </tr>\n",
              "    <tr>\n",
              "      <th>3</th>\n",
              "      <td>1</td>\n",
              "      <td>4</td>\n",
              "      <td>1</td>\n",
              "      <td>Futrelle, Mrs. Jacques Heath (Lily May Peel)</td>\n",
              "      <td>female</td>\n",
              "      <td>35.0</td>\n",
              "      <td>1</td>\n",
              "      <td>0</td>\n",
              "      <td>113803</td>\n",
              "      <td>53.1000</td>\n",
              "      <td>C123</td>\n",
              "      <td>S</td>\n",
              "    </tr>\n",
              "    <tr>\n",
              "      <th>4</th>\n",
              "      <td>0</td>\n",
              "      <td>5</td>\n",
              "      <td>3</td>\n",
              "      <td>Allen, Mr. William Henry</td>\n",
              "      <td>male</td>\n",
              "      <td>35.0</td>\n",
              "      <td>0</td>\n",
              "      <td>0</td>\n",
              "      <td>373450</td>\n",
              "      <td>8.0500</td>\n",
              "      <td>NaN</td>\n",
              "      <td>S</td>\n",
              "    </tr>\n",
              "    <tr>\n",
              "      <th>...</th>\n",
              "      <td>...</td>\n",
              "      <td>...</td>\n",
              "      <td>...</td>\n",
              "      <td>...</td>\n",
              "      <td>...</td>\n",
              "      <td>...</td>\n",
              "      <td>...</td>\n",
              "      <td>...</td>\n",
              "      <td>...</td>\n",
              "      <td>...</td>\n",
              "      <td>...</td>\n",
              "      <td>...</td>\n",
              "    </tr>\n",
              "    <tr>\n",
              "      <th>886</th>\n",
              "      <td>0</td>\n",
              "      <td>887</td>\n",
              "      <td>2</td>\n",
              "      <td>Montvila, Rev. Juozas</td>\n",
              "      <td>male</td>\n",
              "      <td>27.0</td>\n",
              "      <td>0</td>\n",
              "      <td>0</td>\n",
              "      <td>211536</td>\n",
              "      <td>13.0000</td>\n",
              "      <td>NaN</td>\n",
              "      <td>S</td>\n",
              "    </tr>\n",
              "    <tr>\n",
              "      <th>887</th>\n",
              "      <td>1</td>\n",
              "      <td>888</td>\n",
              "      <td>1</td>\n",
              "      <td>Graham, Miss. Margaret Edith</td>\n",
              "      <td>female</td>\n",
              "      <td>19.0</td>\n",
              "      <td>0</td>\n",
              "      <td>0</td>\n",
              "      <td>112053</td>\n",
              "      <td>30.0000</td>\n",
              "      <td>B42</td>\n",
              "      <td>S</td>\n",
              "    </tr>\n",
              "    <tr>\n",
              "      <th>888</th>\n",
              "      <td>0</td>\n",
              "      <td>889</td>\n",
              "      <td>3</td>\n",
              "      <td>Johnston, Miss. Catherine Helen \"Carrie\"</td>\n",
              "      <td>female</td>\n",
              "      <td>NaN</td>\n",
              "      <td>1</td>\n",
              "      <td>2</td>\n",
              "      <td>W./C. 6607</td>\n",
              "      <td>23.4500</td>\n",
              "      <td>NaN</td>\n",
              "      <td>S</td>\n",
              "    </tr>\n",
              "    <tr>\n",
              "      <th>889</th>\n",
              "      <td>1</td>\n",
              "      <td>890</td>\n",
              "      <td>1</td>\n",
              "      <td>Behr, Mr. Karl Howell</td>\n",
              "      <td>male</td>\n",
              "      <td>26.0</td>\n",
              "      <td>0</td>\n",
              "      <td>0</td>\n",
              "      <td>111369</td>\n",
              "      <td>30.0000</td>\n",
              "      <td>C148</td>\n",
              "      <td>C</td>\n",
              "    </tr>\n",
              "    <tr>\n",
              "      <th>890</th>\n",
              "      <td>0</td>\n",
              "      <td>891</td>\n",
              "      <td>3</td>\n",
              "      <td>Dooley, Mr. Patrick</td>\n",
              "      <td>male</td>\n",
              "      <td>32.0</td>\n",
              "      <td>0</td>\n",
              "      <td>0</td>\n",
              "      <td>370376</td>\n",
              "      <td>7.7500</td>\n",
              "      <td>NaN</td>\n",
              "      <td>Q</td>\n",
              "    </tr>\n",
              "  </tbody>\n",
              "</table>\n",
              "<p>891 rows × 12 columns</p>\n",
              "</div>"
            ],
            "text/plain": [
              "     Survived  PassengerId  Pclass  \\\n",
              "0           0            1       3   \n",
              "1           1            2       1   \n",
              "2           1            3       3   \n",
              "3           1            4       1   \n",
              "4           0            5       3   \n",
              "..        ...          ...     ...   \n",
              "886         0          887       2   \n",
              "887         1          888       1   \n",
              "888         0          889       3   \n",
              "889         1          890       1   \n",
              "890         0          891       3   \n",
              "\n",
              "                                                  Name     Sex   Age  SibSp  \\\n",
              "0                              Braund, Mr. Owen Harris    male  22.0      1   \n",
              "1    Cumings, Mrs. John Bradley (Florence Briggs Th...  female  38.0      1   \n",
              "2                               Heikkinen, Miss. Laina  female  26.0      0   \n",
              "3         Futrelle, Mrs. Jacques Heath (Lily May Peel)  female  35.0      1   \n",
              "4                             Allen, Mr. William Henry    male  35.0      0   \n",
              "..                                                 ...     ...   ...    ...   \n",
              "886                              Montvila, Rev. Juozas    male  27.0      0   \n",
              "887                       Graham, Miss. Margaret Edith  female  19.0      0   \n",
              "888           Johnston, Miss. Catherine Helen \"Carrie\"  female   NaN      1   \n",
              "889                              Behr, Mr. Karl Howell    male  26.0      0   \n",
              "890                                Dooley, Mr. Patrick    male  32.0      0   \n",
              "\n",
              "     Parch            Ticket     Fare Cabin Embarked  \n",
              "0        0         A/5 21171   7.2500   NaN        S  \n",
              "1        0          PC 17599  71.2833   C85        C  \n",
              "2        0  STON/O2. 3101282   7.9250   NaN        S  \n",
              "3        0            113803  53.1000  C123        S  \n",
              "4        0            373450   8.0500   NaN        S  \n",
              "..     ...               ...      ...   ...      ...  \n",
              "886      0            211536  13.0000   NaN        S  \n",
              "887      0            112053  30.0000   B42        S  \n",
              "888      2        W./C. 6607  23.4500   NaN        S  \n",
              "889      0            111369  30.0000  C148        C  \n",
              "890      0            370376   7.7500   NaN        Q  \n",
              "\n",
              "[891 rows x 12 columns]"
            ]
          },
          "metadata": {
            "tags": []
          }
        },
        {
          "output_type": "stream",
          "text": [
            "<class 'pandas.core.frame.DataFrame'>\n",
            "RangeIndex: 891 entries, 0 to 890\n",
            "Data columns (total 12 columns):\n",
            " #   Column       Non-Null Count  Dtype  \n",
            "---  ------       --------------  -----  \n",
            " 0   Survived     891 non-null    int64  \n",
            " 1   PassengerId  891 non-null    int64  \n",
            " 2   Pclass       891 non-null    int64  \n",
            " 3   Name         891 non-null    object \n",
            " 4   Sex          891 non-null    object \n",
            " 5   Age          714 non-null    float64\n",
            " 6   SibSp        891 non-null    int64  \n",
            " 7   Parch        891 non-null    int64  \n",
            " 8   Ticket       891 non-null    object \n",
            " 9   Fare         891 non-null    float64\n",
            " 10  Cabin        204 non-null    object \n",
            " 11  Embarked     889 non-null    object \n",
            "dtypes: float64(2), int64(5), object(5)\n",
            "memory usage: 83.7+ KB\n"
          ],
          "name": "stdout"
        }
      ]
    },
    {
      "cell_type": "markdown",
      "metadata": {
        "papermill": {
          "duration": 0.070875,
          "end_time": "2020-11-16T15:47:00.181812",
          "exception": false,
          "start_time": "2020-11-16T15:47:00.110937",
          "status": "completed"
        },
        "tags": [],
        "id": "Dk2fkXilT7CX"
      },
      "source": [
        "## Handle Non-Numerical Variables and Missing Values\n"
      ]
    },
    {
      "cell_type": "code",
      "metadata": {
        "execution": {
          "iopub.execute_input": "2020-11-16T15:47:00.334013Z",
          "iopub.status.busy": "2020-11-16T15:47:00.333141Z",
          "iopub.status.idle": "2020-11-16T15:47:00.337873Z",
          "shell.execute_reply": "2020-11-16T15:47:00.337205Z"
        },
        "papermill": {
          "duration": 0.085066,
          "end_time": "2020-11-16T15:47:00.337998",
          "exception": false,
          "start_time": "2020-11-16T15:47:00.252932",
          "status": "completed"
        },
        "tags": [],
        "id": "_m7nzcZDT7CX",
        "outputId": "ff0ddafc-925d-4d99-c327-1423741437c1"
      },
      "source": [
        "titanic_df.isna().sum()"
      ],
      "execution_count": null,
      "outputs": [
        {
          "output_type": "execute_result",
          "data": {
            "text/plain": [
              "Survived         0\n",
              "PassengerId      0\n",
              "Pclass           0\n",
              "Name             0\n",
              "Sex              0\n",
              "Age            177\n",
              "SibSp            0\n",
              "Parch            0\n",
              "Ticket           0\n",
              "Fare             0\n",
              "Cabin          687\n",
              "Embarked         2\n",
              "dtype: int64"
            ]
          },
          "metadata": {
            "tags": []
          },
          "execution_count": 5
        }
      ]
    },
    {
      "cell_type": "markdown",
      "metadata": {
        "papermill": {
          "duration": 0.071661,
          "end_time": "2020-11-16T15:47:00.489127",
          "exception": false,
          "start_time": "2020-11-16T15:47:00.417466",
          "status": "completed"
        },
        "tags": [],
        "id": "4AMRr61_T7CY"
      },
      "source": [
        "### Name Variable:\n",
        "The name seem to be irrelevent to the chance of a passenger to survive, but we can use it to extract a passenger's title into a `Title` categorical variable.\n",
        "First let's see all the different titles the passengers have."
      ]
    },
    {
      "cell_type": "code",
      "metadata": {
        "execution": {
          "iopub.execute_input": "2020-11-16T15:47:00.652732Z",
          "iopub.status.busy": "2020-11-16T15:47:00.646923Z",
          "iopub.status.idle": "2020-11-16T15:47:00.695742Z",
          "shell.execute_reply": "2020-11-16T15:47:00.694970Z"
        },
        "papermill": {
          "duration": 0.134067,
          "end_time": "2020-11-16T15:47:00.695867",
          "exception": false,
          "start_time": "2020-11-16T15:47:00.561800",
          "status": "completed"
        },
        "tags": [],
        "id": "9_IKpBQsT7CY",
        "outputId": "58c2dc0b-debf-4289-bba1-177261d7bbc8"
      },
      "source": [
        "titanic_df[\"Title\"] = titanic_df[\"Name\"].str.extract(' ([A-Za-z]+)\\.', expand=False)\n",
        "pd.crosstab(titanic_df[\"Title\"], titanic_df[\"Sex\"])"
      ],
      "execution_count": null,
      "outputs": [
        {
          "output_type": "execute_result",
          "data": {
            "text/html": [
              "<div>\n",
              "<style scoped>\n",
              "    .dataframe tbody tr th:only-of-type {\n",
              "        vertical-align: middle;\n",
              "    }\n",
              "\n",
              "    .dataframe tbody tr th {\n",
              "        vertical-align: top;\n",
              "    }\n",
              "\n",
              "    .dataframe thead th {\n",
              "        text-align: right;\n",
              "    }\n",
              "</style>\n",
              "<table border=\"1\" class=\"dataframe\">\n",
              "  <thead>\n",
              "    <tr style=\"text-align: right;\">\n",
              "      <th>Sex</th>\n",
              "      <th>female</th>\n",
              "      <th>male</th>\n",
              "    </tr>\n",
              "    <tr>\n",
              "      <th>Title</th>\n",
              "      <th></th>\n",
              "      <th></th>\n",
              "    </tr>\n",
              "  </thead>\n",
              "  <tbody>\n",
              "    <tr>\n",
              "      <th>Capt</th>\n",
              "      <td>0</td>\n",
              "      <td>1</td>\n",
              "    </tr>\n",
              "    <tr>\n",
              "      <th>Col</th>\n",
              "      <td>0</td>\n",
              "      <td>2</td>\n",
              "    </tr>\n",
              "    <tr>\n",
              "      <th>Countess</th>\n",
              "      <td>1</td>\n",
              "      <td>0</td>\n",
              "    </tr>\n",
              "    <tr>\n",
              "      <th>Don</th>\n",
              "      <td>0</td>\n",
              "      <td>1</td>\n",
              "    </tr>\n",
              "    <tr>\n",
              "      <th>Dr</th>\n",
              "      <td>1</td>\n",
              "      <td>6</td>\n",
              "    </tr>\n",
              "    <tr>\n",
              "      <th>Jonkheer</th>\n",
              "      <td>0</td>\n",
              "      <td>1</td>\n",
              "    </tr>\n",
              "    <tr>\n",
              "      <th>Lady</th>\n",
              "      <td>1</td>\n",
              "      <td>0</td>\n",
              "    </tr>\n",
              "    <tr>\n",
              "      <th>Major</th>\n",
              "      <td>0</td>\n",
              "      <td>2</td>\n",
              "    </tr>\n",
              "    <tr>\n",
              "      <th>Master</th>\n",
              "      <td>0</td>\n",
              "      <td>40</td>\n",
              "    </tr>\n",
              "    <tr>\n",
              "      <th>Miss</th>\n",
              "      <td>182</td>\n",
              "      <td>0</td>\n",
              "    </tr>\n",
              "    <tr>\n",
              "      <th>Mlle</th>\n",
              "      <td>2</td>\n",
              "      <td>0</td>\n",
              "    </tr>\n",
              "    <tr>\n",
              "      <th>Mme</th>\n",
              "      <td>1</td>\n",
              "      <td>0</td>\n",
              "    </tr>\n",
              "    <tr>\n",
              "      <th>Mr</th>\n",
              "      <td>0</td>\n",
              "      <td>517</td>\n",
              "    </tr>\n",
              "    <tr>\n",
              "      <th>Mrs</th>\n",
              "      <td>125</td>\n",
              "      <td>0</td>\n",
              "    </tr>\n",
              "    <tr>\n",
              "      <th>Ms</th>\n",
              "      <td>1</td>\n",
              "      <td>0</td>\n",
              "    </tr>\n",
              "    <tr>\n",
              "      <th>Rev</th>\n",
              "      <td>0</td>\n",
              "      <td>6</td>\n",
              "    </tr>\n",
              "    <tr>\n",
              "      <th>Sir</th>\n",
              "      <td>0</td>\n",
              "      <td>1</td>\n",
              "    </tr>\n",
              "  </tbody>\n",
              "</table>\n",
              "</div>"
            ],
            "text/plain": [
              "Sex       female  male\n",
              "Title                 \n",
              "Capt           0     1\n",
              "Col            0     2\n",
              "Countess       1     0\n",
              "Don            0     1\n",
              "Dr             1     6\n",
              "Jonkheer       0     1\n",
              "Lady           1     0\n",
              "Major          0     2\n",
              "Master         0    40\n",
              "Miss         182     0\n",
              "Mlle           2     0\n",
              "Mme            1     0\n",
              "Mr             0   517\n",
              "Mrs          125     0\n",
              "Ms             1     0\n",
              "Rev            0     6\n",
              "Sir            0     1"
            ]
          },
          "metadata": {
            "tags": []
          },
          "execution_count": 6
        }
      ]
    },
    {
      "cell_type": "code",
      "metadata": {
        "execution": {
          "iopub.execute_input": "2020-11-16T15:47:00.850980Z",
          "iopub.status.busy": "2020-11-16T15:47:00.849852Z",
          "iopub.status.idle": "2020-11-16T15:47:01.043343Z",
          "shell.execute_reply": "2020-11-16T15:47:01.042732Z"
        },
        "papermill": {
          "duration": 0.274303,
          "end_time": "2020-11-16T15:47:01.043477",
          "exception": false,
          "start_time": "2020-11-16T15:47:00.769174",
          "status": "completed"
        },
        "tags": [],
        "id": "ClSGVJGET7CZ",
        "outputId": "6881e85d-d3e3-48ea-f937-7ab5321390c1"
      },
      "source": [
        "pd.crosstab(titanic_df.Title ,titanic_df.Sex).T.style.background_gradient() #Checking the Initials with the Sex"
      ],
      "execution_count": null,
      "outputs": [
        {
          "output_type": "execute_result",
          "data": {
            "text/html": [
              "<style  type=\"text/css\" >\n",
              "#T_f770d2a6_2822_11eb_921a_0242ac130202row0_col0,#T_f770d2a6_2822_11eb_921a_0242ac130202row0_col1,#T_f770d2a6_2822_11eb_921a_0242ac130202row0_col3,#T_f770d2a6_2822_11eb_921a_0242ac130202row0_col4,#T_f770d2a6_2822_11eb_921a_0242ac130202row0_col5,#T_f770d2a6_2822_11eb_921a_0242ac130202row0_col7,#T_f770d2a6_2822_11eb_921a_0242ac130202row0_col8,#T_f770d2a6_2822_11eb_921a_0242ac130202row0_col12,#T_f770d2a6_2822_11eb_921a_0242ac130202row0_col15,#T_f770d2a6_2822_11eb_921a_0242ac130202row0_col16,#T_f770d2a6_2822_11eb_921a_0242ac130202row1_col2,#T_f770d2a6_2822_11eb_921a_0242ac130202row1_col6,#T_f770d2a6_2822_11eb_921a_0242ac130202row1_col9,#T_f770d2a6_2822_11eb_921a_0242ac130202row1_col10,#T_f770d2a6_2822_11eb_921a_0242ac130202row1_col11,#T_f770d2a6_2822_11eb_921a_0242ac130202row1_col13,#T_f770d2a6_2822_11eb_921a_0242ac130202row1_col14{\n",
              "            background-color:  #fff7fb;\n",
              "            color:  #000000;\n",
              "        }#T_f770d2a6_2822_11eb_921a_0242ac130202row0_col2,#T_f770d2a6_2822_11eb_921a_0242ac130202row0_col6,#T_f770d2a6_2822_11eb_921a_0242ac130202row0_col9,#T_f770d2a6_2822_11eb_921a_0242ac130202row0_col10,#T_f770d2a6_2822_11eb_921a_0242ac130202row0_col11,#T_f770d2a6_2822_11eb_921a_0242ac130202row0_col13,#T_f770d2a6_2822_11eb_921a_0242ac130202row0_col14,#T_f770d2a6_2822_11eb_921a_0242ac130202row1_col0,#T_f770d2a6_2822_11eb_921a_0242ac130202row1_col1,#T_f770d2a6_2822_11eb_921a_0242ac130202row1_col3,#T_f770d2a6_2822_11eb_921a_0242ac130202row1_col4,#T_f770d2a6_2822_11eb_921a_0242ac130202row1_col5,#T_f770d2a6_2822_11eb_921a_0242ac130202row1_col7,#T_f770d2a6_2822_11eb_921a_0242ac130202row1_col8,#T_f770d2a6_2822_11eb_921a_0242ac130202row1_col12,#T_f770d2a6_2822_11eb_921a_0242ac130202row1_col15,#T_f770d2a6_2822_11eb_921a_0242ac130202row1_col16{\n",
              "            background-color:  #023858;\n",
              "            color:  #f1f1f1;\n",
              "        }</style><table id=\"T_f770d2a6_2822_11eb_921a_0242ac130202\" ><thead>    <tr>        <th class=\"index_name level0\" >Title</th>        <th class=\"col_heading level0 col0\" >Capt</th>        <th class=\"col_heading level0 col1\" >Col</th>        <th class=\"col_heading level0 col2\" >Countess</th>        <th class=\"col_heading level0 col3\" >Don</th>        <th class=\"col_heading level0 col4\" >Dr</th>        <th class=\"col_heading level0 col5\" >Jonkheer</th>        <th class=\"col_heading level0 col6\" >Lady</th>        <th class=\"col_heading level0 col7\" >Major</th>        <th class=\"col_heading level0 col8\" >Master</th>        <th class=\"col_heading level0 col9\" >Miss</th>        <th class=\"col_heading level0 col10\" >Mlle</th>        <th class=\"col_heading level0 col11\" >Mme</th>        <th class=\"col_heading level0 col12\" >Mr</th>        <th class=\"col_heading level0 col13\" >Mrs</th>        <th class=\"col_heading level0 col14\" >Ms</th>        <th class=\"col_heading level0 col15\" >Rev</th>        <th class=\"col_heading level0 col16\" >Sir</th>    </tr>    <tr>        <th class=\"index_name level0\" >Sex</th>        <th class=\"blank\" ></th>        <th class=\"blank\" ></th>        <th class=\"blank\" ></th>        <th class=\"blank\" ></th>        <th class=\"blank\" ></th>        <th class=\"blank\" ></th>        <th class=\"blank\" ></th>        <th class=\"blank\" ></th>        <th class=\"blank\" ></th>        <th class=\"blank\" ></th>        <th class=\"blank\" ></th>        <th class=\"blank\" ></th>        <th class=\"blank\" ></th>        <th class=\"blank\" ></th>        <th class=\"blank\" ></th>        <th class=\"blank\" ></th>        <th class=\"blank\" ></th>    </tr></thead><tbody>\n",
              "                <tr>\n",
              "                        <th id=\"T_f770d2a6_2822_11eb_921a_0242ac130202level0_row0\" class=\"row_heading level0 row0\" >female</th>\n",
              "                        <td id=\"T_f770d2a6_2822_11eb_921a_0242ac130202row0_col0\" class=\"data row0 col0\" >0</td>\n",
              "                        <td id=\"T_f770d2a6_2822_11eb_921a_0242ac130202row0_col1\" class=\"data row0 col1\" >0</td>\n",
              "                        <td id=\"T_f770d2a6_2822_11eb_921a_0242ac130202row0_col2\" class=\"data row0 col2\" >1</td>\n",
              "                        <td id=\"T_f770d2a6_2822_11eb_921a_0242ac130202row0_col3\" class=\"data row0 col3\" >0</td>\n",
              "                        <td id=\"T_f770d2a6_2822_11eb_921a_0242ac130202row0_col4\" class=\"data row0 col4\" >1</td>\n",
              "                        <td id=\"T_f770d2a6_2822_11eb_921a_0242ac130202row0_col5\" class=\"data row0 col5\" >0</td>\n",
              "                        <td id=\"T_f770d2a6_2822_11eb_921a_0242ac130202row0_col6\" class=\"data row0 col6\" >1</td>\n",
              "                        <td id=\"T_f770d2a6_2822_11eb_921a_0242ac130202row0_col7\" class=\"data row0 col7\" >0</td>\n",
              "                        <td id=\"T_f770d2a6_2822_11eb_921a_0242ac130202row0_col8\" class=\"data row0 col8\" >0</td>\n",
              "                        <td id=\"T_f770d2a6_2822_11eb_921a_0242ac130202row0_col9\" class=\"data row0 col9\" >182</td>\n",
              "                        <td id=\"T_f770d2a6_2822_11eb_921a_0242ac130202row0_col10\" class=\"data row0 col10\" >2</td>\n",
              "                        <td id=\"T_f770d2a6_2822_11eb_921a_0242ac130202row0_col11\" class=\"data row0 col11\" >1</td>\n",
              "                        <td id=\"T_f770d2a6_2822_11eb_921a_0242ac130202row0_col12\" class=\"data row0 col12\" >0</td>\n",
              "                        <td id=\"T_f770d2a6_2822_11eb_921a_0242ac130202row0_col13\" class=\"data row0 col13\" >125</td>\n",
              "                        <td id=\"T_f770d2a6_2822_11eb_921a_0242ac130202row0_col14\" class=\"data row0 col14\" >1</td>\n",
              "                        <td id=\"T_f770d2a6_2822_11eb_921a_0242ac130202row0_col15\" class=\"data row0 col15\" >0</td>\n",
              "                        <td id=\"T_f770d2a6_2822_11eb_921a_0242ac130202row0_col16\" class=\"data row0 col16\" >0</td>\n",
              "            </tr>\n",
              "            <tr>\n",
              "                        <th id=\"T_f770d2a6_2822_11eb_921a_0242ac130202level0_row1\" class=\"row_heading level0 row1\" >male</th>\n",
              "                        <td id=\"T_f770d2a6_2822_11eb_921a_0242ac130202row1_col0\" class=\"data row1 col0\" >1</td>\n",
              "                        <td id=\"T_f770d2a6_2822_11eb_921a_0242ac130202row1_col1\" class=\"data row1 col1\" >2</td>\n",
              "                        <td id=\"T_f770d2a6_2822_11eb_921a_0242ac130202row1_col2\" class=\"data row1 col2\" >0</td>\n",
              "                        <td id=\"T_f770d2a6_2822_11eb_921a_0242ac130202row1_col3\" class=\"data row1 col3\" >1</td>\n",
              "                        <td id=\"T_f770d2a6_2822_11eb_921a_0242ac130202row1_col4\" class=\"data row1 col4\" >6</td>\n",
              "                        <td id=\"T_f770d2a6_2822_11eb_921a_0242ac130202row1_col5\" class=\"data row1 col5\" >1</td>\n",
              "                        <td id=\"T_f770d2a6_2822_11eb_921a_0242ac130202row1_col6\" class=\"data row1 col6\" >0</td>\n",
              "                        <td id=\"T_f770d2a6_2822_11eb_921a_0242ac130202row1_col7\" class=\"data row1 col7\" >2</td>\n",
              "                        <td id=\"T_f770d2a6_2822_11eb_921a_0242ac130202row1_col8\" class=\"data row1 col8\" >40</td>\n",
              "                        <td id=\"T_f770d2a6_2822_11eb_921a_0242ac130202row1_col9\" class=\"data row1 col9\" >0</td>\n",
              "                        <td id=\"T_f770d2a6_2822_11eb_921a_0242ac130202row1_col10\" class=\"data row1 col10\" >0</td>\n",
              "                        <td id=\"T_f770d2a6_2822_11eb_921a_0242ac130202row1_col11\" class=\"data row1 col11\" >0</td>\n",
              "                        <td id=\"T_f770d2a6_2822_11eb_921a_0242ac130202row1_col12\" class=\"data row1 col12\" >517</td>\n",
              "                        <td id=\"T_f770d2a6_2822_11eb_921a_0242ac130202row1_col13\" class=\"data row1 col13\" >0</td>\n",
              "                        <td id=\"T_f770d2a6_2822_11eb_921a_0242ac130202row1_col14\" class=\"data row1 col14\" >0</td>\n",
              "                        <td id=\"T_f770d2a6_2822_11eb_921a_0242ac130202row1_col15\" class=\"data row1 col15\" >6</td>\n",
              "                        <td id=\"T_f770d2a6_2822_11eb_921a_0242ac130202row1_col16\" class=\"data row1 col16\" >1</td>\n",
              "            </tr>\n",
              "    </tbody></table>"
            ],
            "text/plain": [
              "<pandas.io.formats.style.Styler at 0x7f89de594810>"
            ]
          },
          "metadata": {
            "tags": []
          },
          "execution_count": 7
        }
      ]
    },
    {
      "cell_type": "markdown",
      "metadata": {
        "papermill": {
          "duration": 0.0728,
          "end_time": "2020-11-16T15:47:01.189565",
          "exception": false,
          "start_time": "2020-11-16T15:47:01.116765",
          "status": "completed"
        },
        "tags": [],
        "id": "HBZNIWCKT7Ca"
      },
      "source": [
        "There are a lot of titles, some of them can be combined.\n",
        "* Combine all the rates titles into `Rare`.\n",
        "* Combine the variante of `Miss`.\n",
        "* Combine the variante of `Msr`."
      ]
    },
    {
      "cell_type": "code",
      "metadata": {
        "execution": {
          "iopub.execute_input": "2020-11-16T15:47:01.354781Z",
          "iopub.status.busy": "2020-11-16T15:47:01.345131Z",
          "iopub.status.idle": "2020-11-16T15:47:01.387166Z",
          "shell.execute_reply": "2020-11-16T15:47:01.386571Z"
        },
        "papermill": {
          "duration": 0.124606,
          "end_time": "2020-11-16T15:47:01.387312",
          "exception": false,
          "start_time": "2020-11-16T15:47:01.262706",
          "status": "completed"
        },
        "tags": [],
        "id": "uVKP1gmKT7Cc",
        "outputId": "87576718-eed7-4710-c5d3-b98dd753707e"
      },
      "source": [
        "titanic_df[\"Title\"] = titanic_df[\"Title\"].replace([\"Lady\", \"Countess\",\"Capt\", \"Col\",\\\n",
        " \t\"Don\", \"Dr\", \"Major\", \"Rev\", \"Sir\", \"Jonkheer\", \"Dona\"], \"Other\")\n",
        "\n",
        "titanic_df[\"Title\"] = titanic_df[\"Title\"].replace(\"Mlle\", \"Miss\")\n",
        "titanic_df[\"Title\"] = titanic_df[\"Title\"].replace(\"Ms\", \"Miss\")\n",
        "titanic_df[\"Title\"] = titanic_df[\"Title\"].replace(\"Mme\", \"Mrs\")\n",
        "\n",
        "pd.crosstab(titanic_df.Title ,titanic_df.Survived, values=titanic_df.Age, aggfunc='mean').T.style.background_gradient() #Checking the Initials with the Sex"
      ],
      "execution_count": null,
      "outputs": [
        {
          "output_type": "execute_result",
          "data": {
            "text/html": [
              "<style  type=\"text/css\" >\n",
              "#T_f7a616aa_2822_11eb_921a_0242ac130202row0_col0,#T_f7a616aa_2822_11eb_921a_0242ac130202row0_col3,#T_f7a616aa_2822_11eb_921a_0242ac130202row1_col1,#T_f7a616aa_2822_11eb_921a_0242ac130202row1_col2,#T_f7a616aa_2822_11eb_921a_0242ac130202row1_col4{\n",
              "            background-color:  #023858;\n",
              "            color:  #f1f1f1;\n",
              "        }#T_f7a616aa_2822_11eb_921a_0242ac130202row0_col1,#T_f7a616aa_2822_11eb_921a_0242ac130202row0_col2,#T_f7a616aa_2822_11eb_921a_0242ac130202row0_col4,#T_f7a616aa_2822_11eb_921a_0242ac130202row1_col0,#T_f7a616aa_2822_11eb_921a_0242ac130202row1_col3{\n",
              "            background-color:  #fff7fb;\n",
              "            color:  #000000;\n",
              "        }</style><table id=\"T_f7a616aa_2822_11eb_921a_0242ac130202\" ><thead>    <tr>        <th class=\"index_name level0\" >Title</th>        <th class=\"col_heading level0 col0\" >Master</th>        <th class=\"col_heading level0 col1\" >Miss</th>        <th class=\"col_heading level0 col2\" >Mr</th>        <th class=\"col_heading level0 col3\" >Mrs</th>        <th class=\"col_heading level0 col4\" >Other</th>    </tr>    <tr>        <th class=\"index_name level0\" >Survived</th>        <th class=\"blank\" ></th>        <th class=\"blank\" ></th>        <th class=\"blank\" ></th>        <th class=\"blank\" ></th>        <th class=\"blank\" ></th>    </tr></thead><tbody>\n",
              "                <tr>\n",
              "                        <th id=\"T_f7a616aa_2822_11eb_921a_0242ac130202level0_row0\" class=\"row_heading level0 row0\" >0</th>\n",
              "                        <td id=\"T_f7a616aa_2822_11eb_921a_0242ac130202row0_col0\" class=\"data row0 col0\" >5.400000</td>\n",
              "                        <td id=\"T_f7a616aa_2822_11eb_921a_0242ac130202row0_col1\" class=\"data row0 col1\" >18.853659</td>\n",
              "                        <td id=\"T_f7a616aa_2822_11eb_921a_0242ac130202row0_col2\" class=\"data row0 col2\" >32.231118</td>\n",
              "                        <td id=\"T_f7a616aa_2822_11eb_921a_0242ac130202row0_col3\" class=\"data row0 col3\" >36.086957</td>\n",
              "                        <td id=\"T_f7a616aa_2822_11eb_921a_0242ac130202row0_col4\" class=\"data row0 col4\" >45.214286</td>\n",
              "            </tr>\n",
              "            <tr>\n",
              "                        <th id=\"T_f7a616aa_2822_11eb_921a_0242ac130202level0_row1\" class=\"row_heading level0 row1\" >1</th>\n",
              "                        <td id=\"T_f7a616aa_2822_11eb_921a_0242ac130202row1_col0\" class=\"data row1 col0\" >3.984286</td>\n",
              "                        <td id=\"T_f7a616aa_2822_11eb_921a_0242ac130202row1_col1\" class=\"data row1 col1\" >22.981481</td>\n",
              "                        <td id=\"T_f7a616aa_2822_11eb_921a_0242ac130202row1_col2\" class=\"data row1 col2\" >33.044776</td>\n",
              "                        <td id=\"T_f7a616aa_2822_11eb_921a_0242ac130202row1_col3\" class=\"data row1 col3\" >35.709302</td>\n",
              "                        <td id=\"T_f7a616aa_2822_11eb_921a_0242ac130202row1_col4\" class=\"data row1 col4\" >46.125000</td>\n",
              "            </tr>\n",
              "    </tbody></table>"
            ],
            "text/plain": [
              "<pandas.io.formats.style.Styler at 0x7f89e405cf50>"
            ]
          },
          "metadata": {
            "tags": []
          },
          "execution_count": 8
        }
      ]
    },
    {
      "cell_type": "code",
      "metadata": {
        "execution": {
          "iopub.execute_input": "2020-11-16T15:47:01.545336Z",
          "iopub.status.busy": "2020-11-16T15:47:01.544228Z",
          "iopub.status.idle": "2020-11-16T15:47:01.919262Z",
          "shell.execute_reply": "2020-11-16T15:47:01.918679Z"
        },
        "papermill": {
          "duration": 0.458332,
          "end_time": "2020-11-16T15:47:01.919411",
          "exception": false,
          "start_time": "2020-11-16T15:47:01.461079",
          "status": "completed"
        },
        "tags": [],
        "id": "__SwRLYWT7Cd",
        "outputId": "5bfae10f-7a12-4e87-8803-db16c1601537"
      },
      "source": [
        "sns.barplot(x=\"Title\", y=\"Survived\", data=titanic_df)"
      ],
      "execution_count": null,
      "outputs": [
        {
          "output_type": "execute_result",
          "data": {
            "text/plain": [
              "<matplotlib.axes._subplots.AxesSubplot at 0x7f89de5c2c10>"
            ]
          },
          "metadata": {
            "tags": []
          },
          "execution_count": 9
        },
        {
          "output_type": "display_data",
          "data": {
            "image/png": "[encoded data removed]",
            "text/plain": [
              "<Figure size 432x288 with 1 Axes>"
            ]
          },
          "metadata": {
            "tags": [],
            "needs_background": "light"
          }
        }
      ]
    },
    {
      "cell_type": "markdown",
      "metadata": {
        "papermill": {
          "duration": 0.075507,
          "end_time": "2020-11-16T15:47:02.072036",
          "exception": false,
          "start_time": "2020-11-16T15:47:01.996529",
          "status": "completed"
        },
        "tags": [],
        "id": "SVcqeqHIT7Cg"
      },
      "source": [
        "Now the `Title` variable can be converted into a categorical variable."
      ]
    },
    {
      "cell_type": "code",
      "metadata": {
        "execution": {
          "iopub.execute_input": "2020-11-16T15:47:02.244657Z",
          "iopub.status.busy": "2020-11-16T15:47:02.239965Z",
          "iopub.status.idle": "2020-11-16T15:47:02.249634Z",
          "shell.execute_reply": "2020-11-16T15:47:02.249035Z"
        },
        "papermill": {
          "duration": 0.101154,
          "end_time": "2020-11-16T15:47:02.249761",
          "exception": false,
          "start_time": "2020-11-16T15:47:02.148607",
          "status": "completed"
        },
        "tags": [],
        "id": "MuiwO77GT7Ch",
        "outputId": "7aae90d3-62c0-44ff-9e88-e358d0bfa981"
      },
      "source": [
        "titanic_df[\"Title_cat\"] = titanic_df[\"Title\"].map({'Mr' : 0, 'Mrs' : 1, 'Miss' : 2, 'Master' : 3, 'Other' : 4})\n",
        "display(titanic_df[[\"Title\", \"Title_cat\"]])"
      ],
      "execution_count": null,
      "outputs": [
        {
          "output_type": "display_data",
          "data": {
            "text/html": [
              "<div>\n",
              "<style scoped>\n",
              "    .dataframe tbody tr th:only-of-type {\n",
              "        vertical-align: middle;\n",
              "    }\n",
              "\n",
              "    .dataframe tbody tr th {\n",
              "        vertical-align: top;\n",
              "    }\n",
              "\n",
              "    .dataframe thead th {\n",
              "        text-align: right;\n",
              "    }\n",
              "</style>\n",
              "<table border=\"1\" class=\"dataframe\">\n",
              "  <thead>\n",
              "    <tr style=\"text-align: right;\">\n",
              "      <th></th>\n",
              "      <th>Title</th>\n",
              "      <th>Title_cat</th>\n",
              "    </tr>\n",
              "  </thead>\n",
              "  <tbody>\n",
              "    <tr>\n",
              "      <th>0</th>\n",
              "      <td>Mr</td>\n",
              "      <td>0</td>\n",
              "    </tr>\n",
              "    <tr>\n",
              "      <th>1</th>\n",
              "      <td>Mrs</td>\n",
              "      <td>1</td>\n",
              "    </tr>\n",
              "    <tr>\n",
              "      <th>2</th>\n",
              "      <td>Miss</td>\n",
              "      <td>2</td>\n",
              "    </tr>\n",
              "    <tr>\n",
              "      <th>3</th>\n",
              "      <td>Mrs</td>\n",
              "      <td>1</td>\n",
              "    </tr>\n",
              "    <tr>\n",
              "      <th>4</th>\n",
              "      <td>Mr</td>\n",
              "      <td>0</td>\n",
              "    </tr>\n",
              "    <tr>\n",
              "      <th>...</th>\n",
              "      <td>...</td>\n",
              "      <td>...</td>\n",
              "    </tr>\n",
              "    <tr>\n",
              "      <th>886</th>\n",
              "      <td>Other</td>\n",
              "      <td>4</td>\n",
              "    </tr>\n",
              "    <tr>\n",
              "      <th>887</th>\n",
              "      <td>Miss</td>\n",
              "      <td>2</td>\n",
              "    </tr>\n",
              "    <tr>\n",
              "      <th>888</th>\n",
              "      <td>Miss</td>\n",
              "      <td>2</td>\n",
              "    </tr>\n",
              "    <tr>\n",
              "      <th>889</th>\n",
              "      <td>Mr</td>\n",
              "      <td>0</td>\n",
              "    </tr>\n",
              "    <tr>\n",
              "      <th>890</th>\n",
              "      <td>Mr</td>\n",
              "      <td>0</td>\n",
              "    </tr>\n",
              "  </tbody>\n",
              "</table>\n",
              "<p>891 rows × 2 columns</p>\n",
              "</div>"
            ],
            "text/plain": [
              "     Title  Title_cat\n",
              "0       Mr          0\n",
              "1      Mrs          1\n",
              "2     Miss          2\n",
              "3      Mrs          1\n",
              "4       Mr          0\n",
              "..     ...        ...\n",
              "886  Other          4\n",
              "887   Miss          2\n",
              "888   Miss          2\n",
              "889     Mr          0\n",
              "890     Mr          0\n",
              "\n",
              "[891 rows x 2 columns]"
            ]
          },
          "metadata": {
            "tags": []
          }
        }
      ]
    },
    {
      "cell_type": "code",
      "metadata": {
        "execution": {
          "iopub.execute_input": "2020-11-16T15:47:02.414377Z",
          "iopub.status.busy": "2020-11-16T15:47:02.413375Z",
          "iopub.status.idle": "2020-11-16T15:47:02.418603Z",
          "shell.execute_reply": "2020-11-16T15:47:02.417965Z"
        },
        "papermill": {
          "duration": 0.091752,
          "end_time": "2020-11-16T15:47:02.418734",
          "exception": false,
          "start_time": "2020-11-16T15:47:02.326982",
          "status": "completed"
        },
        "tags": [],
        "id": "xGK0PfL-T7Cj",
        "outputId": "180e4467-9a2a-4fde-edfe-edaf686da516"
      },
      "source": [
        "titanic_df[[\"Title\", \"Title_cat\"]].isna().any()"
      ],
      "execution_count": null,
      "outputs": [
        {
          "output_type": "execute_result",
          "data": {
            "text/plain": [
              "Title        False\n",
              "Title_cat    False\n",
              "dtype: bool"
            ]
          },
          "metadata": {
            "tags": []
          },
          "execution_count": 11
        }
      ]
    },
    {
      "cell_type": "markdown",
      "metadata": {
        "papermill": {
          "duration": 0.076635,
          "end_time": "2020-11-16T15:47:02.572611",
          "exception": false,
          "start_time": "2020-11-16T15:47:02.495976",
          "status": "completed"
        },
        "tags": [],
        "id": "bxgprbVLT7Ck"
      },
      "source": [
        "Now let's perform this manipulation on the test as well."
      ]
    },
    {
      "cell_type": "code",
      "metadata": {
        "execution": {
          "iopub.execute_input": "2020-11-16T15:47:02.844554Z",
          "iopub.status.busy": "2020-11-16T15:47:02.843600Z",
          "iopub.status.idle": "2020-11-16T15:47:02.848930Z",
          "shell.execute_reply": "2020-11-16T15:47:02.848303Z"
        },
        "papermill": {
          "duration": 0.199711,
          "end_time": "2020-11-16T15:47:02.849056",
          "exception": false,
          "start_time": "2020-11-16T15:47:02.649345",
          "status": "completed"
        },
        "tags": [],
        "id": "oyT-OcmvT7Ck",
        "outputId": "a0e4d94b-51d4-4f74-acd1-76a98eabaf16"
      },
      "source": [
        "test[\"Title\"] = test[\"Name\"].str.extract(' ([A-Za-z]+)\\.', expand=False)\n",
        "\n",
        "test[\"Title\"] = test[\"Title\"].replace([\"Lady\", \"Countess\",\"Capt\", \"Col\",\\\n",
        " \t\"Don\", \"Dr\", \"Major\", \"Rev\", \"Sir\", \"Jonkheer\", \"Dona\"], \"Other\")\n",
        "\n",
        "test[\"Title\"] = test[\"Title\"].replace(\"Mlle\", \"Miss\")\n",
        "test[\"Title\"] = test[\"Title\"].replace(\"Ms\", \"Miss\")\n",
        "test[\"Title\"] = test[\"Title\"].replace(\"Mme\", \"Mrs\")\n",
        "\n",
        "test[\"Title_cat\"] = test[\"Title\"].map({'Mr' : 0, 'Mrs' : 1, 'Miss' : 2, 'Master' : 3, 'Other' : 4})\n",
        "\n",
        "test[\"Title_cat\"].isna().any()"
      ],
      "execution_count": null,
      "outputs": [
        {
          "output_type": "execute_result",
          "data": {
            "text/plain": [
              "False"
            ]
          },
          "metadata": {
            "tags": []
          },
          "execution_count": 12
        }
      ]
    },
    {
      "cell_type": "markdown",
      "metadata": {
        "papermill": {
          "duration": 0.078721,
          "end_time": "2020-11-16T15:47:03.006732",
          "exception": false,
          "start_time": "2020-11-16T15:47:02.928011",
          "status": "completed"
        },
        "tags": [],
        "id": "zWo7Gz9gT7Ck"
      },
      "source": [
        "### Embarked Variable:\n",
        "`Embarked` indicates in which port a passenger boarded the Titanic.  \n",
        "It could be crutial to determine whether a passenger survived or not becuase it might indicate on a passenger's room location on the titanic."
      ]
    },
    {
      "cell_type": "code",
      "metadata": {
        "execution": {
          "iopub.execute_input": "2020-11-16T15:47:03.173268Z",
          "iopub.status.busy": "2020-11-16T15:47:03.172090Z",
          "iopub.status.idle": "2020-11-16T15:47:03.434750Z",
          "shell.execute_reply": "2020-11-16T15:47:03.435336Z"
        },
        "papermill": {
          "duration": 0.349539,
          "end_time": "2020-11-16T15:47:03.435514",
          "exception": false,
          "start_time": "2020-11-16T15:47:03.085975",
          "status": "completed"
        },
        "tags": [],
        "id": "EUvI0VvPT7Cl",
        "outputId": "dfcf4a0d-58ea-4c1f-e323-8cc1b4209578"
      },
      "source": [
        "sns.barplot(x=\"Embarked\", y=\"Survived\", data=titanic_df)"
      ],
      "execution_count": null,
      "outputs": [
        {
          "output_type": "execute_result",
          "data": {
            "text/plain": [
              "<matplotlib.axes._subplots.AxesSubplot at 0x7f89f27ab650>"
            ]
          },
          "metadata": {
            "tags": []
          },
          "execution_count": 13
        },
        {
          "output_type": "display_data",
          "data": {
            "image/png": "[encoded data removed]",
            "text/plain": [
              "<Figure size 432x288 with 1 Axes>"
            ]
          },
          "metadata": {
            "tags": [],
            "needs_background": "light"
          }
        }
      ]
    },
    {
      "cell_type": "markdown",
      "metadata": {
        "papermill": {
          "duration": 0.078608,
          "end_time": "2020-11-16T15:47:03.593365",
          "exception": false,
          "start_time": "2020-11-16T15:47:03.514757",
          "status": "completed"
        },
        "tags": [],
        "id": "22Kilwl9T7Cl"
      },
      "source": [
        "It looks like there are some diffrences in surviving chances between the different `Embarked` locations.  \n",
        "There are only 3 unique values, it will be converted into 3 binary variables.\n",
        "But before we change the variavble into a numerical one, we need to fill the missing values, it can be filled with the most common value."
      ]
    },
    {
      "cell_type": "code",
      "metadata": {
        "execution": {
          "iopub.execute_input": "2020-11-16T15:47:03.769660Z",
          "iopub.status.busy": "2020-11-16T15:47:03.760649Z",
          "iopub.status.idle": "2020-11-16T15:47:03.788461Z",
          "shell.execute_reply": "2020-11-16T15:47:03.787706Z"
        },
        "papermill": {
          "duration": 0.11621,
          "end_time": "2020-11-16T15:47:03.788580",
          "exception": false,
          "start_time": "2020-11-16T15:47:03.672370",
          "status": "completed"
        },
        "tags": [],
        "id": "uIVJBOB0T7Cl",
        "outputId": "fad901cd-d570-496f-8c6b-9b7b966dd863"
      },
      "source": [
        "titanic_df[\"Embarked\"] = titanic_df[\"Embarked\"].fillna(titanic_df[\"Embarked\"].mode()[0])\n",
        "titanic_df[\"Embarked_s\"] = titanic_df[\"Embarked\"].map({ 'S' : 1, 'C' : 0, 'Q' : 0, np.nan : 0}).astype(int)\n",
        "titanic_df[\"Embarked_c\"] = titanic_df[\"Embarked\"].map({ 'S' : 0, 'C' : 1, 'Q' : 0, np.nan : 0}).astype(int)\n",
        "titanic_df[\"Embarked_q\"] = titanic_df[\"Embarked\"].map({ 'S' : 0, 'C' : 0, 'Q' : 1, np.nan : 0}).astype(int)\n",
        "\n",
        "display(titanic_df[[\"Embarked\", \"Embarked_s\", \"Embarked_c\", \"Embarked_q\"]])\n",
        "titanic_df[\"Embarked\"].isna().any()"
      ],
      "execution_count": null,
      "outputs": [
        {
          "output_type": "display_data",
          "data": {
            "text/html": [
              "<div>\n",
              "<style scoped>\n",
              "    .dataframe tbody tr th:only-of-type {\n",
              "        vertical-align: middle;\n",
              "    }\n",
              "\n",
              "    .dataframe tbody tr th {\n",
              "        vertical-align: top;\n",
              "    }\n",
              "\n",
              "    .dataframe thead th {\n",
              "        text-align: right;\n",
              "    }\n",
              "</style>\n",
              "<table border=\"1\" class=\"dataframe\">\n",
              "  <thead>\n",
              "    <tr style=\"text-align: right;\">\n",
              "      <th></th>\n",
              "      <th>Embarked</th>\n",
              "      <th>Embarked_s</th>\n",
              "      <th>Embarked_c</th>\n",
              "      <th>Embarked_q</th>\n",
              "    </tr>\n",
              "  </thead>\n",
              "  <tbody>\n",
              "    <tr>\n",
              "      <th>0</th>\n",
              "      <td>S</td>\n",
              "      <td>1</td>\n",
              "      <td>0</td>\n",
              "      <td>0</td>\n",
              "    </tr>\n",
              "    <tr>\n",
              "      <th>1</th>\n",
              "      <td>C</td>\n",
              "      <td>0</td>\n",
              "      <td>1</td>\n",
              "      <td>0</td>\n",
              "    </tr>\n",
              "    <tr>\n",
              "      <th>2</th>\n",
              "      <td>S</td>\n",
              "      <td>1</td>\n",
              "      <td>0</td>\n",
              "      <td>0</td>\n",
              "    </tr>\n",
              "    <tr>\n",
              "      <th>3</th>\n",
              "      <td>S</td>\n",
              "      <td>1</td>\n",
              "      <td>0</td>\n",
              "      <td>0</td>\n",
              "    </tr>\n",
              "    <tr>\n",
              "      <th>4</th>\n",
              "      <td>S</td>\n",
              "      <td>1</td>\n",
              "      <td>0</td>\n",
              "      <td>0</td>\n",
              "    </tr>\n",
              "    <tr>\n",
              "      <th>...</th>\n",
              "      <td>...</td>\n",
              "      <td>...</td>\n",
              "      <td>...</td>\n",
              "      <td>...</td>\n",
              "    </tr>\n",
              "    <tr>\n",
              "      <th>886</th>\n",
              "      <td>S</td>\n",
              "      <td>1</td>\n",
              "      <td>0</td>\n",
              "      <td>0</td>\n",
              "    </tr>\n",
              "    <tr>\n",
              "      <th>887</th>\n",
              "      <td>S</td>\n",
              "      <td>1</td>\n",
              "      <td>0</td>\n",
              "      <td>0</td>\n",
              "    </tr>\n",
              "    <tr>\n",
              "      <th>888</th>\n",
              "      <td>S</td>\n",
              "      <td>1</td>\n",
              "      <td>0</td>\n",
              "      <td>0</td>\n",
              "    </tr>\n",
              "    <tr>\n",
              "      <th>889</th>\n",
              "      <td>C</td>\n",
              "      <td>0</td>\n",
              "      <td>1</td>\n",
              "      <td>0</td>\n",
              "    </tr>\n",
              "    <tr>\n",
              "      <th>890</th>\n",
              "      <td>Q</td>\n",
              "      <td>0</td>\n",
              "      <td>0</td>\n",
              "      <td>1</td>\n",
              "    </tr>\n",
              "  </tbody>\n",
              "</table>\n",
              "<p>891 rows × 4 columns</p>\n",
              "</div>"
            ],
            "text/plain": [
              "    Embarked  Embarked_s  Embarked_c  Embarked_q\n",
              "0          S           1           0           0\n",
              "1          C           0           1           0\n",
              "2          S           1           0           0\n",
              "3          S           1           0           0\n",
              "4          S           1           0           0\n",
              "..       ...         ...         ...         ...\n",
              "886        S           1           0           0\n",
              "887        S           1           0           0\n",
              "888        S           1           0           0\n",
              "889        C           0           1           0\n",
              "890        Q           0           0           1\n",
              "\n",
              "[891 rows x 4 columns]"
            ]
          },
          "metadata": {
            "tags": []
          }
        },
        {
          "output_type": "execute_result",
          "data": {
            "text/plain": [
              "False"
            ]
          },
          "metadata": {
            "tags": []
          },
          "execution_count": 14
        }
      ]
    },
    {
      "cell_type": "markdown",
      "metadata": {
        "papermill": {
          "duration": 0.081352,
          "end_time": "2020-11-16T15:47:03.951429",
          "exception": false,
          "start_time": "2020-11-16T15:47:03.870077",
          "status": "completed"
        },
        "tags": [],
        "id": "HAh9G8G1T7Cm"
      },
      "source": [
        "The test dataset does not miss any `Embarked` values, let's just convert it to 3 binary variables as well."
      ]
    },
    {
      "cell_type": "code",
      "metadata": {
        "execution": {
          "iopub.execute_input": "2020-11-16T15:47:04.137023Z",
          "iopub.status.busy": "2020-11-16T15:47:04.132675Z",
          "iopub.status.idle": "2020-11-16T15:47:04.141920Z",
          "shell.execute_reply": "2020-11-16T15:47:04.141335Z"
        },
        "papermill": {
          "duration": 0.105067,
          "end_time": "2020-11-16T15:47:04.142049",
          "exception": false,
          "start_time": "2020-11-16T15:47:04.036982",
          "status": "completed"
        },
        "tags": [],
        "id": "5XW_NShVT7Cm",
        "outputId": "42e24164-8fd2-45df-c0c2-0b586544d7e9"
      },
      "source": [
        "test[\"Embarked_s\"] = test[\"Embarked\"].map({ 'S' : 1, 'C' : 0, 'Q' : 0, np.nan : 0}).astype(int)\n",
        "test[\"Embarked_c\"] = test[\"Embarked\"].map({ 'S' : 0, 'C' : 1, 'Q' : 0, np.nan : 0}).astype(int)\n",
        "test[\"Embarked_q\"] = test[\"Embarked\"].map({ 'S' : 0, 'C' : 0, 'Q' : 1, np.nan : 0}).astype(int)\n",
        "\n",
        "test[[\"Embarked_s\", \"Embarked_c\", \"Embarked_q\"]].isna().any()"
      ],
      "execution_count": null,
      "outputs": [
        {
          "output_type": "execute_result",
          "data": {
            "text/plain": [
              "Embarked_s    False\n",
              "Embarked_c    False\n",
              "Embarked_q    False\n",
              "dtype: bool"
            ]
          },
          "metadata": {
            "tags": []
          },
          "execution_count": 15
        }
      ]
    },
    {
      "cell_type": "markdown",
      "metadata": {
        "papermill": {
          "duration": 0.081373,
          "end_time": "2020-11-16T15:47:04.305060",
          "exception": false,
          "start_time": "2020-11-16T15:47:04.223687",
          "status": "completed"
        },
        "tags": [],
        "id": "I3Tzi7zpT7Cp"
      },
      "source": [
        "### Sex Variable:\n",
        "The gender of a passenger might have a strong connection to surviving chances because rescures might help first to women.\n"
      ]
    },
    {
      "cell_type": "code",
      "metadata": {
        "execution": {
          "iopub.execute_input": "2020-11-16T15:47:04.477686Z",
          "iopub.status.busy": "2020-11-16T15:47:04.476858Z",
          "iopub.status.idle": "2020-11-16T15:47:04.692445Z",
          "shell.execute_reply": "2020-11-16T15:47:04.691832Z"
        },
        "papermill": {
          "duration": 0.305458,
          "end_time": "2020-11-16T15:47:04.692574",
          "exception": false,
          "start_time": "2020-11-16T15:47:04.387116",
          "status": "completed"
        },
        "tags": [],
        "id": "9vAtE2r1T7Cr",
        "outputId": "ea462f37-96f9-4fe5-eb39-5b2f1b34c887"
      },
      "source": [
        "sns.barplot(x=\"Sex\", y=\"Survived\", data=titanic_df)"
      ],
      "execution_count": null,
      "outputs": [
        {
          "output_type": "execute_result",
          "data": {
            "text/plain": [
              "<matplotlib.axes._subplots.AxesSubplot at 0x7f89dbed0510>"
            ]
          },
          "metadata": {
            "tags": []
          },
          "execution_count": 16
        },
        {
          "output_type": "display_data",
          "data": {
            "image/png": "[encoded data removed]",
            "text/plain": [
              "<Figure size 432x288 with 1 Axes>"
            ]
          },
          "metadata": {
            "tags": [],
            "needs_background": "light"
          }
        }
      ]
    },
    {
      "cell_type": "markdown",
      "metadata": {
        "papermill": {
          "duration": 0.129857,
          "end_time": "2020-11-16T15:47:04.905091",
          "exception": false,
          "start_time": "2020-11-16T15:47:04.775234",
          "status": "completed"
        },
        "tags": [],
        "id": "Sps9rS3aT7Cs"
      },
      "source": [
        "As predicted, female had much higher chance to survive.  \n",
        "`Sex` is a non-numerical column, we will convert into two binary variables `Male`, and `Female`."
      ]
    },
    {
      "cell_type": "code",
      "metadata": {
        "execution": {
          "iopub.execute_input": "2020-11-16T15:47:05.081914Z",
          "iopub.status.busy": "2020-11-16T15:47:05.081115Z",
          "iopub.status.idle": "2020-11-16T15:47:05.099523Z",
          "shell.execute_reply": "2020-11-16T15:47:05.098905Z"
        },
        "papermill": {
          "duration": 0.111448,
          "end_time": "2020-11-16T15:47:05.099661",
          "exception": false,
          "start_time": "2020-11-16T15:47:04.988213",
          "status": "completed"
        },
        "tags": [],
        "id": "snMLsaIQT7Cs",
        "outputId": "16d36e6d-24f6-4344-cbb2-e26259fa8f43"
      },
      "source": [
        "titanic_df[\"Male\"] = 0\n",
        "titanic_df[\"Female\"] = 0\n",
        "titanic_df[\"Male\"] = titanic_df[\"Sex\"].map( {'female': 0, 'male': 1} ).astype(int)\n",
        "titanic_df[\"Female\"] = titanic_df[\"Sex\"].map( {'male': 0, 'female': 1} ).astype(int)\n",
        "display(titanic_df[[\"Sex\", \"Male\", \"Female\"]])"
      ],
      "execution_count": null,
      "outputs": [
        {
          "output_type": "display_data",
          "data": {
            "text/html": [
              "<div>\n",
              "<style scoped>\n",
              "    .dataframe tbody tr th:only-of-type {\n",
              "        vertical-align: middle;\n",
              "    }\n",
              "\n",
              "    .dataframe tbody tr th {\n",
              "        vertical-align: top;\n",
              "    }\n",
              "\n",
              "    .dataframe thead th {\n",
              "        text-align: right;\n",
              "    }\n",
              "</style>\n",
              "<table border=\"1\" class=\"dataframe\">\n",
              "  <thead>\n",
              "    <tr style=\"text-align: right;\">\n",
              "      <th></th>\n",
              "      <th>Sex</th>\n",
              "      <th>Male</th>\n",
              "      <th>Female</th>\n",
              "    </tr>\n",
              "  </thead>\n",
              "  <tbody>\n",
              "    <tr>\n",
              "      <th>0</th>\n",
              "      <td>male</td>\n",
              "      <td>1</td>\n",
              "      <td>0</td>\n",
              "    </tr>\n",
              "    <tr>\n",
              "      <th>1</th>\n",
              "      <td>female</td>\n",
              "      <td>0</td>\n",
              "      <td>1</td>\n",
              "    </tr>\n",
              "    <tr>\n",
              "      <th>2</th>\n",
              "      <td>female</td>\n",
              "      <td>0</td>\n",
              "      <td>1</td>\n",
              "    </tr>\n",
              "    <tr>\n",
              "      <th>3</th>\n",
              "      <td>female</td>\n",
              "      <td>0</td>\n",
              "      <td>1</td>\n",
              "    </tr>\n",
              "    <tr>\n",
              "      <th>4</th>\n",
              "      <td>male</td>\n",
              "      <td>1</td>\n",
              "      <td>0</td>\n",
              "    </tr>\n",
              "    <tr>\n",
              "      <th>...</th>\n",
              "      <td>...</td>\n",
              "      <td>...</td>\n",
              "      <td>...</td>\n",
              "    </tr>\n",
              "    <tr>\n",
              "      <th>886</th>\n",
              "      <td>male</td>\n",
              "      <td>1</td>\n",
              "      <td>0</td>\n",
              "    </tr>\n",
              "    <tr>\n",
              "      <th>887</th>\n",
              "      <td>female</td>\n",
              "      <td>0</td>\n",
              "      <td>1</td>\n",
              "    </tr>\n",
              "    <tr>\n",
              "      <th>888</th>\n",
              "      <td>female</td>\n",
              "      <td>0</td>\n",
              "      <td>1</td>\n",
              "    </tr>\n",
              "    <tr>\n",
              "      <th>889</th>\n",
              "      <td>male</td>\n",
              "      <td>1</td>\n",
              "      <td>0</td>\n",
              "    </tr>\n",
              "    <tr>\n",
              "      <th>890</th>\n",
              "      <td>male</td>\n",
              "      <td>1</td>\n",
              "      <td>0</td>\n",
              "    </tr>\n",
              "  </tbody>\n",
              "</table>\n",
              "<p>891 rows × 3 columns</p>\n",
              "</div>"
            ],
            "text/plain": [
              "        Sex  Male  Female\n",
              "0      male     1       0\n",
              "1    female     0       1\n",
              "2    female     0       1\n",
              "3    female     0       1\n",
              "4      male     1       0\n",
              "..      ...   ...     ...\n",
              "886    male     1       0\n",
              "887  female     0       1\n",
              "888  female     0       1\n",
              "889    male     1       0\n",
              "890    male     1       0\n",
              "\n",
              "[891 rows x 3 columns]"
            ]
          },
          "metadata": {
            "tags": []
          }
        }
      ]
    },
    {
      "cell_type": "markdown",
      "metadata": {
        "papermill": {
          "duration": 0.083671,
          "end_time": "2020-11-16T15:47:05.266931",
          "exception": false,
          "start_time": "2020-11-16T15:47:05.183260",
          "status": "completed"
        },
        "tags": [],
        "id": "BL6rNd4LT7Ct"
      },
      "source": [
        "Convert the test dataset to binary as well."
      ]
    },
    {
      "cell_type": "code",
      "metadata": {
        "execution": {
          "iopub.execute_input": "2020-11-16T15:47:05.451555Z",
          "iopub.status.busy": "2020-11-16T15:47:05.450464Z",
          "iopub.status.idle": "2020-11-16T15:47:05.455002Z",
          "shell.execute_reply": "2020-11-16T15:47:05.455583Z"
        },
        "papermill": {
          "duration": 0.104723,
          "end_time": "2020-11-16T15:47:05.455755",
          "exception": false,
          "start_time": "2020-11-16T15:47:05.351032",
          "status": "completed"
        },
        "tags": [],
        "id": "BOFGgYnhT7Ct",
        "outputId": "1c5b4276-27b1-4a9a-9394-42c61f9e0f84"
      },
      "source": [
        "test[\"Male\"] = 0\n",
        "test[\"Female\"] = 0\n",
        "test[\"Male\"] = test[\"Sex\"].map( {'female': 0, 'male': 1} ).astype(int)\n",
        "test[\"Female\"] = test[\"Sex\"].map( {'male': 0, 'female': 1} ).astype(int)\n",
        "test[[\"Male\", \"Female\"]].isna().any()"
      ],
      "execution_count": null,
      "outputs": [
        {
          "output_type": "execute_result",
          "data": {
            "text/plain": [
              "Male      False\n",
              "Female    False\n",
              "dtype: bool"
            ]
          },
          "metadata": {
            "tags": []
          },
          "execution_count": 18
        }
      ]
    },
    {
      "cell_type": "markdown",
      "metadata": {
        "papermill": {
          "duration": 0.086985,
          "end_time": "2020-11-16T15:47:05.627965",
          "exception": false,
          "start_time": "2020-11-16T15:47:05.540980",
          "status": "completed"
        },
        "tags": [],
        "id": "50uyhWPfT7Ct"
      },
      "source": [
        "### Pclass Variable:\n",
        "`Pclass` indicates a passenger class, it indicates his room location and could affect his surviving chances."
      ]
    },
    {
      "cell_type": "code",
      "metadata": {
        "execution": {
          "iopub.execute_input": "2020-11-16T15:47:05.809481Z",
          "iopub.status.busy": "2020-11-16T15:47:05.808721Z",
          "iopub.status.idle": "2020-11-16T15:47:06.001165Z",
          "shell.execute_reply": "2020-11-16T15:47:06.000435Z"
        },
        "papermill": {
          "duration": 0.287723,
          "end_time": "2020-11-16T15:47:06.001308",
          "exception": false,
          "start_time": "2020-11-16T15:47:05.713585",
          "status": "completed"
        },
        "tags": [],
        "id": "YGRzEfBtT7Cu",
        "outputId": "6b54ea8c-590f-4244-f01f-b7d0ffee8895"
      },
      "source": [
        "temp = pd.crosstab(titanic_df.Pclass ,titanic_df.Survived, values=titanic_df.Survived, aggfunc='count').T.style.background_gradient() #Checking the Initials with the Sex\n",
        "display(temp)\n",
        "sns.countplot('Pclass',data=titanic_df, hue='Survived')"
      ],
      "execution_count": null,
      "outputs": [
        {
          "output_type": "display_data",
          "data": {
            "text/html": [
              "<style  type=\"text/css\" >\n",
              "#T_fa4c5e1e_2822_11eb_921a_0242ac130202row0_col0,#T_fa4c5e1e_2822_11eb_921a_0242ac130202row1_col1,#T_fa4c5e1e_2822_11eb_921a_0242ac130202row1_col2{\n",
              "            background-color:  #fff7fb;\n",
              "            color:  #000000;\n",
              "        }#T_fa4c5e1e_2822_11eb_921a_0242ac130202row0_col1,#T_fa4c5e1e_2822_11eb_921a_0242ac130202row0_col2,#T_fa4c5e1e_2822_11eb_921a_0242ac130202row1_col0{\n",
              "            background-color:  #023858;\n",
              "            color:  #f1f1f1;\n",
              "        }</style><table id=\"T_fa4c5e1e_2822_11eb_921a_0242ac130202\" ><thead>    <tr>        <th class=\"index_name level0\" >Pclass</th>        <th class=\"col_heading level0 col0\" >1</th>        <th class=\"col_heading level0 col1\" >2</th>        <th class=\"col_heading level0 col2\" >3</th>    </tr>    <tr>        <th class=\"index_name level0\" >Survived</th>        <th class=\"blank\" ></th>        <th class=\"blank\" ></th>        <th class=\"blank\" ></th>    </tr></thead><tbody>\n",
              "                <tr>\n",
              "                        <th id=\"T_fa4c5e1e_2822_11eb_921a_0242ac130202level0_row0\" class=\"row_heading level0 row0\" >0</th>\n",
              "                        <td id=\"T_fa4c5e1e_2822_11eb_921a_0242ac130202row0_col0\" class=\"data row0 col0\" >80</td>\n",
              "                        <td id=\"T_fa4c5e1e_2822_11eb_921a_0242ac130202row0_col1\" class=\"data row0 col1\" >97</td>\n",
              "                        <td id=\"T_fa4c5e1e_2822_11eb_921a_0242ac130202row0_col2\" class=\"data row0 col2\" >372</td>\n",
              "            </tr>\n",
              "            <tr>\n",
              "                        <th id=\"T_fa4c5e1e_2822_11eb_921a_0242ac130202level0_row1\" class=\"row_heading level0 row1\" >1</th>\n",
              "                        <td id=\"T_fa4c5e1e_2822_11eb_921a_0242ac130202row1_col0\" class=\"data row1 col0\" >136</td>\n",
              "                        <td id=\"T_fa4c5e1e_2822_11eb_921a_0242ac130202row1_col1\" class=\"data row1 col1\" >87</td>\n",
              "                        <td id=\"T_fa4c5e1e_2822_11eb_921a_0242ac130202row1_col2\" class=\"data row1 col2\" >119</td>\n",
              "            </tr>\n",
              "    </tbody></table>"
            ],
            "text/plain": [
              "<pandas.io.formats.style.Styler at 0x7f89dbf06d10>"
            ]
          },
          "metadata": {
            "tags": []
          }
        },
        {
          "output_type": "execute_result",
          "data": {
            "text/plain": [
              "<matplotlib.axes._subplots.AxesSubplot at 0x7f89f28bb2d0>"
            ]
          },
          "metadata": {
            "tags": []
          },
          "execution_count": 19
        },
        {
          "output_type": "display_data",
          "data": {
            "image/png": "[encoded data removed]",
            "text/plain": [
              "<Figure size 432x288 with 1 Axes>"
            ]
          },
          "metadata": {
            "tags": [],
            "needs_background": "light"
          }
        }
      ]
    },
    {
      "cell_type": "markdown",
      "metadata": {
        "papermill": {
          "duration": 0.086621,
          "end_time": "2020-11-16T15:47:06.177275",
          "exception": false,
          "start_time": "2020-11-16T15:47:06.090654",
          "status": "completed"
        },
        "tags": [],
        "id": "c6c2bfMvT7Cu"
      },
      "source": [
        "It is clear that a passenger from 1st class and 2nd class has much more chances to survive compare to 3rd class passengers."
      ]
    },
    {
      "cell_type": "markdown",
      "metadata": {
        "papermill": {
          "duration": 0.086959,
          "end_time": "2020-11-16T15:47:06.351486",
          "exception": false,
          "start_time": "2020-11-16T15:47:06.264527",
          "status": "completed"
        },
        "tags": [],
        "id": "e47sdrMhT7Cu"
      },
      "source": [
        "### Age Variable:\n",
        "`Age` missing 177 value, not too much in terms of this data size, it can be filled with the median value of passengers with similar values, to decide which values, let's see the correlation between `Age` and the other features."
      ]
    },
    {
      "cell_type": "code",
      "metadata": {
        "execution": {
          "iopub.execute_input": "2020-11-16T15:47:06.536402Z",
          "iopub.status.busy": "2020-11-16T15:47:06.533108Z",
          "iopub.status.idle": "2020-11-16T15:47:07.151064Z",
          "shell.execute_reply": "2020-11-16T15:47:07.151681Z"
        },
        "papermill": {
          "duration": 0.712987,
          "end_time": "2020-11-16T15:47:07.151837",
          "exception": false,
          "start_time": "2020-11-16T15:47:06.438850",
          "status": "completed"
        },
        "tags": [],
        "id": "bD9U6tq6T7Cv",
        "outputId": "9e3ef986-0298-4847-f591-1332887024ad"
      },
      "source": [
        "corr = abs(titanic_df.corr())    # get the data correlation\n",
        "plt.figure(figsize=(12,8))\n",
        "mask = np.triu(np.ones_like(corr, dtype=bool))\n",
        "sns.heatmap(corr, mask=mask, annot=True, cmap=plt.cm.Reds, vmin=0, vmax=1, linewidth=.5)\n",
        "plt.show()"
      ],
      "execution_count": null,
      "outputs": [
        {
          "output_type": "display_data",
          "data": {
            "image/png": "[encoded data removed]",
            "text/plain": [
              "<Figure size 864x576 with 2 Axes>"
            ]
          },
          "metadata": {
            "tags": [],
            "needs_background": "light"
          }
        }
      ]
    },
    {
      "cell_type": "code",
      "metadata": {
        "execution": {
          "iopub.execute_input": "2020-11-16T15:47:07.348936Z",
          "iopub.status.busy": "2020-11-16T15:47:07.337748Z",
          "iopub.status.idle": "2020-11-16T15:47:07.696735Z",
          "shell.execute_reply": "2020-11-16T15:47:07.695986Z"
        },
        "papermill": {
          "duration": 0.454984,
          "end_time": "2020-11-16T15:47:07.696866",
          "exception": false,
          "start_time": "2020-11-16T15:47:07.241882",
          "status": "completed"
        },
        "tags": [],
        "id": "hhq80YXjT7Cv",
        "outputId": "7b34ad7b-393f-4902-d861-bca7a5eb9cd3"
      },
      "source": [
        "sns.catplot(y=\"Age\", x=\"Pclass\", hue=\"Survived\", kind=\"violin\", data=titanic_df)"
      ],
      "execution_count": null,
      "outputs": [
        {
          "output_type": "execute_result",
          "data": {
            "text/plain": [
              "<seaborn.axisgrid.FacetGrid at 0x7f89dbd42c50>"
            ]
          },
          "metadata": {
            "tags": []
          },
          "execution_count": 21
        },
        {
          "output_type": "display_data",
          "data": {
            "image/png": "[encoded data removed]",
            "text/plain": [
              "<Figure size 411.875x360 with 1 Axes>"
            ]
          },
          "metadata": {
            "tags": [],
            "needs_background": "light"
          }
        }
      ]
    },
    {
      "cell_type": "markdown",
      "metadata": {
        "papermill": {
          "duration": 0.091887,
          "end_time": "2020-11-16T15:47:07.879934",
          "exception": false,
          "start_time": "2020-11-16T15:47:07.788047",
          "status": "completed"
        },
        "tags": [],
        "id": "YKB1JO_2T7Cw"
      },
      "source": [
        "It look like there is a dipendency between `Age`, `Pclass`, and `Title_cat`.\n",
        "Let's try to fill the emtpy `Age` values with the means of those 2 variables."
      ]
    },
    {
      "cell_type": "code",
      "metadata": {
        "execution": {
          "iopub.execute_input": "2020-11-16T15:47:08.075544Z",
          "iopub.status.busy": "2020-11-16T15:47:08.074587Z",
          "iopub.status.idle": "2020-11-16T15:47:08.078125Z",
          "shell.execute_reply": "2020-11-16T15:47:08.078936Z"
        },
        "papermill": {
          "duration": 0.107568,
          "end_time": "2020-11-16T15:47:08.079146",
          "exception": false,
          "start_time": "2020-11-16T15:47:07.971578",
          "status": "completed"
        },
        "tags": [],
        "id": "Kiio1gxVT7Cw",
        "outputId": "606029e7-26db-4440-90fb-8d33fbef3e35"
      },
      "source": [
        "age_mean = titanic_df.groupby([\"Title_cat\", \"Pclass\"])[\"Age\"].mean()\n",
        "print(age_mean)"
      ],
      "execution_count": null,
      "outputs": [
        {
          "output_type": "stream",
          "text": [
            "Title_cat  Pclass\n",
            "0          1         41.580460\n",
            "           2         32.768293\n",
            "           3         28.724891\n",
            "1          1         40.400000\n",
            "           2         33.682927\n",
            "           3         33.515152\n",
            "2          1         29.744681\n",
            "           2         22.560606\n",
            "           3         16.123188\n",
            "3          1          5.306667\n",
            "           2          2.258889\n",
            "           3          5.350833\n",
            "4          1         47.571429\n",
            "           2         42.000000\n",
            "Name: Age, dtype: float64\n"
          ],
          "name": "stdout"
        }
      ]
    },
    {
      "cell_type": "code",
      "metadata": {
        "execution": {
          "iopub.execute_input": "2020-11-16T15:47:08.274215Z",
          "iopub.status.busy": "2020-11-16T15:47:08.271719Z",
          "iopub.status.idle": "2020-11-16T15:47:08.304414Z",
          "shell.execute_reply": "2020-11-16T15:47:08.303165Z"
        },
        "papermill": {
          "duration": 0.132986,
          "end_time": "2020-11-16T15:47:08.304567",
          "exception": false,
          "start_time": "2020-11-16T15:47:08.171581",
          "status": "completed"
        },
        "tags": [],
        "id": "U2floZeWT7Cw",
        "outputId": "95d598a4-ff98-4855-e5fb-e948352ca6b6"
      },
      "source": [
        "for i in range(titanic_df[\"Title_cat\"].nunique()):\n",
        "     for j in range(age_mean[i].shape[0]):\n",
        "            titanic_df.loc[ (titanic_df.Age.isnull()) & (titanic_df.Title_cat == i) & (titanic_df.Pclass == j +1 ), 'Age'] = age_mean[i][j+1]\n",
        "\n",
        "                \n",
        "print(titanic_df[\"Age\"].isna().any())            \n",
        "print(titanic_df[\"Age\"])"
      ],
      "execution_count": null,
      "outputs": [
        {
          "output_type": "stream",
          "text": [
            "False\n",
            "0      22.000000\n",
            "1      38.000000\n",
            "2      26.000000\n",
            "3      35.000000\n",
            "4      35.000000\n",
            "         ...    \n",
            "886    27.000000\n",
            "887    19.000000\n",
            "888    16.123188\n",
            "889    26.000000\n",
            "890    32.000000\n",
            "Name: Age, Length: 891, dtype: float64\n"
          ],
          "name": "stdout"
        }
      ]
    },
    {
      "cell_type": "markdown",
      "metadata": {
        "papermill": {
          "duration": 0.091996,
          "end_time": "2020-11-16T15:47:08.489167",
          "exception": false,
          "start_time": "2020-11-16T15:47:08.397171",
          "status": "completed"
        },
        "tags": [],
        "id": "ovSmRB1YT7Cx"
      },
      "source": [
        "We need to fill the missing `Age` values in the test dataset."
      ]
    },
    {
      "cell_type": "code",
      "metadata": {
        "execution": {
          "iopub.execute_input": "2020-11-16T15:47:08.716584Z",
          "iopub.status.busy": "2020-11-16T15:47:08.689995Z",
          "iopub.status.idle": "2020-11-16T15:47:08.721411Z",
          "shell.execute_reply": "2020-11-16T15:47:08.720760Z"
        },
        "papermill": {
          "duration": 0.139395,
          "end_time": "2020-11-16T15:47:08.721537",
          "exception": false,
          "start_time": "2020-11-16T15:47:08.582142",
          "status": "completed"
        },
        "tags": [],
        "id": "70OH-WC5T7Cy",
        "outputId": "705fdfd9-0902-4fc9-f24d-a0888d4120c1"
      },
      "source": [
        "age_mean_test = test.groupby([\"Title_cat\", \"Pclass\"])[\"Age\"].mean()\n",
        "for i in range(test[\"Title_cat\"].nunique()):\n",
        "     for j in range(age_mean_test[i].shape[0]):\n",
        "            test.loc[ (test.Age.isnull()) & (test.Title_cat == i) & (test.Pclass == j +1 ), 'Age'] = age_mean_test[i][j+1]\n",
        "            \n",
        "test.Age.isna().any()"
      ],
      "execution_count": null,
      "outputs": [
        {
          "output_type": "execute_result",
          "data": {
            "text/plain": [
              "False"
            ]
          },
          "metadata": {
            "tags": []
          },
          "execution_count": 24
        }
      ]
    },
    {
      "cell_type": "markdown",
      "metadata": {
        "papermill": {
          "duration": 0.094487,
          "end_time": "2020-11-16T15:47:08.909626",
          "exception": false,
          "start_time": "2020-11-16T15:47:08.815139",
          "status": "completed"
        },
        "tags": [],
        "id": "tsEw7apAT7Cz"
      },
      "source": [
        "### Back to `Title`\n",
        "Now after done handling the `Age` feature, we can convert the `Title_cat` into seperate binary features."
      ]
    },
    {
      "cell_type": "code",
      "metadata": {
        "execution": {
          "iopub.execute_input": "2020-11-16T15:47:09.106986Z",
          "iopub.status.busy": "2020-11-16T15:47:09.104788Z",
          "iopub.status.idle": "2020-11-16T15:47:09.297766Z",
          "shell.execute_reply": "2020-11-16T15:47:09.297165Z"
        },
        "papermill": {
          "duration": 0.294361,
          "end_time": "2020-11-16T15:47:09.297907",
          "exception": false,
          "start_time": "2020-11-16T15:47:09.003546",
          "status": "completed"
        },
        "tags": [],
        "id": "Zf-x6wfiT7C1",
        "outputId": "32584304-42fe-41b3-f045-a85ac13c8219"
      },
      "source": [
        "sns.catplot(x=\"Title\", kind=\"count\", palette=sns.color_palette(\"deep\"), data=titanic_df)"
      ],
      "execution_count": null,
      "outputs": [
        {
          "output_type": "execute_result",
          "data": {
            "text/plain": [
              "<seaborn.axisgrid.FacetGrid at 0x7f89dbdb5f50>"
            ]
          },
          "metadata": {
            "tags": []
          },
          "execution_count": 25
        },
        {
          "output_type": "display_data",
          "data": {
            "image/png": "[encoded data removed]",
            "text/plain": [
              "<Figure size 360x360 with 1 Axes>"
            ]
          },
          "metadata": {
            "tags": [],
            "needs_background": "light"
          }
        }
      ]
    },
    {
      "cell_type": "code",
      "metadata": {
        "execution": {
          "iopub.execute_input": "2020-11-16T15:47:09.513515Z",
          "iopub.status.busy": "2020-11-16T15:47:09.508276Z",
          "iopub.status.idle": "2020-11-16T15:47:09.524888Z",
          "shell.execute_reply": "2020-11-16T15:47:09.524205Z"
        },
        "papermill": {
          "duration": 0.133234,
          "end_time": "2020-11-16T15:47:09.525020",
          "exception": false,
          "start_time": "2020-11-16T15:47:09.391786",
          "status": "completed"
        },
        "tags": [],
        "id": "CbPUbBCQT7C2",
        "outputId": "a9bbac98-bd80-45d9-8bf9-a420854c8129"
      },
      "source": [
        "def convert_titles_binary(data):\n",
        "    data[\"Mr\"] = 0\n",
        "    data[\"Mrs\"] = 0\n",
        "    data[\"Miss\"] = 0\n",
        "    data[\"Master\"] = 0\n",
        "    data[\"Mr\"] = data[\"Title\"].map({'Mr' : 1, 'Mrs' : 0, 'Miss' : 0, 'Master' : 0, 'Other' : 0})\n",
        "    data[\"Mrs\"] = data[\"Title\"].map({'Mr' : 0, 'Mrs' : 1, 'Miss' : 0, 'Master' : 0, 'Other' : 0})\n",
        "    data[\"Miss\"] = data[\"Title\"].map({'Mr' : 0, 'Mrs' : 0, 'Miss' : 1, 'Master' : 0, 'Other' : 0})\n",
        "    data[\"Master\"] = data[\"Title\"].map({'Mr' : 0, 'Mrs' : 0, 'Miss' : 0, 'Master' : 1, 'Other' : 0})\n",
        "\n",
        "convert_titles_binary(titanic_df)\n",
        "convert_titles_binary(test)\n",
        "\n",
        "titanic_df[[\"Mr\", \"Mrs\", \"Miss\", \"Master\"]].isna().any()\n",
        "test[[\"Mr\", \"Mrs\", \"Miss\", \"Master\"]].isna().any()"
      ],
      "execution_count": null,
      "outputs": [
        {
          "output_type": "execute_result",
          "data": {
            "text/plain": [
              "Mr        False\n",
              "Mrs       False\n",
              "Miss      False\n",
              "Master    False\n",
              "dtype: bool"
            ]
          },
          "metadata": {
            "tags": []
          },
          "execution_count": 26
        }
      ]
    },
    {
      "cell_type": "markdown",
      "metadata": {
        "papermill": {
          "duration": 0.093732,
          "end_time": "2020-11-16T15:47:09.713906",
          "exception": false,
          "start_time": "2020-11-16T15:47:09.620174",
          "status": "completed"
        },
        "tags": [],
        "id": "6Kf_1ZE5T7C2"
      },
      "source": [
        "### Cabin Variable\n",
        "`Cabin` which indicates where a passenger was staying at the titanic, is missing 687 values out of 891, that's about 77% of missing values.\n",
        "For now we will try to drop that variable from this model and will see if adding it later on will improve the results.\n"
      ]
    },
    {
      "cell_type": "code",
      "metadata": {
        "execution": {
          "iopub.execute_input": "2020-11-16T15:47:09.919637Z",
          "iopub.status.busy": "2020-11-16T15:47:09.915242Z",
          "iopub.status.idle": "2020-11-16T15:47:09.923723Z",
          "shell.execute_reply": "2020-11-16T15:47:09.924323Z"
        },
        "papermill": {
          "duration": 0.115723,
          "end_time": "2020-11-16T15:47:09.924475",
          "exception": false,
          "start_time": "2020-11-16T15:47:09.808752",
          "status": "completed"
        },
        "tags": [],
        "id": "EceA3q7jT7C3",
        "outputId": "7d236184-6432-4698-829c-7936db31af55"
      },
      "source": [
        "titanic_df.drop(\"Cabin\", axis=1, inplace=True)\n",
        "print(titanic_df.isna().any())\n",
        "\n",
        "test.drop(\"Cabin\", axis=1, inplace=True)\n",
        "print(test.isna().any())"
      ],
      "execution_count": null,
      "outputs": [
        {
          "output_type": "stream",
          "text": [
            "Survived       False\n",
            "PassengerId    False\n",
            "Pclass         False\n",
            "Name           False\n",
            "Sex            False\n",
            "Age            False\n",
            "SibSp          False\n",
            "Parch          False\n",
            "Ticket         False\n",
            "Fare           False\n",
            "Embarked       False\n",
            "Title          False\n",
            "Title_cat      False\n",
            "Embarked_s     False\n",
            "Embarked_c     False\n",
            "Embarked_q     False\n",
            "Male           False\n",
            "Female         False\n",
            "Mr             False\n",
            "Mrs            False\n",
            "Miss           False\n",
            "Master         False\n",
            "dtype: bool\n",
            "PassengerId    False\n",
            "Pclass         False\n",
            "Name           False\n",
            "Sex            False\n",
            "Age            False\n",
            "SibSp          False\n",
            "Parch          False\n",
            "Ticket         False\n",
            "Fare            True\n",
            "Embarked       False\n",
            "Title          False\n",
            "Title_cat      False\n",
            "Embarked_s     False\n",
            "Embarked_c     False\n",
            "Embarked_q     False\n",
            "Male           False\n",
            "Female         False\n",
            "Mr             False\n",
            "Mrs            False\n",
            "Miss           False\n",
            "Master         False\n",
            "dtype: bool\n"
          ],
          "name": "stdout"
        }
      ]
    },
    {
      "cell_type": "markdown",
      "metadata": {
        "papermill": {
          "duration": 0.096175,
          "end_time": "2020-11-16T15:47:10.117422",
          "exception": false,
          "start_time": "2020-11-16T15:47:10.021247",
          "status": "completed"
        },
        "tags": [],
        "id": "RiAGd_W6T7C4"
      },
      "source": [
        "## Feature Engeneering"
      ]
    },
    {
      "cell_type": "markdown",
      "metadata": {
        "papermill": {
          "duration": 0.094263,
          "end_time": "2020-11-16T15:47:10.306708",
          "exception": false,
          "start_time": "2020-11-16T15:47:10.212445",
          "status": "completed"
        },
        "tags": [],
        "id": "9-hVQtlVT7C4"
      },
      "source": [
        "`Parch` and `SibSp` could be merged into one `FamilySize` variable."
      ]
    },
    {
      "cell_type": "code",
      "metadata": {
        "execution": {
          "iopub.execute_input": "2020-11-16T15:47:10.507360Z",
          "iopub.status.busy": "2020-11-16T15:47:10.505118Z",
          "iopub.status.idle": "2020-11-16T15:47:10.519730Z",
          "shell.execute_reply": "2020-11-16T15:47:10.519109Z"
        },
        "papermill": {
          "duration": 0.118101,
          "end_time": "2020-11-16T15:47:10.519859",
          "exception": false,
          "start_time": "2020-11-16T15:47:10.401758",
          "status": "completed"
        },
        "tags": [],
        "id": "2PdyojqDT7C4",
        "outputId": "4f938a64-fd08-4ce3-8efe-93f4b6defa83"
      },
      "source": [
        "titanic_df[\"FamilySize\"] = titanic_df[\"Parch\"] + titanic_df[\"SibSp\"] + 1\n",
        "titanic_df[[\"FamilySize\", \"Survived\"]].groupby([\"FamilySize\"], as_index=False).mean().sort_values(by=\"Survived\", ascending=False)"
      ],
      "execution_count": null,
      "outputs": [
        {
          "output_type": "execute_result",
          "data": {
            "text/html": [
              "<div>\n",
              "<style scoped>\n",
              "    .dataframe tbody tr th:only-of-type {\n",
              "        vertical-align: middle;\n",
              "    }\n",
              "\n",
              "    .dataframe tbody tr th {\n",
              "        vertical-align: top;\n",
              "    }\n",
              "\n",
              "    .dataframe thead th {\n",
              "        text-align: right;\n",
              "    }\n",
              "</style>\n",
              "<table border=\"1\" class=\"dataframe\">\n",
              "  <thead>\n",
              "    <tr style=\"text-align: right;\">\n",
              "      <th></th>\n",
              "      <th>FamilySize</th>\n",
              "      <th>Survived</th>\n",
              "    </tr>\n",
              "  </thead>\n",
              "  <tbody>\n",
              "    <tr>\n",
              "      <th>3</th>\n",
              "      <td>4</td>\n",
              "      <td>0.724138</td>\n",
              "    </tr>\n",
              "    <tr>\n",
              "      <th>2</th>\n",
              "      <td>3</td>\n",
              "      <td>0.578431</td>\n",
              "    </tr>\n",
              "    <tr>\n",
              "      <th>1</th>\n",
              "      <td>2</td>\n",
              "      <td>0.552795</td>\n",
              "    </tr>\n",
              "    <tr>\n",
              "      <th>6</th>\n",
              "      <td>7</td>\n",
              "      <td>0.333333</td>\n",
              "    </tr>\n",
              "    <tr>\n",
              "      <th>0</th>\n",
              "      <td>1</td>\n",
              "      <td>0.303538</td>\n",
              "    </tr>\n",
              "    <tr>\n",
              "      <th>4</th>\n",
              "      <td>5</td>\n",
              "      <td>0.200000</td>\n",
              "    </tr>\n",
              "    <tr>\n",
              "      <th>5</th>\n",
              "      <td>6</td>\n",
              "      <td>0.136364</td>\n",
              "    </tr>\n",
              "    <tr>\n",
              "      <th>7</th>\n",
              "      <td>8</td>\n",
              "      <td>0.000000</td>\n",
              "    </tr>\n",
              "    <tr>\n",
              "      <th>8</th>\n",
              "      <td>11</td>\n",
              "      <td>0.000000</td>\n",
              "    </tr>\n",
              "  </tbody>\n",
              "</table>\n",
              "</div>"
            ],
            "text/plain": [
              "   FamilySize  Survived\n",
              "3           4  0.724138\n",
              "2           3  0.578431\n",
              "1           2  0.552795\n",
              "6           7  0.333333\n",
              "0           1  0.303538\n",
              "4           5  0.200000\n",
              "5           6  0.136364\n",
              "7           8  0.000000\n",
              "8          11  0.000000"
            ]
          },
          "metadata": {
            "tags": []
          },
          "execution_count": 28
        }
      ]
    },
    {
      "cell_type": "markdown",
      "metadata": {
        "papermill": {
          "duration": 0.122698,
          "end_time": "2020-11-16T15:47:10.744298",
          "exception": false,
          "start_time": "2020-11-16T15:47:10.621600",
          "status": "completed"
        },
        "tags": [],
        "id": "Rv7ozsAYT7C5"
      },
      "source": [
        "Creating the `FamilySize` variable for the test dataset as well."
      ]
    },
    {
      "cell_type": "code",
      "metadata": {
        "execution": {
          "iopub.execute_input": "2020-11-16T15:47:10.947535Z",
          "iopub.status.busy": "2020-11-16T15:47:10.946721Z",
          "iopub.status.idle": "2020-11-16T15:47:10.950190Z",
          "shell.execute_reply": "2020-11-16T15:47:10.949572Z"
        },
        "papermill": {
          "duration": 0.106768,
          "end_time": "2020-11-16T15:47:10.950345",
          "exception": false,
          "start_time": "2020-11-16T15:47:10.843577",
          "status": "completed"
        },
        "tags": [],
        "id": "XAus9lFqT7C5"
      },
      "source": [
        "test[\"FamilySize\"] = test[\"Parch\"] + test[\"SibSp\"] + 1"
      ],
      "execution_count": null,
      "outputs": []
    },
    {
      "cell_type": "markdown",
      "metadata": {
        "papermill": {
          "duration": 0.096523,
          "end_time": "2020-11-16T15:47:11.145074",
          "exception": false,
          "start_time": "2020-11-16T15:47:11.048551",
          "status": "completed"
        },
        "tags": [],
        "id": "16r4nOoHT7C5"
      },
      "source": [
        "We can see that when a passenger has some relatives traveled with him, he had some better chances to survived.  \n",
        "We can create another feature that might increase the model accuracy.  \n",
        "`IsAlone` feature will indicate whether a passenger was traveling alone or with relatives."
      ]
    },
    {
      "cell_type": "code",
      "metadata": {
        "execution": {
          "iopub.execute_input": "2020-11-16T15:47:11.347175Z",
          "iopub.status.busy": "2020-11-16T15:47:11.346001Z",
          "iopub.status.idle": "2020-11-16T15:47:11.353009Z",
          "shell.execute_reply": "2020-11-16T15:47:11.351906Z"
        },
        "papermill": {
          "duration": 0.112377,
          "end_time": "2020-11-16T15:47:11.353194",
          "exception": false,
          "start_time": "2020-11-16T15:47:11.240817",
          "status": "completed"
        },
        "tags": [],
        "id": "ZO0qAPRQT7C5"
      },
      "source": [
        "titanic_df['IsAlone'] = 0\n",
        "titanic_df.loc[titanic_df['FamilySize'] == 1, 'IsAlone'] = 1\n",
        "\n",
        "test['IsAlone'] = 0\n",
        "test.loc[test['FamilySize'] == 1, 'IsAlone'] = 1"
      ],
      "execution_count": null,
      "outputs": []
    },
    {
      "cell_type": "markdown",
      "metadata": {
        "papermill": {
          "duration": 0.096052,
          "end_time": "2020-11-16T15:47:11.550147",
          "exception": false,
          "start_time": "2020-11-16T15:47:11.454095",
          "status": "completed"
        },
        "tags": [],
        "id": "68clRApyT7C6"
      },
      "source": [
        "We can assume that as the age growth, the class of a passenger could growth too, lets see a graph to demonstrate."
      ]
    },
    {
      "cell_type": "code",
      "metadata": {
        "execution": {
          "iopub.execute_input": "2020-11-16T15:47:11.750272Z",
          "iopub.status.busy": "2020-11-16T15:47:11.749137Z",
          "iopub.status.idle": "2020-11-16T15:47:12.257436Z",
          "shell.execute_reply": "2020-11-16T15:47:12.256774Z"
        },
        "papermill": {
          "duration": 0.611307,
          "end_time": "2020-11-16T15:47:12.257563",
          "exception": false,
          "start_time": "2020-11-16T15:47:11.646256",
          "status": "completed"
        },
        "tags": [],
        "id": "6w62ptKIT7C6",
        "outputId": "a2c0ffbe-b67b-4631-f8ed-9a34ecbf83ee"
      },
      "source": [
        "sns.regplot(x=\"Age\", y=\"Pclass\", data=titanic_df, logx=True)"
      ],
      "execution_count": null,
      "outputs": [
        {
          "output_type": "execute_result",
          "data": {
            "text/plain": [
              "<matplotlib.axes._subplots.AxesSubplot at 0x7f89da2c92d0>"
            ]
          },
          "metadata": {
            "tags": []
          },
          "execution_count": 31
        },
        {
          "output_type": "display_data",
          "data": {
            "image/png": "[encoded data removed]",
            "text/plain": [
              "<Figure size 432x288 with 1 Axes>"
            ]
          },
          "metadata": {
            "tags": [],
            "needs_background": "light"
          }
        }
      ]
    },
    {
      "cell_type": "markdown",
      "metadata": {
        "papermill": {
          "duration": 0.098978,
          "end_time": "2020-11-16T15:47:12.455596",
          "exception": false,
          "start_time": "2020-11-16T15:47:12.356618",
          "status": "completed"
        },
        "tags": [],
        "id": "YL5Lwt6WT7C9"
      },
      "source": [
        "We know the 1st class is better than 2nd class, and 2nd class is better than 3rd class.  \n",
        "In this graph we can actually see that the more a passenger is older, his class is higher."
      ]
    },
    {
      "cell_type": "markdown",
      "metadata": {
        "papermill": {
          "duration": 0.099009,
          "end_time": "2020-11-16T15:47:12.653902",
          "exception": false,
          "start_time": "2020-11-16T15:47:12.554893",
          "status": "completed"
        },
        "tags": [],
        "id": "j3BAX98PT7C_"
      },
      "source": [
        "As observed before, it look like `Pclass`, and `Age` have some correlation between them, we may assume that the age of a passenger's may indicates which class he was travled at.  \n",
        "Older people sometimes tend to have more money and it could indicate they traveled in higher class.  \n",
        "We will try to create a new feature `AgePclass` as a multiplation between those two features."
      ]
    },
    {
      "cell_type": "code",
      "metadata": {
        "execution": {
          "iopub.execute_input": "2020-11-16T15:47:12.861091Z",
          "iopub.status.busy": "2020-11-16T15:47:12.859579Z",
          "iopub.status.idle": "2020-11-16T15:47:12.864721Z",
          "shell.execute_reply": "2020-11-16T15:47:12.863951Z"
        },
        "papermill": {
          "duration": 0.111157,
          "end_time": "2020-11-16T15:47:12.864893",
          "exception": false,
          "start_time": "2020-11-16T15:47:12.753736",
          "status": "completed"
        },
        "tags": [],
        "id": "Y71CNaJKT7DA"
      },
      "source": [
        "titanic_df[\"AgePclass\"] = titanic_df[\"Age\"] * titanic_df[\"Pclass\"]\n",
        "test[\"AgePclass\"] = test[\"Age\"] * test[\"Pclass\"]"
      ],
      "execution_count": null,
      "outputs": []
    },
    {
      "cell_type": "code",
      "metadata": {
        "execution": {
          "iopub.execute_input": "2020-11-16T15:47:13.086660Z",
          "iopub.status.busy": "2020-11-16T15:47:13.072003Z",
          "iopub.status.idle": "2020-11-16T15:47:13.336405Z",
          "shell.execute_reply": "2020-11-16T15:47:13.335617Z"
        },
        "papermill": {
          "duration": 0.37284,
          "end_time": "2020-11-16T15:47:13.336531",
          "exception": false,
          "start_time": "2020-11-16T15:47:12.963691",
          "status": "completed"
        },
        "tags": [],
        "id": "0eGeAFY6T7DA",
        "outputId": "c66fb288-d4a1-463d-995b-40219d52f8b1"
      },
      "source": [
        "def age_band(num):\n",
        "    for i in range(1, 100):\n",
        "        if num < 10*i :  return f'{(i-1) * 10} ~ {i*10}'\n",
        "\n",
        "        \n",
        "titanic_df['age_band'] = titanic_df['Age'].apply(age_band)\n",
        "titanic_age = titanic_df[['age_band', 'Survived']].groupby('age_band')['Survived'].value_counts().sort_index().unstack().fillna(0)\n",
        "titanic_age['Survival rate'] = titanic_age[1] / (titanic_age[0] + titanic_age[1]) * 100\n",
        "\n",
        "fig, ax = plt.subplots(1, 1, figsize=(10, 7))\n",
        "\n",
        "# ax2\n",
        "color_map = ['#d4dddd' for _ in range(9)]\n",
        "color_map[0] = color_map[8] = '#244747'\n",
        "\n",
        "ax.bar(titanic_age['Survival rate'].index, titanic_age['Survival rate'], \n",
        "       color=color_map, width=0.55, \n",
        "       edgecolor='black', \n",
        "       linewidth=0.7)\n",
        "\n",
        "\n",
        "\n",
        "for s in [\"top\",\"right\",\"left\"]:\n",
        "    ax.spines[s].set_visible(False)\n",
        "\n",
        "\n",
        "\n",
        "for i in titanic_age['Survival rate'].index:\n",
        "    ax.annotate(f\"{titanic_age['Survival rate'][i]:.02f}%\", \n",
        "                   xy=(i, titanic_age['Survival rate'][i] + 2.3),\n",
        "                   va = 'center', ha='center',fontweight='light', \n",
        "                   color='#4a4a4a')\n",
        "\n",
        "\n",
        "# mean line + annotation\n",
        "mean = titanic_df['Survived'].mean() *100\n",
        "ax.axhline(mean ,color='black', linewidth=0.4, linestyle='dashdot')\n",
        "    \n",
        "\n",
        "# Title & Subtitle    \n",
        "fig.text(0.06, 1, 'Age Band and Survival Rate', fontsize=15)\n",
        "\n",
        "grid_y_ticks = np.arange(0, 101, 20)\n",
        "ax.set_yticks(grid_y_ticks)\n",
        "ax.grid(axis='y', linestyle='-', alpha=0.4)\n",
        "\n",
        "plt.tight_layout()\n",
        "plt.show()"
      ],
      "execution_count": null,
      "outputs": [
        {
          "output_type": "display_data",
          "data": {
            "image/png": "[encoded data removed]",
            "text/plain": [
              "<Figure size 720x504 with 1 Axes>"
            ]
          },
          "metadata": {
            "tags": [],
            "needs_background": "light"
          }
        }
      ]
    },
    {
      "cell_type": "markdown",
      "metadata": {
        "papermill": {
          "duration": 0.099184,
          "end_time": "2020-11-16T15:47:13.535260",
          "exception": false,
          "start_time": "2020-11-16T15:47:13.436076",
          "status": "completed"
        },
        "tags": [],
        "id": "yPgHPCm_T7DB"
      },
      "source": [
        "From this graph it looks like there are different surviving chances across the different age bands.  \n",
        "We will create a new `AgeBand` feature."
      ]
    },
    {
      "cell_type": "code",
      "metadata": {
        "execution": {
          "iopub.execute_input": "2020-11-16T15:47:13.766865Z",
          "iopub.status.busy": "2020-11-16T15:47:13.765961Z",
          "iopub.status.idle": "2020-11-16T15:47:13.770533Z",
          "shell.execute_reply": "2020-11-16T15:47:13.769787Z"
        },
        "papermill": {
          "duration": 0.135968,
          "end_time": "2020-11-16T15:47:13.770656",
          "exception": false,
          "start_time": "2020-11-16T15:47:13.634688",
          "status": "completed"
        },
        "tags": [],
        "id": "p6uhqhUiT7DB",
        "outputId": "b578105d-9ef8-4a11-f8ab-e2f22c67ffda"
      },
      "source": [
        "def createAgeBand(dataset):\n",
        "    dataset.loc[ dataset['Age'] <= 10, 'AgeBand'] = 0\n",
        "    dataset.loc[(dataset['Age'] > 10) & (dataset['Age'] <= 20), 'AgeBand'] = 1\n",
        "    dataset.loc[(dataset['Age'] > 20) & (dataset['Age'] <= 30), 'AgeBand'] = 2\n",
        "    dataset.loc[(dataset['Age'] > 30) & (dataset['Age'] <= 40), 'AgeBand'] = 3\n",
        "    dataset.loc[(dataset['Age'] > 40) & (dataset['Age'] <= 50), 'AgeBand'] = 4\n",
        "    dataset.loc[(dataset['Age'] > 50) & (dataset['Age'] <= 60), 'AgeBand'] = 5\n",
        "    dataset.loc[(dataset['Age'] > 60) & (dataset['Age'] <= 70), 'AgeBand'] = 6\n",
        "    dataset.loc[(dataset['Age'] > 70) & (dataset['Age'] <= 80), 'AgeBand'] = 7\n",
        "    dataset.loc[ dataset['Age'] > 80, 'AgeBand'] = 8\n",
        "    \n",
        "\n",
        "createAgeBand(titanic_df)\n",
        "titanic_df.AgeBand.isna().any()"
      ],
      "execution_count": null,
      "outputs": [
        {
          "output_type": "execute_result",
          "data": {
            "text/plain": [
              "False"
            ]
          },
          "metadata": {
            "tags": []
          },
          "execution_count": 34
        }
      ]
    },
    {
      "cell_type": "code",
      "metadata": {
        "execution": {
          "iopub.execute_input": "2020-11-16T15:47:13.984715Z",
          "iopub.status.busy": "2020-11-16T15:47:13.982001Z",
          "iopub.status.idle": "2020-11-16T15:47:14.450881Z",
          "shell.execute_reply": "2020-11-16T15:47:14.451472Z"
        },
        "papermill": {
          "duration": 0.579569,
          "end_time": "2020-11-16T15:47:14.451638",
          "exception": false,
          "start_time": "2020-11-16T15:47:13.872069",
          "status": "completed"
        },
        "tags": [],
        "id": "ngBRMUEQT7DC",
        "outputId": "4fb530cd-7966-4fa8-a503-2feb20501e12"
      },
      "source": [
        "sns.barplot(x=\"AgeBand\", y=\"Survived\", palette=sns.color_palette(\"coolwarm\"), data=titanic_df)"
      ],
      "execution_count": null,
      "outputs": [
        {
          "output_type": "execute_result",
          "data": {
            "text/plain": [
              "<matplotlib.axes._subplots.AxesSubplot at 0x7f89d99e1090>"
            ]
          },
          "metadata": {
            "tags": []
          },
          "execution_count": 35
        },
        {
          "output_type": "display_data",
          "data": {
            "image/png": "[encoded data removed]",
            "text/plain": [
              "<Figure size 432x288 with 1 Axes>"
            ]
          },
          "metadata": {
            "tags": [],
            "needs_background": "light"
          }
        }
      ]
    },
    {
      "cell_type": "code",
      "metadata": {
        "execution": {
          "iopub.execute_input": "2020-11-16T15:47:14.670563Z",
          "iopub.status.busy": "2020-11-16T15:47:14.664039Z",
          "iopub.status.idle": "2020-11-16T15:47:14.680351Z",
          "shell.execute_reply": "2020-11-16T15:47:14.679731Z"
        },
        "papermill": {
          "duration": 0.126069,
          "end_time": "2020-11-16T15:47:14.680480",
          "exception": false,
          "start_time": "2020-11-16T15:47:14.554411",
          "status": "completed"
        },
        "tags": [],
        "id": "UzIEllRNT7DC",
        "outputId": "14b61810-defa-41eb-b424-3fe838732d01"
      },
      "source": [
        "createAgeBand(test)\n",
        "test.AgeBand.isna().any()"
      ],
      "execution_count": null,
      "outputs": [
        {
          "output_type": "execute_result",
          "data": {
            "text/plain": [
              "False"
            ]
          },
          "metadata": {
            "tags": []
          },
          "execution_count": 36
        }
      ]
    },
    {
      "cell_type": "markdown",
      "metadata": {
        "papermill": {
          "duration": 0.103257,
          "end_time": "2020-11-16T15:47:14.885958",
          "exception": false,
          "start_time": "2020-11-16T15:47:14.782701",
          "status": "completed"
        },
        "tags": [],
        "id": "FyQBpfyxT7DC"
      },
      "source": [
        "## Train"
      ]
    },
    {
      "cell_type": "code",
      "metadata": {
        "execution": {
          "iopub.execute_input": "2020-11-16T15:47:15.105066Z",
          "iopub.status.busy": "2020-11-16T15:47:15.104099Z",
          "iopub.status.idle": "2020-11-16T15:47:15.109320Z",
          "shell.execute_reply": "2020-11-16T15:47:15.108585Z"
        },
        "papermill": {
          "duration": 0.119195,
          "end_time": "2020-11-16T15:47:15.109448",
          "exception": false,
          "start_time": "2020-11-16T15:47:14.990253",
          "status": "completed"
        },
        "tags": [],
        "id": "Z8BazhzGT7DD",
        "outputId": "9bd9cddd-0893-40f8-ef55-9b921b9ac258"
      },
      "source": [
        "print(titanic_df.isna().sum().any())\n",
        "print(test.isna().sum().any())"
      ],
      "execution_count": null,
      "outputs": [
        {
          "output_type": "stream",
          "text": [
            "False\n",
            "True\n"
          ],
          "name": "stdout"
        }
      ]
    },
    {
      "cell_type": "markdown",
      "metadata": {
        "papermill": {
          "duration": 0.102445,
          "end_time": "2020-11-16T15:47:15.314780",
          "exception": false,
          "start_time": "2020-11-16T15:47:15.212335",
          "status": "completed"
        },
        "tags": [],
        "id": "PECstt_FT7DD"
      },
      "source": [
        "### SGD Train with `FamilySize` Featrure:"
      ]
    },
    {
      "cell_type": "code",
      "metadata": {
        "execution": {
          "iopub.execute_input": "2020-11-16T15:47:15.532913Z",
          "iopub.status.busy": "2020-11-16T15:47:15.528953Z",
          "iopub.status.idle": "2020-11-16T15:47:15.552728Z",
          "shell.execute_reply": "2020-11-16T15:47:15.552070Z"
        },
        "papermill": {
          "duration": 0.135318,
          "end_time": "2020-11-16T15:47:15.552862",
          "exception": false,
          "start_time": "2020-11-16T15:47:15.417544",
          "status": "completed"
        },
        "tags": [],
        "id": "kZMAz7g6T7DD"
      },
      "source": [
        "data_fs = titanic_df[[\"AgePclass\", \"Fare\", \"Mr\", \"Mrs\", \"Miss\", \"Master\", \"Embarked_s\", \"Embarked_c\", \"Embarked_q\", \"Male\", \"Female\", \"FamilySize\", \"Survived\"]]\n",
        "t_fs = data_fs[\"Survived\"]\n",
        "x_fs = data_fs.drop('Survived', axis=1)\n",
        "\n",
        "x_train_fs, x_test_fs, t_train_fs, t_test_fs = sklearn.model_selection.train_test_split(x_fs, t_fs, test_size=0.2, random_state=0)\n",
        "SGD_cls_fs = pipeline.make_pipeline(preprocessing.StandardScaler(), linear_model.SGDClassifier(loss='log', alpha=0, learning_rate='constant', eta0=0.01)).fit(x_train_fs, t_train_fs)\n",
        "y_train_prob_fs = SGD_cls_fs.predict_proba(x_train_fs)\n",
        "y_test_prob_fs = SGD_cls_fs.predict_proba(x_test_fs)\n"
      ],
      "execution_count": null,
      "outputs": []
    },
    {
      "cell_type": "code",
      "metadata": {
        "execution": {
          "iopub.execute_input": "2020-11-16T15:47:15.768707Z",
          "iopub.status.busy": "2020-11-16T15:47:15.767933Z",
          "iopub.status.idle": "2020-11-16T15:47:15.782306Z",
          "shell.execute_reply": "2020-11-16T15:47:15.781523Z"
        },
        "papermill": {
          "duration": 0.126633,
          "end_time": "2020-11-16T15:47:15.782435",
          "exception": false,
          "start_time": "2020-11-16T15:47:15.655802",
          "status": "completed"
        },
        "tags": [],
        "id": "TfuRyB2oT7DD",
        "outputId": "743f592e-b52d-4658-e200-52286f633ada"
      },
      "source": [
        "acurSGD_fs_train = SGD_cls_fs.score(x_train_fs, t_train_fs)\n",
        "acurSGD_fs_valid = SGD_cls_fs.score(x_test_fs, t_test_fs)\n",
        "ceSGD_fs_train = metrics.log_loss(t_train_fs, y_train_prob_fs)\n",
        "ceSGD_fs_valid = metrics.log_loss(t_test_fs, y_test_prob_fs)\n",
        "\n",
        "print('Accuracy score on train', acurSGD_fs_train)\n",
        "print('Accuracy score on validation', acurSGD_fs_valid)\n",
        "print()\n",
        "print('CE on train', ceSGD_fs_train)\n",
        "print('CE on test',ceSGD_fs_valid)"
      ],
      "execution_count": null,
      "outputs": [
        {
          "output_type": "stream",
          "text": [
            "Accuracy score on train 0.8300561797752809\n",
            "Accuracy score on validation 0.8156424581005587\n",
            "\n",
            "CE on train 0.4187520886749172\n",
            "CE on test 0.4272816548465031\n"
          ],
          "name": "stdout"
        }
      ]
    },
    {
      "cell_type": "markdown",
      "metadata": {
        "papermill": {
          "duration": 0.147591,
          "end_time": "2020-11-16T15:47:16.035049",
          "exception": false,
          "start_time": "2020-11-16T15:47:15.887458",
          "status": "completed"
        },
        "tags": [],
        "id": "w3zG3UoET7DE"
      },
      "source": [
        "### SGD Train with `IsAlone` Featrure:"
      ]
    },
    {
      "cell_type": "code",
      "metadata": {
        "execution": {
          "iopub.execute_input": "2020-11-16T15:47:16.264417Z",
          "iopub.status.busy": "2020-11-16T15:47:16.260512Z",
          "iopub.status.idle": "2020-11-16T15:47:16.279185Z",
          "shell.execute_reply": "2020-11-16T15:47:16.278415Z"
        },
        "papermill": {
          "duration": 0.13559,
          "end_time": "2020-11-16T15:47:16.279329",
          "exception": false,
          "start_time": "2020-11-16T15:47:16.143739",
          "status": "completed"
        },
        "tags": [],
        "id": "fIuYxyRnT7DE"
      },
      "source": [
        "data_ia = titanic_df[[\"AgePclass\", \"Fare\", \"Mr\", \"Mrs\", \"Miss\", \"Master\", \"Embarked_s\", \"Embarked_c\", \"Embarked_q\", \"Male\", \"Female\", \"IsAlone\", \"Survived\"]]\n",
        "t_ia = data_ia[\"Survived\"]\n",
        "x_ia = data_ia.drop('Survived', axis=1)\n",
        "\n",
        "x_train_ia, x_test_ia, t_train_ia, t_test_ia = sklearn.model_selection.train_test_split(x_ia, t_ia, test_size=0.2, random_state=0)\n",
        "SGD_cls_ia = pipeline.make_pipeline(preprocessing.StandardScaler(), linear_model.SGDClassifier(loss='log', alpha=0, learning_rate='constant', eta0=0.01)).fit(x_train_ia, t_train_ia)\n",
        "y_train_prob_ia = SGD_cls_ia.predict_proba(x_train_ia)\n",
        "y_test_prob_ia = SGD_cls_ia.predict_proba(x_test_ia)"
      ],
      "execution_count": null,
      "outputs": []
    },
    {
      "cell_type": "code",
      "metadata": {
        "execution": {
          "iopub.execute_input": "2020-11-16T15:47:16.498696Z",
          "iopub.status.busy": "2020-11-16T15:47:16.497571Z",
          "iopub.status.idle": "2020-11-16T15:47:16.510683Z",
          "shell.execute_reply": "2020-11-16T15:47:16.509824Z"
        },
        "papermill": {
          "duration": 0.127566,
          "end_time": "2020-11-16T15:47:16.510844",
          "exception": false,
          "start_time": "2020-11-16T15:47:16.383278",
          "status": "completed"
        },
        "tags": [],
        "id": "6wdhN-z8T7DE",
        "outputId": "064d02a2-f135-41f7-b7f2-19f4aa04031e"
      },
      "source": [
        "acurSGD_ia_train = SGD_cls_ia.score(x_train_ia, t_train_ia)\n",
        "acurSGD_ia_valid = SGD_cls_ia.score(x_test_ia, t_test_ia)\n",
        "ceSGD_ia_train = metrics.log_loss(t_train_ia, y_train_prob_ia)\n",
        "ceSGD_ia_valid = metrics.log_loss(t_test_ia, y_test_prob_ia)\n",
        "\n",
        "print('Accuracy score on train', acurSGD_ia_train)\n",
        "print('Accuracy score on validation', acurSGD_ia_valid)\n",
        "print()\n",
        "print('CE on train', ceSGD_ia_train)\n",
        "print('CE on test',ceSGD_ia_valid)"
      ],
      "execution_count": null,
      "outputs": [
        {
          "output_type": "stream",
          "text": [
            "Accuracy score on train 0.8019662921348315\n",
            "Accuracy score on validation 0.7877094972067039\n",
            "\n",
            "CE on train 0.44656445895453856\n",
            "CE on test 0.451543034199283\n"
          ],
          "name": "stdout"
        }
      ]
    },
    {
      "cell_type": "markdown",
      "metadata": {
        "papermill": {
          "duration": 0.103996,
          "end_time": "2020-11-16T15:47:16.719490",
          "exception": false,
          "start_time": "2020-11-16T15:47:16.615494",
          "status": "completed"
        },
        "tags": [],
        "id": "sIiEpey9T7DF"
      },
      "source": [
        "We get better results with `FamilySize` feature and not with `IsAlone` so we will continue with it."
      ]
    },
    {
      "cell_type": "markdown",
      "metadata": {
        "papermill": {
          "duration": 0.109073,
          "end_time": "2020-11-16T15:47:16.933975",
          "exception": false,
          "start_time": "2020-11-16T15:47:16.824902",
          "status": "completed"
        },
        "tags": [],
        "id": "KRy9LXNkT7DF"
      },
      "source": [
        "### SGD Train with `AgeBand` Featrure:"
      ]
    },
    {
      "cell_type": "code",
      "metadata": {
        "execution": {
          "iopub.execute_input": "2020-11-16T15:47:17.166108Z",
          "iopub.status.busy": "2020-11-16T15:47:17.162189Z",
          "iopub.status.idle": "2020-11-16T15:47:17.180800Z",
          "shell.execute_reply": "2020-11-16T15:47:17.179992Z"
        },
        "papermill": {
          "duration": 0.138963,
          "end_time": "2020-11-16T15:47:17.180934",
          "exception": false,
          "start_time": "2020-11-16T15:47:17.041971",
          "status": "completed"
        },
        "tags": [],
        "id": "8HFzL-NGT7DF"
      },
      "source": [
        "data_ab = titanic_df[[\"AgePclass\", \"AgeBand\", \"Fare\", \"Mr\", \"Mrs\", \"Miss\", \"Master\", \"Embarked_s\", \"Embarked_c\", \"Embarked_q\", \"Male\", \"Female\", \"FamilySize\", \"Survived\"]]\n",
        "t_ab = data_ab[\"Survived\"]\n",
        "x_ab = data_ab.drop('Survived', axis=1)\n",
        "\n",
        "x_train_ab, x_test_ab, t_train_ab, t_test_ab = sklearn.model_selection.train_test_split(x_ab, t_ab, test_size=0.2, random_state=0)\n",
        "SGD_cls_ab = pipeline.make_pipeline(preprocessing.StandardScaler(), linear_model.SGDClassifier(loss='log', alpha=0, learning_rate='constant', eta0=0.01)).fit(x_train_ab, t_train_ab)\n",
        "y_train_prob_ab = SGD_cls_ab.predict_proba(x_train_ab)\n",
        "y_test_prob_ab = SGD_cls_ab.predict_proba(x_test_ab)"
      ],
      "execution_count": null,
      "outputs": []
    },
    {
      "cell_type": "code",
      "metadata": {
        "execution": {
          "iopub.execute_input": "2020-11-16T15:47:17.403037Z",
          "iopub.status.busy": "2020-11-16T15:47:17.402191Z",
          "iopub.status.idle": "2020-11-16T15:47:17.415243Z",
          "shell.execute_reply": "2020-11-16T15:47:17.414541Z"
        },
        "papermill": {
          "duration": 0.129887,
          "end_time": "2020-11-16T15:47:17.415410",
          "exception": false,
          "start_time": "2020-11-16T15:47:17.285523",
          "status": "completed"
        },
        "tags": [],
        "id": "KyiGZprqT7DF",
        "outputId": "6a6baefd-dfca-4783-fc6c-bb62ae446c36"
      },
      "source": [
        "acurSGD_ab_train = SGD_cls_ab.score(x_train_ab, t_train_ab)\n",
        "acurSGD_ab_valid = SGD_cls_ab.score(x_test_ab, t_test_ab)\n",
        "ceSGD_ab_train = metrics.log_loss(t_train_ab, y_train_prob_ab)\n",
        "ceSGD_ab_valid = metrics.log_loss(t_test_ab, y_test_prob_ab)\n",
        "\n",
        "print('Accuracy score on train', acurSGD_ab_train)\n",
        "print('Accuracy score on validation', acurSGD_ab_valid)\n",
        "print()\n",
        "print('CE on train', ceSGD_ab_train)\n",
        "print('CE on test',ceSGD_ab_valid)"
      ],
      "execution_count": null,
      "outputs": [
        {
          "output_type": "stream",
          "text": [
            "Accuracy score on train 0.8314606741573034\n",
            "Accuracy score on validation 0.8156424581005587\n",
            "\n",
            "CE on train 0.416162731043784\n",
            "CE on test 0.414051623054287\n"
          ],
          "name": "stdout"
        }
      ]
    },
    {
      "cell_type": "markdown",
      "metadata": {
        "papermill": {
          "duration": 0.109523,
          "end_time": "2020-11-16T15:47:17.631545",
          "exception": false,
          "start_time": "2020-11-16T15:47:17.522022",
          "status": "completed"
        },
        "tags": [],
        "id": "dTzSrgahT7DG"
      },
      "source": [
        "We can see that the accuracy is a little bit higher and the loss is a little bit smaller in this model."
      ]
    },
    {
      "cell_type": "markdown",
      "metadata": {
        "papermill": {
          "duration": 0.105078,
          "end_time": "2020-11-16T15:47:17.841951",
          "exception": false,
          "start_time": "2020-11-16T15:47:17.736873",
          "status": "completed"
        },
        "tags": [],
        "id": "TQ9xzpsPT7DG"
      },
      "source": [
        "### MLP Train with `FamilySize` Featrure:"
      ]
    },
    {
      "cell_type": "code",
      "metadata": {
        "execution": {
          "iopub.execute_input": "2020-11-16T15:47:18.066015Z",
          "iopub.status.busy": "2020-11-16T15:47:18.064871Z",
          "iopub.status.idle": "2020-11-16T15:47:23.684161Z",
          "shell.execute_reply": "2020-11-16T15:47:23.683075Z"
        },
        "papermill": {
          "duration": 5.734795,
          "end_time": "2020-11-16T15:47:23.684333",
          "exception": false,
          "start_time": "2020-11-16T15:47:17.949538",
          "status": "completed"
        },
        "tags": [],
        "id": "GOgrQqepT7DH"
      },
      "source": [
        "MLP_cls_fs = neural_network.MLPClassifier(activation='logistic', solver='sgd', alpha=0, max_iter=10000).fit(x_train_fs, t_train_fs)\n",
        "y_train_prob_fs = MLP_cls_fs.predict_proba(x_train_fs)\n",
        "y_test_prob_fs = MLP_cls_fs.predict_proba(x_test_fs)"
      ],
      "execution_count": null,
      "outputs": []
    },
    {
      "cell_type": "code",
      "metadata": {
        "execution": {
          "iopub.execute_input": "2020-11-16T15:47:23.911054Z",
          "iopub.status.busy": "2020-11-16T15:47:23.910039Z",
          "iopub.status.idle": "2020-11-16T15:47:23.925516Z",
          "shell.execute_reply": "2020-11-16T15:47:23.924862Z"
        },
        "papermill": {
          "duration": 0.132557,
          "end_time": "2020-11-16T15:47:23.925653",
          "exception": false,
          "start_time": "2020-11-16T15:47:23.793096",
          "status": "completed"
        },
        "tags": [],
        "id": "eCBD7aOcT7DH",
        "outputId": "d1477b81-b7ff-41e8-94f3-3d208f868634"
      },
      "source": [
        "acurMLP_fs_train =  MLP_cls_fs.score(x_train_fs, t_train_fs)\n",
        "acurMLP_fs_valid = MLP_cls_fs.score(x_test_fs, t_test_fs)\n",
        "ceMLP_fs_train = metrics.log_loss(t_train_fs, y_train_prob_fs)\n",
        "ceMLP_fs_valid = metrics.log_loss(t_test_fs, y_test_prob_fs)\n",
        "\n",
        "print('Accuracy score on train', acurMLP_fs_train)\n",
        "print('Accuracy score on validation', acurMLP_fs_valid)\n",
        "print()\n",
        "print('CE on train', ceMLP_fs_train)\n",
        "print('CE on test',ceMLP_fs_valid)"
      ],
      "execution_count": null,
      "outputs": [
        {
          "output_type": "stream",
          "text": [
            "Accuracy score on train 0.8047752808988764\n",
            "Accuracy score on validation 0.7877094972067039\n",
            "\n",
            "CE on train 0.4595387319892355\n",
            "CE on test 0.429806501053725\n"
          ],
          "name": "stdout"
        }
      ]
    },
    {
      "cell_type": "markdown",
      "metadata": {
        "papermill": {
          "duration": 0.10711,
          "end_time": "2020-11-16T15:47:24.141696",
          "exception": false,
          "start_time": "2020-11-16T15:47:24.034586",
          "status": "completed"
        },
        "tags": [],
        "id": "CM4lbPFVT7DI"
      },
      "source": [
        "### MLP Train with `IsAlone` Featrure:"
      ]
    },
    {
      "cell_type": "code",
      "metadata": {
        "execution": {
          "iopub.execute_input": "2020-11-16T15:47:24.364653Z",
          "iopub.status.busy": "2020-11-16T15:47:24.363478Z",
          "iopub.status.idle": "2020-11-16T15:47:29.461411Z",
          "shell.execute_reply": "2020-11-16T15:47:29.460644Z"
        },
        "papermill": {
          "duration": 5.213154,
          "end_time": "2020-11-16T15:47:29.461533",
          "exception": false,
          "start_time": "2020-11-16T15:47:24.248379",
          "status": "completed"
        },
        "tags": [],
        "id": "aaVTbDS7T7DI"
      },
      "source": [
        "MLP_cls_ia = neural_network.MLPClassifier(activation='logistic', solver='sgd', alpha=0, max_iter=10000).fit(x_train_ia, t_train_ia)\n",
        "y_train_prob_ia = MLP_cls_ia.predict_proba(x_train_ia)\n",
        "y_test_prob_ia = MLP_cls_ia.predict_proba(x_test_ia)"
      ],
      "execution_count": null,
      "outputs": []
    },
    {
      "cell_type": "code",
      "metadata": {
        "execution": {
          "iopub.execute_input": "2020-11-16T15:47:29.687380Z",
          "iopub.status.busy": "2020-11-16T15:47:29.686495Z",
          "iopub.status.idle": "2020-11-16T15:47:29.703920Z",
          "shell.execute_reply": "2020-11-16T15:47:29.704672Z"
        },
        "papermill": {
          "duration": 0.136013,
          "end_time": "2020-11-16T15:47:29.704874",
          "exception": false,
          "start_time": "2020-11-16T15:47:29.568861",
          "status": "completed"
        },
        "tags": [],
        "id": "0nomp_E8T7DI",
        "outputId": "fef69112-3378-492d-a6f4-dd2ed81e0d22"
      },
      "source": [
        "acurMLP_ia_train =  MLP_cls_ia.score(x_train_ia, t_train_ia)\n",
        "acurMLP_ia_valid = MLP_cls_ia.score(x_test_ia, t_test_ia)\n",
        "ceMLP_ia_train = metrics.log_loss(t_train_ia, y_train_prob_ia)\n",
        "ceMLP_ia_valid = metrics.log_loss(t_test_ia, y_test_prob_ia)\n",
        "\n",
        "print('Accuracy score on train', acurMLP_ia_train)\n",
        "print('Accuracy score on validation', acurMLP_ia_valid)\n",
        "print()\n",
        "print('CE on train', ceMLP_ia_train)\n",
        "print('CE on test',ceMLP_ia_valid)"
      ],
      "execution_count": null,
      "outputs": [
        {
          "output_type": "stream",
          "text": [
            "Accuracy score on train 0.7851123595505618\n",
            "Accuracy score on validation 0.7821229050279329\n",
            "\n",
            "CE on train 0.4951636263804779\n",
            "CE on test 0.4784728945326428\n"
          ],
          "name": "stdout"
        }
      ]
    },
    {
      "cell_type": "markdown",
      "metadata": {
        "papermill": {
          "duration": 0.108073,
          "end_time": "2020-11-16T15:47:29.921222",
          "exception": false,
          "start_time": "2020-11-16T15:47:29.813149",
          "status": "completed"
        },
        "tags": [],
        "id": "xOdqPQ4kT7DJ"
      },
      "source": [
        "### MLP Train with `AgeBand` Featrure:"
      ]
    },
    {
      "cell_type": "code",
      "metadata": {
        "execution": {
          "iopub.execute_input": "2020-11-16T15:47:30.150716Z",
          "iopub.status.busy": "2020-11-16T15:47:30.149908Z",
          "iopub.status.idle": "2020-11-16T15:47:35.916196Z",
          "shell.execute_reply": "2020-11-16T15:47:35.915399Z"
        },
        "papermill": {
          "duration": 5.884666,
          "end_time": "2020-11-16T15:47:35.916385",
          "exception": false,
          "start_time": "2020-11-16T15:47:30.031719",
          "status": "completed"
        },
        "tags": [],
        "id": "lYml89veT7DJ"
      },
      "source": [
        "MLP_cls_ab = neural_network.MLPClassifier(activation='logistic', solver='sgd', alpha=0, max_iter=10000).fit(x_train_ab, t_train_ab)\n",
        "y_train_prob_ab = MLP_cls_ab.predict_proba(x_train_ab)\n",
        "y_test_prob_ab = MLP_cls_ab.predict_proba(x_test_ab)"
      ],
      "execution_count": null,
      "outputs": []
    },
    {
      "cell_type": "code",
      "metadata": {
        "execution": {
          "iopub.execute_input": "2020-11-16T15:47:36.147036Z",
          "iopub.status.busy": "2020-11-16T15:47:36.146019Z",
          "iopub.status.idle": "2020-11-16T15:47:36.160036Z",
          "shell.execute_reply": "2020-11-16T15:47:36.160717Z"
        },
        "papermill": {
          "duration": 0.132329,
          "end_time": "2020-11-16T15:47:36.160907",
          "exception": false,
          "start_time": "2020-11-16T15:47:36.028578",
          "status": "completed"
        },
        "tags": [],
        "id": "Ak275otxT7DK",
        "outputId": "c8b5108e-4fd7-4d2c-bd5d-c635f318a21c"
      },
      "source": [
        "acurMLP_ab_train =  MLP_cls_ab.score(x_train_ab, t_train_ab)\n",
        "acurMLP_ab_valid = MLP_cls_ab.score(x_test_ab, t_test_ab)\n",
        "ceMLP_ab_train = metrics.log_loss(t_train_ab, y_train_prob_ab)\n",
        "ceMLP_ab_valid = metrics.log_loss(t_test_ab, y_test_prob_ab)\n",
        "\n",
        "print('Accuracy score on train', acurMLP_ab_train)\n",
        "print('Accuracy score on validation', acurMLP_ab_valid)\n",
        "print()\n",
        "print('CE on train', ceMLP_ab_train)\n",
        "print('CE on test',ceMLP_ab_valid)"
      ],
      "execution_count": null,
      "outputs": [
        {
          "output_type": "stream",
          "text": [
            "Accuracy score on train 0.8117977528089888\n",
            "Accuracy score on validation 0.7988826815642458\n",
            "\n",
            "CE on train 0.4502989931578162\n",
            "CE on test 0.42437388404818\n"
          ],
          "name": "stdout"
        }
      ]
    },
    {
      "cell_type": "markdown",
      "metadata": {
        "papermill": {
          "duration": 0.107856,
          "end_time": "2020-11-16T15:47:36.379908",
          "exception": false,
          "start_time": "2020-11-16T15:47:36.272052",
          "status": "completed"
        },
        "tags": [],
        "id": "0Njg4NpBT7DK"
      },
      "source": [
        "# Compare the Models"
      ]
    },
    {
      "cell_type": "code",
      "metadata": {
        "execution": {
          "iopub.execute_input": "2020-11-16T15:47:36.603189Z",
          "iopub.status.busy": "2020-11-16T15:47:36.602141Z",
          "iopub.status.idle": "2020-11-16T15:47:36.606999Z",
          "shell.execute_reply": "2020-11-16T15:47:36.605838Z"
        },
        "papermill": {
          "duration": 0.119744,
          "end_time": "2020-11-16T15:47:36.607175",
          "exception": false,
          "start_time": "2020-11-16T15:47:36.487431",
          "status": "completed"
        },
        "tags": [],
        "id": "OwvctOM2T7DL",
        "outputId": "e6413228-030e-4802-f923-044b0ea855e0"
      },
      "source": [
        "print([acurSGD_fs_train, acurSGD_ia_train, acurSGD_ab_train, acurMLP_fs_train, acurMLP_ia_train, acurMLP_ab_train])\n",
        "print([acurSGD_fs_valid, acurSGD_ia_valid, acurSGD_ab_valid, acurMLP_fs_valid, acurMLP_ia_valid, acurMLP_ab_valid])\n",
        "print([ceSGD_fs_train, ceSGD_ia_train, ceSGD_ab_train, ceMLP_fs_train, ceMLP_ia_train, ceMLP_ab_train])\n",
        "print([ceSGD_fs_valid, ceSGD_ia_valid, ceSGD_ab_valid, ceMLP_fs_valid, ceMLP_ia_valid, ceMLP_ab_valid])\n"
      ],
      "execution_count": null,
      "outputs": [
        {
          "output_type": "stream",
          "text": [
            "[0.8300561797752809, 0.8019662921348315, 0.8314606741573034, 0.8047752808988764, 0.7851123595505618, 0.8117977528089888]\n",
            "[0.8156424581005587, 0.7877094972067039, 0.8156424581005587, 0.7877094972067039, 0.7821229050279329, 0.7988826815642458]\n",
            "[0.4187520886749172, 0.44656445895453856, 0.416162731043784, 0.4595387319892355, 0.4951636263804779, 0.4502989931578162]\n",
            "[0.4272816548465031, 0.451543034199283, 0.414051623054287, 0.429806501053725, 0.4784728945326428, 0.42437388404818]\n"
          ],
          "name": "stdout"
        }
      ]
    },
    {
      "cell_type": "code",
      "metadata": {
        "execution": {
          "iopub.execute_input": "2020-11-16T15:47:36.834594Z",
          "iopub.status.busy": "2020-11-16T15:47:36.833714Z",
          "iopub.status.idle": "2020-11-16T15:47:36.843545Z",
          "shell.execute_reply": "2020-11-16T15:47:36.842743Z"
        },
        "papermill": {
          "duration": 0.127047,
          "end_time": "2020-11-16T15:47:36.843673",
          "exception": false,
          "start_time": "2020-11-16T15:47:36.716626",
          "status": "completed"
        },
        "tags": [],
        "id": "aRM648WET7DL"
      },
      "source": [
        "names = [\"SGD FamilySize\", \"SGD IsAlone\", \"SGD FamilySize-AgeBand\", \"MLP FamilySize\", \"MLP IsAlone\", \"MLP FamilySize-AgeBand\"]\n",
        "train_acur = [acurSGD_fs_train, acurSGD_ia_train, acurSGD_ab_train, acurMLP_fs_train, acurMLP_ia_train, acurMLP_ab_train]\n",
        "valid_acur = [acurSGD_fs_valid, acurSGD_ia_valid, acurSGD_ab_valid, acurMLP_fs_valid, acurMLP_ia_valid, acurMLP_ab_valid]\n",
        "train_loss = [ceSGD_fs_train, ceSGD_ia_train, ceSGD_ab_train, ceMLP_fs_train, ceMLP_ia_train, ceMLP_ab_train]\n",
        "valid_loss = [ceSGD_fs_valid, ceSGD_ia_valid, ceSGD_ab_valid, ceMLP_fs_valid, ceMLP_ia_valid, ceMLP_ab_valid]\n",
        "\n",
        "df = pd.DataFrame(list(zip(names, train_acur, valid_acur, train_loss, valid_loss)), columns = ['Name', 'Train_accuracy', 'Validation_accuracy', 'Train_loss', 'Validation_loss'])"
      ],
      "execution_count": null,
      "outputs": []
    },
    {
      "cell_type": "code",
      "metadata": {
        "execution": {
          "iopub.execute_input": "2020-11-16T15:47:37.078395Z",
          "iopub.status.busy": "2020-11-16T15:47:37.077592Z",
          "iopub.status.idle": "2020-11-16T15:47:37.609754Z",
          "shell.execute_reply": "2020-11-16T15:47:37.608567Z"
        },
        "papermill": {
          "duration": 0.657739,
          "end_time": "2020-11-16T15:47:37.609937",
          "exception": false,
          "start_time": "2020-11-16T15:47:36.952198",
          "status": "completed"
        },
        "tags": [],
        "id": "TgKhxwi-T7DN",
        "outputId": "8e130cf9-3554-4748-edb4-a7d98db12ed0"
      },
      "source": [
        "sns.catplot(x=\"Train_accuracy\", y=\"Name\", hue=\"Name\", kind=\"bar\", palette=sns.color_palette(\"deep\"), data=df, height=5, aspect=4)"
      ],
      "execution_count": null,
      "outputs": [
        {
          "output_type": "execute_result",
          "data": {
            "text/plain": [
              "<seaborn.axisgrid.FacetGrid at 0x7f89d902e450>"
            ]
          },
          "metadata": {
            "tags": []
          },
          "execution_count": 52
        },
        {
          "output_type": "display_data",
          "data": {
            "image/png": "[encoded data removed]",
            "text/plain": [
              "<Figure size 1602x360 with 1 Axes>"
            ]
          },
          "metadata": {
            "tags": [],
            "needs_background": "light"
          }
        }
      ]
    },
    {
      "cell_type": "code",
      "metadata": {
        "execution": {
          "iopub.execute_input": "2020-11-16T15:47:37.861060Z",
          "iopub.status.busy": "2020-11-16T15:47:37.854445Z",
          "iopub.status.idle": "2020-11-16T15:47:38.493418Z",
          "shell.execute_reply": "2020-11-16T15:47:38.492647Z"
        },
        "papermill": {
          "duration": 0.769447,
          "end_time": "2020-11-16T15:47:38.493540",
          "exception": false,
          "start_time": "2020-11-16T15:47:37.724093",
          "status": "completed"
        },
        "tags": [],
        "id": "fMlGzf_tT7DP",
        "outputId": "0e4c9471-4779-4284-c15d-c8b406d63fde"
      },
      "source": [
        "sns.catplot(x=\"Train_loss\", y=\"Name\", hue=\"Name\", kind=\"bar\", palette=sns.color_palette(\"deep\"), data=df, height=5, aspect=4)"
      ],
      "execution_count": null,
      "outputs": [
        {
          "output_type": "execute_result",
          "data": {
            "text/plain": [
              "<seaborn.axisgrid.FacetGrid at 0x7f89d98fb410>"
            ]
          },
          "metadata": {
            "tags": []
          },
          "execution_count": 53
        },
        {
          "output_type": "display_data",
          "data": {
            "image/png": "[encoded data removed]",
            "text/plain": [
              "<Figure size 1602x360 with 1 Axes>"
            ]
          },
          "metadata": {
            "tags": [],
            "needs_background": "light"
          }
        }
      ]
    },
    {
      "cell_type": "code",
      "metadata": {
        "execution": {
          "iopub.execute_input": "2020-11-16T15:47:38.731992Z",
          "iopub.status.busy": "2020-11-16T15:47:38.731064Z",
          "iopub.status.idle": "2020-11-16T15:47:39.305376Z",
          "shell.execute_reply": "2020-11-16T15:47:39.304669Z"
        },
        "papermill": {
          "duration": 0.697107,
          "end_time": "2020-11-16T15:47:39.305512",
          "exception": false,
          "start_time": "2020-11-16T15:47:38.608405",
          "status": "completed"
        },
        "tags": [],
        "id": "FREPtzhCT7DR",
        "outputId": "ec7b13a3-efe0-4050-d5d1-5ca207504b69"
      },
      "source": [
        "sns.catplot(x=\"Validation_accuracy\", y=\"Name\", hue=\"Name\", kind=\"bar\", palette=sns.color_palette(\"deep\"), data=df, height=5, aspect=4)"
      ],
      "execution_count": null,
      "outputs": [
        {
          "output_type": "execute_result",
          "data": {
            "text/plain": [
              "<seaborn.axisgrid.FacetGrid at 0x7f89e5aef110>"
            ]
          },
          "metadata": {
            "tags": []
          },
          "execution_count": 54
        },
        {
          "output_type": "display_data",
          "data": {
            "image/png": "[encoded data removed]",
            "text/plain": [
              "<Figure size 1602x360 with 1 Axes>"
            ]
          },
          "metadata": {
            "tags": [],
            "needs_background": "light"
          }
        }
      ]
    },
    {
      "cell_type": "code",
      "metadata": {
        "execution": {
          "iopub.execute_input": "2020-11-16T15:47:39.564775Z",
          "iopub.status.busy": "2020-11-16T15:47:39.557020Z",
          "iopub.status.idle": "2020-11-16T15:47:40.087701Z",
          "shell.execute_reply": "2020-11-16T15:47:40.086926Z"
        },
        "papermill": {
          "duration": 0.665133,
          "end_time": "2020-11-16T15:47:40.087847",
          "exception": false,
          "start_time": "2020-11-16T15:47:39.422714",
          "status": "completed"
        },
        "tags": [],
        "id": "r042V7kuT7DS",
        "outputId": "7569dd89-c802-46a1-d58e-8529c6b37c23"
      },
      "source": [
        "sns.catplot(x=\"Validation_loss\", y=\"Name\", hue=\"Name\", kind=\"bar\", palette=sns.color_palette(\"deep\"), data=df, height=5, aspect=4)"
      ],
      "execution_count": null,
      "outputs": [
        {
          "output_type": "execute_result",
          "data": {
            "text/plain": [
              "<seaborn.axisgrid.FacetGrid at 0x7f89dbd7a390>"
            ]
          },
          "metadata": {
            "tags": []
          },
          "execution_count": 55
        },
        {
          "output_type": "display_data",
          "data": {
            "image/png": "[encoded data removed]",
            "text/plain": [
              "<Figure size 1602x360 with 1 Axes>"
            ]
          },
          "metadata": {
            "tags": [],
            "needs_background": "light"
          }
        }
      ]
    },
    {
      "cell_type": "markdown",
      "metadata": {
        "papermill": {
          "duration": 0.120805,
          "end_time": "2020-11-16T15:47:40.330422",
          "exception": false,
          "start_time": "2020-11-16T15:47:40.209617",
          "status": "completed"
        },
        "tags": [],
        "id": "6qflHVKkT7DT"
      },
      "source": [
        "We can see that the best train results was with SGD with `AgeBand` feature.  \n",
        "The best validation results was with SGD with `AgeBand` feature as well.  \n",
        "Also, the smallest loss (train, and validation) was with SGD with `AgeBand` feature.  \n",
        "So we will use this model with the test."
      ]
    },
    {
      "cell_type": "markdown",
      "metadata": {
        "papermill": {
          "duration": 0.117289,
          "end_time": "2020-11-16T15:47:40.567701",
          "exception": false,
          "start_time": "2020-11-16T15:47:40.450412",
          "status": "completed"
        },
        "tags": [],
        "id": "nbnKz1PgT7DT"
      },
      "source": [
        "# Test"
      ]
    },
    {
      "cell_type": "markdown",
      "metadata": {
        "papermill": {
          "duration": 0.119954,
          "end_time": "2020-11-16T15:47:40.809314",
          "exception": false,
          "start_time": "2020-11-16T15:47:40.689360",
          "status": "completed"
        },
        "tags": [],
        "id": "KYBRpyMsT7DU"
      },
      "source": [
        "The test dataset missing one value in `Fare` variable, we will fill it with the mean of passengers with the same `Pclass`, `Title_cat`."
      ]
    },
    {
      "cell_type": "code",
      "metadata": {
        "execution": {
          "iopub.execute_input": "2020-11-16T15:47:41.067375Z",
          "iopub.status.busy": "2020-11-16T15:47:41.066342Z",
          "iopub.status.idle": "2020-11-16T15:47:41.072260Z",
          "shell.execute_reply": "2020-11-16T15:47:41.071270Z"
        },
        "papermill": {
          "duration": 0.141715,
          "end_time": "2020-11-16T15:47:41.072445",
          "exception": false,
          "start_time": "2020-11-16T15:47:40.930730",
          "status": "completed"
        },
        "tags": [],
        "id": "P16bY8VKT7DU",
        "outputId": "0f3b7803-a56d-451d-887d-dc16e21fe9f2"
      },
      "source": [
        "test[\"Fare\"] = test[\"Fare\"].fillna(test[\"Fare\"].mean())\n",
        "test.Fare.isna().any()"
      ],
      "execution_count": null,
      "outputs": [
        {
          "output_type": "execute_result",
          "data": {
            "text/plain": [
              "False"
            ]
          },
          "metadata": {
            "tags": []
          },
          "execution_count": 56
        }
      ]
    },
    {
      "cell_type": "code",
      "metadata": {
        "execution": {
          "iopub.execute_input": "2020-11-16T15:47:41.331067Z",
          "iopub.status.busy": "2020-11-16T15:47:41.330207Z",
          "iopub.status.idle": "2020-11-16T15:47:41.670748Z",
          "shell.execute_reply": "2020-11-16T15:47:41.669875Z"
        },
        "papermill": {
          "duration": 0.474245,
          "end_time": "2020-11-16T15:47:41.670892",
          "exception": false,
          "start_time": "2020-11-16T15:47:41.196647",
          "status": "completed"
        },
        "tags": [],
        "id": "f_O_zrsZT7DV"
      },
      "source": [
        "test_ac = test[[\"AgePclass\", \"AgeBand\", \"Fare\", \"Mr\", \"Mrs\", \"Miss\", \"Master\", \"Embarked_s\", \"Embarked_c\", \"Embarked_q\", \"Male\", \"Female\", \"FamilySize\"]]\n",
        "\n",
        "y_pred = SGD_cls_ab.predict(test_ac)\n",
        "\n",
        "submission = pd.DataFrame({\n",
        "        \"PassengerId\": test[\"PassengerId\"],\n",
        "        \"Survived\": y_pred\n",
        "    })\n",
        "submission.to_csv('submission.csv', index=False)"
      ],
      "execution_count": null,
      "outputs": []
    },
    {
      "cell_type": "markdown",
      "metadata": {
        "papermill": {
          "duration": 0.118769,
          "end_time": "2020-11-16T15:47:41.907325",
          "exception": false,
          "start_time": "2020-11-16T15:47:41.788556",
          "status": "completed"
        },
        "tags": [],
        "id": "KX91wtGRT7DV"
      },
      "source": [
        "# Score\n",
        "\n",
        "![](https://user-images.githubusercontent.com/52006798/99272182-2b9a3600-2830-11eb-9432-a078aad8da1c.jpg)\n",
        "![](https://user-images.githubusercontent.com/52006798/99245606-85890480-280c-11eb-8ac3-c0783006dacf.jpg)\n",
        "![](https://user-images.githubusercontent.com/52006798/99245667-a2bdd300-280c-11eb-8149-dcd446f4e8d5.jpg)"
      ]
    },
    {
      "cell_type": "markdown",
      "metadata": {
        "papermill": {
          "duration": 0.118175,
          "end_time": "2020-11-16T15:47:42.144590",
          "exception": false,
          "start_time": "2020-11-16T15:47:42.026415",
          "status": "completed"
        },
        "tags": [],
        "id": "aUev5yNuT7DV"
      },
      "source": [
        "# Links\n",
        "\n",
        "\n",
        "* Fill `Embarked` missing values with the most common values. [Suggested here](https://www.kaggle.com/startupsci/titanic-data-science-solutions#Completing-a-categorical-feature)\n",
        "\n",
        "* Create `Title` feature instead of `Name`. [Suggested here](https://www.kaggle.com/startupsci/titanic-data-science-solutions#Creating-new-feature-extracting-from-existing)\n",
        "\n",
        "* Drop `PassengerId`, `Cabin` and `Ticket`. [Suggested here](https://www.kaggle.com/ldfreeman3/a-data-science-framework-to-achieve-99-accuracy#3.22-Clean-Data)\n",
        "\n",
        "* Dropping `SibSp` and `Parch` in favor for `FamilySize` feature. [Suggested here](https://www.kaggle.com/startupsci/titanic-data-science-solutions#Create-new-feature-combining-existing-features)\n",
        "\n",
        "* Consider `isAlone` feature instead of `SibSp`, `Parch` and `FamilySize`. [Suggested here](https://www.kaggle.com/startupsci/titanic-data-science-solutions#Create-new-feature-combining-existing-features)\n",
        "\n",
        "* Consider change `Age` into an ordinal variable based on age ranges. [Suggested here](https://www.kaggle.com/startupsci/titanic-data-science-solutions#Create-new-feature-combining-existing-features)"
      ]
    }
  ]
}