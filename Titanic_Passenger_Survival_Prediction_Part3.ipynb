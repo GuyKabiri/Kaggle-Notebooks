{
  "nbformat": 4,
  "nbformat_minor": 0,
  "metadata": {
    "kernelspec": {
      "display_name": "Python 3",
      "language": "python",
      "name": "python3"
    },
    "language_info": {
      "codemirror_mode": {
        "name": "ipython",
        "version": 3
      },
      "file_extension": ".py",
      "mimetype": "text/x-python",
      "name": "python",
      "nbconvert_exporter": "python",
      "pygments_lexer": "ipython3",
      "version": "3.7.6"
    },
    "papermill": {
      "duration": 50.443833,
      "end_time": "2020-11-16T15:47:42.372629",
      "environment_variables": {},
      "exception": null,
      "input_path": "__notebook__.ipynb",
      "output_path": "__notebook__.ipynb",
      "parameters": {},
      "start_time": "2020-11-16T15:46:51.928796",
      "version": "2.1.0"
    },
    "colab": {
      "name": "Titanic_Passenger_Survival_Prediction_Part3.ipynb",
      "provenance": [],
      "collapsed_sections": [
        "zWo7Gz9gT7Ck",
        "I3Tzi7zpT7Cp",
        "50uyhWPfT7Ct",
        "e47sdrMhT7Cu",
        "tsEw7apAT7Cz",
        "6Kf_1ZE5T7C2",
        "CM4lbPFVT7DI",
        "xOdqPQ4kT7DJ"
      ]
    },
    "widgets": {
      "application/vnd.jupyter.widget-state+json": {
        "b35743edca4044feabbb4fd5b1fc18ac": {
          "model_module": "@jupyter-widgets/controls",
          "model_name": "HBoxModel",
          "state": {
            "_view_name": "HBoxView",
            "_dom_classes": [],
            "_model_name": "HBoxModel",
            "_view_module": "@jupyter-widgets/controls",
            "_model_module_version": "1.5.0",
            "_view_count": null,
            "_view_module_version": "1.5.0",
            "box_style": "",
            "layout": "IPY_MODEL_7e71e81654c04b1bb39864af3fab0c11",
            "_model_module": "@jupyter-widgets/controls",
            "children": [
              "IPY_MODEL_737b11a12b7047bcaf8cc98c8d2fbfed",
              "IPY_MODEL_8563327b6c3b4d1aa38bb56399962497"
            ]
          }
        },
        "7e71e81654c04b1bb39864af3fab0c11": {
          "model_module": "@jupyter-widgets/base",
          "model_name": "LayoutModel",
          "state": {
            "_view_name": "LayoutView",
            "grid_template_rows": null,
            "right": null,
            "justify_content": null,
            "_view_module": "@jupyter-widgets/base",
            "overflow": null,
            "_model_module_version": "1.2.0",
            "_view_count": null,
            "flex_flow": "row wrap",
            "width": "1000px",
            "min_width": null,
            "border": null,
            "align_items": null,
            "bottom": null,
            "_model_module": "@jupyter-widgets/base",
            "top": null,
            "grid_column": null,
            "overflow_y": null,
            "overflow_x": null,
            "grid_auto_flow": null,
            "grid_area": null,
            "grid_template_columns": null,
            "flex": null,
            "_model_name": "LayoutModel",
            "justify_items": null,
            "grid_row": null,
            "max_height": null,
            "align_content": null,
            "visibility": null,
            "align_self": null,
            "height": null,
            "min_height": null,
            "padding": null,
            "grid_auto_rows": null,
            "grid_gap": null,
            "max_width": null,
            "order": null,
            "_view_module_version": "1.2.0",
            "grid_template_areas": null,
            "object_position": null,
            "object_fit": null,
            "grid_auto_columns": null,
            "margin": null,
            "display": "inline-flex",
            "left": null
          }
        },
        "737b11a12b7047bcaf8cc98c8d2fbfed": {
          "model_module": "@jupyter-widgets/controls",
          "model_name": "FloatProgressModel",
          "state": {
            "_view_name": "ProgressView",
            "style": "IPY_MODEL_6560134fb3884025b6d9180c096e380a",
            "_dom_classes": [],
            "description": "",
            "_model_name": "FloatProgressModel",
            "bar_style": "success",
            "max": 1,
            "_view_module": "@jupyter-widgets/controls",
            "_model_module_version": "1.5.0",
            "value": 1,
            "_view_count": null,
            "_view_module_version": "1.5.0",
            "orientation": "horizontal",
            "min": 0,
            "description_tooltip": null,
            "_model_module": "@jupyter-widgets/controls",
            "layout": "IPY_MODEL_32d3dd148f6f4888825d8d3738b19d6a"
          }
        },
        "8563327b6c3b4d1aa38bb56399962497": {
          "model_module": "@jupyter-widgets/controls",
          "model_name": "HTMLModel",
          "state": {
            "_view_name": "HTMLView",
            "style": "IPY_MODEL_5fe0b73693a54b0b8b8509626bfab0cf",
            "_dom_classes": [],
            "description": "",
            "_model_name": "HTMLModel",
            "placeholder": "​",
            "_view_module": "@jupyter-widgets/controls",
            "_model_module_version": "1.5.0",
            "value": "Calculating Length          | 10/? [00:00&lt;00:00, 93.22it/s]",
            "_view_count": null,
            "_view_module_version": "1.5.0",
            "description_tooltip": null,
            "_model_module": "@jupyter-widgets/controls",
            "layout": "IPY_MODEL_9f88d09cc31c42d8a512e4a470b0ee74"
          }
        },
        "6560134fb3884025b6d9180c096e380a": {
          "model_module": "@jupyter-widgets/controls",
          "model_name": "ProgressStyleModel",
          "state": {
            "_view_name": "StyleView",
            "_model_name": "ProgressStyleModel",
            "description_width": "initial",
            "_view_module": "@jupyter-widgets/base",
            "_model_module_version": "1.5.0",
            "_view_count": null,
            "_view_module_version": "1.2.0",
            "bar_color": null,
            "_model_module": "@jupyter-widgets/controls"
          }
        },
        "32d3dd148f6f4888825d8d3738b19d6a": {
          "model_module": "@jupyter-widgets/base",
          "model_name": "LayoutModel",
          "state": {
            "_view_name": "LayoutView",
            "grid_template_rows": null,
            "right": null,
            "justify_content": null,
            "_view_module": "@jupyter-widgets/base",
            "overflow": null,
            "_model_module_version": "1.2.0",
            "_view_count": null,
            "flex_flow": null,
            "width": null,
            "min_width": null,
            "border": null,
            "align_items": null,
            "bottom": null,
            "_model_module": "@jupyter-widgets/base",
            "top": null,
            "grid_column": null,
            "overflow_y": null,
            "overflow_x": null,
            "grid_auto_flow": null,
            "grid_area": null,
            "grid_template_columns": null,
            "flex": "2",
            "_model_name": "LayoutModel",
            "justify_items": null,
            "grid_row": null,
            "max_height": null,
            "align_content": null,
            "visibility": null,
            "align_self": null,
            "height": null,
            "min_height": null,
            "padding": null,
            "grid_auto_rows": null,
            "grid_gap": null,
            "max_width": null,
            "order": null,
            "_view_module_version": "1.2.0",
            "grid_template_areas": null,
            "object_position": null,
            "object_fit": null,
            "grid_auto_columns": null,
            "margin": null,
            "display": null,
            "left": null
          }
        },
        "5fe0b73693a54b0b8b8509626bfab0cf": {
          "model_module": "@jupyter-widgets/controls",
          "model_name": "DescriptionStyleModel",
          "state": {
            "_view_name": "StyleView",
            "_model_name": "DescriptionStyleModel",
            "description_width": "",
            "_view_module": "@jupyter-widgets/base",
            "_model_module_version": "1.5.0",
            "_view_count": null,
            "_view_module_version": "1.2.0",
            "_model_module": "@jupyter-widgets/controls"
          }
        },
        "9f88d09cc31c42d8a512e4a470b0ee74": {
          "model_module": "@jupyter-widgets/base",
          "model_name": "LayoutModel",
          "state": {
            "_view_name": "LayoutView",
            "grid_template_rows": null,
            "right": null,
            "justify_content": null,
            "_view_module": "@jupyter-widgets/base",
            "overflow": null,
            "_model_module_version": "1.2.0",
            "_view_count": null,
            "flex_flow": null,
            "width": null,
            "min_width": null,
            "border": null,
            "align_items": null,
            "bottom": null,
            "_model_module": "@jupyter-widgets/base",
            "top": null,
            "grid_column": null,
            "overflow_y": null,
            "overflow_x": null,
            "grid_auto_flow": null,
            "grid_area": null,
            "grid_template_columns": null,
            "flex": null,
            "_model_name": "LayoutModel",
            "justify_items": null,
            "grid_row": null,
            "max_height": null,
            "align_content": null,
            "visibility": null,
            "align_self": null,
            "height": null,
            "min_height": null,
            "padding": null,
            "grid_auto_rows": null,
            "grid_gap": null,
            "max_width": null,
            "order": null,
            "_view_module_version": "1.2.0",
            "grid_template_areas": null,
            "object_position": null,
            "object_fit": null,
            "grid_auto_columns": null,
            "margin": null,
            "display": null,
            "left": null
          }
        },
        "3681ffad666f4fceb9039ed11310ff86": {
          "model_module": "@jupyter-widgets/controls",
          "model_name": "HBoxModel",
          "state": {
            "_view_name": "HBoxView",
            "_dom_classes": [],
            "_model_name": "HBoxModel",
            "_view_module": "@jupyter-widgets/controls",
            "_model_module_version": "1.5.0",
            "_view_count": null,
            "_view_module_version": "1.5.0",
            "box_style": "",
            "layout": "IPY_MODEL_48e6341d75894055befa1799660436d6",
            "_model_module": "@jupyter-widgets/controls",
            "children": [
              "IPY_MODEL_f04304d1371c4ee5ac9866afadce5fa2",
              "IPY_MODEL_1305ae5beb3e4b76963c733f61f82a06"
            ]
          }
        },
        "48e6341d75894055befa1799660436d6": {
          "model_module": "@jupyter-widgets/base",
          "model_name": "LayoutModel",
          "state": {
            "_view_name": "LayoutView",
            "grid_template_rows": null,
            "right": null,
            "justify_content": null,
            "_view_module": "@jupyter-widgets/base",
            "overflow": null,
            "_model_module_version": "1.2.0",
            "_view_count": null,
            "flex_flow": null,
            "width": null,
            "min_width": null,
            "border": null,
            "align_items": null,
            "bottom": null,
            "_model_module": "@jupyter-widgets/base",
            "top": null,
            "grid_column": null,
            "overflow_y": null,
            "overflow_x": null,
            "grid_auto_flow": null,
            "grid_area": null,
            "grid_template_columns": null,
            "flex": null,
            "_model_name": "LayoutModel",
            "justify_items": null,
            "grid_row": null,
            "max_height": null,
            "align_content": null,
            "visibility": null,
            "align_self": null,
            "height": null,
            "min_height": null,
            "padding": null,
            "grid_auto_rows": null,
            "grid_gap": null,
            "max_width": null,
            "order": null,
            "_view_module_version": "1.2.0",
            "grid_template_areas": null,
            "object_position": null,
            "object_fit": null,
            "grid_auto_columns": null,
            "margin": null,
            "display": null,
            "left": null
          }
        },
        "f04304d1371c4ee5ac9866afadce5fa2": {
          "model_module": "@jupyter-widgets/controls",
          "model_name": "FloatProgressModel",
          "state": {
            "_view_name": "ProgressView",
            "style": "IPY_MODEL_da3fefea58894f31afd530d2e29ba36e",
            "_dom_classes": [],
            "description": "Computing Models: 100%",
            "_model_name": "FloatProgressModel",
            "bar_style": "success",
            "max": 10,
            "_view_module": "@jupyter-widgets/controls",
            "_model_module_version": "1.5.0",
            "value": 10,
            "_view_count": null,
            "_view_module_version": "1.5.0",
            "orientation": "horizontal",
            "min": 0,
            "description_tooltip": null,
            "_model_module": "@jupyter-widgets/controls",
            "layout": "IPY_MODEL_619e77d7d6cf40b9ad29a7d2c76345cb"
          }
        },
        "1305ae5beb3e4b76963c733f61f82a06": {
          "model_module": "@jupyter-widgets/controls",
          "model_name": "HTMLModel",
          "state": {
            "_view_name": "HTMLView",
            "style": "IPY_MODEL_7e4164bbd29f4ce6a46e583bf1ee884d",
            "_dom_classes": [],
            "description": "",
            "_model_name": "HTMLModel",
            "placeholder": "​",
            "_view_module": "@jupyter-widgets/controls",
            "_model_module_version": "1.5.0",
            "value": " 10/10 [00:33&lt;00:00,  3.36s/it]",
            "_view_count": null,
            "_view_module_version": "1.5.0",
            "description_tooltip": null,
            "_model_module": "@jupyter-widgets/controls",
            "layout": "IPY_MODEL_b097c339c6a24b79b6e76a5eb1294529"
          }
        },
        "da3fefea58894f31afd530d2e29ba36e": {
          "model_module": "@jupyter-widgets/controls",
          "model_name": "ProgressStyleModel",
          "state": {
            "_view_name": "StyleView",
            "_model_name": "ProgressStyleModel",
            "description_width": "initial",
            "_view_module": "@jupyter-widgets/base",
            "_model_module_version": "1.5.0",
            "_view_count": null,
            "_view_module_version": "1.2.0",
            "bar_color": null,
            "_model_module": "@jupyter-widgets/controls"
          }
        },
        "619e77d7d6cf40b9ad29a7d2c76345cb": {
          "model_module": "@jupyter-widgets/base",
          "model_name": "LayoutModel",
          "state": {
            "_view_name": "LayoutView",
            "grid_template_rows": null,
            "right": null,
            "justify_content": null,
            "_view_module": "@jupyter-widgets/base",
            "overflow": null,
            "_model_module_version": "1.2.0",
            "_view_count": null,
            "flex_flow": null,
            "width": null,
            "min_width": null,
            "border": null,
            "align_items": null,
            "bottom": null,
            "_model_module": "@jupyter-widgets/base",
            "top": null,
            "grid_column": null,
            "overflow_y": null,
            "overflow_x": null,
            "grid_auto_flow": null,
            "grid_area": null,
            "grid_template_columns": null,
            "flex": null,
            "_model_name": "LayoutModel",
            "justify_items": null,
            "grid_row": null,
            "max_height": null,
            "align_content": null,
            "visibility": null,
            "align_self": null,
            "height": null,
            "min_height": null,
            "padding": null,
            "grid_auto_rows": null,
            "grid_gap": null,
            "max_width": null,
            "order": null,
            "_view_module_version": "1.2.0",
            "grid_template_areas": null,
            "object_position": null,
            "object_fit": null,
            "grid_auto_columns": null,
            "margin": null,
            "display": null,
            "left": null
          }
        },
        "7e4164bbd29f4ce6a46e583bf1ee884d": {
          "model_module": "@jupyter-widgets/controls",
          "model_name": "DescriptionStyleModel",
          "state": {
            "_view_name": "StyleView",
            "_model_name": "DescriptionStyleModel",
            "description_width": "",
            "_view_module": "@jupyter-widgets/base",
            "_model_module_version": "1.5.0",
            "_view_count": null,
            "_view_module_version": "1.2.0",
            "_model_module": "@jupyter-widgets/controls"
          }
        },
        "b097c339c6a24b79b6e76a5eb1294529": {
          "model_module": "@jupyter-widgets/base",
          "model_name": "LayoutModel",
          "state": {
            "_view_name": "LayoutView",
            "grid_template_rows": null,
            "right": null,
            "justify_content": null,
            "_view_module": "@jupyter-widgets/base",
            "overflow": null,
            "_model_module_version": "1.2.0",
            "_view_count": null,
            "flex_flow": null,
            "width": null,
            "min_width": null,
            "border": null,
            "align_items": null,
            "bottom": null,
            "_model_module": "@jupyter-widgets/base",
            "top": null,
            "grid_column": null,
            "overflow_y": null,
            "overflow_x": null,
            "grid_auto_flow": null,
            "grid_area": null,
            "grid_template_columns": null,
            "flex": null,
            "_model_name": "LayoutModel",
            "justify_items": null,
            "grid_row": null,
            "max_height": null,
            "align_content": null,
            "visibility": null,
            "align_self": null,
            "height": null,
            "min_height": null,
            "padding": null,
            "grid_auto_rows": null,
            "grid_gap": null,
            "max_width": null,
            "order": null,
            "_view_module_version": "1.2.0",
            "grid_template_areas": null,
            "object_position": null,
            "object_fit": null,
            "grid_auto_columns": null,
            "margin": null,
            "display": null,
            "left": null
          }
        },
        "273b7bb4ea924135b4254994086ac87b": {
          "model_module": "@jupyter-widgets/controls",
          "model_name": "HBoxModel",
          "state": {
            "_view_name": "HBoxView",
            "_dom_classes": [],
            "_model_name": "HBoxModel",
            "_view_module": "@jupyter-widgets/controls",
            "_model_module_version": "1.5.0",
            "_view_count": null,
            "_view_module_version": "1.5.0",
            "box_style": "",
            "layout": "IPY_MODEL_d5c3a468f89945b3900025dc317f8b27",
            "_model_module": "@jupyter-widgets/controls",
            "children": [
              "IPY_MODEL_834473626d434408b8758aaa94a49df0",
              "IPY_MODEL_ab98e267c18142e8945d3099854a2282"
            ]
          }
        },
        "d5c3a468f89945b3900025dc317f8b27": {
          "model_module": "@jupyter-widgets/base",
          "model_name": "LayoutModel",
          "state": {
            "_view_name": "LayoutView",
            "grid_template_rows": null,
            "right": null,
            "justify_content": null,
            "_view_module": "@jupyter-widgets/base",
            "overflow": null,
            "_model_module_version": "1.2.0",
            "_view_count": null,
            "flex_flow": null,
            "width": null,
            "min_width": null,
            "border": null,
            "align_items": null,
            "bottom": null,
            "_model_module": "@jupyter-widgets/base",
            "top": null,
            "grid_column": null,
            "overflow_y": null,
            "overflow_x": null,
            "grid_auto_flow": null,
            "grid_area": null,
            "grid_template_columns": null,
            "flex": null,
            "_model_name": "LayoutModel",
            "justify_items": null,
            "grid_row": null,
            "max_height": null,
            "align_content": null,
            "visibility": null,
            "align_self": null,
            "height": null,
            "min_height": null,
            "padding": null,
            "grid_auto_rows": null,
            "grid_gap": null,
            "max_width": null,
            "order": null,
            "_view_module_version": "1.2.0",
            "grid_template_areas": null,
            "object_position": null,
            "object_fit": null,
            "grid_auto_columns": null,
            "margin": null,
            "display": null,
            "left": null
          }
        },
        "834473626d434408b8758aaa94a49df0": {
          "model_module": "@jupyter-widgets/controls",
          "model_name": "FloatProgressModel",
          "state": {
            "_view_name": "ProgressView",
            "style": "IPY_MODEL_815b26f47b994d149d853b680d825bd9",
            "_dom_classes": [],
            "description": "Poly Degree: 100%",
            "_model_name": "FloatProgressModel",
            "bar_style": "success",
            "max": 9,
            "_view_module": "@jupyter-widgets/controls",
            "_model_module_version": "1.5.0",
            "value": 9,
            "_view_count": null,
            "_view_module_version": "1.5.0",
            "orientation": "horizontal",
            "min": 0,
            "description_tooltip": null,
            "_model_module": "@jupyter-widgets/controls",
            "layout": "IPY_MODEL_1fd079eac0c94b558c42d6120eec2526"
          }
        },
        "ab98e267c18142e8945d3099854a2282": {
          "model_module": "@jupyter-widgets/controls",
          "model_name": "HTMLModel",
          "state": {
            "_view_name": "HTMLView",
            "style": "IPY_MODEL_38fb445a07ea4ad1985f929e4fec9d59",
            "_dom_classes": [],
            "description": "",
            "_model_name": "HTMLModel",
            "placeholder": "​",
            "_view_module": "@jupyter-widgets/controls",
            "_model_module_version": "1.5.0",
            "value": " 9/9 [00:30&lt;00:00,  3.35s/it]",
            "_view_count": null,
            "_view_module_version": "1.5.0",
            "description_tooltip": null,
            "_model_module": "@jupyter-widgets/controls",
            "layout": "IPY_MODEL_dcd033ebe9fe49c5a521b3053cef47bf"
          }
        },
        "815b26f47b994d149d853b680d825bd9": {
          "model_module": "@jupyter-widgets/controls",
          "model_name": "ProgressStyleModel",
          "state": {
            "_view_name": "StyleView",
            "_model_name": "ProgressStyleModel",
            "description_width": "initial",
            "_view_module": "@jupyter-widgets/base",
            "_model_module_version": "1.5.0",
            "_view_count": null,
            "_view_module_version": "1.2.0",
            "bar_color": null,
            "_model_module": "@jupyter-widgets/controls"
          }
        },
        "1fd079eac0c94b558c42d6120eec2526": {
          "model_module": "@jupyter-widgets/base",
          "model_name": "LayoutModel",
          "state": {
            "_view_name": "LayoutView",
            "grid_template_rows": null,
            "right": null,
            "justify_content": null,
            "_view_module": "@jupyter-widgets/base",
            "overflow": null,
            "_model_module_version": "1.2.0",
            "_view_count": null,
            "flex_flow": null,
            "width": null,
            "min_width": null,
            "border": null,
            "align_items": null,
            "bottom": null,
            "_model_module": "@jupyter-widgets/base",
            "top": null,
            "grid_column": null,
            "overflow_y": null,
            "overflow_x": null,
            "grid_auto_flow": null,
            "grid_area": null,
            "grid_template_columns": null,
            "flex": null,
            "_model_name": "LayoutModel",
            "justify_items": null,
            "grid_row": null,
            "max_height": null,
            "align_content": null,
            "visibility": null,
            "align_self": null,
            "height": null,
            "min_height": null,
            "padding": null,
            "grid_auto_rows": null,
            "grid_gap": null,
            "max_width": null,
            "order": null,
            "_view_module_version": "1.2.0",
            "grid_template_areas": null,
            "object_position": null,
            "object_fit": null,
            "grid_auto_columns": null,
            "margin": null,
            "display": null,
            "left": null
          }
        },
        "38fb445a07ea4ad1985f929e4fec9d59": {
          "model_module": "@jupyter-widgets/controls",
          "model_name": "DescriptionStyleModel",
          "state": {
            "_view_name": "StyleView",
            "_model_name": "DescriptionStyleModel",
            "description_width": "",
            "_view_module": "@jupyter-widgets/base",
            "_model_module_version": "1.5.0",
            "_view_count": null,
            "_view_module_version": "1.2.0",
            "_model_module": "@jupyter-widgets/controls"
          }
        },
        "dcd033ebe9fe49c5a521b3053cef47bf": {
          "model_module": "@jupyter-widgets/base",
          "model_name": "LayoutModel",
          "state": {
            "_view_name": "LayoutView",
            "grid_template_rows": null,
            "right": null,
            "justify_content": null,
            "_view_module": "@jupyter-widgets/base",
            "overflow": null,
            "_model_module_version": "1.2.0",
            "_view_count": null,
            "flex_flow": null,
            "width": null,
            "min_width": null,
            "border": null,
            "align_items": null,
            "bottom": null,
            "_model_module": "@jupyter-widgets/base",
            "top": null,
            "grid_column": null,
            "overflow_y": null,
            "overflow_x": null,
            "grid_auto_flow": null,
            "grid_area": null,
            "grid_template_columns": null,
            "flex": null,
            "_model_name": "LayoutModel",
            "justify_items": null,
            "grid_row": null,
            "max_height": null,
            "align_content": null,
            "visibility": null,
            "align_self": null,
            "height": null,
            "min_height": null,
            "padding": null,
            "grid_auto_rows": null,
            "grid_gap": null,
            "max_width": null,
            "order": null,
            "_view_module_version": "1.2.0",
            "grid_template_areas": null,
            "object_position": null,
            "object_fit": null,
            "grid_auto_columns": null,
            "margin": null,
            "display": null,
            "left": null
          }
        },
        "75882d9a42094ac3a4789127b9f5b703": {
          "model_module": "@jupyter-widgets/controls",
          "model_name": "HBoxModel",
          "state": {
            "_view_name": "HBoxView",
            "_dom_classes": [],
            "_model_name": "HBoxModel",
            "_view_module": "@jupyter-widgets/controls",
            "_model_module_version": "1.5.0",
            "_view_count": null,
            "_view_module_version": "1.5.0",
            "box_style": "",
            "layout": "IPY_MODEL_f4ae59f311384e3695a3fc9d6b74c6bf",
            "_model_module": "@jupyter-widgets/controls",
            "children": [
              "IPY_MODEL_d5c797db6d8c45ecaa34759c2d9f03b0",
              "IPY_MODEL_6a33558b7d2540ceb48d39cf0b439e4f"
            ]
          }
        },
        "f4ae59f311384e3695a3fc9d6b74c6bf": {
          "model_module": "@jupyter-widgets/base",
          "model_name": "LayoutModel",
          "state": {
            "_view_name": "LayoutView",
            "grid_template_rows": null,
            "right": null,
            "justify_content": null,
            "_view_module": "@jupyter-widgets/base",
            "overflow": null,
            "_model_module_version": "1.2.0",
            "_view_count": null,
            "flex_flow": null,
            "width": null,
            "min_width": null,
            "border": null,
            "align_items": null,
            "bottom": null,
            "_model_module": "@jupyter-widgets/base",
            "top": null,
            "grid_column": null,
            "overflow_y": null,
            "overflow_x": null,
            "grid_auto_flow": null,
            "grid_area": null,
            "grid_template_columns": null,
            "flex": null,
            "_model_name": "LayoutModel",
            "justify_items": null,
            "grid_row": null,
            "max_height": null,
            "align_content": null,
            "visibility": null,
            "align_self": null,
            "height": null,
            "min_height": null,
            "padding": null,
            "grid_auto_rows": null,
            "grid_gap": null,
            "max_width": null,
            "order": null,
            "_view_module_version": "1.2.0",
            "grid_template_areas": null,
            "object_position": null,
            "object_fit": null,
            "grid_auto_columns": null,
            "margin": null,
            "display": null,
            "left": null
          }
        },
        "d5c797db6d8c45ecaa34759c2d9f03b0": {
          "model_module": "@jupyter-widgets/controls",
          "model_name": "FloatProgressModel",
          "state": {
            "_view_name": "ProgressView",
            "style": "IPY_MODEL_e74399fee9274733a4c46fc654945e88",
            "_dom_classes": [],
            "description": "Feature Selection: 100%",
            "_model_name": "FloatProgressModel",
            "bar_style": "success",
            "max": 20,
            "_view_module": "@jupyter-widgets/controls",
            "_model_module_version": "1.5.0",
            "value": 20,
            "_view_count": null,
            "_view_module_version": "1.5.0",
            "orientation": "horizontal",
            "min": 0,
            "description_tooltip": null,
            "_model_module": "@jupyter-widgets/controls",
            "layout": "IPY_MODEL_f869bf481dcc4d2cb93e30338510412a"
          }
        },
        "6a33558b7d2540ceb48d39cf0b439e4f": {
          "model_module": "@jupyter-widgets/controls",
          "model_name": "HTMLModel",
          "state": {
            "_view_name": "HTMLView",
            "style": "IPY_MODEL_3a9ddea60c6b4c21a29ec03ff8a664ed",
            "_dom_classes": [],
            "description": "",
            "_model_name": "HTMLModel",
            "placeholder": "​",
            "_view_module": "@jupyter-widgets/controls",
            "_model_module_version": "1.5.0",
            "value": " 20/20 [00:28&lt;00:00,  1.40s/it]",
            "_view_count": null,
            "_view_module_version": "1.5.0",
            "description_tooltip": null,
            "_model_module": "@jupyter-widgets/controls",
            "layout": "IPY_MODEL_b45308072b7c4c23a12ea9d38ce44f5d"
          }
        },
        "e74399fee9274733a4c46fc654945e88": {
          "model_module": "@jupyter-widgets/controls",
          "model_name": "ProgressStyleModel",
          "state": {
            "_view_name": "StyleView",
            "_model_name": "ProgressStyleModel",
            "description_width": "initial",
            "_view_module": "@jupyter-widgets/base",
            "_model_module_version": "1.5.0",
            "_view_count": null,
            "_view_module_version": "1.2.0",
            "bar_color": null,
            "_model_module": "@jupyter-widgets/controls"
          }
        },
        "f869bf481dcc4d2cb93e30338510412a": {
          "model_module": "@jupyter-widgets/base",
          "model_name": "LayoutModel",
          "state": {
            "_view_name": "LayoutView",
            "grid_template_rows": null,
            "right": null,
            "justify_content": null,
            "_view_module": "@jupyter-widgets/base",
            "overflow": null,
            "_model_module_version": "1.2.0",
            "_view_count": null,
            "flex_flow": null,
            "width": null,
            "min_width": null,
            "border": null,
            "align_items": null,
            "bottom": null,
            "_model_module": "@jupyter-widgets/base",
            "top": null,
            "grid_column": null,
            "overflow_y": null,
            "overflow_x": null,
            "grid_auto_flow": null,
            "grid_area": null,
            "grid_template_columns": null,
            "flex": null,
            "_model_name": "LayoutModel",
            "justify_items": null,
            "grid_row": null,
            "max_height": null,
            "align_content": null,
            "visibility": null,
            "align_self": null,
            "height": null,
            "min_height": null,
            "padding": null,
            "grid_auto_rows": null,
            "grid_gap": null,
            "max_width": null,
            "order": null,
            "_view_module_version": "1.2.0",
            "grid_template_areas": null,
            "object_position": null,
            "object_fit": null,
            "grid_auto_columns": null,
            "margin": null,
            "display": null,
            "left": null
          }
        },
        "3a9ddea60c6b4c21a29ec03ff8a664ed": {
          "model_module": "@jupyter-widgets/controls",
          "model_name": "DescriptionStyleModel",
          "state": {
            "_view_name": "StyleView",
            "_model_name": "DescriptionStyleModel",
            "description_width": "",
            "_view_module": "@jupyter-widgets/base",
            "_model_module_version": "1.5.0",
            "_view_count": null,
            "_view_module_version": "1.2.0",
            "_model_module": "@jupyter-widgets/controls"
          }
        },
        "b45308072b7c4c23a12ea9d38ce44f5d": {
          "model_module": "@jupyter-widgets/base",
          "model_name": "LayoutModel",
          "state": {
            "_view_name": "LayoutView",
            "grid_template_rows": null,
            "right": null,
            "justify_content": null,
            "_view_module": "@jupyter-widgets/base",
            "overflow": null,
            "_model_module_version": "1.2.0",
            "_view_count": null,
            "flex_flow": null,
            "width": null,
            "min_width": null,
            "border": null,
            "align_items": null,
            "bottom": null,
            "_model_module": "@jupyter-widgets/base",
            "top": null,
            "grid_column": null,
            "overflow_y": null,
            "overflow_x": null,
            "grid_auto_flow": null,
            "grid_area": null,
            "grid_template_columns": null,
            "flex": null,
            "_model_name": "LayoutModel",
            "justify_items": null,
            "grid_row": null,
            "max_height": null,
            "align_content": null,
            "visibility": null,
            "align_self": null,
            "height": null,
            "min_height": null,
            "padding": null,
            "grid_auto_rows": null,
            "grid_gap": null,
            "max_width": null,
            "order": null,
            "_view_module_version": "1.2.0",
            "grid_template_areas": null,
            "object_position": null,
            "object_fit": null,
            "grid_auto_columns": null,
            "margin": null,
            "display": null,
            "left": null
          }
        }
      }
    }
  },
  "cells": [
    {
      "cell_type": "markdown",
      "metadata": {
        "papermill": {
          "duration": 0.070417,
          "end_time": "2020-11-16T15:46:57.078796",
          "exception": false,
          "start_time": "2020-11-16T15:46:57.008379",
          "status": "completed"
        },
        "tags": [],
        "id": "TEhchPK6T7By"
      },
      "source": [
        "* Guy Kabiri (גיא כבירי)\n",
        "* https://www.kaggle.com/guykabiri"
      ]
    },
    {
      "cell_type": "markdown",
      "metadata": {
        "id": "Em0hC2lQw5vY"
      },
      "source": [
        "# Exercise 1"
      ]
    },
    {
      "cell_type": "markdown",
      "metadata": {
        "papermill": {
          "duration": 0.067885,
          "end_time": "2020-11-16T15:46:57.215026",
          "exception": false,
          "start_time": "2020-11-16T15:46:57.147141",
          "status": "completed"
        },
        "tags": [],
        "id": "v0b6bhCeT7CJ"
      },
      "source": [
        "## Intro\n",
        "In this competition I will investigate the data of passengers who boarded the Titanic.  \n",
        "I will try to study the connection between the different features in this data in order to create a model which will be able to predict whether a passenger survived or not.  \n",
        "I will use two types of models with different features to find the best model for this data.\n",
        "* SGD - a GD-like linear regression algorithm.\n",
        "* MLP - an artificial nueral network."
      ]
    },
    {
      "cell_type": "markdown",
      "metadata": {
        "papermill": {
          "duration": 0.068611,
          "end_time": "2020-11-16T15:46:57.352013",
          "exception": false,
          "start_time": "2020-11-16T15:46:57.283402",
          "status": "completed"
        },
        "tags": [],
        "id": "f7xPJfoOT7CN"
      },
      "source": [
        "## Imports"
      ]
    },
    {
      "cell_type": "code",
      "metadata": {
        "execution": {
          "iopub.execute_input": "2020-11-16T15:46:57.496899Z",
          "iopub.status.busy": "2020-11-16T15:46:57.496034Z",
          "iopub.status.idle": "2020-11-16T15:46:58.801003Z",
          "shell.execute_reply": "2020-11-16T15:46:58.800179Z"
        },
        "papermill": {
          "duration": 1.380372,
          "end_time": "2020-11-16T15:46:58.801130",
          "exception": false,
          "start_time": "2020-11-16T15:46:57.420758",
          "status": "completed"
        },
        "tags": [],
        "id": "T_j6yC2eT7CN"
      },
      "source": [
        "import math\n",
        "import numpy as np\n",
        "import pandas as pd\n",
        "import matplotlib.pyplot as plt\n",
        "import seaborn as sns\n",
        "\n",
        "import sklearn\n",
        "from sklearn import metrics\n",
        "from sklearn import datasets\n",
        "from sklearn import pipeline\n",
        "from sklearn import linear_model\n",
        "from sklearn import preprocessing\n",
        "from sklearn import model_selection\n",
        "from sklearn import neural_network"
      ],
      "execution_count": null,
      "outputs": []
    },
    {
      "cell_type": "markdown",
      "metadata": {
        "papermill": {
          "duration": 0.068082,
          "end_time": "2020-11-16T15:46:58.938828",
          "exception": false,
          "start_time": "2020-11-16T15:46:58.870746",
          "status": "completed"
        },
        "tags": [],
        "id": "XSjQgJSLT7CO"
      },
      "source": [
        "## Import The Data"
      ]
    },
    {
      "cell_type": "code",
      "metadata": {
        "colab": {
          "base_uri": "https://localhost:8080/"
        },
        "id": "XoE4ny3gVkgX",
        "outputId": "650c7b63-90a1-4290-8db4-d1bee854b63e"
      },
      "source": [
        "!wget https://gist.githubusercontent.com/GuyKabiri/a1a233f9611b42d73fbe9a80d0dbbdc5/raw/7e028ef479b21260c36d081c4a4c659272d81518/titanic_train.csv\r\n",
        "!wget https://gist.githubusercontent.com/GuyKabiri/d68c5b33a6954b89c19e371387dd45ac/raw/849c6d65c7fe4ac329dd8e137a33dcd928590d20/titanic_test.csv"
      ],
      "execution_count": null,
      "outputs": [
        {
          "output_type": "stream",
          "text": [
            "--2021-01-02 15:34:57--  https://gist.githubusercontent.com/GuyKabiri/a1a233f9611b42d73fbe9a80d0dbbdc5/raw/7e028ef479b21260c36d081c4a4c659272d81518/titanic_train.csv\n",
            "Resolving gist.githubusercontent.com (gist.githubusercontent.com)... 151.101.0.133, 151.101.64.133, 151.101.128.133, ...\n",
            "Connecting to gist.githubusercontent.com (gist.githubusercontent.com)|151.101.0.133|:443... connected.\n",
            "HTTP request sent, awaiting response... 200 OK\n",
            "Length: 60302 (59K) [text/plain]\n",
            "Saving to: ‘titanic_train.csv.6’\n",
            "\n",
            "\rtitanic_train.csv.6   0%[                    ]       0  --.-KB/s               \rtitanic_train.csv.6 100%[===================>]  58.89K  --.-KB/s    in 0.01s   \n",
            "\n",
            "2021-01-02 15:34:57 (4.42 MB/s) - ‘titanic_train.csv.6’ saved [60302/60302]\n",
            "\n",
            "--2021-01-02 15:34:57--  https://gist.githubusercontent.com/GuyKabiri/d68c5b33a6954b89c19e371387dd45ac/raw/849c6d65c7fe4ac329dd8e137a33dcd928590d20/titanic_test.csv\n",
            "Resolving gist.githubusercontent.com (gist.githubusercontent.com)... 151.101.0.133, 151.101.64.133, 151.101.128.133, ...\n",
            "Connecting to gist.githubusercontent.com (gist.githubusercontent.com)|151.101.0.133|:443... connected.\n",
            "HTTP request sent, awaiting response... 200 OK\n",
            "Length: 28210 (28K) [text/plain]\n",
            "Saving to: ‘titanic_test.csv.6’\n",
            "\n",
            "titanic_test.csv.6  100%[===================>]  27.55K  --.-KB/s    in 0.003s  \n",
            "\n",
            "2021-01-02 15:34:57 (9.33 MB/s) - ‘titanic_test.csv.6’ saved [28210/28210]\n",
            "\n"
          ],
          "name": "stdout"
        }
      ]
    },
    {
      "cell_type": "code",
      "metadata": {
        "execution": {
          "iopub.execute_input": "2020-11-16T15:46:59.086427Z",
          "iopub.status.busy": "2020-11-16T15:46:59.085533Z",
          "iopub.status.idle": "2020-11-16T15:46:59.105966Z",
          "shell.execute_reply": "2020-11-16T15:46:59.105138Z"
        },
        "papermill": {
          "duration": 0.097124,
          "end_time": "2020-11-16T15:46:59.106092",
          "exception": false,
          "start_time": "2020-11-16T15:46:59.008968",
          "status": "completed"
        },
        "tags": [],
        "id": "cqOq_eBpT7CQ"
      },
      "source": [
        "train_csv = pd.read_csv('titanic_train.csv')\n",
        "titanic_df = pd.DataFrame(train_csv)\n",
        "test_csv = pd.read_csv('titanic_test.csv')\n",
        "test = pd.DataFrame(test_csv)"
      ],
      "execution_count": null,
      "outputs": []
    },
    {
      "cell_type": "markdown",
      "metadata": {
        "papermill": {
          "duration": 0.067795,
          "end_time": "2020-11-16T15:46:59.243211",
          "exception": false,
          "start_time": "2020-11-16T15:46:59.175416",
          "status": "completed"
        },
        "tags": [],
        "id": "edUUTadpT7CS"
      },
      "source": [
        "## Explore The Data\n",
        "\n",
        "First of all, let's see the keys."
      ]
    },
    {
      "cell_type": "code",
      "metadata": {
        "execution": {
          "iopub.execute_input": "2020-11-16T15:46:59.388795Z",
          "iopub.status.busy": "2020-11-16T15:46:59.387891Z",
          "iopub.status.idle": "2020-11-16T15:46:59.391917Z",
          "shell.execute_reply": "2020-11-16T15:46:59.392499Z"
        },
        "papermill": {
          "duration": 0.081023,
          "end_time": "2020-11-16T15:46:59.392647",
          "exception": false,
          "start_time": "2020-11-16T15:46:59.311624",
          "status": "completed"
        },
        "tags": [],
        "id": "Ej_y2dxaT7CT",
        "colab": {
          "base_uri": "https://localhost:8080/",
          "height": 70
        },
        "outputId": "2be788ed-949e-4db9-f897-7ec27cdc7b36"
      },
      "source": [
        "display(titanic_df.keys())"
      ],
      "execution_count": null,
      "outputs": [
        {
          "output_type": "display_data",
          "data": {
            "text/plain": [
              "Index(['PassengerId', 'Survived', 'Pclass', 'Name', 'Sex', 'Age', 'SibSp',\n",
              "       'Parch', 'Ticket', 'Fare', 'Cabin', 'Embarked'],\n",
              "      dtype='object')"
            ]
          },
          "metadata": {
            "tags": []
          }
        }
      ]
    },
    {
      "cell_type": "markdown",
      "metadata": {
        "papermill": {
          "duration": 0.068513,
          "end_time": "2020-11-16T15:46:59.530602",
          "exception": false,
          "start_time": "2020-11-16T15:46:59.462089",
          "status": "completed"
        },
        "tags": [],
        "id": "DlVJoTrsT7CU"
      },
      "source": [
        "Understanding the keys meaning:\n",
        "* `PassengareId` - Id of the passenger .\n",
        "* `Survived` - Whether the passenger survives or not.\n",
        "* `Pclass` - The ticket class (SES)\n",
        "* `Name` - Name of the passenger.\n",
        "* `Sex` - Gender of the passenger.\n",
        "* `Age` - Age of the passenger.\n",
        "* `SibSp` - Number of siblings and spouse.\n",
        "* `Parch` - Number of parents and children.\n",
        "* `Ticket` - Ticket number.\n",
        "* `Fare` - How much the passenger paid.\n",
        "* `Cabin` - Cabin of the passenger.\n",
        "* `Embarked` - Which port the passenger borded."
      ]
    },
    {
      "cell_type": "markdown",
      "metadata": {
        "papermill": {
          "duration": 0.081868,
          "end_time": "2020-11-16T15:46:59.684092",
          "exception": false,
          "start_time": "2020-11-16T15:46:59.602224",
          "status": "completed"
        },
        "tags": [],
        "id": "ZrDd-MvAT7CV"
      },
      "source": [
        "### Variable Analysis\n",
        "* Categorical Variables: Survived, Sex, Cabin and Embarked.\n",
        "* Ordinal Variables: Pclass, SubSp and Parch\n",
        "* Numerical Variables: Age and Fare."
      ]
    },
    {
      "cell_type": "markdown",
      "metadata": {
        "papermill": {
          "duration": 0.068933,
          "end_time": "2020-11-16T15:46:59.830884",
          "exception": false,
          "start_time": "2020-11-16T15:46:59.761951",
          "status": "completed"
        },
        "tags": [],
        "id": "w1Tx8AkJT7CW"
      },
      "source": [
        "Now let's observe the data and it's structure.\n",
        "It contains 891 rows with 11 features and the target which means if a passenger survived or not."
      ]
    },
    {
      "cell_type": "code",
      "metadata": {
        "execution": {
          "iopub.execute_input": "2020-11-16T15:47:00.011701Z",
          "iopub.status.busy": "2020-11-16T15:46:59.994058Z",
          "iopub.status.idle": "2020-11-16T15:47:00.039128Z",
          "shell.execute_reply": "2020-11-16T15:47:00.039780Z"
        },
        "papermill": {
          "duration": 0.138795,
          "end_time": "2020-11-16T15:47:00.039936",
          "exception": false,
          "start_time": "2020-11-16T15:46:59.901141",
          "status": "completed"
        },
        "tags": [],
        "id": "ebFfpm8QT7CW",
        "colab": {
          "base_uri": "https://localhost:8080/",
          "height": 736
        },
        "outputId": "0a113d2c-447c-48e6-8dd0-c224be11dc23"
      },
      "source": [
        "survived = titanic_df[\"Survived\"]\n",
        "titanic_df = titanic_df.drop(\"Survived\", axis=1)\n",
        "titanic_df.insert(0, \"Survived\", survived)\n",
        "display(titanic_df)\n",
        "titanic_df.info()"
      ],
      "execution_count": null,
      "outputs": [
        {
          "output_type": "display_data",
          "data": {
            "text/html": [
              "<div>\n",
              "<style scoped>\n",
              "    .dataframe tbody tr th:only-of-type {\n",
              "        vertical-align: middle;\n",
              "    }\n",
              "\n",
              "    .dataframe tbody tr th {\n",
              "        vertical-align: top;\n",
              "    }\n",
              "\n",
              "    .dataframe thead th {\n",
              "        text-align: right;\n",
              "    }\n",
              "</style>\n",
              "<table border=\"1\" class=\"dataframe\">\n",
              "  <thead>\n",
              "    <tr style=\"text-align: right;\">\n",
              "      <th></th>\n",
              "      <th>Survived</th>\n",
              "      <th>PassengerId</th>\n",
              "      <th>Pclass</th>\n",
              "      <th>Name</th>\n",
              "      <th>Sex</th>\n",
              "      <th>Age</th>\n",
              "      <th>SibSp</th>\n",
              "      <th>Parch</th>\n",
              "      <th>Ticket</th>\n",
              "      <th>Fare</th>\n",
              "      <th>Cabin</th>\n",
              "      <th>Embarked</th>\n",
              "    </tr>\n",
              "  </thead>\n",
              "  <tbody>\n",
              "    <tr>\n",
              "      <th>0</th>\n",
              "      <td>0</td>\n",
              "      <td>1</td>\n",
              "      <td>3</td>\n",
              "      <td>Braund, Mr. Owen Harris</td>\n",
              "      <td>male</td>\n",
              "      <td>22.0</td>\n",
              "      <td>1</td>\n",
              "      <td>0</td>\n",
              "      <td>A/5 21171</td>\n",
              "      <td>7.2500</td>\n",
              "      <td>NaN</td>\n",
              "      <td>S</td>\n",
              "    </tr>\n",
              "    <tr>\n",
              "      <th>1</th>\n",
              "      <td>1</td>\n",
              "      <td>2</td>\n",
              "      <td>1</td>\n",
              "      <td>Cumings, Mrs. John Bradley (Florence Briggs Th...</td>\n",
              "      <td>female</td>\n",
              "      <td>38.0</td>\n",
              "      <td>1</td>\n",
              "      <td>0</td>\n",
              "      <td>PC 17599</td>\n",
              "      <td>71.2833</td>\n",
              "      <td>C85</td>\n",
              "      <td>C</td>\n",
              "    </tr>\n",
              "    <tr>\n",
              "      <th>2</th>\n",
              "      <td>1</td>\n",
              "      <td>3</td>\n",
              "      <td>3</td>\n",
              "      <td>Heikkinen, Miss. Laina</td>\n",
              "      <td>female</td>\n",
              "      <td>26.0</td>\n",
              "      <td>0</td>\n",
              "      <td>0</td>\n",
              "      <td>STON/O2. 3101282</td>\n",
              "      <td>7.9250</td>\n",
              "      <td>NaN</td>\n",
              "      <td>S</td>\n",
              "    </tr>\n",
              "    <tr>\n",
              "      <th>3</th>\n",
              "      <td>1</td>\n",
              "      <td>4</td>\n",
              "      <td>1</td>\n",
              "      <td>Futrelle, Mrs. Jacques Heath (Lily May Peel)</td>\n",
              "      <td>female</td>\n",
              "      <td>35.0</td>\n",
              "      <td>1</td>\n",
              "      <td>0</td>\n",
              "      <td>113803</td>\n",
              "      <td>53.1000</td>\n",
              "      <td>C123</td>\n",
              "      <td>S</td>\n",
              "    </tr>\n",
              "    <tr>\n",
              "      <th>4</th>\n",
              "      <td>0</td>\n",
              "      <td>5</td>\n",
              "      <td>3</td>\n",
              "      <td>Allen, Mr. William Henry</td>\n",
              "      <td>male</td>\n",
              "      <td>35.0</td>\n",
              "      <td>0</td>\n",
              "      <td>0</td>\n",
              "      <td>373450</td>\n",
              "      <td>8.0500</td>\n",
              "      <td>NaN</td>\n",
              "      <td>S</td>\n",
              "    </tr>\n",
              "    <tr>\n",
              "      <th>...</th>\n",
              "      <td>...</td>\n",
              "      <td>...</td>\n",
              "      <td>...</td>\n",
              "      <td>...</td>\n",
              "      <td>...</td>\n",
              "      <td>...</td>\n",
              "      <td>...</td>\n",
              "      <td>...</td>\n",
              "      <td>...</td>\n",
              "      <td>...</td>\n",
              "      <td>...</td>\n",
              "      <td>...</td>\n",
              "    </tr>\n",
              "    <tr>\n",
              "      <th>886</th>\n",
              "      <td>0</td>\n",
              "      <td>887</td>\n",
              "      <td>2</td>\n",
              "      <td>Montvila, Rev. Juozas</td>\n",
              "      <td>male</td>\n",
              "      <td>27.0</td>\n",
              "      <td>0</td>\n",
              "      <td>0</td>\n",
              "      <td>211536</td>\n",
              "      <td>13.0000</td>\n",
              "      <td>NaN</td>\n",
              "      <td>S</td>\n",
              "    </tr>\n",
              "    <tr>\n",
              "      <th>887</th>\n",
              "      <td>1</td>\n",
              "      <td>888</td>\n",
              "      <td>1</td>\n",
              "      <td>Graham, Miss. Margaret Edith</td>\n",
              "      <td>female</td>\n",
              "      <td>19.0</td>\n",
              "      <td>0</td>\n",
              "      <td>0</td>\n",
              "      <td>112053</td>\n",
              "      <td>30.0000</td>\n",
              "      <td>B42</td>\n",
              "      <td>S</td>\n",
              "    </tr>\n",
              "    <tr>\n",
              "      <th>888</th>\n",
              "      <td>0</td>\n",
              "      <td>889</td>\n",
              "      <td>3</td>\n",
              "      <td>Johnston, Miss. Catherine Helen \"Carrie\"</td>\n",
              "      <td>female</td>\n",
              "      <td>NaN</td>\n",
              "      <td>1</td>\n",
              "      <td>2</td>\n",
              "      <td>W./C. 6607</td>\n",
              "      <td>23.4500</td>\n",
              "      <td>NaN</td>\n",
              "      <td>S</td>\n",
              "    </tr>\n",
              "    <tr>\n",
              "      <th>889</th>\n",
              "      <td>1</td>\n",
              "      <td>890</td>\n",
              "      <td>1</td>\n",
              "      <td>Behr, Mr. Karl Howell</td>\n",
              "      <td>male</td>\n",
              "      <td>26.0</td>\n",
              "      <td>0</td>\n",
              "      <td>0</td>\n",
              "      <td>111369</td>\n",
              "      <td>30.0000</td>\n",
              "      <td>C148</td>\n",
              "      <td>C</td>\n",
              "    </tr>\n",
              "    <tr>\n",
              "      <th>890</th>\n",
              "      <td>0</td>\n",
              "      <td>891</td>\n",
              "      <td>3</td>\n",
              "      <td>Dooley, Mr. Patrick</td>\n",
              "      <td>male</td>\n",
              "      <td>32.0</td>\n",
              "      <td>0</td>\n",
              "      <td>0</td>\n",
              "      <td>370376</td>\n",
              "      <td>7.7500</td>\n",
              "      <td>NaN</td>\n",
              "      <td>Q</td>\n",
              "    </tr>\n",
              "  </tbody>\n",
              "</table>\n",
              "<p>891 rows × 12 columns</p>\n",
              "</div>"
            ],
            "text/plain": [
              "     Survived  PassengerId  Pclass  ...     Fare Cabin  Embarked\n",
              "0           0            1       3  ...   7.2500   NaN         S\n",
              "1           1            2       1  ...  71.2833   C85         C\n",
              "2           1            3       3  ...   7.9250   NaN         S\n",
              "3           1            4       1  ...  53.1000  C123         S\n",
              "4           0            5       3  ...   8.0500   NaN         S\n",
              "..        ...          ...     ...  ...      ...   ...       ...\n",
              "886         0          887       2  ...  13.0000   NaN         S\n",
              "887         1          888       1  ...  30.0000   B42         S\n",
              "888         0          889       3  ...  23.4500   NaN         S\n",
              "889         1          890       1  ...  30.0000  C148         C\n",
              "890         0          891       3  ...   7.7500   NaN         Q\n",
              "\n",
              "[891 rows x 12 columns]"
            ]
          },
          "metadata": {
            "tags": []
          }
        },
        {
          "output_type": "stream",
          "text": [
            "<class 'pandas.core.frame.DataFrame'>\n",
            "RangeIndex: 891 entries, 0 to 890\n",
            "Data columns (total 12 columns):\n",
            " #   Column       Non-Null Count  Dtype  \n",
            "---  ------       --------------  -----  \n",
            " 0   Survived     891 non-null    int64  \n",
            " 1   PassengerId  891 non-null    int64  \n",
            " 2   Pclass       891 non-null    int64  \n",
            " 3   Name         891 non-null    object \n",
            " 4   Sex          891 non-null    object \n",
            " 5   Age          714 non-null    float64\n",
            " 6   SibSp        891 non-null    int64  \n",
            " 7   Parch        891 non-null    int64  \n",
            " 8   Ticket       891 non-null    object \n",
            " 9   Fare         891 non-null    float64\n",
            " 10  Cabin        204 non-null    object \n",
            " 11  Embarked     889 non-null    object \n",
            "dtypes: float64(2), int64(5), object(5)\n",
            "memory usage: 83.7+ KB\n"
          ],
          "name": "stdout"
        }
      ]
    },
    {
      "cell_type": "markdown",
      "metadata": {
        "papermill": {
          "duration": 0.070875,
          "end_time": "2020-11-16T15:47:00.181812",
          "exception": false,
          "start_time": "2020-11-16T15:47:00.110937",
          "status": "completed"
        },
        "tags": [],
        "id": "Dk2fkXilT7CX"
      },
      "source": [
        "### Handle Non-Numerical Variables and Missing Values\n"
      ]
    },
    {
      "cell_type": "code",
      "metadata": {
        "execution": {
          "iopub.execute_input": "2020-11-16T15:47:00.334013Z",
          "iopub.status.busy": "2020-11-16T15:47:00.333141Z",
          "iopub.status.idle": "2020-11-16T15:47:00.337873Z",
          "shell.execute_reply": "2020-11-16T15:47:00.337205Z"
        },
        "papermill": {
          "duration": 0.085066,
          "end_time": "2020-11-16T15:47:00.337998",
          "exception": false,
          "start_time": "2020-11-16T15:47:00.252932",
          "status": "completed"
        },
        "tags": [],
        "id": "_m7nzcZDT7CX",
        "colab": {
          "base_uri": "https://localhost:8080/"
        },
        "outputId": "4476284d-ceac-46e5-b120-d27b0f9e12c2"
      },
      "source": [
        "titanic_df.isna().sum()"
      ],
      "execution_count": null,
      "outputs": [
        {
          "output_type": "execute_result",
          "data": {
            "text/plain": [
              "Survived         0\n",
              "PassengerId      0\n",
              "Pclass           0\n",
              "Name             0\n",
              "Sex              0\n",
              "Age            177\n",
              "SibSp            0\n",
              "Parch            0\n",
              "Ticket           0\n",
              "Fare             0\n",
              "Cabin          687\n",
              "Embarked         2\n",
              "dtype: int64"
            ]
          },
          "metadata": {
            "tags": []
          },
          "execution_count": 6
        }
      ]
    },
    {
      "cell_type": "markdown",
      "metadata": {
        "papermill": {
          "duration": 0.071661,
          "end_time": "2020-11-16T15:47:00.489127",
          "exception": false,
          "start_time": "2020-11-16T15:47:00.417466",
          "status": "completed"
        },
        "tags": [],
        "id": "4AMRr61_T7CY"
      },
      "source": [
        "#### Name Variable:\n",
        "The name seem to be irrelevent to the chance of a passenger to survive, but we can use it to extract a passenger's title into a `Title` categorical variable.\n",
        "First let's see all the different titles the passengers have."
      ]
    },
    {
      "cell_type": "code",
      "metadata": {
        "execution": {
          "iopub.execute_input": "2020-11-16T15:47:00.652732Z",
          "iopub.status.busy": "2020-11-16T15:47:00.646923Z",
          "iopub.status.idle": "2020-11-16T15:47:00.695742Z",
          "shell.execute_reply": "2020-11-16T15:47:00.694970Z"
        },
        "papermill": {
          "duration": 0.134067,
          "end_time": "2020-11-16T15:47:00.695867",
          "exception": false,
          "start_time": "2020-11-16T15:47:00.561800",
          "status": "completed"
        },
        "tags": [],
        "id": "9_IKpBQsT7CY",
        "colab": {
          "base_uri": "https://localhost:8080/",
          "height": 580
        },
        "outputId": "925bdff7-4cf4-4b0b-df2e-33175340fc84"
      },
      "source": [
        "titanic_df[\"Title\"] = titanic_df[\"Name\"].str.extract(' ([A-Za-z]+)\\.', expand=False)\n",
        "pd.crosstab(titanic_df[\"Title\"], titanic_df[\"Sex\"])"
      ],
      "execution_count": null,
      "outputs": [
        {
          "output_type": "execute_result",
          "data": {
            "text/html": [
              "<div>\n",
              "<style scoped>\n",
              "    .dataframe tbody tr th:only-of-type {\n",
              "        vertical-align: middle;\n",
              "    }\n",
              "\n",
              "    .dataframe tbody tr th {\n",
              "        vertical-align: top;\n",
              "    }\n",
              "\n",
              "    .dataframe thead th {\n",
              "        text-align: right;\n",
              "    }\n",
              "</style>\n",
              "<table border=\"1\" class=\"dataframe\">\n",
              "  <thead>\n",
              "    <tr style=\"text-align: right;\">\n",
              "      <th>Sex</th>\n",
              "      <th>female</th>\n",
              "      <th>male</th>\n",
              "    </tr>\n",
              "    <tr>\n",
              "      <th>Title</th>\n",
              "      <th></th>\n",
              "      <th></th>\n",
              "    </tr>\n",
              "  </thead>\n",
              "  <tbody>\n",
              "    <tr>\n",
              "      <th>Capt</th>\n",
              "      <td>0</td>\n",
              "      <td>1</td>\n",
              "    </tr>\n",
              "    <tr>\n",
              "      <th>Col</th>\n",
              "      <td>0</td>\n",
              "      <td>2</td>\n",
              "    </tr>\n",
              "    <tr>\n",
              "      <th>Countess</th>\n",
              "      <td>1</td>\n",
              "      <td>0</td>\n",
              "    </tr>\n",
              "    <tr>\n",
              "      <th>Don</th>\n",
              "      <td>0</td>\n",
              "      <td>1</td>\n",
              "    </tr>\n",
              "    <tr>\n",
              "      <th>Dr</th>\n",
              "      <td>1</td>\n",
              "      <td>6</td>\n",
              "    </tr>\n",
              "    <tr>\n",
              "      <th>Jonkheer</th>\n",
              "      <td>0</td>\n",
              "      <td>1</td>\n",
              "    </tr>\n",
              "    <tr>\n",
              "      <th>Lady</th>\n",
              "      <td>1</td>\n",
              "      <td>0</td>\n",
              "    </tr>\n",
              "    <tr>\n",
              "      <th>Major</th>\n",
              "      <td>0</td>\n",
              "      <td>2</td>\n",
              "    </tr>\n",
              "    <tr>\n",
              "      <th>Master</th>\n",
              "      <td>0</td>\n",
              "      <td>40</td>\n",
              "    </tr>\n",
              "    <tr>\n",
              "      <th>Miss</th>\n",
              "      <td>182</td>\n",
              "      <td>0</td>\n",
              "    </tr>\n",
              "    <tr>\n",
              "      <th>Mlle</th>\n",
              "      <td>2</td>\n",
              "      <td>0</td>\n",
              "    </tr>\n",
              "    <tr>\n",
              "      <th>Mme</th>\n",
              "      <td>1</td>\n",
              "      <td>0</td>\n",
              "    </tr>\n",
              "    <tr>\n",
              "      <th>Mr</th>\n",
              "      <td>0</td>\n",
              "      <td>517</td>\n",
              "    </tr>\n",
              "    <tr>\n",
              "      <th>Mrs</th>\n",
              "      <td>125</td>\n",
              "      <td>0</td>\n",
              "    </tr>\n",
              "    <tr>\n",
              "      <th>Ms</th>\n",
              "      <td>1</td>\n",
              "      <td>0</td>\n",
              "    </tr>\n",
              "    <tr>\n",
              "      <th>Rev</th>\n",
              "      <td>0</td>\n",
              "      <td>6</td>\n",
              "    </tr>\n",
              "    <tr>\n",
              "      <th>Sir</th>\n",
              "      <td>0</td>\n",
              "      <td>1</td>\n",
              "    </tr>\n",
              "  </tbody>\n",
              "</table>\n",
              "</div>"
            ],
            "text/plain": [
              "Sex       female  male\n",
              "Title                 \n",
              "Capt           0     1\n",
              "Col            0     2\n",
              "Countess       1     0\n",
              "Don            0     1\n",
              "Dr             1     6\n",
              "Jonkheer       0     1\n",
              "Lady           1     0\n",
              "Major          0     2\n",
              "Master         0    40\n",
              "Miss         182     0\n",
              "Mlle           2     0\n",
              "Mme            1     0\n",
              "Mr             0   517\n",
              "Mrs          125     0\n",
              "Ms             1     0\n",
              "Rev            0     6\n",
              "Sir            0     1"
            ]
          },
          "metadata": {
            "tags": []
          },
          "execution_count": 7
        }
      ]
    },
    {
      "cell_type": "code",
      "metadata": {
        "execution": {
          "iopub.execute_input": "2020-11-16T15:47:00.850980Z",
          "iopub.status.busy": "2020-11-16T15:47:00.849852Z",
          "iopub.status.idle": "2020-11-16T15:47:01.043343Z",
          "shell.execute_reply": "2020-11-16T15:47:01.042732Z"
        },
        "papermill": {
          "duration": 0.274303,
          "end_time": "2020-11-16T15:47:01.043477",
          "exception": false,
          "start_time": "2020-11-16T15:47:00.769174",
          "status": "completed"
        },
        "tags": [],
        "id": "ClSGVJGET7CZ",
        "colab": {
          "base_uri": "https://localhost:8080/",
          "height": 98
        },
        "outputId": "a61d2155-22c1-451f-a4f1-c57c2ed84831"
      },
      "source": [
        "pd.crosstab(titanic_df.Title ,titanic_df.Sex).T.style.background_gradient() #Checking the Initials with the Sex"
      ],
      "execution_count": null,
      "outputs": [
        {
          "output_type": "execute_result",
          "data": {
            "text/html": [
              "<style  type=\"text/css\" >\n",
              "#T_11f29ed6_4d10_11eb_a158_0242ac1c0002row0_col0,#T_11f29ed6_4d10_11eb_a158_0242ac1c0002row0_col1,#T_11f29ed6_4d10_11eb_a158_0242ac1c0002row0_col3,#T_11f29ed6_4d10_11eb_a158_0242ac1c0002row0_col4,#T_11f29ed6_4d10_11eb_a158_0242ac1c0002row0_col5,#T_11f29ed6_4d10_11eb_a158_0242ac1c0002row0_col7,#T_11f29ed6_4d10_11eb_a158_0242ac1c0002row0_col8,#T_11f29ed6_4d10_11eb_a158_0242ac1c0002row0_col12,#T_11f29ed6_4d10_11eb_a158_0242ac1c0002row0_col15,#T_11f29ed6_4d10_11eb_a158_0242ac1c0002row0_col16,#T_11f29ed6_4d10_11eb_a158_0242ac1c0002row1_col2,#T_11f29ed6_4d10_11eb_a158_0242ac1c0002row1_col6,#T_11f29ed6_4d10_11eb_a158_0242ac1c0002row1_col9,#T_11f29ed6_4d10_11eb_a158_0242ac1c0002row1_col10,#T_11f29ed6_4d10_11eb_a158_0242ac1c0002row1_col11,#T_11f29ed6_4d10_11eb_a158_0242ac1c0002row1_col13,#T_11f29ed6_4d10_11eb_a158_0242ac1c0002row1_col14{\n",
              "            background-color:  #fff7fb;\n",
              "            color:  #000000;\n",
              "        }#T_11f29ed6_4d10_11eb_a158_0242ac1c0002row0_col2,#T_11f29ed6_4d10_11eb_a158_0242ac1c0002row0_col6,#T_11f29ed6_4d10_11eb_a158_0242ac1c0002row0_col9,#T_11f29ed6_4d10_11eb_a158_0242ac1c0002row0_col10,#T_11f29ed6_4d10_11eb_a158_0242ac1c0002row0_col11,#T_11f29ed6_4d10_11eb_a158_0242ac1c0002row0_col13,#T_11f29ed6_4d10_11eb_a158_0242ac1c0002row0_col14,#T_11f29ed6_4d10_11eb_a158_0242ac1c0002row1_col0,#T_11f29ed6_4d10_11eb_a158_0242ac1c0002row1_col1,#T_11f29ed6_4d10_11eb_a158_0242ac1c0002row1_col3,#T_11f29ed6_4d10_11eb_a158_0242ac1c0002row1_col4,#T_11f29ed6_4d10_11eb_a158_0242ac1c0002row1_col5,#T_11f29ed6_4d10_11eb_a158_0242ac1c0002row1_col7,#T_11f29ed6_4d10_11eb_a158_0242ac1c0002row1_col8,#T_11f29ed6_4d10_11eb_a158_0242ac1c0002row1_col12,#T_11f29ed6_4d10_11eb_a158_0242ac1c0002row1_col15,#T_11f29ed6_4d10_11eb_a158_0242ac1c0002row1_col16{\n",
              "            background-color:  #023858;\n",
              "            color:  #f1f1f1;\n",
              "        }</style><table id=\"T_11f29ed6_4d10_11eb_a158_0242ac1c0002\" ><thead>    <tr>        <th class=\"index_name level0\" >Title</th>        <th class=\"col_heading level0 col0\" >Capt</th>        <th class=\"col_heading level0 col1\" >Col</th>        <th class=\"col_heading level0 col2\" >Countess</th>        <th class=\"col_heading level0 col3\" >Don</th>        <th class=\"col_heading level0 col4\" >Dr</th>        <th class=\"col_heading level0 col5\" >Jonkheer</th>        <th class=\"col_heading level0 col6\" >Lady</th>        <th class=\"col_heading level0 col7\" >Major</th>        <th class=\"col_heading level0 col8\" >Master</th>        <th class=\"col_heading level0 col9\" >Miss</th>        <th class=\"col_heading level0 col10\" >Mlle</th>        <th class=\"col_heading level0 col11\" >Mme</th>        <th class=\"col_heading level0 col12\" >Mr</th>        <th class=\"col_heading level0 col13\" >Mrs</th>        <th class=\"col_heading level0 col14\" >Ms</th>        <th class=\"col_heading level0 col15\" >Rev</th>        <th class=\"col_heading level0 col16\" >Sir</th>    </tr>    <tr>        <th class=\"index_name level0\" >Sex</th>        <th class=\"blank\" ></th>        <th class=\"blank\" ></th>        <th class=\"blank\" ></th>        <th class=\"blank\" ></th>        <th class=\"blank\" ></th>        <th class=\"blank\" ></th>        <th class=\"blank\" ></th>        <th class=\"blank\" ></th>        <th class=\"blank\" ></th>        <th class=\"blank\" ></th>        <th class=\"blank\" ></th>        <th class=\"blank\" ></th>        <th class=\"blank\" ></th>        <th class=\"blank\" ></th>        <th class=\"blank\" ></th>        <th class=\"blank\" ></th>        <th class=\"blank\" ></th>    </tr></thead><tbody>\n",
              "                <tr>\n",
              "                        <th id=\"T_11f29ed6_4d10_11eb_a158_0242ac1c0002level0_row0\" class=\"row_heading level0 row0\" >female</th>\n",
              "                        <td id=\"T_11f29ed6_4d10_11eb_a158_0242ac1c0002row0_col0\" class=\"data row0 col0\" >0</td>\n",
              "                        <td id=\"T_11f29ed6_4d10_11eb_a158_0242ac1c0002row0_col1\" class=\"data row0 col1\" >0</td>\n",
              "                        <td id=\"T_11f29ed6_4d10_11eb_a158_0242ac1c0002row0_col2\" class=\"data row0 col2\" >1</td>\n",
              "                        <td id=\"T_11f29ed6_4d10_11eb_a158_0242ac1c0002row0_col3\" class=\"data row0 col3\" >0</td>\n",
              "                        <td id=\"T_11f29ed6_4d10_11eb_a158_0242ac1c0002row0_col4\" class=\"data row0 col4\" >1</td>\n",
              "                        <td id=\"T_11f29ed6_4d10_11eb_a158_0242ac1c0002row0_col5\" class=\"data row0 col5\" >0</td>\n",
              "                        <td id=\"T_11f29ed6_4d10_11eb_a158_0242ac1c0002row0_col6\" class=\"data row0 col6\" >1</td>\n",
              "                        <td id=\"T_11f29ed6_4d10_11eb_a158_0242ac1c0002row0_col7\" class=\"data row0 col7\" >0</td>\n",
              "                        <td id=\"T_11f29ed6_4d10_11eb_a158_0242ac1c0002row0_col8\" class=\"data row0 col8\" >0</td>\n",
              "                        <td id=\"T_11f29ed6_4d10_11eb_a158_0242ac1c0002row0_col9\" class=\"data row0 col9\" >182</td>\n",
              "                        <td id=\"T_11f29ed6_4d10_11eb_a158_0242ac1c0002row0_col10\" class=\"data row0 col10\" >2</td>\n",
              "                        <td id=\"T_11f29ed6_4d10_11eb_a158_0242ac1c0002row0_col11\" class=\"data row0 col11\" >1</td>\n",
              "                        <td id=\"T_11f29ed6_4d10_11eb_a158_0242ac1c0002row0_col12\" class=\"data row0 col12\" >0</td>\n",
              "                        <td id=\"T_11f29ed6_4d10_11eb_a158_0242ac1c0002row0_col13\" class=\"data row0 col13\" >125</td>\n",
              "                        <td id=\"T_11f29ed6_4d10_11eb_a158_0242ac1c0002row0_col14\" class=\"data row0 col14\" >1</td>\n",
              "                        <td id=\"T_11f29ed6_4d10_11eb_a158_0242ac1c0002row0_col15\" class=\"data row0 col15\" >0</td>\n",
              "                        <td id=\"T_11f29ed6_4d10_11eb_a158_0242ac1c0002row0_col16\" class=\"data row0 col16\" >0</td>\n",
              "            </tr>\n",
              "            <tr>\n",
              "                        <th id=\"T_11f29ed6_4d10_11eb_a158_0242ac1c0002level0_row1\" class=\"row_heading level0 row1\" >male</th>\n",
              "                        <td id=\"T_11f29ed6_4d10_11eb_a158_0242ac1c0002row1_col0\" class=\"data row1 col0\" >1</td>\n",
              "                        <td id=\"T_11f29ed6_4d10_11eb_a158_0242ac1c0002row1_col1\" class=\"data row1 col1\" >2</td>\n",
              "                        <td id=\"T_11f29ed6_4d10_11eb_a158_0242ac1c0002row1_col2\" class=\"data row1 col2\" >0</td>\n",
              "                        <td id=\"T_11f29ed6_4d10_11eb_a158_0242ac1c0002row1_col3\" class=\"data row1 col3\" >1</td>\n",
              "                        <td id=\"T_11f29ed6_4d10_11eb_a158_0242ac1c0002row1_col4\" class=\"data row1 col4\" >6</td>\n",
              "                        <td id=\"T_11f29ed6_4d10_11eb_a158_0242ac1c0002row1_col5\" class=\"data row1 col5\" >1</td>\n",
              "                        <td id=\"T_11f29ed6_4d10_11eb_a158_0242ac1c0002row1_col6\" class=\"data row1 col6\" >0</td>\n",
              "                        <td id=\"T_11f29ed6_4d10_11eb_a158_0242ac1c0002row1_col7\" class=\"data row1 col7\" >2</td>\n",
              "                        <td id=\"T_11f29ed6_4d10_11eb_a158_0242ac1c0002row1_col8\" class=\"data row1 col8\" >40</td>\n",
              "                        <td id=\"T_11f29ed6_4d10_11eb_a158_0242ac1c0002row1_col9\" class=\"data row1 col9\" >0</td>\n",
              "                        <td id=\"T_11f29ed6_4d10_11eb_a158_0242ac1c0002row1_col10\" class=\"data row1 col10\" >0</td>\n",
              "                        <td id=\"T_11f29ed6_4d10_11eb_a158_0242ac1c0002row1_col11\" class=\"data row1 col11\" >0</td>\n",
              "                        <td id=\"T_11f29ed6_4d10_11eb_a158_0242ac1c0002row1_col12\" class=\"data row1 col12\" >517</td>\n",
              "                        <td id=\"T_11f29ed6_4d10_11eb_a158_0242ac1c0002row1_col13\" class=\"data row1 col13\" >0</td>\n",
              "                        <td id=\"T_11f29ed6_4d10_11eb_a158_0242ac1c0002row1_col14\" class=\"data row1 col14\" >0</td>\n",
              "                        <td id=\"T_11f29ed6_4d10_11eb_a158_0242ac1c0002row1_col15\" class=\"data row1 col15\" >6</td>\n",
              "                        <td id=\"T_11f29ed6_4d10_11eb_a158_0242ac1c0002row1_col16\" class=\"data row1 col16\" >1</td>\n",
              "            </tr>\n",
              "    </tbody></table>"
            ],
            "text/plain": [
              "<pandas.io.formats.style.Styler at 0x7fe12cbe2d68>"
            ]
          },
          "metadata": {
            "tags": []
          },
          "execution_count": 8
        }
      ]
    },
    {
      "cell_type": "markdown",
      "metadata": {
        "papermill": {
          "duration": 0.0728,
          "end_time": "2020-11-16T15:47:01.189565",
          "exception": false,
          "start_time": "2020-11-16T15:47:01.116765",
          "status": "completed"
        },
        "tags": [],
        "id": "HBZNIWCKT7Ca"
      },
      "source": [
        "There are a lot of titles, some of them can be combined.\n",
        "* Combine all the rates titles into `Rare`.\n",
        "* Combine the variante of `Miss`.\n",
        "* Combine the variante of `Msr`."
      ]
    },
    {
      "cell_type": "code",
      "metadata": {
        "execution": {
          "iopub.execute_input": "2020-11-16T15:47:01.354781Z",
          "iopub.status.busy": "2020-11-16T15:47:01.345131Z",
          "iopub.status.idle": "2020-11-16T15:47:01.387166Z",
          "shell.execute_reply": "2020-11-16T15:47:01.386571Z"
        },
        "papermill": {
          "duration": 0.124606,
          "end_time": "2020-11-16T15:47:01.387312",
          "exception": false,
          "start_time": "2020-11-16T15:47:01.262706",
          "status": "completed"
        },
        "tags": [],
        "id": "uVKP1gmKT7Cc",
        "colab": {
          "base_uri": "https://localhost:8080/"
        },
        "outputId": "81a84948-265c-45b2-b723-9b631c43eaba"
      },
      "source": [
        "titanic_df[\"Title\"] = titanic_df[\"Title\"].replace([\"Lady\", \"Countess\",\"Capt\", \"Col\",\\\n",
        " \t\"Don\", \"Dr\", \"Major\", \"Rev\", \"Sir\", \"Jonkheer\", \"Dona\"], \"Other\")\n",
        "\n",
        "titanic_df[\"Title\"] = titanic_df[\"Title\"].replace(\"Mlle\", \"Miss\")\n",
        "titanic_df[\"Title\"] = titanic_df[\"Title\"].replace(\"Ms\", \"Miss\")\n",
        "titanic_df[\"Title\"] = titanic_df[\"Title\"].replace(\"Mme\", \"Mrs\")\n",
        "\n",
        "pd.crosstab(titanic_df.Title ,titanic_df.Survived, values=titanic_df.Age, aggfunc='mean').T.style.background_gradient() #Checking the Initials with the Sex"
      ],
      "execution_count": null,
      "outputs": [
        {
          "output_type": "execute_result",
          "data": {
            "text/html": [
              "<style  type=\"text/css\" >\n",
              "#T_11fb6ca0_4d10_11eb_a158_0242ac1c0002row0_col0,#T_11fb6ca0_4d10_11eb_a158_0242ac1c0002row0_col3,#T_11fb6ca0_4d10_11eb_a158_0242ac1c0002row1_col1,#T_11fb6ca0_4d10_11eb_a158_0242ac1c0002row1_col2,#T_11fb6ca0_4d10_11eb_a158_0242ac1c0002row1_col4{\n",
              "            background-color:  #023858;\n",
              "            color:  #f1f1f1;\n",
              "        }#T_11fb6ca0_4d10_11eb_a158_0242ac1c0002row0_col1,#T_11fb6ca0_4d10_11eb_a158_0242ac1c0002row0_col2,#T_11fb6ca0_4d10_11eb_a158_0242ac1c0002row0_col4,#T_11fb6ca0_4d10_11eb_a158_0242ac1c0002row1_col0,#T_11fb6ca0_4d10_11eb_a158_0242ac1c0002row1_col3{\n",
              "            background-color:  #fff7fb;\n",
              "            color:  #000000;\n",
              "        }</style><table id=\"T_11fb6ca0_4d10_11eb_a158_0242ac1c0002\" ><thead>    <tr>        <th class=\"index_name level0\" >Title</th>        <th class=\"col_heading level0 col0\" >Master</th>        <th class=\"col_heading level0 col1\" >Miss</th>        <th class=\"col_heading level0 col2\" >Mr</th>        <th class=\"col_heading level0 col3\" >Mrs</th>        <th class=\"col_heading level0 col4\" >Other</th>    </tr>    <tr>        <th class=\"index_name level0\" >Survived</th>        <th class=\"blank\" ></th>        <th class=\"blank\" ></th>        <th class=\"blank\" ></th>        <th class=\"blank\" ></th>        <th class=\"blank\" ></th>    </tr></thead><tbody>\n",
              "                <tr>\n",
              "                        <th id=\"T_11fb6ca0_4d10_11eb_a158_0242ac1c0002level0_row0\" class=\"row_heading level0 row0\" >0</th>\n",
              "                        <td id=\"T_11fb6ca0_4d10_11eb_a158_0242ac1c0002row0_col0\" class=\"data row0 col0\" >5.400000</td>\n",
              "                        <td id=\"T_11fb6ca0_4d10_11eb_a158_0242ac1c0002row0_col1\" class=\"data row0 col1\" >18.853659</td>\n",
              "                        <td id=\"T_11fb6ca0_4d10_11eb_a158_0242ac1c0002row0_col2\" class=\"data row0 col2\" >32.231118</td>\n",
              "                        <td id=\"T_11fb6ca0_4d10_11eb_a158_0242ac1c0002row0_col3\" class=\"data row0 col3\" >36.086957</td>\n",
              "                        <td id=\"T_11fb6ca0_4d10_11eb_a158_0242ac1c0002row0_col4\" class=\"data row0 col4\" >45.214286</td>\n",
              "            </tr>\n",
              "            <tr>\n",
              "                        <th id=\"T_11fb6ca0_4d10_11eb_a158_0242ac1c0002level0_row1\" class=\"row_heading level0 row1\" >1</th>\n",
              "                        <td id=\"T_11fb6ca0_4d10_11eb_a158_0242ac1c0002row1_col0\" class=\"data row1 col0\" >3.984286</td>\n",
              "                        <td id=\"T_11fb6ca0_4d10_11eb_a158_0242ac1c0002row1_col1\" class=\"data row1 col1\" >22.981481</td>\n",
              "                        <td id=\"T_11fb6ca0_4d10_11eb_a158_0242ac1c0002row1_col2\" class=\"data row1 col2\" >33.044776</td>\n",
              "                        <td id=\"T_11fb6ca0_4d10_11eb_a158_0242ac1c0002row1_col3\" class=\"data row1 col3\" >35.709302</td>\n",
              "                        <td id=\"T_11fb6ca0_4d10_11eb_a158_0242ac1c0002row1_col4\" class=\"data row1 col4\" >46.125000</td>\n",
              "            </tr>\n",
              "    </tbody></table>"
            ],
            "text/plain": [
              "<pandas.io.formats.style.Styler at 0x7fe12cc606d8>"
            ]
          },
          "metadata": {
            "tags": []
          },
          "execution_count": 9
        }
      ]
    },
    {
      "cell_type": "code",
      "metadata": {
        "execution": {
          "iopub.execute_input": "2020-11-16T15:47:01.545336Z",
          "iopub.status.busy": "2020-11-16T15:47:01.544228Z",
          "iopub.status.idle": "2020-11-16T15:47:01.919262Z",
          "shell.execute_reply": "2020-11-16T15:47:01.918679Z"
        },
        "papermill": {
          "duration": 0.458332,
          "end_time": "2020-11-16T15:47:01.919411",
          "exception": false,
          "start_time": "2020-11-16T15:47:01.461079",
          "status": "completed"
        },
        "tags": [],
        "id": "__SwRLYWT7Cd",
        "colab": {
          "base_uri": "https://localhost:8080/"
        },
        "outputId": "893dda5b-fdf7-47a7-db49-a119f1573249"
      },
      "source": [
        "sns.barplot(x=\"Title\", y=\"Survived\", data=titanic_df)"
      ],
      "execution_count": null,
      "outputs": [
        {
          "output_type": "execute_result",
          "data": {
            "text/plain": [
              "<matplotlib.axes._subplots.AxesSubplot at 0x7fe12be184a8>"
            ]
          },
          "metadata": {
            "tags": []
          },
          "execution_count": 10
        },
        {
          "output_type": "display_data",
          "data": {
            "image/png": "[encoded data removed]",
            "text/plain": [
              "<Figure size 432x288 with 1 Axes>"
            ]
          },
          "metadata": {
            "tags": [],
            "needs_background": "light"
          }
        }
      ]
    },
    {
      "cell_type": "markdown",
      "metadata": {
        "papermill": {
          "duration": 0.075507,
          "end_time": "2020-11-16T15:47:02.072036",
          "exception": false,
          "start_time": "2020-11-16T15:47:01.996529",
          "status": "completed"
        },
        "tags": [],
        "id": "SVcqeqHIT7Cg"
      },
      "source": [
        "Now the `Title` variable can be converted into a categorical variable."
      ]
    },
    {
      "cell_type": "code",
      "metadata": {
        "execution": {
          "iopub.execute_input": "2020-11-16T15:47:02.244657Z",
          "iopub.status.busy": "2020-11-16T15:47:02.239965Z",
          "iopub.status.idle": "2020-11-16T15:47:02.249634Z",
          "shell.execute_reply": "2020-11-16T15:47:02.249035Z"
        },
        "papermill": {
          "duration": 0.101154,
          "end_time": "2020-11-16T15:47:02.249761",
          "exception": false,
          "start_time": "2020-11-16T15:47:02.148607",
          "status": "completed"
        },
        "tags": [],
        "id": "MuiwO77GT7Ch",
        "colab": {
          "base_uri": "https://localhost:8080/"
        },
        "outputId": "ad4b7655-414b-4b83-fbd0-27676a1adf9b"
      },
      "source": [
        "titanic_df[\"Title_cat\"] = titanic_df[\"Title\"].map({'Mr' : 0, 'Mrs' : 1, 'Miss' : 2, 'Master' : 3, 'Other' : 4})\n",
        "display(titanic_df[[\"Title\", \"Title_cat\"]])"
      ],
      "execution_count": null,
      "outputs": [
        {
          "output_type": "display_data",
          "data": {
            "text/html": [
              "<div>\n",
              "<style scoped>\n",
              "    .dataframe tbody tr th:only-of-type {\n",
              "        vertical-align: middle;\n",
              "    }\n",
              "\n",
              "    .dataframe tbody tr th {\n",
              "        vertical-align: top;\n",
              "    }\n",
              "\n",
              "    .dataframe thead th {\n",
              "        text-align: right;\n",
              "    }\n",
              "</style>\n",
              "<table border=\"1\" class=\"dataframe\">\n",
              "  <thead>\n",
              "    <tr style=\"text-align: right;\">\n",
              "      <th></th>\n",
              "      <th>Title</th>\n",
              "      <th>Title_cat</th>\n",
              "    </tr>\n",
              "  </thead>\n",
              "  <tbody>\n",
              "    <tr>\n",
              "      <th>0</th>\n",
              "      <td>Mr</td>\n",
              "      <td>0</td>\n",
              "    </tr>\n",
              "    <tr>\n",
              "      <th>1</th>\n",
              "      <td>Mrs</td>\n",
              "      <td>1</td>\n",
              "    </tr>\n",
              "    <tr>\n",
              "      <th>2</th>\n",
              "      <td>Miss</td>\n",
              "      <td>2</td>\n",
              "    </tr>\n",
              "    <tr>\n",
              "      <th>3</th>\n",
              "      <td>Mrs</td>\n",
              "      <td>1</td>\n",
              "    </tr>\n",
              "    <tr>\n",
              "      <th>4</th>\n",
              "      <td>Mr</td>\n",
              "      <td>0</td>\n",
              "    </tr>\n",
              "    <tr>\n",
              "      <th>...</th>\n",
              "      <td>...</td>\n",
              "      <td>...</td>\n",
              "    </tr>\n",
              "    <tr>\n",
              "      <th>886</th>\n",
              "      <td>Other</td>\n",
              "      <td>4</td>\n",
              "    </tr>\n",
              "    <tr>\n",
              "      <th>887</th>\n",
              "      <td>Miss</td>\n",
              "      <td>2</td>\n",
              "    </tr>\n",
              "    <tr>\n",
              "      <th>888</th>\n",
              "      <td>Miss</td>\n",
              "      <td>2</td>\n",
              "    </tr>\n",
              "    <tr>\n",
              "      <th>889</th>\n",
              "      <td>Mr</td>\n",
              "      <td>0</td>\n",
              "    </tr>\n",
              "    <tr>\n",
              "      <th>890</th>\n",
              "      <td>Mr</td>\n",
              "      <td>0</td>\n",
              "    </tr>\n",
              "  </tbody>\n",
              "</table>\n",
              "<p>891 rows × 2 columns</p>\n",
              "</div>"
            ],
            "text/plain": [
              "     Title  Title_cat\n",
              "0       Mr          0\n",
              "1      Mrs          1\n",
              "2     Miss          2\n",
              "3      Mrs          1\n",
              "4       Mr          0\n",
              "..     ...        ...\n",
              "886  Other          4\n",
              "887   Miss          2\n",
              "888   Miss          2\n",
              "889     Mr          0\n",
              "890     Mr          0\n",
              "\n",
              "[891 rows x 2 columns]"
            ]
          },
          "metadata": {
            "tags": []
          }
        }
      ]
    },
    {
      "cell_type": "code",
      "metadata": {
        "execution": {
          "iopub.execute_input": "2020-11-16T15:47:02.414377Z",
          "iopub.status.busy": "2020-11-16T15:47:02.413375Z",
          "iopub.status.idle": "2020-11-16T15:47:02.418603Z",
          "shell.execute_reply": "2020-11-16T15:47:02.417965Z"
        },
        "papermill": {
          "duration": 0.091752,
          "end_time": "2020-11-16T15:47:02.418734",
          "exception": false,
          "start_time": "2020-11-16T15:47:02.326982",
          "status": "completed"
        },
        "tags": [],
        "id": "xGK0PfL-T7Cj",
        "colab": {
          "base_uri": "https://localhost:8080/"
        },
        "outputId": "15bd62b7-6105-4e05-94c3-78625249e0b9"
      },
      "source": [
        "titanic_df[[\"Title\", \"Title_cat\"]].isna().any()"
      ],
      "execution_count": null,
      "outputs": [
        {
          "output_type": "execute_result",
          "data": {
            "text/plain": [
              "Title        False\n",
              "Title_cat    False\n",
              "dtype: bool"
            ]
          },
          "metadata": {
            "tags": []
          },
          "execution_count": 12
        }
      ]
    },
    {
      "cell_type": "markdown",
      "metadata": {
        "papermill": {
          "duration": 0.076635,
          "end_time": "2020-11-16T15:47:02.572611",
          "exception": false,
          "start_time": "2020-11-16T15:47:02.495976",
          "status": "completed"
        },
        "tags": [],
        "id": "bxgprbVLT7Ck"
      },
      "source": [
        "Now let's perform this manipulation on the test as well."
      ]
    },
    {
      "cell_type": "code",
      "metadata": {
        "execution": {
          "iopub.execute_input": "2020-11-16T15:47:02.844554Z",
          "iopub.status.busy": "2020-11-16T15:47:02.843600Z",
          "iopub.status.idle": "2020-11-16T15:47:02.848930Z",
          "shell.execute_reply": "2020-11-16T15:47:02.848303Z"
        },
        "papermill": {
          "duration": 0.199711,
          "end_time": "2020-11-16T15:47:02.849056",
          "exception": false,
          "start_time": "2020-11-16T15:47:02.649345",
          "status": "completed"
        },
        "tags": [],
        "id": "oyT-OcmvT7Ck",
        "colab": {
          "base_uri": "https://localhost:8080/"
        },
        "outputId": "a540e0da-de4a-42ae-9a22-07b54a114738"
      },
      "source": [
        "test[\"Title\"] = test[\"Name\"].str.extract(' ([A-Za-z]+)\\.', expand=False)\n",
        "\n",
        "test[\"Title\"] = test[\"Title\"].replace([\"Lady\", \"Countess\",\"Capt\", \"Col\",\\\n",
        " \t\"Don\", \"Dr\", \"Major\", \"Rev\", \"Sir\", \"Jonkheer\", \"Dona\"], \"Other\")\n",
        "\n",
        "test[\"Title\"] = test[\"Title\"].replace(\"Mlle\", \"Miss\")\n",
        "test[\"Title\"] = test[\"Title\"].replace(\"Ms\", \"Miss\")\n",
        "test[\"Title\"] = test[\"Title\"].replace(\"Mme\", \"Mrs\")\n",
        "\n",
        "test[\"Title_cat\"] = test[\"Title\"].map({'Mr' : 0, 'Mrs' : 1, 'Miss' : 2, 'Master' : 3, 'Other' : 4})\n",
        "\n",
        "test[\"Title_cat\"].isna().any()"
      ],
      "execution_count": null,
      "outputs": [
        {
          "output_type": "execute_result",
          "data": {
            "text/plain": [
              "False"
            ]
          },
          "metadata": {
            "tags": []
          },
          "execution_count": 13
        }
      ]
    },
    {
      "cell_type": "markdown",
      "metadata": {
        "papermill": {
          "duration": 0.078721,
          "end_time": "2020-11-16T15:47:03.006732",
          "exception": false,
          "start_time": "2020-11-16T15:47:02.928011",
          "status": "completed"
        },
        "tags": [],
        "id": "zWo7Gz9gT7Ck"
      },
      "source": [
        "#### Embarked Variable:\n",
        "`Embarked` indicates in which port a passenger boarded the Titanic.  \n",
        "It could be crutial to determine whether a passenger survived or not becuase it might indicate on a passenger's room location on the titanic."
      ]
    },
    {
      "cell_type": "code",
      "metadata": {
        "execution": {
          "iopub.execute_input": "2020-11-16T15:47:03.173268Z",
          "iopub.status.busy": "2020-11-16T15:47:03.172090Z",
          "iopub.status.idle": "2020-11-16T15:47:03.434750Z",
          "shell.execute_reply": "2020-11-16T15:47:03.435336Z"
        },
        "papermill": {
          "duration": 0.349539,
          "end_time": "2020-11-16T15:47:03.435514",
          "exception": false,
          "start_time": "2020-11-16T15:47:03.085975",
          "status": "completed"
        },
        "tags": [],
        "id": "EUvI0VvPT7Cl",
        "colab": {
          "base_uri": "https://localhost:8080/",
          "height": 297
        },
        "outputId": "ad4f6592-86b4-4290-b835-e75948a5349c"
      },
      "source": [
        "sns.barplot(x=\"Embarked\", y=\"Survived\", data=titanic_df)"
      ],
      "execution_count": null,
      "outputs": [
        {
          "output_type": "execute_result",
          "data": {
            "text/plain": [
              "<matplotlib.axes._subplots.AxesSubplot at 0x7fe12bcea7f0>"
            ]
          },
          "metadata": {
            "tags": []
          },
          "execution_count": 14
        },
        {
          "output_type": "display_data",
          "data": {
            "image/png": "[encoded data removed]",
            "text/plain": [
              "<Figure size 432x288 with 1 Axes>"
            ]
          },
          "metadata": {
            "tags": [],
            "needs_background": "light"
          }
        }
      ]
    },
    {
      "cell_type": "markdown",
      "metadata": {
        "papermill": {
          "duration": 0.078608,
          "end_time": "2020-11-16T15:47:03.593365",
          "exception": false,
          "start_time": "2020-11-16T15:47:03.514757",
          "status": "completed"
        },
        "tags": [],
        "id": "22Kilwl9T7Cl"
      },
      "source": [
        "It looks like there are some diffrences in surviving chances between the different `Embarked` locations.  \n",
        "There are only 3 unique values, it will be converted into 3 binary variables.\n",
        "But before we change the variavble into a numerical one, we need to fill the missing values, it can be filled with the most common value."
      ]
    },
    {
      "cell_type": "code",
      "metadata": {
        "execution": {
          "iopub.execute_input": "2020-11-16T15:47:03.769660Z",
          "iopub.status.busy": "2020-11-16T15:47:03.760649Z",
          "iopub.status.idle": "2020-11-16T15:47:03.788461Z",
          "shell.execute_reply": "2020-11-16T15:47:03.787706Z"
        },
        "papermill": {
          "duration": 0.11621,
          "end_time": "2020-11-16T15:47:03.788580",
          "exception": false,
          "start_time": "2020-11-16T15:47:03.672370",
          "status": "completed"
        },
        "tags": [],
        "id": "uIVJBOB0T7Cl",
        "colab": {
          "base_uri": "https://localhost:8080/",
          "height": 419
        },
        "outputId": "8c4eea54-2ff5-4d73-dc90-a8fc5e35de26"
      },
      "source": [
        "titanic_df[\"Embarked\"] = titanic_df[\"Embarked\"].fillna(titanic_df[\"Embarked\"].mode()[0])\n",
        "titanic_df[\"Embarked_s\"] = titanic_df[\"Embarked\"].map({ 'S' : 1, 'C' : 0, 'Q' : 0, np.nan : 0}).astype(int)\n",
        "titanic_df[\"Embarked_c\"] = titanic_df[\"Embarked\"].map({ 'S' : 0, 'C' : 1, 'Q' : 0, np.nan : 0}).astype(int)\n",
        "titanic_df[\"Embarked_q\"] = titanic_df[\"Embarked\"].map({ 'S' : 0, 'C' : 0, 'Q' : 1, np.nan : 0}).astype(int)\n",
        "\n",
        "display(titanic_df[[\"Embarked\", \"Embarked_s\", \"Embarked_c\", \"Embarked_q\"]])\n",
        "titanic_df[\"Embarked\"].isna().any()"
      ],
      "execution_count": null,
      "outputs": [
        {
          "output_type": "display_data",
          "data": {
            "text/html": [
              "<div>\n",
              "<style scoped>\n",
              "    .dataframe tbody tr th:only-of-type {\n",
              "        vertical-align: middle;\n",
              "    }\n",
              "\n",
              "    .dataframe tbody tr th {\n",
              "        vertical-align: top;\n",
              "    }\n",
              "\n",
              "    .dataframe thead th {\n",
              "        text-align: right;\n",
              "    }\n",
              "</style>\n",
              "<table border=\"1\" class=\"dataframe\">\n",
              "  <thead>\n",
              "    <tr style=\"text-align: right;\">\n",
              "      <th></th>\n",
              "      <th>Embarked</th>\n",
              "      <th>Embarked_s</th>\n",
              "      <th>Embarked_c</th>\n",
              "      <th>Embarked_q</th>\n",
              "    </tr>\n",
              "  </thead>\n",
              "  <tbody>\n",
              "    <tr>\n",
              "      <th>0</th>\n",
              "      <td>S</td>\n",
              "      <td>1</td>\n",
              "      <td>0</td>\n",
              "      <td>0</td>\n",
              "    </tr>\n",
              "    <tr>\n",
              "      <th>1</th>\n",
              "      <td>C</td>\n",
              "      <td>0</td>\n",
              "      <td>1</td>\n",
              "      <td>0</td>\n",
              "    </tr>\n",
              "    <tr>\n",
              "      <th>2</th>\n",
              "      <td>S</td>\n",
              "      <td>1</td>\n",
              "      <td>0</td>\n",
              "      <td>0</td>\n",
              "    </tr>\n",
              "    <tr>\n",
              "      <th>3</th>\n",
              "      <td>S</td>\n",
              "      <td>1</td>\n",
              "      <td>0</td>\n",
              "      <td>0</td>\n",
              "    </tr>\n",
              "    <tr>\n",
              "      <th>4</th>\n",
              "      <td>S</td>\n",
              "      <td>1</td>\n",
              "      <td>0</td>\n",
              "      <td>0</td>\n",
              "    </tr>\n",
              "    <tr>\n",
              "      <th>...</th>\n",
              "      <td>...</td>\n",
              "      <td>...</td>\n",
              "      <td>...</td>\n",
              "      <td>...</td>\n",
              "    </tr>\n",
              "    <tr>\n",
              "      <th>886</th>\n",
              "      <td>S</td>\n",
              "      <td>1</td>\n",
              "      <td>0</td>\n",
              "      <td>0</td>\n",
              "    </tr>\n",
              "    <tr>\n",
              "      <th>887</th>\n",
              "      <td>S</td>\n",
              "      <td>1</td>\n",
              "      <td>0</td>\n",
              "      <td>0</td>\n",
              "    </tr>\n",
              "    <tr>\n",
              "      <th>888</th>\n",
              "      <td>S</td>\n",
              "      <td>1</td>\n",
              "      <td>0</td>\n",
              "      <td>0</td>\n",
              "    </tr>\n",
              "    <tr>\n",
              "      <th>889</th>\n",
              "      <td>C</td>\n",
              "      <td>0</td>\n",
              "      <td>1</td>\n",
              "      <td>0</td>\n",
              "    </tr>\n",
              "    <tr>\n",
              "      <th>890</th>\n",
              "      <td>Q</td>\n",
              "      <td>0</td>\n",
              "      <td>0</td>\n",
              "      <td>1</td>\n",
              "    </tr>\n",
              "  </tbody>\n",
              "</table>\n",
              "<p>891 rows × 4 columns</p>\n",
              "</div>"
            ],
            "text/plain": [
              "    Embarked  Embarked_s  Embarked_c  Embarked_q\n",
              "0          S           1           0           0\n",
              "1          C           0           1           0\n",
              "2          S           1           0           0\n",
              "3          S           1           0           0\n",
              "4          S           1           0           0\n",
              "..       ...         ...         ...         ...\n",
              "886        S           1           0           0\n",
              "887        S           1           0           0\n",
              "888        S           1           0           0\n",
              "889        C           0           1           0\n",
              "890        Q           0           0           1\n",
              "\n",
              "[891 rows x 4 columns]"
            ]
          },
          "metadata": {
            "tags": []
          }
        },
        {
          "output_type": "execute_result",
          "data": {
            "text/plain": [
              "False"
            ]
          },
          "metadata": {
            "tags": []
          },
          "execution_count": 15
        }
      ]
    },
    {
      "cell_type": "markdown",
      "metadata": {
        "papermill": {
          "duration": 0.081352,
          "end_time": "2020-11-16T15:47:03.951429",
          "exception": false,
          "start_time": "2020-11-16T15:47:03.870077",
          "status": "completed"
        },
        "tags": [],
        "id": "HAh9G8G1T7Cm"
      },
      "source": [
        "The test dataset does not miss any `Embarked` values, let's just convert it to 3 binary variables as well."
      ]
    },
    {
      "cell_type": "code",
      "metadata": {
        "execution": {
          "iopub.execute_input": "2020-11-16T15:47:04.137023Z",
          "iopub.status.busy": "2020-11-16T15:47:04.132675Z",
          "iopub.status.idle": "2020-11-16T15:47:04.141920Z",
          "shell.execute_reply": "2020-11-16T15:47:04.141335Z"
        },
        "papermill": {
          "duration": 0.105067,
          "end_time": "2020-11-16T15:47:04.142049",
          "exception": false,
          "start_time": "2020-11-16T15:47:04.036982",
          "status": "completed"
        },
        "tags": [],
        "id": "5XW_NShVT7Cm",
        "colab": {
          "base_uri": "https://localhost:8080/"
        },
        "outputId": "a05037b7-abe7-4411-c446-62a49e03f9ba"
      },
      "source": [
        "test[\"Embarked_s\"] = test[\"Embarked\"].map({ 'S' : 1, 'C' : 0, 'Q' : 0, np.nan : 0}).astype(int)\n",
        "test[\"Embarked_c\"] = test[\"Embarked\"].map({ 'S' : 0, 'C' : 1, 'Q' : 0, np.nan : 0}).astype(int)\n",
        "test[\"Embarked_q\"] = test[\"Embarked\"].map({ 'S' : 0, 'C' : 0, 'Q' : 1, np.nan : 0}).astype(int)\n",
        "\n",
        "test[[\"Embarked_s\", \"Embarked_c\", \"Embarked_q\"]].isna().any()"
      ],
      "execution_count": null,
      "outputs": [
        {
          "output_type": "execute_result",
          "data": {
            "text/plain": [
              "Embarked_s    False\n",
              "Embarked_c    False\n",
              "Embarked_q    False\n",
              "dtype: bool"
            ]
          },
          "metadata": {
            "tags": []
          },
          "execution_count": 16
        }
      ]
    },
    {
      "cell_type": "markdown",
      "metadata": {
        "papermill": {
          "duration": 0.081373,
          "end_time": "2020-11-16T15:47:04.305060",
          "exception": false,
          "start_time": "2020-11-16T15:47:04.223687",
          "status": "completed"
        },
        "tags": [],
        "id": "I3Tzi7zpT7Cp"
      },
      "source": [
        "#### Sex Variable:\n",
        "The gender of a passenger might have a strong connection to surviving chances because rescures might help first to women.\n"
      ]
    },
    {
      "cell_type": "code",
      "metadata": {
        "execution": {
          "iopub.execute_input": "2020-11-16T15:47:04.477686Z",
          "iopub.status.busy": "2020-11-16T15:47:04.476858Z",
          "iopub.status.idle": "2020-11-16T15:47:04.692445Z",
          "shell.execute_reply": "2020-11-16T15:47:04.691832Z"
        },
        "papermill": {
          "duration": 0.305458,
          "end_time": "2020-11-16T15:47:04.692574",
          "exception": false,
          "start_time": "2020-11-16T15:47:04.387116",
          "status": "completed"
        },
        "tags": [],
        "id": "9vAtE2r1T7Cr",
        "colab": {
          "base_uri": "https://localhost:8080/",
          "height": 297
        },
        "outputId": "08a62a0e-7504-4060-c0f2-d4590f150977"
      },
      "source": [
        "sns.barplot(x=\"Sex\", y=\"Survived\", data=titanic_df)"
      ],
      "execution_count": null,
      "outputs": [
        {
          "output_type": "execute_result",
          "data": {
            "text/plain": [
              "<matplotlib.axes._subplots.AxesSubplot at 0x7fe12be12f98>"
            ]
          },
          "metadata": {
            "tags": []
          },
          "execution_count": 17
        },
        {
          "output_type": "display_data",
          "data": {
            "image/png": "[encoded data removed]",
            "text/plain": [
              "<Figure size 432x288 with 1 Axes>"
            ]
          },
          "metadata": {
            "tags": [],
            "needs_background": "light"
          }
        }
      ]
    },
    {
      "cell_type": "markdown",
      "metadata": {
        "papermill": {
          "duration": 0.129857,
          "end_time": "2020-11-16T15:47:04.905091",
          "exception": false,
          "start_time": "2020-11-16T15:47:04.775234",
          "status": "completed"
        },
        "tags": [],
        "id": "Sps9rS3aT7Cs"
      },
      "source": [
        "As predicted, female had much higher chance to survive.  \n",
        "`Sex` is a non-numerical column, we will convert into two binary variables `Male`, and `Female`."
      ]
    },
    {
      "cell_type": "code",
      "metadata": {
        "execution": {
          "iopub.execute_input": "2020-11-16T15:47:05.081914Z",
          "iopub.status.busy": "2020-11-16T15:47:05.081115Z",
          "iopub.status.idle": "2020-11-16T15:47:05.099523Z",
          "shell.execute_reply": "2020-11-16T15:47:05.098905Z"
        },
        "papermill": {
          "duration": 0.111448,
          "end_time": "2020-11-16T15:47:05.099661",
          "exception": false,
          "start_time": "2020-11-16T15:47:04.988213",
          "status": "completed"
        },
        "tags": [],
        "id": "snMLsaIQT7Cs",
        "colab": {
          "base_uri": "https://localhost:8080/",
          "height": 402
        },
        "outputId": "c6b5913f-8a52-4134-d32e-1eefd6af5d65"
      },
      "source": [
        "titanic_df[\"Male\"] = 0\n",
        "titanic_df[\"Female\"] = 0\n",
        "titanic_df[\"Male\"] = titanic_df[\"Sex\"].map( {'female': 0, 'male': 1} ).astype(int)\n",
        "titanic_df[\"Female\"] = titanic_df[\"Sex\"].map( {'male': 0, 'female': 1} ).astype(int)\n",
        "display(titanic_df[[\"Sex\", \"Male\", \"Female\"]])"
      ],
      "execution_count": null,
      "outputs": [
        {
          "output_type": "display_data",
          "data": {
            "text/html": [
              "<div>\n",
              "<style scoped>\n",
              "    .dataframe tbody tr th:only-of-type {\n",
              "        vertical-align: middle;\n",
              "    }\n",
              "\n",
              "    .dataframe tbody tr th {\n",
              "        vertical-align: top;\n",
              "    }\n",
              "\n",
              "    .dataframe thead th {\n",
              "        text-align: right;\n",
              "    }\n",
              "</style>\n",
              "<table border=\"1\" class=\"dataframe\">\n",
              "  <thead>\n",
              "    <tr style=\"text-align: right;\">\n",
              "      <th></th>\n",
              "      <th>Sex</th>\n",
              "      <th>Male</th>\n",
              "      <th>Female</th>\n",
              "    </tr>\n",
              "  </thead>\n",
              "  <tbody>\n",
              "    <tr>\n",
              "      <th>0</th>\n",
              "      <td>male</td>\n",
              "      <td>1</td>\n",
              "      <td>0</td>\n",
              "    </tr>\n",
              "    <tr>\n",
              "      <th>1</th>\n",
              "      <td>female</td>\n",
              "      <td>0</td>\n",
              "      <td>1</td>\n",
              "    </tr>\n",
              "    <tr>\n",
              "      <th>2</th>\n",
              "      <td>female</td>\n",
              "      <td>0</td>\n",
              "      <td>1</td>\n",
              "    </tr>\n",
              "    <tr>\n",
              "      <th>3</th>\n",
              "      <td>female</td>\n",
              "      <td>0</td>\n",
              "      <td>1</td>\n",
              "    </tr>\n",
              "    <tr>\n",
              "      <th>4</th>\n",
              "      <td>male</td>\n",
              "      <td>1</td>\n",
              "      <td>0</td>\n",
              "    </tr>\n",
              "    <tr>\n",
              "      <th>...</th>\n",
              "      <td>...</td>\n",
              "      <td>...</td>\n",
              "      <td>...</td>\n",
              "    </tr>\n",
              "    <tr>\n",
              "      <th>886</th>\n",
              "      <td>male</td>\n",
              "      <td>1</td>\n",
              "      <td>0</td>\n",
              "    </tr>\n",
              "    <tr>\n",
              "      <th>887</th>\n",
              "      <td>female</td>\n",
              "      <td>0</td>\n",
              "      <td>1</td>\n",
              "    </tr>\n",
              "    <tr>\n",
              "      <th>888</th>\n",
              "      <td>female</td>\n",
              "      <td>0</td>\n",
              "      <td>1</td>\n",
              "    </tr>\n",
              "    <tr>\n",
              "      <th>889</th>\n",
              "      <td>male</td>\n",
              "      <td>1</td>\n",
              "      <td>0</td>\n",
              "    </tr>\n",
              "    <tr>\n",
              "      <th>890</th>\n",
              "      <td>male</td>\n",
              "      <td>1</td>\n",
              "      <td>0</td>\n",
              "    </tr>\n",
              "  </tbody>\n",
              "</table>\n",
              "<p>891 rows × 3 columns</p>\n",
              "</div>"
            ],
            "text/plain": [
              "        Sex  Male  Female\n",
              "0      male     1       0\n",
              "1    female     0       1\n",
              "2    female     0       1\n",
              "3    female     0       1\n",
              "4      male     1       0\n",
              "..      ...   ...     ...\n",
              "886    male     1       0\n",
              "887  female     0       1\n",
              "888  female     0       1\n",
              "889    male     1       0\n",
              "890    male     1       0\n",
              "\n",
              "[891 rows x 3 columns]"
            ]
          },
          "metadata": {
            "tags": []
          }
        }
      ]
    },
    {
      "cell_type": "markdown",
      "metadata": {
        "papermill": {
          "duration": 0.083671,
          "end_time": "2020-11-16T15:47:05.266931",
          "exception": false,
          "start_time": "2020-11-16T15:47:05.183260",
          "status": "completed"
        },
        "tags": [],
        "id": "BL6rNd4LT7Ct"
      },
      "source": [
        "Convert the test dataset to binary as well."
      ]
    },
    {
      "cell_type": "code",
      "metadata": {
        "execution": {
          "iopub.execute_input": "2020-11-16T15:47:05.451555Z",
          "iopub.status.busy": "2020-11-16T15:47:05.450464Z",
          "iopub.status.idle": "2020-11-16T15:47:05.455002Z",
          "shell.execute_reply": "2020-11-16T15:47:05.455583Z"
        },
        "papermill": {
          "duration": 0.104723,
          "end_time": "2020-11-16T15:47:05.455755",
          "exception": false,
          "start_time": "2020-11-16T15:47:05.351032",
          "status": "completed"
        },
        "tags": [],
        "id": "BOFGgYnhT7Ct",
        "colab": {
          "base_uri": "https://localhost:8080/"
        },
        "outputId": "7ce6087f-9967-4b64-b7ad-b071f96a30c6"
      },
      "source": [
        "test[\"Male\"] = 0\n",
        "test[\"Female\"] = 0\n",
        "test[\"Male\"] = test[\"Sex\"].map( {'female': 0, 'male': 1} ).astype(int)\n",
        "test[\"Female\"] = test[\"Sex\"].map( {'male': 0, 'female': 1} ).astype(int)\n",
        "test[[\"Male\", \"Female\"]].isna().any()"
      ],
      "execution_count": null,
      "outputs": [
        {
          "output_type": "execute_result",
          "data": {
            "text/plain": [
              "Male      False\n",
              "Female    False\n",
              "dtype: bool"
            ]
          },
          "metadata": {
            "tags": []
          },
          "execution_count": 19
        }
      ]
    },
    {
      "cell_type": "markdown",
      "metadata": {
        "papermill": {
          "duration": 0.086985,
          "end_time": "2020-11-16T15:47:05.627965",
          "exception": false,
          "start_time": "2020-11-16T15:47:05.540980",
          "status": "completed"
        },
        "tags": [],
        "id": "50uyhWPfT7Ct"
      },
      "source": [
        "#### Pclass Variable:\n",
        "`Pclass` indicates a passenger class, it indicates his room location and could affect his surviving chances."
      ]
    },
    {
      "cell_type": "code",
      "metadata": {
        "execution": {
          "iopub.execute_input": "2020-11-16T15:47:05.809481Z",
          "iopub.status.busy": "2020-11-16T15:47:05.808721Z",
          "iopub.status.idle": "2020-11-16T15:47:06.001165Z",
          "shell.execute_reply": "2020-11-16T15:47:06.000435Z"
        },
        "papermill": {
          "duration": 0.287723,
          "end_time": "2020-11-16T15:47:06.001308",
          "exception": false,
          "start_time": "2020-11-16T15:47:05.713585",
          "status": "completed"
        },
        "tags": [],
        "id": "YGRzEfBtT7Cu",
        "colab": {
          "base_uri": "https://localhost:8080/",
          "height": 434
        },
        "outputId": "da8d6f7c-c49a-4020-a78c-9985b42a7ec1"
      },
      "source": [
        "temp = pd.crosstab(titanic_df.Pclass ,titanic_df.Survived, values=titanic_df.Survived, aggfunc='count').T.style.background_gradient() #Checking the Initials with the Sex\n",
        "display(temp)\n",
        "sns.countplot('Pclass',data=titanic_df, hue='Survived')"
      ],
      "execution_count": null,
      "outputs": [
        {
          "output_type": "display_data",
          "data": {
            "text/html": [
              "<style  type=\"text/css\" >\n",
              "#T_12ab9dd2_4d10_11eb_a158_0242ac1c0002row0_col0,#T_12ab9dd2_4d10_11eb_a158_0242ac1c0002row1_col1,#T_12ab9dd2_4d10_11eb_a158_0242ac1c0002row1_col2{\n",
              "            background-color:  #fff7fb;\n",
              "            color:  #000000;\n",
              "        }#T_12ab9dd2_4d10_11eb_a158_0242ac1c0002row0_col1,#T_12ab9dd2_4d10_11eb_a158_0242ac1c0002row0_col2,#T_12ab9dd2_4d10_11eb_a158_0242ac1c0002row1_col0{\n",
              "            background-color:  #023858;\n",
              "            color:  #f1f1f1;\n",
              "        }</style><table id=\"T_12ab9dd2_4d10_11eb_a158_0242ac1c0002\" ><thead>    <tr>        <th class=\"index_name level0\" >Pclass</th>        <th class=\"col_heading level0 col0\" >1</th>        <th class=\"col_heading level0 col1\" >2</th>        <th class=\"col_heading level0 col2\" >3</th>    </tr>    <tr>        <th class=\"index_name level0\" >Survived</th>        <th class=\"blank\" ></th>        <th class=\"blank\" ></th>        <th class=\"blank\" ></th>    </tr></thead><tbody>\n",
              "                <tr>\n",
              "                        <th id=\"T_12ab9dd2_4d10_11eb_a158_0242ac1c0002level0_row0\" class=\"row_heading level0 row0\" >0</th>\n",
              "                        <td id=\"T_12ab9dd2_4d10_11eb_a158_0242ac1c0002row0_col0\" class=\"data row0 col0\" >80</td>\n",
              "                        <td id=\"T_12ab9dd2_4d10_11eb_a158_0242ac1c0002row0_col1\" class=\"data row0 col1\" >97</td>\n",
              "                        <td id=\"T_12ab9dd2_4d10_11eb_a158_0242ac1c0002row0_col2\" class=\"data row0 col2\" >372</td>\n",
              "            </tr>\n",
              "            <tr>\n",
              "                        <th id=\"T_12ab9dd2_4d10_11eb_a158_0242ac1c0002level0_row1\" class=\"row_heading level0 row1\" >1</th>\n",
              "                        <td id=\"T_12ab9dd2_4d10_11eb_a158_0242ac1c0002row1_col0\" class=\"data row1 col0\" >136</td>\n",
              "                        <td id=\"T_12ab9dd2_4d10_11eb_a158_0242ac1c0002row1_col1\" class=\"data row1 col1\" >87</td>\n",
              "                        <td id=\"T_12ab9dd2_4d10_11eb_a158_0242ac1c0002row1_col2\" class=\"data row1 col2\" >119</td>\n",
              "            </tr>\n",
              "    </tbody></table>"
            ],
            "text/plain": [
              "<pandas.io.formats.style.Styler at 0x7fe12b7f57f0>"
            ]
          },
          "metadata": {
            "tags": []
          }
        },
        {
          "output_type": "stream",
          "text": [
            "/usr/local/lib/python3.6/dist-packages/seaborn/_decorators.py:43: FutureWarning: Pass the following variable as a keyword arg: x. From version 0.12, the only valid positional argument will be `data`, and passing other arguments without an explicit keyword will result in an error or misinterpretation.\n",
            "  FutureWarning\n"
          ],
          "name": "stderr"
        },
        {
          "output_type": "execute_result",
          "data": {
            "text/plain": [
              "<matplotlib.axes._subplots.AxesSubplot at 0x7fe12b801b70>"
            ]
          },
          "metadata": {
            "tags": []
          },
          "execution_count": 20
        },
        {
          "output_type": "display_data",
          "data": {
            "image/png": "[encoded data removed]",
            "text/plain": [
              "<Figure size 432x288 with 1 Axes>"
            ]
          },
          "metadata": {
            "tags": [],
            "needs_background": "light"
          }
        }
      ]
    },
    {
      "cell_type": "markdown",
      "metadata": {
        "papermill": {
          "duration": 0.086621,
          "end_time": "2020-11-16T15:47:06.177275",
          "exception": false,
          "start_time": "2020-11-16T15:47:06.090654",
          "status": "completed"
        },
        "tags": [],
        "id": "c6c2bfMvT7Cu"
      },
      "source": [
        "It is clear that a passenger from 1st class and 2nd class has much more chances to survive compare to 3rd class passengers."
      ]
    },
    {
      "cell_type": "markdown",
      "metadata": {
        "papermill": {
          "duration": 0.086959,
          "end_time": "2020-11-16T15:47:06.351486",
          "exception": false,
          "start_time": "2020-11-16T15:47:06.264527",
          "status": "completed"
        },
        "tags": [],
        "id": "e47sdrMhT7Cu"
      },
      "source": [
        "#### Age Variable:\n",
        "`Age` missing 177 value, not too much in terms of this data size, it can be filled with the median value of passengers with similar values, to decide which values, let's see the correlation between `Age` and the other features."
      ]
    },
    {
      "cell_type": "code",
      "metadata": {
        "execution": {
          "iopub.execute_input": "2020-11-16T15:47:06.536402Z",
          "iopub.status.busy": "2020-11-16T15:47:06.533108Z",
          "iopub.status.idle": "2020-11-16T15:47:07.151064Z",
          "shell.execute_reply": "2020-11-16T15:47:07.151681Z"
        },
        "papermill": {
          "duration": 0.712987,
          "end_time": "2020-11-16T15:47:07.151837",
          "exception": false,
          "start_time": "2020-11-16T15:47:06.438850",
          "status": "completed"
        },
        "tags": [],
        "id": "bD9U6tq6T7Cv",
        "colab": {
          "base_uri": "https://localhost:8080/",
          "height": 538
        },
        "outputId": "edd8a354-df71-41f6-d26f-8c2b30e885fe"
      },
      "source": [
        "corr = abs(titanic_df.corr())    # get the data correlation\n",
        "plt.figure(figsize=(12,8))\n",
        "mask = np.triu(np.ones_like(corr, dtype=bool))\n",
        "sns.heatmap(corr, mask=mask, annot=True, cmap=plt.cm.Reds, vmin=0, vmax=1, linewidth=.5)\n",
        "plt.show()"
      ],
      "execution_count": null,
      "outputs": [
        {
          "output_type": "display_data",
          "data": {
            "image/png": "[encoded data removed]",
            "text/plain": [
              "<Figure size 864x576 with 2 Axes>"
            ]
          },
          "metadata": {
            "tags": [],
            "needs_background": "light"
          }
        }
      ]
    },
    {
      "cell_type": "code",
      "metadata": {
        "execution": {
          "iopub.execute_input": "2020-11-16T15:47:07.348936Z",
          "iopub.status.busy": "2020-11-16T15:47:07.337748Z",
          "iopub.status.idle": "2020-11-16T15:47:07.696735Z",
          "shell.execute_reply": "2020-11-16T15:47:07.695986Z"
        },
        "papermill": {
          "duration": 0.454984,
          "end_time": "2020-11-16T15:47:07.696866",
          "exception": false,
          "start_time": "2020-11-16T15:47:07.241882",
          "status": "completed"
        },
        "tags": [],
        "id": "hhq80YXjT7Cv",
        "colab": {
          "base_uri": "https://localhost:8080/",
          "height": 401
        },
        "outputId": "09ca624d-8958-4911-9b90-c998a2ab809f"
      },
      "source": [
        "sns.catplot(y=\"Age\", x=\"Pclass\", hue=\"Survived\", kind=\"violin\", data=titanic_df)"
      ],
      "execution_count": null,
      "outputs": [
        {
          "output_type": "execute_result",
          "data": {
            "text/plain": [
              "<seaborn.axisgrid.FacetGrid at 0x7fe12be12470>"
            ]
          },
          "metadata": {
            "tags": []
          },
          "execution_count": 22
        },
        {
          "output_type": "display_data",
          "data": {
            "image/png": "[encoded data removed]",
            "text/plain": [
              "<Figure size 411.875x360 with 1 Axes>"
            ]
          },
          "metadata": {
            "tags": [],
            "needs_background": "light"
          }
        }
      ]
    },
    {
      "cell_type": "markdown",
      "metadata": {
        "papermill": {
          "duration": 0.091887,
          "end_time": "2020-11-16T15:47:07.879934",
          "exception": false,
          "start_time": "2020-11-16T15:47:07.788047",
          "status": "completed"
        },
        "tags": [],
        "id": "YKB1JO_2T7Cw"
      },
      "source": [
        "It look like there is a dipendency between `Age`, `Pclass`, and `Title_cat`.\n",
        "Let's try to fill the emtpy `Age` values with the means of those 2 variables."
      ]
    },
    {
      "cell_type": "code",
      "metadata": {
        "execution": {
          "iopub.execute_input": "2020-11-16T15:47:08.075544Z",
          "iopub.status.busy": "2020-11-16T15:47:08.074587Z",
          "iopub.status.idle": "2020-11-16T15:47:08.078125Z",
          "shell.execute_reply": "2020-11-16T15:47:08.078936Z"
        },
        "papermill": {
          "duration": 0.107568,
          "end_time": "2020-11-16T15:47:08.079146",
          "exception": false,
          "start_time": "2020-11-16T15:47:07.971578",
          "status": "completed"
        },
        "tags": [],
        "id": "Kiio1gxVT7Cw",
        "colab": {
          "base_uri": "https://localhost:8080/"
        },
        "outputId": "99f7ec08-2dd2-45a3-c65a-22c8d8a917f6"
      },
      "source": [
        "age_mean = titanic_df.groupby([\"Title_cat\", \"Pclass\"])[\"Age\"].mean()\n",
        "print(age_mean)"
      ],
      "execution_count": null,
      "outputs": [
        {
          "output_type": "stream",
          "text": [
            "Title_cat  Pclass\n",
            "0          1         41.580460\n",
            "           2         32.768293\n",
            "           3         28.724891\n",
            "1          1         40.400000\n",
            "           2         33.682927\n",
            "           3         33.515152\n",
            "2          1         29.744681\n",
            "           2         22.560606\n",
            "           3         16.123188\n",
            "3          1          5.306667\n",
            "           2          2.258889\n",
            "           3          5.350833\n",
            "4          1         47.571429\n",
            "           2         42.000000\n",
            "Name: Age, dtype: float64\n"
          ],
          "name": "stdout"
        }
      ]
    },
    {
      "cell_type": "code",
      "metadata": {
        "execution": {
          "iopub.execute_input": "2020-11-16T15:47:08.274215Z",
          "iopub.status.busy": "2020-11-16T15:47:08.271719Z",
          "iopub.status.idle": "2020-11-16T15:47:08.304414Z",
          "shell.execute_reply": "2020-11-16T15:47:08.303165Z"
        },
        "papermill": {
          "duration": 0.132986,
          "end_time": "2020-11-16T15:47:08.304567",
          "exception": false,
          "start_time": "2020-11-16T15:47:08.171581",
          "status": "completed"
        },
        "tags": [],
        "id": "U2floZeWT7Cw",
        "colab": {
          "base_uri": "https://localhost:8080/"
        },
        "outputId": "ed76c453-ad66-4b9b-89f9-79d09a182c25"
      },
      "source": [
        "for i in range(titanic_df[\"Title_cat\"].nunique()):\n",
        "     for j in range(age_mean[i].shape[0]):\n",
        "            titanic_df.loc[ (titanic_df.Age.isnull()) & (titanic_df.Title_cat == i) & (titanic_df.Pclass == j +1 ), 'Age'] = age_mean[i][j+1]\n",
        "\n",
        "                \n",
        "print(titanic_df[\"Age\"].isna().any())            \n",
        "print(titanic_df[\"Age\"])"
      ],
      "execution_count": null,
      "outputs": [
        {
          "output_type": "stream",
          "text": [
            "False\n",
            "0      22.000000\n",
            "1      38.000000\n",
            "2      26.000000\n",
            "3      35.000000\n",
            "4      35.000000\n",
            "         ...    \n",
            "886    27.000000\n",
            "887    19.000000\n",
            "888    16.123188\n",
            "889    26.000000\n",
            "890    32.000000\n",
            "Name: Age, Length: 891, dtype: float64\n"
          ],
          "name": "stdout"
        }
      ]
    },
    {
      "cell_type": "markdown",
      "metadata": {
        "papermill": {
          "duration": 0.091996,
          "end_time": "2020-11-16T15:47:08.489167",
          "exception": false,
          "start_time": "2020-11-16T15:47:08.397171",
          "status": "completed"
        },
        "tags": [],
        "id": "ovSmRB1YT7Cx"
      },
      "source": [
        "We need to fill the missing `Age` values in the test dataset."
      ]
    },
    {
      "cell_type": "code",
      "metadata": {
        "execution": {
          "iopub.execute_input": "2020-11-16T15:47:08.716584Z",
          "iopub.status.busy": "2020-11-16T15:47:08.689995Z",
          "iopub.status.idle": "2020-11-16T15:47:08.721411Z",
          "shell.execute_reply": "2020-11-16T15:47:08.720760Z"
        },
        "papermill": {
          "duration": 0.139395,
          "end_time": "2020-11-16T15:47:08.721537",
          "exception": false,
          "start_time": "2020-11-16T15:47:08.582142",
          "status": "completed"
        },
        "tags": [],
        "id": "70OH-WC5T7Cy",
        "colab": {
          "base_uri": "https://localhost:8080/"
        },
        "outputId": "40809d98-3770-46bd-c532-ea58c06c96c7"
      },
      "source": [
        "age_mean_test = test.groupby([\"Title_cat\", \"Pclass\"])[\"Age\"].mean()\n",
        "for i in range(test[\"Title_cat\"].nunique()):\n",
        "     for j in range(age_mean_test[i].shape[0]):\n",
        "            test.loc[ (test.Age.isnull()) & (test.Title_cat == i) & (test.Pclass == j +1 ), 'Age'] = age_mean_test[i][j+1]\n",
        "            \n",
        "test.Age.isna().any()"
      ],
      "execution_count": null,
      "outputs": [
        {
          "output_type": "execute_result",
          "data": {
            "text/plain": [
              "False"
            ]
          },
          "metadata": {
            "tags": []
          },
          "execution_count": 25
        }
      ]
    },
    {
      "cell_type": "markdown",
      "metadata": {
        "papermill": {
          "duration": 0.094487,
          "end_time": "2020-11-16T15:47:08.909626",
          "exception": false,
          "start_time": "2020-11-16T15:47:08.815139",
          "status": "completed"
        },
        "tags": [],
        "id": "tsEw7apAT7Cz"
      },
      "source": [
        "#### Back to `Title`\n",
        "Now after done handling the `Age` feature, we can convert the `Title_cat` into seperate binary features."
      ]
    },
    {
      "cell_type": "code",
      "metadata": {
        "execution": {
          "iopub.execute_input": "2020-11-16T15:47:09.106986Z",
          "iopub.status.busy": "2020-11-16T15:47:09.104788Z",
          "iopub.status.idle": "2020-11-16T15:47:09.297766Z",
          "shell.execute_reply": "2020-11-16T15:47:09.297165Z"
        },
        "papermill": {
          "duration": 0.294361,
          "end_time": "2020-11-16T15:47:09.297907",
          "exception": false,
          "start_time": "2020-11-16T15:47:09.003546",
          "status": "completed"
        },
        "tags": [],
        "id": "Zf-x6wfiT7C1",
        "colab": {
          "base_uri": "https://localhost:8080/",
          "height": 401
        },
        "outputId": "810ac79d-24e0-4fa2-e3a4-e3884b838cd3"
      },
      "source": [
        "sns.catplot(x=\"Title\", kind=\"count\", palette=sns.color_palette(\"deep\"), data=titanic_df)"
      ],
      "execution_count": null,
      "outputs": [
        {
          "output_type": "execute_result",
          "data": {
            "text/plain": [
              "<seaborn.axisgrid.FacetGrid at 0x7fe12751fc18>"
            ]
          },
          "metadata": {
            "tags": []
          },
          "execution_count": 26
        },
        {
          "output_type": "display_data",
          "data": {
            "image/png": "[encoded data removed]",
            "text/plain": [
              "<Figure size 360x360 with 1 Axes>"
            ]
          },
          "metadata": {
            "tags": [],
            "needs_background": "light"
          }
        }
      ]
    },
    {
      "cell_type": "code",
      "metadata": {
        "execution": {
          "iopub.execute_input": "2020-11-16T15:47:09.513515Z",
          "iopub.status.busy": "2020-11-16T15:47:09.508276Z",
          "iopub.status.idle": "2020-11-16T15:47:09.524888Z",
          "shell.execute_reply": "2020-11-16T15:47:09.524205Z"
        },
        "papermill": {
          "duration": 0.133234,
          "end_time": "2020-11-16T15:47:09.525020",
          "exception": false,
          "start_time": "2020-11-16T15:47:09.391786",
          "status": "completed"
        },
        "tags": [],
        "id": "CbPUbBCQT7C2",
        "colab": {
          "base_uri": "https://localhost:8080/"
        },
        "outputId": "f9c92ebe-1611-471a-8f64-e1c443e467aa"
      },
      "source": [
        "def convert_titles_binary(data):\n",
        "    data[\"Mr\"] = 0\n",
        "    data[\"Mrs\"] = 0\n",
        "    data[\"Miss\"] = 0\n",
        "    data[\"Master\"] = 0\n",
        "    data[\"Mr\"] = data[\"Title\"].map({'Mr' : 1, 'Mrs' : 0, 'Miss' : 0, 'Master' : 0, 'Other' : 0})\n",
        "    data[\"Mrs\"] = data[\"Title\"].map({'Mr' : 0, 'Mrs' : 1, 'Miss' : 0, 'Master' : 0, 'Other' : 0})\n",
        "    data[\"Miss\"] = data[\"Title\"].map({'Mr' : 0, 'Mrs' : 0, 'Miss' : 1, 'Master' : 0, 'Other' : 0})\n",
        "    data[\"Master\"] = data[\"Title\"].map({'Mr' : 0, 'Mrs' : 0, 'Miss' : 0, 'Master' : 1, 'Other' : 0})\n",
        "\n",
        "convert_titles_binary(titanic_df)\n",
        "convert_titles_binary(test)\n",
        "\n",
        "titanic_df[[\"Mr\", \"Mrs\", \"Miss\", \"Master\"]].isna().any()\n",
        "test[[\"Mr\", \"Mrs\", \"Miss\", \"Master\"]].isna().any()"
      ],
      "execution_count": null,
      "outputs": [
        {
          "output_type": "execute_result",
          "data": {
            "text/plain": [
              "Mr        False\n",
              "Mrs       False\n",
              "Miss      False\n",
              "Master    False\n",
              "dtype: bool"
            ]
          },
          "metadata": {
            "tags": []
          },
          "execution_count": 27
        }
      ]
    },
    {
      "cell_type": "markdown",
      "metadata": {
        "papermill": {
          "duration": 0.093732,
          "end_time": "2020-11-16T15:47:09.713906",
          "exception": false,
          "start_time": "2020-11-16T15:47:09.620174",
          "status": "completed"
        },
        "tags": [],
        "id": "6Kf_1ZE5T7C2"
      },
      "source": [
        "#### Cabin Variable\n",
        "`Cabin` which indicates where a passenger was staying at the titanic, is missing 687 values out of 891, that's about 77% of missing values.\n",
        "For now we will try to drop that variable from this model and will see if adding it later on will improve the results.\n"
      ]
    },
    {
      "cell_type": "code",
      "metadata": {
        "execution": {
          "iopub.execute_input": "2020-11-16T15:47:09.919637Z",
          "iopub.status.busy": "2020-11-16T15:47:09.915242Z",
          "iopub.status.idle": "2020-11-16T15:47:09.923723Z",
          "shell.execute_reply": "2020-11-16T15:47:09.924323Z"
        },
        "papermill": {
          "duration": 0.115723,
          "end_time": "2020-11-16T15:47:09.924475",
          "exception": false,
          "start_time": "2020-11-16T15:47:09.808752",
          "status": "completed"
        },
        "tags": [],
        "id": "EceA3q7jT7C3",
        "colab": {
          "base_uri": "https://localhost:8080/"
        },
        "outputId": "816c3165-d0a2-48d2-befd-5696cd91b343"
      },
      "source": [
        "titanic_df.drop(\"Cabin\", axis=1, inplace=True)\n",
        "print(titanic_df.isna().any())\n",
        "\n",
        "test.drop(\"Cabin\", axis=1, inplace=True)\n",
        "print(test.isna().any())"
      ],
      "execution_count": null,
      "outputs": [
        {
          "output_type": "stream",
          "text": [
            "Survived       False\n",
            "PassengerId    False\n",
            "Pclass         False\n",
            "Name           False\n",
            "Sex            False\n",
            "Age            False\n",
            "SibSp          False\n",
            "Parch          False\n",
            "Ticket         False\n",
            "Fare           False\n",
            "Embarked       False\n",
            "Title          False\n",
            "Title_cat      False\n",
            "Embarked_s     False\n",
            "Embarked_c     False\n",
            "Embarked_q     False\n",
            "Male           False\n",
            "Female         False\n",
            "Mr             False\n",
            "Mrs            False\n",
            "Miss           False\n",
            "Master         False\n",
            "dtype: bool\n",
            "PassengerId    False\n",
            "Pclass         False\n",
            "Name           False\n",
            "Sex            False\n",
            "Age            False\n",
            "SibSp          False\n",
            "Parch          False\n",
            "Ticket         False\n",
            "Fare            True\n",
            "Embarked       False\n",
            "Title          False\n",
            "Title_cat      False\n",
            "Embarked_s     False\n",
            "Embarked_c     False\n",
            "Embarked_q     False\n",
            "Male           False\n",
            "Female         False\n",
            "Mr             False\n",
            "Mrs            False\n",
            "Miss           False\n",
            "Master         False\n",
            "dtype: bool\n"
          ],
          "name": "stdout"
        }
      ]
    },
    {
      "cell_type": "markdown",
      "metadata": {
        "papermill": {
          "duration": 0.096175,
          "end_time": "2020-11-16T15:47:10.117422",
          "exception": false,
          "start_time": "2020-11-16T15:47:10.021247",
          "status": "completed"
        },
        "tags": [],
        "id": "RiAGd_W6T7C4"
      },
      "source": [
        "### Feature Engeneering"
      ]
    },
    {
      "cell_type": "markdown",
      "metadata": {
        "papermill": {
          "duration": 0.094263,
          "end_time": "2020-11-16T15:47:10.306708",
          "exception": false,
          "start_time": "2020-11-16T15:47:10.212445",
          "status": "completed"
        },
        "tags": [],
        "id": "9-hVQtlVT7C4"
      },
      "source": [
        "`Parch` and `SibSp` could be merged into one `FamilySize` variable."
      ]
    },
    {
      "cell_type": "code",
      "metadata": {
        "execution": {
          "iopub.execute_input": "2020-11-16T15:47:10.507360Z",
          "iopub.status.busy": "2020-11-16T15:47:10.505118Z",
          "iopub.status.idle": "2020-11-16T15:47:10.519730Z",
          "shell.execute_reply": "2020-11-16T15:47:10.519109Z"
        },
        "papermill": {
          "duration": 0.118101,
          "end_time": "2020-11-16T15:47:10.519859",
          "exception": false,
          "start_time": "2020-11-16T15:47:10.401758",
          "status": "completed"
        },
        "tags": [],
        "id": "2PdyojqDT7C4",
        "colab": {
          "base_uri": "https://localhost:8080/",
          "height": 314
        },
        "outputId": "dafd3326-ea99-4d8f-a6d0-58b7b9f7ced4"
      },
      "source": [
        "titanic_df[\"FamilySize\"] = titanic_df[\"Parch\"] + titanic_df[\"SibSp\"] + 1\n",
        "titanic_df[[\"FamilySize\", \"Survived\"]].groupby([\"FamilySize\"], as_index=False).mean().sort_values(by=\"Survived\", ascending=False)"
      ],
      "execution_count": null,
      "outputs": [
        {
          "output_type": "execute_result",
          "data": {
            "text/html": [
              "<div>\n",
              "<style scoped>\n",
              "    .dataframe tbody tr th:only-of-type {\n",
              "        vertical-align: middle;\n",
              "    }\n",
              "\n",
              "    .dataframe tbody tr th {\n",
              "        vertical-align: top;\n",
              "    }\n",
              "\n",
              "    .dataframe thead th {\n",
              "        text-align: right;\n",
              "    }\n",
              "</style>\n",
              "<table border=\"1\" class=\"dataframe\">\n",
              "  <thead>\n",
              "    <tr style=\"text-align: right;\">\n",
              "      <th></th>\n",
              "      <th>FamilySize</th>\n",
              "      <th>Survived</th>\n",
              "    </tr>\n",
              "  </thead>\n",
              "  <tbody>\n",
              "    <tr>\n",
              "      <th>3</th>\n",
              "      <td>4</td>\n",
              "      <td>0.724138</td>\n",
              "    </tr>\n",
              "    <tr>\n",
              "      <th>2</th>\n",
              "      <td>3</td>\n",
              "      <td>0.578431</td>\n",
              "    </tr>\n",
              "    <tr>\n",
              "      <th>1</th>\n",
              "      <td>2</td>\n",
              "      <td>0.552795</td>\n",
              "    </tr>\n",
              "    <tr>\n",
              "      <th>6</th>\n",
              "      <td>7</td>\n",
              "      <td>0.333333</td>\n",
              "    </tr>\n",
              "    <tr>\n",
              "      <th>0</th>\n",
              "      <td>1</td>\n",
              "      <td>0.303538</td>\n",
              "    </tr>\n",
              "    <tr>\n",
              "      <th>4</th>\n",
              "      <td>5</td>\n",
              "      <td>0.200000</td>\n",
              "    </tr>\n",
              "    <tr>\n",
              "      <th>5</th>\n",
              "      <td>6</td>\n",
              "      <td>0.136364</td>\n",
              "    </tr>\n",
              "    <tr>\n",
              "      <th>7</th>\n",
              "      <td>8</td>\n",
              "      <td>0.000000</td>\n",
              "    </tr>\n",
              "    <tr>\n",
              "      <th>8</th>\n",
              "      <td>11</td>\n",
              "      <td>0.000000</td>\n",
              "    </tr>\n",
              "  </tbody>\n",
              "</table>\n",
              "</div>"
            ],
            "text/plain": [
              "   FamilySize  Survived\n",
              "3           4  0.724138\n",
              "2           3  0.578431\n",
              "1           2  0.552795\n",
              "6           7  0.333333\n",
              "0           1  0.303538\n",
              "4           5  0.200000\n",
              "5           6  0.136364\n",
              "7           8  0.000000\n",
              "8          11  0.000000"
            ]
          },
          "metadata": {
            "tags": []
          },
          "execution_count": 29
        }
      ]
    },
    {
      "cell_type": "markdown",
      "metadata": {
        "papermill": {
          "duration": 0.122698,
          "end_time": "2020-11-16T15:47:10.744298",
          "exception": false,
          "start_time": "2020-11-16T15:47:10.621600",
          "status": "completed"
        },
        "tags": [],
        "id": "Rv7ozsAYT7C5"
      },
      "source": [
        "Creating the `FamilySize` variable for the test dataset as well."
      ]
    },
    {
      "cell_type": "code",
      "metadata": {
        "execution": {
          "iopub.execute_input": "2020-11-16T15:47:10.947535Z",
          "iopub.status.busy": "2020-11-16T15:47:10.946721Z",
          "iopub.status.idle": "2020-11-16T15:47:10.950190Z",
          "shell.execute_reply": "2020-11-16T15:47:10.949572Z"
        },
        "papermill": {
          "duration": 0.106768,
          "end_time": "2020-11-16T15:47:10.950345",
          "exception": false,
          "start_time": "2020-11-16T15:47:10.843577",
          "status": "completed"
        },
        "tags": [],
        "id": "XAus9lFqT7C5"
      },
      "source": [
        "test[\"FamilySize\"] = test[\"Parch\"] + test[\"SibSp\"] + 1"
      ],
      "execution_count": null,
      "outputs": []
    },
    {
      "cell_type": "markdown",
      "metadata": {
        "papermill": {
          "duration": 0.096523,
          "end_time": "2020-11-16T15:47:11.145074",
          "exception": false,
          "start_time": "2020-11-16T15:47:11.048551",
          "status": "completed"
        },
        "tags": [],
        "id": "16r4nOoHT7C5"
      },
      "source": [
        "We can see that when a passenger has some relatives traveled with him, he had some better chances to survived.  \n",
        "We can create another feature that might increase the model accuracy.  \n",
        "`IsAlone` feature will indicate whether a passenger was traveling alone or with relatives."
      ]
    },
    {
      "cell_type": "code",
      "metadata": {
        "execution": {
          "iopub.execute_input": "2020-11-16T15:47:11.347175Z",
          "iopub.status.busy": "2020-11-16T15:47:11.346001Z",
          "iopub.status.idle": "2020-11-16T15:47:11.353009Z",
          "shell.execute_reply": "2020-11-16T15:47:11.351906Z"
        },
        "papermill": {
          "duration": 0.112377,
          "end_time": "2020-11-16T15:47:11.353194",
          "exception": false,
          "start_time": "2020-11-16T15:47:11.240817",
          "status": "completed"
        },
        "tags": [],
        "id": "ZO0qAPRQT7C5"
      },
      "source": [
        "titanic_df['IsAlone'] = 0\n",
        "titanic_df.loc[titanic_df['FamilySize'] == 1, 'IsAlone'] = 1\n",
        "\n",
        "test['IsAlone'] = 0\n",
        "test.loc[test['FamilySize'] == 1, 'IsAlone'] = 1"
      ],
      "execution_count": null,
      "outputs": []
    },
    {
      "cell_type": "markdown",
      "metadata": {
        "papermill": {
          "duration": 0.096052,
          "end_time": "2020-11-16T15:47:11.550147",
          "exception": false,
          "start_time": "2020-11-16T15:47:11.454095",
          "status": "completed"
        },
        "tags": [],
        "id": "68clRApyT7C6"
      },
      "source": [
        "We can assume that as the age growth, the class of a passenger could growth too, lets see a graph to demonstrate."
      ]
    },
    {
      "cell_type": "code",
      "metadata": {
        "execution": {
          "iopub.execute_input": "2020-11-16T15:47:11.750272Z",
          "iopub.status.busy": "2020-11-16T15:47:11.749137Z",
          "iopub.status.idle": "2020-11-16T15:47:12.257436Z",
          "shell.execute_reply": "2020-11-16T15:47:12.256774Z"
        },
        "papermill": {
          "duration": 0.611307,
          "end_time": "2020-11-16T15:47:12.257563",
          "exception": false,
          "start_time": "2020-11-16T15:47:11.646256",
          "status": "completed"
        },
        "tags": [],
        "id": "6w62ptKIT7C6",
        "colab": {
          "base_uri": "https://localhost:8080/",
          "height": 297
        },
        "outputId": "0b0aafdb-d60c-4cf0-bcd3-175318fe3e7b"
      },
      "source": [
        "sns.regplot(x=\"Age\", y=\"Pclass\", data=titanic_df, logx=True)"
      ],
      "execution_count": null,
      "outputs": [
        {
          "output_type": "execute_result",
          "data": {
            "text/plain": [
              "<matplotlib.axes._subplots.AxesSubplot at 0x7fe1274b66a0>"
            ]
          },
          "metadata": {
            "tags": []
          },
          "execution_count": 32
        },
        {
          "output_type": "display_data",
          "data": {
            "image/png": "[encoded data removed]",
            "text/plain": [
              "<Figure size 432x288 with 1 Axes>"
            ]
          },
          "metadata": {
            "tags": [],
            "needs_background": "light"
          }
        }
      ]
    },
    {
      "cell_type": "markdown",
      "metadata": {
        "papermill": {
          "duration": 0.098978,
          "end_time": "2020-11-16T15:47:12.455596",
          "exception": false,
          "start_time": "2020-11-16T15:47:12.356618",
          "status": "completed"
        },
        "tags": [],
        "id": "YL5Lwt6WT7C9"
      },
      "source": [
        "We know the 1st class is better than 2nd class, and 2nd class is better than 3rd class.  \n",
        "In this graph we can actually see that the more a passenger is older, his class is higher."
      ]
    },
    {
      "cell_type": "markdown",
      "metadata": {
        "papermill": {
          "duration": 0.099009,
          "end_time": "2020-11-16T15:47:12.653902",
          "exception": false,
          "start_time": "2020-11-16T15:47:12.554893",
          "status": "completed"
        },
        "tags": [],
        "id": "j3BAX98PT7C_"
      },
      "source": [
        "As observed before, it look like `Pclass`, and `Age` have some correlation between them, we may assume that the age of a passenger's may indicates which class he was travled at.  \n",
        "Older people sometimes tend to have more money and it could indicate they traveled in higher class.  \n",
        "We will try to create a new feature `AgePclass` as a multiplation between those two features."
      ]
    },
    {
      "cell_type": "code",
      "metadata": {
        "execution": {
          "iopub.execute_input": "2020-11-16T15:47:12.861091Z",
          "iopub.status.busy": "2020-11-16T15:47:12.859579Z",
          "iopub.status.idle": "2020-11-16T15:47:12.864721Z",
          "shell.execute_reply": "2020-11-16T15:47:12.863951Z"
        },
        "papermill": {
          "duration": 0.111157,
          "end_time": "2020-11-16T15:47:12.864893",
          "exception": false,
          "start_time": "2020-11-16T15:47:12.753736",
          "status": "completed"
        },
        "tags": [],
        "id": "Y71CNaJKT7DA"
      },
      "source": [
        "titanic_df[\"AgePclass\"] = titanic_df[\"Age\"] * titanic_df[\"Pclass\"]\n",
        "test[\"AgePclass\"] = test[\"Age\"] * test[\"Pclass\"]"
      ],
      "execution_count": null,
      "outputs": []
    },
    {
      "cell_type": "code",
      "metadata": {
        "execution": {
          "iopub.execute_input": "2020-11-16T15:47:13.086660Z",
          "iopub.status.busy": "2020-11-16T15:47:13.072003Z",
          "iopub.status.idle": "2020-11-16T15:47:13.336405Z",
          "shell.execute_reply": "2020-11-16T15:47:13.335617Z"
        },
        "papermill": {
          "duration": 0.37284,
          "end_time": "2020-11-16T15:47:13.336531",
          "exception": false,
          "start_time": "2020-11-16T15:47:12.963691",
          "status": "completed"
        },
        "tags": [],
        "id": "0eGeAFY6T7DA",
        "colab": {
          "base_uri": "https://localhost:8080/",
          "height": 536
        },
        "outputId": "a92e310a-cb4b-461b-83cf-4a517617ca40"
      },
      "source": [
        "def age_band(num):\n",
        "    for i in range(1, 100):\n",
        "        if num < 10*i :  return f'{(i-1) * 10} ~ {i*10}'\n",
        "\n",
        "        \n",
        "titanic_df['age_band'] = titanic_df['Age'].apply(age_band)\n",
        "titanic_age = titanic_df[['age_band', 'Survived']].groupby('age_band')['Survived'].value_counts().sort_index().unstack().fillna(0)\n",
        "titanic_age['Survival rate'] = titanic_age[1] / (titanic_age[0] + titanic_age[1]) * 100\n",
        "\n",
        "fig, ax = plt.subplots(1, 1, figsize=(10, 7))\n",
        "\n",
        "# ax2\n",
        "color_map = ['#d4dddd' for _ in range(9)]\n",
        "color_map[0] = color_map[8] = '#244747'\n",
        "\n",
        "ax.bar(titanic_age['Survival rate'].index, titanic_age['Survival rate'], \n",
        "       color=color_map, width=0.55, \n",
        "       edgecolor='black', \n",
        "       linewidth=0.7)\n",
        "\n",
        "\n",
        "\n",
        "for s in [\"top\",\"right\",\"left\"]:\n",
        "    ax.spines[s].set_visible(False)\n",
        "\n",
        "\n",
        "\n",
        "for i in titanic_age['Survival rate'].index:\n",
        "    ax.annotate(f\"{titanic_age['Survival rate'][i]:.02f}%\", \n",
        "                   xy=(i, titanic_age['Survival rate'][i] + 2.3),\n",
        "                   va = 'center', ha='center',fontweight='light', \n",
        "                   color='#4a4a4a')\n",
        "\n",
        "\n",
        "# mean line + annotation\n",
        "mean = titanic_df['Survived'].mean() *100\n",
        "ax.axhline(mean ,color='black', linewidth=0.4, linestyle='dashdot')\n",
        "    \n",
        "\n",
        "# Title & Subtitle    \n",
        "fig.text(0.06, 1, 'Age Band and Survival Rate', fontsize=15)\n",
        "\n",
        "grid_y_ticks = np.arange(0, 101, 20)\n",
        "ax.set_yticks(grid_y_ticks)\n",
        "ax.grid(axis='y', linestyle='-', alpha=0.4)\n",
        "\n",
        "plt.tight_layout()\n",
        "plt.show()"
      ],
      "execution_count": null,
      "outputs": [
        {
          "output_type": "display_data",
          "data": {
            "image/png": "[encoded data removed]",
            "text/plain": [
              "<Figure size 720x504 with 1 Axes>"
            ]
          },
          "metadata": {
            "tags": [],
            "needs_background": "light"
          }
        }
      ]
    },
    {
      "cell_type": "markdown",
      "metadata": {
        "papermill": {
          "duration": 0.099184,
          "end_time": "2020-11-16T15:47:13.535260",
          "exception": false,
          "start_time": "2020-11-16T15:47:13.436076",
          "status": "completed"
        },
        "tags": [],
        "id": "yPgHPCm_T7DB"
      },
      "source": [
        "From this graph it looks like there are different surviving chances across the different age bands.  \n",
        "We will create a new `AgeBand` feature."
      ]
    },
    {
      "cell_type": "code",
      "metadata": {
        "execution": {
          "iopub.execute_input": "2020-11-16T15:47:13.766865Z",
          "iopub.status.busy": "2020-11-16T15:47:13.765961Z",
          "iopub.status.idle": "2020-11-16T15:47:13.770533Z",
          "shell.execute_reply": "2020-11-16T15:47:13.769787Z"
        },
        "papermill": {
          "duration": 0.135968,
          "end_time": "2020-11-16T15:47:13.770656",
          "exception": false,
          "start_time": "2020-11-16T15:47:13.634688",
          "status": "completed"
        },
        "tags": [],
        "id": "p6uhqhUiT7DB",
        "colab": {
          "base_uri": "https://localhost:8080/"
        },
        "outputId": "777aa2c1-ed84-4300-c0c6-b400bb1b1e88"
      },
      "source": [
        "def createAgeBand(dataset):\n",
        "    dataset.loc[ dataset['Age'] <= 10, 'AgeBand'] = 0\n",
        "    dataset.loc[(dataset['Age'] > 10) & (dataset['Age'] <= 20), 'AgeBand'] = 1\n",
        "    dataset.loc[(dataset['Age'] > 20) & (dataset['Age'] <= 30), 'AgeBand'] = 2\n",
        "    dataset.loc[(dataset['Age'] > 30) & (dataset['Age'] <= 40), 'AgeBand'] = 3\n",
        "    dataset.loc[(dataset['Age'] > 40) & (dataset['Age'] <= 50), 'AgeBand'] = 4\n",
        "    dataset.loc[(dataset['Age'] > 50) & (dataset['Age'] <= 60), 'AgeBand'] = 5\n",
        "    dataset.loc[(dataset['Age'] > 60) & (dataset['Age'] <= 70), 'AgeBand'] = 6\n",
        "    dataset.loc[(dataset['Age'] > 70) & (dataset['Age'] <= 80), 'AgeBand'] = 7\n",
        "    dataset.loc[ dataset['Age'] > 80, 'AgeBand'] = 8\n",
        "    \n",
        "\n",
        "createAgeBand(titanic_df)\n",
        "titanic_df.AgeBand.isna().any()"
      ],
      "execution_count": null,
      "outputs": [
        {
          "output_type": "execute_result",
          "data": {
            "text/plain": [
              "False"
            ]
          },
          "metadata": {
            "tags": []
          },
          "execution_count": 35
        }
      ]
    },
    {
      "cell_type": "code",
      "metadata": {
        "execution": {
          "iopub.execute_input": "2020-11-16T15:47:13.984715Z",
          "iopub.status.busy": "2020-11-16T15:47:13.982001Z",
          "iopub.status.idle": "2020-11-16T15:47:14.450881Z",
          "shell.execute_reply": "2020-11-16T15:47:14.451472Z"
        },
        "papermill": {
          "duration": 0.579569,
          "end_time": "2020-11-16T15:47:14.451638",
          "exception": false,
          "start_time": "2020-11-16T15:47:13.872069",
          "status": "completed"
        },
        "tags": [],
        "id": "ngBRMUEQT7DC",
        "colab": {
          "base_uri": "https://localhost:8080/",
          "height": 297
        },
        "outputId": "b4e549b5-df16-42e6-be83-deb87d174a4f"
      },
      "source": [
        "sns.barplot(x=\"AgeBand\", y=\"Survived\", palette=sns.color_palette(\"coolwarm\"), data=titanic_df)"
      ],
      "execution_count": null,
      "outputs": [
        {
          "output_type": "execute_result",
          "data": {
            "text/plain": [
              "<matplotlib.axes._subplots.AxesSubplot at 0x7fe127490048>"
            ]
          },
          "metadata": {
            "tags": []
          },
          "execution_count": 36
        },
        {
          "output_type": "display_data",
          "data": {
            "image/png": "[encoded data removed]",
            "text/plain": [
              "<Figure size 432x288 with 1 Axes>"
            ]
          },
          "metadata": {
            "tags": [],
            "needs_background": "light"
          }
        }
      ]
    },
    {
      "cell_type": "code",
      "metadata": {
        "execution": {
          "iopub.execute_input": "2020-11-16T15:47:14.670563Z",
          "iopub.status.busy": "2020-11-16T15:47:14.664039Z",
          "iopub.status.idle": "2020-11-16T15:47:14.680351Z",
          "shell.execute_reply": "2020-11-16T15:47:14.679731Z"
        },
        "papermill": {
          "duration": 0.126069,
          "end_time": "2020-11-16T15:47:14.680480",
          "exception": false,
          "start_time": "2020-11-16T15:47:14.554411",
          "status": "completed"
        },
        "tags": [],
        "id": "UzIEllRNT7DC",
        "colab": {
          "base_uri": "https://localhost:8080/"
        },
        "outputId": "41ca2213-ea34-4f6b-b19f-3fff4523bea0"
      },
      "source": [
        "createAgeBand(test)\n",
        "test.AgeBand.isna().any()"
      ],
      "execution_count": null,
      "outputs": [
        {
          "output_type": "execute_result",
          "data": {
            "text/plain": [
              "False"
            ]
          },
          "metadata": {
            "tags": []
          },
          "execution_count": 37
        }
      ]
    },
    {
      "cell_type": "markdown",
      "metadata": {
        "papermill": {
          "duration": 0.103257,
          "end_time": "2020-11-16T15:47:14.885958",
          "exception": false,
          "start_time": "2020-11-16T15:47:14.782701",
          "status": "completed"
        },
        "tags": [],
        "id": "FyQBpfyxT7DC"
      },
      "source": [
        "## Train"
      ]
    },
    {
      "cell_type": "code",
      "metadata": {
        "execution": {
          "iopub.execute_input": "2020-11-16T15:47:15.105066Z",
          "iopub.status.busy": "2020-11-16T15:47:15.104099Z",
          "iopub.status.idle": "2020-11-16T15:47:15.109320Z",
          "shell.execute_reply": "2020-11-16T15:47:15.108585Z"
        },
        "papermill": {
          "duration": 0.119195,
          "end_time": "2020-11-16T15:47:15.109448",
          "exception": false,
          "start_time": "2020-11-16T15:47:14.990253",
          "status": "completed"
        },
        "tags": [],
        "id": "Z8BazhzGT7DD",
        "colab": {
          "base_uri": "https://localhost:8080/"
        },
        "outputId": "ffaacef6-cac5-4a31-fcc4-b1b340fae8fd"
      },
      "source": [
        "print(titanic_df.isna().sum().any())\n",
        "print(test.isna().sum().any())"
      ],
      "execution_count": null,
      "outputs": [
        {
          "output_type": "stream",
          "text": [
            "False\n",
            "True\n"
          ],
          "name": "stdout"
        }
      ]
    },
    {
      "cell_type": "markdown",
      "metadata": {
        "papermill": {
          "duration": 0.102445,
          "end_time": "2020-11-16T15:47:15.314780",
          "exception": false,
          "start_time": "2020-11-16T15:47:15.212335",
          "status": "completed"
        },
        "tags": [],
        "id": "PECstt_FT7DD"
      },
      "source": [
        "### SGD Train with `FamilySize` Featrure:"
      ]
    },
    {
      "cell_type": "code",
      "metadata": {
        "execution": {
          "iopub.execute_input": "2020-11-16T15:47:15.532913Z",
          "iopub.status.busy": "2020-11-16T15:47:15.528953Z",
          "iopub.status.idle": "2020-11-16T15:47:15.552728Z",
          "shell.execute_reply": "2020-11-16T15:47:15.552070Z"
        },
        "papermill": {
          "duration": 0.135318,
          "end_time": "2020-11-16T15:47:15.552862",
          "exception": false,
          "start_time": "2020-11-16T15:47:15.417544",
          "status": "completed"
        },
        "tags": [],
        "id": "kZMAz7g6T7DD"
      },
      "source": [
        "data_fs = titanic_df[[\"AgePclass\", \"Fare\", \"Mr\", \"Mrs\", \"Miss\", \"Master\", \"Embarked_s\", \"Embarked_c\", \"Embarked_q\", \"Male\", \"Female\", \"FamilySize\", \"Survived\"]]\n",
        "t_fs = data_fs[\"Survived\"]\n",
        "x_fs = data_fs.drop('Survived', axis=1)\n",
        "\n",
        "x_train_fs, x_test_fs, t_train_fs, t_test_fs = sklearn.model_selection.train_test_split(x_fs, t_fs, test_size=0.2, random_state=0)\n",
        "SGD_cls_fs = pipeline.make_pipeline(preprocessing.StandardScaler(), linear_model.SGDClassifier(loss='log', alpha=0, learning_rate='constant', eta0=0.01)).fit(x_train_fs, t_train_fs)\n",
        "y_train_prob_fs = SGD_cls_fs.predict_proba(x_train_fs)\n",
        "y_test_prob_fs = SGD_cls_fs.predict_proba(x_test_fs)\n"
      ],
      "execution_count": null,
      "outputs": []
    },
    {
      "cell_type": "code",
      "metadata": {
        "execution": {
          "iopub.execute_input": "2020-11-16T15:47:15.768707Z",
          "iopub.status.busy": "2020-11-16T15:47:15.767933Z",
          "iopub.status.idle": "2020-11-16T15:47:15.782306Z",
          "shell.execute_reply": "2020-11-16T15:47:15.781523Z"
        },
        "papermill": {
          "duration": 0.126633,
          "end_time": "2020-11-16T15:47:15.782435",
          "exception": false,
          "start_time": "2020-11-16T15:47:15.655802",
          "status": "completed"
        },
        "tags": [],
        "id": "TfuRyB2oT7DD",
        "colab": {
          "base_uri": "https://localhost:8080/"
        },
        "outputId": "8de830d5-6a89-4c5f-9a3e-d8713b6ee37a"
      },
      "source": [
        "acurSGD_fs_train = SGD_cls_fs.score(x_train_fs, t_train_fs)\n",
        "acurSGD_fs_valid = SGD_cls_fs.score(x_test_fs, t_test_fs)\n",
        "ceSGD_fs_train = metrics.log_loss(t_train_fs, y_train_prob_fs)\n",
        "ceSGD_fs_valid = metrics.log_loss(t_test_fs, y_test_prob_fs)\n",
        "\n",
        "print('Accuracy score on train', acurSGD_fs_train)\n",
        "print('Accuracy score on validation', acurSGD_fs_valid)\n",
        "print()\n",
        "print('CE on train', ceSGD_fs_train)\n",
        "print('CE on test',ceSGD_fs_valid)"
      ],
      "execution_count": null,
      "outputs": [
        {
          "output_type": "stream",
          "text": [
            "Accuracy score on train 0.8300561797752809\n",
            "Accuracy score on validation 0.8156424581005587\n",
            "\n",
            "CE on train 0.418160987164844\n",
            "CE on test 0.41881314026521693\n"
          ],
          "name": "stdout"
        }
      ]
    },
    {
      "cell_type": "markdown",
      "metadata": {
        "papermill": {
          "duration": 0.147591,
          "end_time": "2020-11-16T15:47:16.035049",
          "exception": false,
          "start_time": "2020-11-16T15:47:15.887458",
          "status": "completed"
        },
        "tags": [],
        "id": "w3zG3UoET7DE"
      },
      "source": [
        "### SGD Train with `IsAlone` Featrure:"
      ]
    },
    {
      "cell_type": "code",
      "metadata": {
        "execution": {
          "iopub.execute_input": "2020-11-16T15:47:16.264417Z",
          "iopub.status.busy": "2020-11-16T15:47:16.260512Z",
          "iopub.status.idle": "2020-11-16T15:47:16.279185Z",
          "shell.execute_reply": "2020-11-16T15:47:16.278415Z"
        },
        "papermill": {
          "duration": 0.13559,
          "end_time": "2020-11-16T15:47:16.279329",
          "exception": false,
          "start_time": "2020-11-16T15:47:16.143739",
          "status": "completed"
        },
        "tags": [],
        "id": "fIuYxyRnT7DE"
      },
      "source": [
        "data_ia = titanic_df[[\"AgePclass\", \"Fare\", \"Mr\", \"Mrs\", \"Miss\", \"Master\", \"Embarked_s\", \"Embarked_c\", \"Embarked_q\", \"Male\", \"Female\", \"IsAlone\", \"Survived\"]]\n",
        "t_ia = data_ia[\"Survived\"]\n",
        "x_ia = data_ia.drop('Survived', axis=1)\n",
        "\n",
        "x_train_ia, x_test_ia, t_train_ia, t_test_ia = sklearn.model_selection.train_test_split(x_ia, t_ia, test_size=0.2, random_state=0)\n",
        "SGD_cls_ia = pipeline.make_pipeline(preprocessing.StandardScaler(), linear_model.SGDClassifier(loss='log', alpha=0, learning_rate='constant', eta0=0.01)).fit(x_train_ia, t_train_ia)\n",
        "y_train_prob_ia = SGD_cls_ia.predict_proba(x_train_ia)\n",
        "y_test_prob_ia = SGD_cls_ia.predict_proba(x_test_ia)"
      ],
      "execution_count": null,
      "outputs": []
    },
    {
      "cell_type": "code",
      "metadata": {
        "execution": {
          "iopub.execute_input": "2020-11-16T15:47:16.498696Z",
          "iopub.status.busy": "2020-11-16T15:47:16.497571Z",
          "iopub.status.idle": "2020-11-16T15:47:16.510683Z",
          "shell.execute_reply": "2020-11-16T15:47:16.509824Z"
        },
        "papermill": {
          "duration": 0.127566,
          "end_time": "2020-11-16T15:47:16.510844",
          "exception": false,
          "start_time": "2020-11-16T15:47:16.383278",
          "status": "completed"
        },
        "tags": [],
        "id": "6wdhN-z8T7DE",
        "colab": {
          "base_uri": "https://localhost:8080/"
        },
        "outputId": "6d293c28-fc11-4b50-b5fa-a3ffa1f30c3f"
      },
      "source": [
        "acurSGD_ia_train = SGD_cls_ia.score(x_train_ia, t_train_ia)\n",
        "acurSGD_ia_valid = SGD_cls_ia.score(x_test_ia, t_test_ia)\n",
        "ceSGD_ia_train = metrics.log_loss(t_train_ia, y_train_prob_ia)\n",
        "ceSGD_ia_valid = metrics.log_loss(t_test_ia, y_test_prob_ia)\n",
        "\n",
        "print('Accuracy score on train', acurSGD_ia_train)\n",
        "print('Accuracy score on validation', acurSGD_ia_valid)\n",
        "print()\n",
        "print('CE on train', ceSGD_ia_train)\n",
        "print('CE on test',ceSGD_ia_valid)"
      ],
      "execution_count": null,
      "outputs": [
        {
          "output_type": "stream",
          "text": [
            "Accuracy score on train 0.8061797752808989\n",
            "Accuracy score on validation 0.7932960893854749\n",
            "\n",
            "CE on train 0.4454623059578102\n",
            "CE on test 0.45251014561804437\n"
          ],
          "name": "stdout"
        }
      ]
    },
    {
      "cell_type": "markdown",
      "metadata": {
        "papermill": {
          "duration": 0.103996,
          "end_time": "2020-11-16T15:47:16.719490",
          "exception": false,
          "start_time": "2020-11-16T15:47:16.615494",
          "status": "completed"
        },
        "tags": [],
        "id": "sIiEpey9T7DF"
      },
      "source": [
        "We get better results with `FamilySize` feature and not with `IsAlone` so we will continue with it."
      ]
    },
    {
      "cell_type": "markdown",
      "metadata": {
        "papermill": {
          "duration": 0.109073,
          "end_time": "2020-11-16T15:47:16.933975",
          "exception": false,
          "start_time": "2020-11-16T15:47:16.824902",
          "status": "completed"
        },
        "tags": [],
        "id": "KRy9LXNkT7DF"
      },
      "source": [
        "### SGD Train with `AgeBand` Featrure:"
      ]
    },
    {
      "cell_type": "code",
      "metadata": {
        "execution": {
          "iopub.execute_input": "2020-11-16T15:47:17.166108Z",
          "iopub.status.busy": "2020-11-16T15:47:17.162189Z",
          "iopub.status.idle": "2020-11-16T15:47:17.180800Z",
          "shell.execute_reply": "2020-11-16T15:47:17.179992Z"
        },
        "papermill": {
          "duration": 0.138963,
          "end_time": "2020-11-16T15:47:17.180934",
          "exception": false,
          "start_time": "2020-11-16T15:47:17.041971",
          "status": "completed"
        },
        "tags": [],
        "id": "8HFzL-NGT7DF"
      },
      "source": [
        "data_ab = titanic_df[[\"AgePclass\", \"AgeBand\", \"Fare\", \"Mr\", \"Mrs\", \"Miss\", \"Master\", \"Embarked_s\", \"Embarked_c\", \"Embarked_q\", \"Male\", \"Female\", \"FamilySize\", \"Survived\"]]\n",
        "t_ab = data_ab[\"Survived\"]\n",
        "x_ab = data_ab.drop('Survived', axis=1)\n",
        "\n",
        "x_train_ab, x_test_ab, t_train_ab, t_test_ab = sklearn.model_selection.train_test_split(x_ab, t_ab, test_size=0.2, random_state=0)\n",
        "SGD_cls_ab = pipeline.make_pipeline(preprocessing.StandardScaler(), linear_model.SGDClassifier(loss='log', alpha=0, learning_rate='constant', eta0=0.01)).fit(x_train_ab, t_train_ab)\n",
        "y_train_prob_ab = SGD_cls_ab.predict_proba(x_train_ab)\n",
        "y_test_prob_ab = SGD_cls_ab.predict_proba(x_test_ab)"
      ],
      "execution_count": null,
      "outputs": []
    },
    {
      "cell_type": "code",
      "metadata": {
        "execution": {
          "iopub.execute_input": "2020-11-16T15:47:17.403037Z",
          "iopub.status.busy": "2020-11-16T15:47:17.402191Z",
          "iopub.status.idle": "2020-11-16T15:47:17.415243Z",
          "shell.execute_reply": "2020-11-16T15:47:17.414541Z"
        },
        "papermill": {
          "duration": 0.129887,
          "end_time": "2020-11-16T15:47:17.415410",
          "exception": false,
          "start_time": "2020-11-16T15:47:17.285523",
          "status": "completed"
        },
        "tags": [],
        "id": "KyiGZprqT7DF",
        "colab": {
          "base_uri": "https://localhost:8080/"
        },
        "outputId": "6f300388-cca8-4af8-839d-30043a806ec2"
      },
      "source": [
        "acurSGD_ab_train = SGD_cls_ab.score(x_train_ab, t_train_ab)\n",
        "acurSGD_ab_valid = SGD_cls_ab.score(x_test_ab, t_test_ab)\n",
        "ceSGD_ab_train = metrics.log_loss(t_train_ab, y_train_prob_ab)\n",
        "ceSGD_ab_valid = metrics.log_loss(t_test_ab, y_test_prob_ab)\n",
        "\n",
        "print('Accuracy score on train', acurSGD_ab_train)\n",
        "print('Accuracy score on validation', acurSGD_ab_valid)\n",
        "print()\n",
        "print('CE on train', ceSGD_ab_train)\n",
        "print('CE on test',ceSGD_ab_valid)"
      ],
      "execution_count": null,
      "outputs": [
        {
          "output_type": "stream",
          "text": [
            "Accuracy score on train 0.8314606741573034\n",
            "Accuracy score on validation 0.8156424581005587\n",
            "\n",
            "CE on train 0.4170317626502636\n",
            "CE on test 0.4160533086351521\n"
          ],
          "name": "stdout"
        }
      ]
    },
    {
      "cell_type": "markdown",
      "metadata": {
        "papermill": {
          "duration": 0.109523,
          "end_time": "2020-11-16T15:47:17.631545",
          "exception": false,
          "start_time": "2020-11-16T15:47:17.522022",
          "status": "completed"
        },
        "tags": [],
        "id": "dTzSrgahT7DG"
      },
      "source": [
        "We can see that the accuracy is a little bit higher and the loss is a little bit smaller in this model."
      ]
    },
    {
      "cell_type": "markdown",
      "metadata": {
        "papermill": {
          "duration": 0.105078,
          "end_time": "2020-11-16T15:47:17.841951",
          "exception": false,
          "start_time": "2020-11-16T15:47:17.736873",
          "status": "completed"
        },
        "tags": [],
        "id": "TQ9xzpsPT7DG"
      },
      "source": [
        "### MLP Train with `FamilySize` Featrure:"
      ]
    },
    {
      "cell_type": "code",
      "metadata": {
        "execution": {
          "iopub.execute_input": "2020-11-16T15:47:18.066015Z",
          "iopub.status.busy": "2020-11-16T15:47:18.064871Z",
          "iopub.status.idle": "2020-11-16T15:47:23.684161Z",
          "shell.execute_reply": "2020-11-16T15:47:23.683075Z"
        },
        "papermill": {
          "duration": 5.734795,
          "end_time": "2020-11-16T15:47:23.684333",
          "exception": false,
          "start_time": "2020-11-16T15:47:17.949538",
          "status": "completed"
        },
        "tags": [],
        "id": "GOgrQqepT7DH"
      },
      "source": [
        "MLP_cls_fs = neural_network.MLPClassifier(activation='logistic', solver='sgd', alpha=0, max_iter=10000).fit(x_train_fs, t_train_fs)\n",
        "y_train_prob_fs = MLP_cls_fs.predict_proba(x_train_fs)\n",
        "y_test_prob_fs = MLP_cls_fs.predict_proba(x_test_fs)"
      ],
      "execution_count": null,
      "outputs": []
    },
    {
      "cell_type": "code",
      "metadata": {
        "execution": {
          "iopub.execute_input": "2020-11-16T15:47:23.911054Z",
          "iopub.status.busy": "2020-11-16T15:47:23.910039Z",
          "iopub.status.idle": "2020-11-16T15:47:23.925516Z",
          "shell.execute_reply": "2020-11-16T15:47:23.924862Z"
        },
        "papermill": {
          "duration": 0.132557,
          "end_time": "2020-11-16T15:47:23.925653",
          "exception": false,
          "start_time": "2020-11-16T15:47:23.793096",
          "status": "completed"
        },
        "tags": [],
        "id": "eCBD7aOcT7DH",
        "colab": {
          "base_uri": "https://localhost:8080/"
        },
        "outputId": "3f0c9ee7-57f0-400d-d29d-52c7c757c1e0"
      },
      "source": [
        "acurMLP_fs_train =  MLP_cls_fs.score(x_train_fs, t_train_fs)\n",
        "acurMLP_fs_valid = MLP_cls_fs.score(x_test_fs, t_test_fs)\n",
        "ceMLP_fs_train = metrics.log_loss(t_train_fs, y_train_prob_fs)\n",
        "ceMLP_fs_valid = metrics.log_loss(t_test_fs, y_test_prob_fs)\n",
        "\n",
        "print('Accuracy score on train', acurMLP_fs_train)\n",
        "print('Accuracy score on validation', acurMLP_fs_valid)\n",
        "print()\n",
        "print('CE on train', ceMLP_fs_train)\n",
        "print('CE on test',ceMLP_fs_valid)"
      ],
      "execution_count": null,
      "outputs": [
        {
          "output_type": "stream",
          "text": [
            "Accuracy score on train 0.8202247191011236\n",
            "Accuracy score on validation 0.8044692737430168\n",
            "\n",
            "CE on train 0.44298631739744443\n",
            "CE on test 0.4174316409921977\n"
          ],
          "name": "stdout"
        }
      ]
    },
    {
      "cell_type": "markdown",
      "metadata": {
        "papermill": {
          "duration": 0.10711,
          "end_time": "2020-11-16T15:47:24.141696",
          "exception": false,
          "start_time": "2020-11-16T15:47:24.034586",
          "status": "completed"
        },
        "tags": [],
        "id": "CM4lbPFVT7DI"
      },
      "source": [
        "### MLP Train with `IsAlone` Featrure:"
      ]
    },
    {
      "cell_type": "code",
      "metadata": {
        "execution": {
          "iopub.execute_input": "2020-11-16T15:47:24.364653Z",
          "iopub.status.busy": "2020-11-16T15:47:24.363478Z",
          "iopub.status.idle": "2020-11-16T15:47:29.461411Z",
          "shell.execute_reply": "2020-11-16T15:47:29.460644Z"
        },
        "papermill": {
          "duration": 5.213154,
          "end_time": "2020-11-16T15:47:29.461533",
          "exception": false,
          "start_time": "2020-11-16T15:47:24.248379",
          "status": "completed"
        },
        "tags": [],
        "id": "aaVTbDS7T7DI"
      },
      "source": [
        "MLP_cls_ia = neural_network.MLPClassifier(activation='logistic', solver='sgd', alpha=0, max_iter=10000).fit(x_train_ia, t_train_ia)\n",
        "y_train_prob_ia = MLP_cls_ia.predict_proba(x_train_ia)\n",
        "y_test_prob_ia = MLP_cls_ia.predict_proba(x_test_ia)"
      ],
      "execution_count": null,
      "outputs": []
    },
    {
      "cell_type": "code",
      "metadata": {
        "execution": {
          "iopub.execute_input": "2020-11-16T15:47:29.687380Z",
          "iopub.status.busy": "2020-11-16T15:47:29.686495Z",
          "iopub.status.idle": "2020-11-16T15:47:29.703920Z",
          "shell.execute_reply": "2020-11-16T15:47:29.704672Z"
        },
        "papermill": {
          "duration": 0.136013,
          "end_time": "2020-11-16T15:47:29.704874",
          "exception": false,
          "start_time": "2020-11-16T15:47:29.568861",
          "status": "completed"
        },
        "tags": [],
        "id": "0nomp_E8T7DI",
        "colab": {
          "base_uri": "https://localhost:8080/"
        },
        "outputId": "17572720-5463-4ba3-eae7-de583fca9fb9"
      },
      "source": [
        "acurMLP_ia_train =  MLP_cls_ia.score(x_train_ia, t_train_ia)\n",
        "acurMLP_ia_valid = MLP_cls_ia.score(x_test_ia, t_test_ia)\n",
        "ceMLP_ia_train = metrics.log_loss(t_train_ia, y_train_prob_ia)\n",
        "ceMLP_ia_valid = metrics.log_loss(t_test_ia, y_test_prob_ia)\n",
        "\n",
        "print('Accuracy score on train', acurMLP_ia_train)\n",
        "print('Accuracy score on validation', acurMLP_ia_valid)\n",
        "print()\n",
        "print('CE on train', ceMLP_ia_train)\n",
        "print('CE on test',ceMLP_ia_valid)"
      ],
      "execution_count": null,
      "outputs": [
        {
          "output_type": "stream",
          "text": [
            "Accuracy score on train 0.7851123595505618\n",
            "Accuracy score on validation 0.7821229050279329\n",
            "\n",
            "CE on train 0.4831006602923649\n",
            "CE on test 0.46517524127934795\n"
          ],
          "name": "stdout"
        }
      ]
    },
    {
      "cell_type": "markdown",
      "metadata": {
        "papermill": {
          "duration": 0.108073,
          "end_time": "2020-11-16T15:47:29.921222",
          "exception": false,
          "start_time": "2020-11-16T15:47:29.813149",
          "status": "completed"
        },
        "tags": [],
        "id": "xOdqPQ4kT7DJ"
      },
      "source": [
        "### MLP Train with `AgeBand` Featrure:"
      ]
    },
    {
      "cell_type": "code",
      "metadata": {
        "execution": {
          "iopub.execute_input": "2020-11-16T15:47:30.150716Z",
          "iopub.status.busy": "2020-11-16T15:47:30.149908Z",
          "iopub.status.idle": "2020-11-16T15:47:35.916196Z",
          "shell.execute_reply": "2020-11-16T15:47:35.915399Z"
        },
        "papermill": {
          "duration": 5.884666,
          "end_time": "2020-11-16T15:47:35.916385",
          "exception": false,
          "start_time": "2020-11-16T15:47:30.031719",
          "status": "completed"
        },
        "tags": [],
        "id": "lYml89veT7DJ"
      },
      "source": [
        "MLP_cls_ab = neural_network.MLPClassifier(activation='logistic', solver='sgd', alpha=0, max_iter=10000).fit(x_train_ab, t_train_ab)\n",
        "y_train_prob_ab = MLP_cls_ab.predict_proba(x_train_ab)\n",
        "y_test_prob_ab = MLP_cls_ab.predict_proba(x_test_ab)"
      ],
      "execution_count": null,
      "outputs": []
    },
    {
      "cell_type": "code",
      "metadata": {
        "execution": {
          "iopub.execute_input": "2020-11-16T15:47:36.147036Z",
          "iopub.status.busy": "2020-11-16T15:47:36.146019Z",
          "iopub.status.idle": "2020-11-16T15:47:36.160036Z",
          "shell.execute_reply": "2020-11-16T15:47:36.160717Z"
        },
        "papermill": {
          "duration": 0.132329,
          "end_time": "2020-11-16T15:47:36.160907",
          "exception": false,
          "start_time": "2020-11-16T15:47:36.028578",
          "status": "completed"
        },
        "tags": [],
        "id": "Ak275otxT7DK",
        "colab": {
          "base_uri": "https://localhost:8080/"
        },
        "outputId": "10342411-e075-4df9-d20e-eff2d46df075"
      },
      "source": [
        "acurMLP_ab_train =  MLP_cls_ab.score(x_train_ab, t_train_ab)\n",
        "acurMLP_ab_valid = MLP_cls_ab.score(x_test_ab, t_test_ab)\n",
        "ceMLP_ab_train = metrics.log_loss(t_train_ab, y_train_prob_ab)\n",
        "ceMLP_ab_valid = metrics.log_loss(t_test_ab, y_test_prob_ab)\n",
        "\n",
        "print('Accuracy score on train', acurMLP_ab_train)\n",
        "print('Accuracy score on validation', acurMLP_ab_valid)\n",
        "print()\n",
        "print('CE on train', ceMLP_ab_train)\n",
        "print('CE on test',ceMLP_ab_valid)"
      ],
      "execution_count": null,
      "outputs": [
        {
          "output_type": "stream",
          "text": [
            "Accuracy score on train 0.8103932584269663\n",
            "Accuracy score on validation 0.8044692737430168\n",
            "\n",
            "CE on train 0.45133958591620976\n",
            "CE on test 0.42485926413863645\n"
          ],
          "name": "stdout"
        }
      ]
    },
    {
      "cell_type": "markdown",
      "metadata": {
        "papermill": {
          "duration": 0.107856,
          "end_time": "2020-11-16T15:47:36.379908",
          "exception": false,
          "start_time": "2020-11-16T15:47:36.272052",
          "status": "completed"
        },
        "tags": [],
        "id": "0Njg4NpBT7DK"
      },
      "source": [
        "## Compare the Models"
      ]
    },
    {
      "cell_type": "code",
      "metadata": {
        "execution": {
          "iopub.execute_input": "2020-11-16T15:47:36.603189Z",
          "iopub.status.busy": "2020-11-16T15:47:36.602141Z",
          "iopub.status.idle": "2020-11-16T15:47:36.606999Z",
          "shell.execute_reply": "2020-11-16T15:47:36.605838Z"
        },
        "papermill": {
          "duration": 0.119744,
          "end_time": "2020-11-16T15:47:36.607175",
          "exception": false,
          "start_time": "2020-11-16T15:47:36.487431",
          "status": "completed"
        },
        "tags": [],
        "id": "OwvctOM2T7DL",
        "colab": {
          "base_uri": "https://localhost:8080/"
        },
        "outputId": "817a3e64-fa66-435e-8cb4-31f9ce71fe04"
      },
      "source": [
        "print([acurSGD_fs_train, acurSGD_ia_train, acurSGD_ab_train, acurMLP_fs_train, acurMLP_ia_train, acurMLP_ab_train])\n",
        "print([acurSGD_fs_valid, acurSGD_ia_valid, acurSGD_ab_valid, acurMLP_fs_valid, acurMLP_ia_valid, acurMLP_ab_valid])\n",
        "print([ceSGD_fs_train, ceSGD_ia_train, ceSGD_ab_train, ceMLP_fs_train, ceMLP_ia_train, ceMLP_ab_train])\n",
        "print([ceSGD_fs_valid, ceSGD_ia_valid, ceSGD_ab_valid, ceMLP_fs_valid, ceMLP_ia_valid, ceMLP_ab_valid])\n"
      ],
      "execution_count": null,
      "outputs": [
        {
          "output_type": "stream",
          "text": [
            "[0.8300561797752809, 0.8061797752808989, 0.8314606741573034, 0.8202247191011236, 0.7851123595505618, 0.8103932584269663]\n",
            "[0.8156424581005587, 0.7932960893854749, 0.8156424581005587, 0.8044692737430168, 0.7821229050279329, 0.8044692737430168]\n",
            "[0.418160987164844, 0.4454623059578102, 0.4170317626502636, 0.44298631739744443, 0.4831006602923649, 0.45133958591620976]\n",
            "[0.41881314026521693, 0.45251014561804437, 0.4160533086351521, 0.4174316409921977, 0.46517524127934795, 0.42485926413863645]\n"
          ],
          "name": "stdout"
        }
      ]
    },
    {
      "cell_type": "code",
      "metadata": {
        "execution": {
          "iopub.execute_input": "2020-11-16T15:47:36.834594Z",
          "iopub.status.busy": "2020-11-16T15:47:36.833714Z",
          "iopub.status.idle": "2020-11-16T15:47:36.843545Z",
          "shell.execute_reply": "2020-11-16T15:47:36.842743Z"
        },
        "papermill": {
          "duration": 0.127047,
          "end_time": "2020-11-16T15:47:36.843673",
          "exception": false,
          "start_time": "2020-11-16T15:47:36.716626",
          "status": "completed"
        },
        "tags": [],
        "id": "aRM648WET7DL"
      },
      "source": [
        "names = [\"SGD FamilySize\", \"SGD IsAlone\", \"SGD FamilySize-AgeBand\", \"MLP FamilySize\", \"MLP IsAlone\", \"MLP FamilySize-AgeBand\"]\n",
        "train_acur = [acurSGD_fs_train, acurSGD_ia_train, acurSGD_ab_train, acurMLP_fs_train, acurMLP_ia_train, acurMLP_ab_train]\n",
        "valid_acur = [acurSGD_fs_valid, acurSGD_ia_valid, acurSGD_ab_valid, acurMLP_fs_valid, acurMLP_ia_valid, acurMLP_ab_valid]\n",
        "train_loss = [ceSGD_fs_train, ceSGD_ia_train, ceSGD_ab_train, ceMLP_fs_train, ceMLP_ia_train, ceMLP_ab_train]\n",
        "valid_loss = [ceSGD_fs_valid, ceSGD_ia_valid, ceSGD_ab_valid, ceMLP_fs_valid, ceMLP_ia_valid, ceMLP_ab_valid]\n",
        "\n",
        "df = pd.DataFrame(list(zip(names, train_acur, valid_acur, train_loss, valid_loss)), columns = ['Name', 'Train_accuracy', 'Validation_accuracy', 'Train_loss', 'Validation_loss'])"
      ],
      "execution_count": null,
      "outputs": []
    },
    {
      "cell_type": "code",
      "metadata": {
        "execution": {
          "iopub.execute_input": "2020-11-16T15:47:37.078395Z",
          "iopub.status.busy": "2020-11-16T15:47:37.077592Z",
          "iopub.status.idle": "2020-11-16T15:47:37.609754Z",
          "shell.execute_reply": "2020-11-16T15:47:37.608567Z"
        },
        "papermill": {
          "duration": 0.657739,
          "end_time": "2020-11-16T15:47:37.609937",
          "exception": false,
          "start_time": "2020-11-16T15:47:36.952198",
          "status": "completed"
        },
        "tags": [],
        "id": "TgKhxwi-T7DN",
        "colab": {
          "base_uri": "https://localhost:8080/",
          "height": 402
        },
        "outputId": "d10b177f-4e49-4440-c7f8-bf99075fcc86"
      },
      "source": [
        "sns.catplot(x=\"Train_accuracy\", y=\"Name\", hue=\"Name\", kind=\"bar\", palette=sns.color_palette(\"deep\"), data=df, height=5, aspect=4)"
      ],
      "execution_count": null,
      "outputs": [
        {
          "output_type": "execute_result",
          "data": {
            "text/plain": [
              "<seaborn.axisgrid.FacetGrid at 0x7fe130b99c88>"
            ]
          },
          "metadata": {
            "tags": []
          },
          "execution_count": 53
        },
        {
          "output_type": "display_data",
          "data": {
            "image/png": "[encoded data removed]",
            "text/plain": [
              "<Figure size 1602x360 with 1 Axes>"
            ]
          },
          "metadata": {
            "tags": [],
            "needs_background": "light"
          }
        }
      ]
    },
    {
      "cell_type": "code",
      "metadata": {
        "execution": {
          "iopub.execute_input": "2020-11-16T15:47:37.861060Z",
          "iopub.status.busy": "2020-11-16T15:47:37.854445Z",
          "iopub.status.idle": "2020-11-16T15:47:38.493418Z",
          "shell.execute_reply": "2020-11-16T15:47:38.492647Z"
        },
        "papermill": {
          "duration": 0.769447,
          "end_time": "2020-11-16T15:47:38.493540",
          "exception": false,
          "start_time": "2020-11-16T15:47:37.724093",
          "status": "completed"
        },
        "tags": [],
        "id": "fMlGzf_tT7DP",
        "colab": {
          "base_uri": "https://localhost:8080/",
          "height": 402
        },
        "outputId": "6bbbc745-bf31-4705-f1de-a54b9a1ca276"
      },
      "source": [
        "sns.catplot(x=\"Train_loss\", y=\"Name\", hue=\"Name\", kind=\"bar\", palette=sns.color_palette(\"deep\"), data=df, height=5, aspect=4)"
      ],
      "execution_count": null,
      "outputs": [
        {
          "output_type": "execute_result",
          "data": {
            "text/plain": [
              "<seaborn.axisgrid.FacetGrid at 0x7fe12746a780>"
            ]
          },
          "metadata": {
            "tags": []
          },
          "execution_count": 54
        },
        {
          "output_type": "display_data",
          "data": {
            "image/png": "[encoded data removed]",
            "text/plain": [
              "<Figure size 1602x360 with 1 Axes>"
            ]
          },
          "metadata": {
            "tags": [],
            "needs_background": "light"
          }
        }
      ]
    },
    {
      "cell_type": "code",
      "metadata": {
        "execution": {
          "iopub.execute_input": "2020-11-16T15:47:38.731992Z",
          "iopub.status.busy": "2020-11-16T15:47:38.731064Z",
          "iopub.status.idle": "2020-11-16T15:47:39.305376Z",
          "shell.execute_reply": "2020-11-16T15:47:39.304669Z"
        },
        "papermill": {
          "duration": 0.697107,
          "end_time": "2020-11-16T15:47:39.305512",
          "exception": false,
          "start_time": "2020-11-16T15:47:38.608405",
          "status": "completed"
        },
        "tags": [],
        "id": "FREPtzhCT7DR",
        "colab": {
          "base_uri": "https://localhost:8080/",
          "height": 402
        },
        "outputId": "eb7cb77b-7e37-4be0-a57f-c1c01861be3d"
      },
      "source": [
        "sns.catplot(x=\"Validation_accuracy\", y=\"Name\", hue=\"Name\", kind=\"bar\", palette=sns.color_palette(\"deep\"), data=df, height=5, aspect=4)"
      ],
      "execution_count": null,
      "outputs": [
        {
          "output_type": "execute_result",
          "data": {
            "text/plain": [
              "<seaborn.axisgrid.FacetGrid at 0x7fe12717d4a8>"
            ]
          },
          "metadata": {
            "tags": []
          },
          "execution_count": 55
        },
        {
          "output_type": "display_data",
          "data": {
            "image/png": "[encoded data removed]",
            "text/plain": [
              "<Figure size 1602x360 with 1 Axes>"
            ]
          },
          "metadata": {
            "tags": [],
            "needs_background": "light"
          }
        }
      ]
    },
    {
      "cell_type": "code",
      "metadata": {
        "execution": {
          "iopub.execute_input": "2020-11-16T15:47:39.564775Z",
          "iopub.status.busy": "2020-11-16T15:47:39.557020Z",
          "iopub.status.idle": "2020-11-16T15:47:40.087701Z",
          "shell.execute_reply": "2020-11-16T15:47:40.086926Z"
        },
        "papermill": {
          "duration": 0.665133,
          "end_time": "2020-11-16T15:47:40.087847",
          "exception": false,
          "start_time": "2020-11-16T15:47:39.422714",
          "status": "completed"
        },
        "tags": [],
        "id": "r042V7kuT7DS",
        "colab": {
          "base_uri": "https://localhost:8080/",
          "height": 402
        },
        "outputId": "54fdae0d-efa9-48f7-b684-c88f8679d94e"
      },
      "source": [
        "sns.catplot(x=\"Validation_loss\", y=\"Name\", hue=\"Name\", kind=\"bar\", palette=sns.color_palette(\"deep\"), data=df, height=5, aspect=4)"
      ],
      "execution_count": null,
      "outputs": [
        {
          "output_type": "execute_result",
          "data": {
            "text/plain": [
              "<seaborn.axisgrid.FacetGrid at 0x7fe128e9ab00>"
            ]
          },
          "metadata": {
            "tags": []
          },
          "execution_count": 56
        },
        {
          "output_type": "display_data",
          "data": {
            "image/png": "[encoded data removed]",
            "text/plain": [
              "<Figure size 1602x360 with 1 Axes>"
            ]
          },
          "metadata": {
            "tags": [],
            "needs_background": "light"
          }
        }
      ]
    },
    {
      "cell_type": "markdown",
      "metadata": {
        "papermill": {
          "duration": 0.120805,
          "end_time": "2020-11-16T15:47:40.330422",
          "exception": false,
          "start_time": "2020-11-16T15:47:40.209617",
          "status": "completed"
        },
        "tags": [],
        "id": "6qflHVKkT7DT"
      },
      "source": [
        "We can see that the best train results was with SGD with `AgeBand` feature.  \n",
        "The best validation results was with SGD with `AgeBand` feature as well.  \n",
        "Also, the smallest loss (train, and validation) was with SGD with `AgeBand` feature.  \n",
        "So we will use this model with the test."
      ]
    },
    {
      "cell_type": "markdown",
      "metadata": {
        "papermill": {
          "duration": 0.117289,
          "end_time": "2020-11-16T15:47:40.567701",
          "exception": false,
          "start_time": "2020-11-16T15:47:40.450412",
          "status": "completed"
        },
        "tags": [],
        "id": "nbnKz1PgT7DT"
      },
      "source": [
        "## Test"
      ]
    },
    {
      "cell_type": "markdown",
      "metadata": {
        "papermill": {
          "duration": 0.119954,
          "end_time": "2020-11-16T15:47:40.809314",
          "exception": false,
          "start_time": "2020-11-16T15:47:40.689360",
          "status": "completed"
        },
        "tags": [],
        "id": "KYBRpyMsT7DU"
      },
      "source": [
        "The test dataset missing one value in `Fare` variable, we will fill it with the mean of passengers with the same `Pclass`, `Title_cat`."
      ]
    },
    {
      "cell_type": "code",
      "metadata": {
        "execution": {
          "iopub.execute_input": "2020-11-16T15:47:41.067375Z",
          "iopub.status.busy": "2020-11-16T15:47:41.066342Z",
          "iopub.status.idle": "2020-11-16T15:47:41.072260Z",
          "shell.execute_reply": "2020-11-16T15:47:41.071270Z"
        },
        "papermill": {
          "duration": 0.141715,
          "end_time": "2020-11-16T15:47:41.072445",
          "exception": false,
          "start_time": "2020-11-16T15:47:40.930730",
          "status": "completed"
        },
        "tags": [],
        "id": "P16bY8VKT7DU",
        "colab": {
          "base_uri": "https://localhost:8080/"
        },
        "outputId": "1a5a4dc0-44ce-4af3-aa24-74a43bcfab54"
      },
      "source": [
        "test[\"Fare\"] = test[\"Fare\"].fillna(test[\"Fare\"].mean())\n",
        "test.Fare.isna().any()"
      ],
      "execution_count": null,
      "outputs": [
        {
          "output_type": "execute_result",
          "data": {
            "text/plain": [
              "False"
            ]
          },
          "metadata": {
            "tags": []
          },
          "execution_count": 57
        }
      ]
    },
    {
      "cell_type": "code",
      "metadata": {
        "execution": {
          "iopub.execute_input": "2020-11-16T15:47:41.331067Z",
          "iopub.status.busy": "2020-11-16T15:47:41.330207Z",
          "iopub.status.idle": "2020-11-16T15:47:41.670748Z",
          "shell.execute_reply": "2020-11-16T15:47:41.669875Z"
        },
        "papermill": {
          "duration": 0.474245,
          "end_time": "2020-11-16T15:47:41.670892",
          "exception": false,
          "start_time": "2020-11-16T15:47:41.196647",
          "status": "completed"
        },
        "tags": [],
        "id": "f_O_zrsZT7DV"
      },
      "source": [
        "test_ac = test[[\"AgePclass\", \"AgeBand\", \"Fare\", \"Mr\", \"Mrs\", \"Miss\", \"Master\", \"Embarked_s\", \"Embarked_c\", \"Embarked_q\", \"Male\", \"Female\", \"FamilySize\"]]\n",
        "\n",
        "y_pred = SGD_cls_ab.predict(test_ac)\n",
        "\n",
        "submission = pd.DataFrame({\n",
        "        \"PassengerId\": test[\"PassengerId\"],\n",
        "        \"Survived\": y_pred\n",
        "    })\n",
        "submission.to_csv('submission.csv', index=False)"
      ],
      "execution_count": null,
      "outputs": []
    },
    {
      "cell_type": "markdown",
      "metadata": {
        "papermill": {
          "duration": 0.118769,
          "end_time": "2020-11-16T15:47:41.907325",
          "exception": false,
          "start_time": "2020-11-16T15:47:41.788556",
          "status": "completed"
        },
        "tags": [],
        "id": "KX91wtGRT7DV"
      },
      "source": [
        "## Score\n",
        "\n",
        "![](https://user-images.githubusercontent.com/52006798/99272182-2b9a3600-2830-11eb-9432-a078aad8da1c.jpg)\n",
        "![](https://user-images.githubusercontent.com/52006798/99245606-85890480-280c-11eb-8ac3-c0783006dacf.jpg)\n",
        "![](https://user-images.githubusercontent.com/52006798/99245667-a2bdd300-280c-11eb-8149-dcd446f4e8d5.jpg)"
      ]
    },
    {
      "cell_type": "markdown",
      "metadata": {
        "id": "vzvHw6JsQAxW"
      },
      "source": [
        "## Conclusions\r\n",
        "At this exercise I have to investigate the data of passengers on the Titanic, I learned to fill in missing data and plotting the data. I have tried a different method of investigating and decide which features are more important for a good classification.\r\n",
        "I have tried different models and different features in order to get better results."
      ]
    },
    {
      "cell_type": "markdown",
      "metadata": {
        "papermill": {
          "duration": 0.118175,
          "end_time": "2020-11-16T15:47:42.144590",
          "exception": false,
          "start_time": "2020-11-16T15:47:42.026415",
          "status": "completed"
        },
        "tags": [],
        "id": "aUev5yNuT7DV"
      },
      "source": [
        "## Links\n",
        "\n",
        "\n",
        "* Fill `Embarked` missing values with the most common values. [Suggested here](https://www.kaggle.com/startupsci/titanic-data-science-solutions#Completing-a-categorical-feature)\n",
        "\n",
        "* Create `Title` feature instead of `Name`. [Suggested here](https://www.kaggle.com/startupsci/titanic-data-science-solutions#Creating-new-feature-extracting-from-existing)\n",
        "\n",
        "* Drop `PassengerId`, `Cabin` and `Ticket`. [Suggested here](https://www.kaggle.com/ldfreeman3/a-data-science-framework-to-achieve-99-accuracy#3.22-Clean-Data)\n",
        "\n",
        "* Dropping `SibSp` and `Parch` in favor for `FamilySize` feature. [Suggested here](https://www.kaggle.com/startupsci/titanic-data-science-solutions#Create-new-feature-combining-existing-features)\n",
        "\n",
        "* Consider `isAlone` feature instead of `SibSp`, `Parch` and `FamilySize`. [Suggested here](https://www.kaggle.com/startupsci/titanic-data-science-solutions#Create-new-feature-combining-existing-features)\n",
        "\n",
        "* Consider change `Age` into an ordinal variable based on age ranges. [Suggested here](https://www.kaggle.com/startupsci/titanic-data-science-solutions#Create-new-feature-combining-existing-features)"
      ]
    },
    {
      "cell_type": "markdown",
      "metadata": {
        "id": "4ChckUR5WVhP"
      },
      "source": [
        ""
      ]
    },
    {
      "cell_type": "markdown",
      "metadata": {
        "id": "_88uCDu1WVdH"
      },
      "source": [
        "# Exercise 3\r\n",
        "In this assignment, we need to base our models on the previous data exploration assignment.  \r\n",
        "I will do cross-validation on the different models, try to tune some hyper-parameters to get better results of the models and try to find the best subset of features that maximize the score.\r\n",
        "I will compare a linear classifier model with a KNN model and finally submit again the prediction of who survived and who does not."
      ]
    },
    {
      "cell_type": "markdown",
      "metadata": {
        "id": "cSciSjS8ZzrR"
      },
      "source": [
        "## Imports"
      ]
    },
    {
      "cell_type": "code",
      "metadata": {
        "id": "XBP7wtzQc3h6"
      },
      "source": [
        "import matplotlib.pyplot as plt\r\n",
        "import seaborn as sns\r\n",
        "import plotly.express as px\r\n",
        "from plotly.subplots import make_subplots\r\n",
        "import plotly.graph_objects as go\r\n",
        "from tqdm.auto import tqdm\r\n",
        "\r\n",
        "# sklearn imports\r\n",
        "from sklearn.metrics import confusion_matrix\r\n",
        "from sklearn.linear_model import SGDClassifier\r\n",
        "from sklearn.pipeline import make_pipeline\r\n",
        "from sklearn.preprocessing import OneHotEncoder\r\n",
        "from sklearn.preprocessing import OrdinalEncoder\r\n",
        "from sklearn.preprocessing import StandardScaler\r\n",
        "from sklearn.preprocessing import PolynomialFeatures\r\n",
        "from sklearn.model_selection import LeavePOut\r\n",
        "from sklearn.model_selection import KFold\r\n",
        "from sklearn.compose import ColumnTransformer\r\n",
        "from sklearn.feature_selection import RFE\r\n",
        "from sklearn.model_selection import GridSearchCV\r\n",
        "from sklearn.ensemble import BaggingClassifier\r\n",
        "from sklearn.ensemble import AdaBoostClassifier\r\n",
        "from sklearn.metrics import roc_curve, roc_auc_score\r\n",
        "from sklearn.neighbors import KNeighborsClassifier\r\n",
        "from sklearn.model_selection import cross_val_score\r\n",
        "from sklearn.naive_bayes import MultinomialNB\r\n",
        "from sklearn.preprocessing import MinMaxScaler"
      ],
      "execution_count": null,
      "outputs": []
    },
    {
      "cell_type": "markdown",
      "metadata": {
        "id": "bsUxJYfgZ30z"
      },
      "source": [
        "## Checking the Data"
      ]
    },
    {
      "cell_type": "markdown",
      "metadata": {
        "id": "D2nxeeJlYaZ6"
      },
      "source": [
        "Before starting anything, let's make sure we do not have any null values by mistake."
      ]
    },
    {
      "cell_type": "code",
      "metadata": {
        "id": "YVnJi3FAaBEW"
      },
      "source": [
        "t = titanic_df['Survived'].copy()\r\n",
        "X = titanic_df.drop(['Survived',\t'PassengerId',\t'Name',\t'Ticket', 'Title_cat', 'Embarked_s',\t'Embarked_c',\t'Embarked_q', 'Male',\t'Female',\t'Mr',\t'Mrs',\t'Miss',\t'Master',\t'age_band'], axis=1)"
      ],
      "execution_count": null,
      "outputs": []
    },
    {
      "cell_type": "markdown",
      "metadata": {
        "id": "Tzo62w6HYqTw"
      },
      "source": [
        "Okay, the data is ready to go, let's divide the columns into categorical, numerical, and ordinal."
      ]
    },
    {
      "cell_type": "code",
      "metadata": {
        "colab": {
          "base_uri": "https://localhost:8080/",
          "height": 613
        },
        "id": "JvmyYJfXitf5",
        "outputId": "1b5d7415-aacc-44c3-f53b-6e14adebc731"
      },
      "source": [
        "display(X)\r\n",
        "display(t)"
      ],
      "execution_count": null,
      "outputs": [
        {
          "output_type": "display_data",
          "data": {
            "text/html": [
              "<div>\n",
              "<style scoped>\n",
              "    .dataframe tbody tr th:only-of-type {\n",
              "        vertical-align: middle;\n",
              "    }\n",
              "\n",
              "    .dataframe tbody tr th {\n",
              "        vertical-align: top;\n",
              "    }\n",
              "\n",
              "    .dataframe thead th {\n",
              "        text-align: right;\n",
              "    }\n",
              "</style>\n",
              "<table border=\"1\" class=\"dataframe\">\n",
              "  <thead>\n",
              "    <tr style=\"text-align: right;\">\n",
              "      <th></th>\n",
              "      <th>Pclass</th>\n",
              "      <th>Sex</th>\n",
              "      <th>Age</th>\n",
              "      <th>SibSp</th>\n",
              "      <th>Parch</th>\n",
              "      <th>Fare</th>\n",
              "      <th>Embarked</th>\n",
              "      <th>Title</th>\n",
              "      <th>FamilySize</th>\n",
              "      <th>IsAlone</th>\n",
              "      <th>AgePclass</th>\n",
              "      <th>AgeBand</th>\n",
              "    </tr>\n",
              "  </thead>\n",
              "  <tbody>\n",
              "    <tr>\n",
              "      <th>0</th>\n",
              "      <td>3</td>\n",
              "      <td>male</td>\n",
              "      <td>22.000000</td>\n",
              "      <td>1</td>\n",
              "      <td>0</td>\n",
              "      <td>7.2500</td>\n",
              "      <td>S</td>\n",
              "      <td>Mr</td>\n",
              "      <td>2</td>\n",
              "      <td>0</td>\n",
              "      <td>66.000000</td>\n",
              "      <td>2.0</td>\n",
              "    </tr>\n",
              "    <tr>\n",
              "      <th>1</th>\n",
              "      <td>1</td>\n",
              "      <td>female</td>\n",
              "      <td>38.000000</td>\n",
              "      <td>1</td>\n",
              "      <td>0</td>\n",
              "      <td>71.2833</td>\n",
              "      <td>C</td>\n",
              "      <td>Mrs</td>\n",
              "      <td>2</td>\n",
              "      <td>0</td>\n",
              "      <td>38.000000</td>\n",
              "      <td>3.0</td>\n",
              "    </tr>\n",
              "    <tr>\n",
              "      <th>2</th>\n",
              "      <td>3</td>\n",
              "      <td>female</td>\n",
              "      <td>26.000000</td>\n",
              "      <td>0</td>\n",
              "      <td>0</td>\n",
              "      <td>7.9250</td>\n",
              "      <td>S</td>\n",
              "      <td>Miss</td>\n",
              "      <td>1</td>\n",
              "      <td>1</td>\n",
              "      <td>78.000000</td>\n",
              "      <td>2.0</td>\n",
              "    </tr>\n",
              "    <tr>\n",
              "      <th>3</th>\n",
              "      <td>1</td>\n",
              "      <td>female</td>\n",
              "      <td>35.000000</td>\n",
              "      <td>1</td>\n",
              "      <td>0</td>\n",
              "      <td>53.1000</td>\n",
              "      <td>S</td>\n",
              "      <td>Mrs</td>\n",
              "      <td>2</td>\n",
              "      <td>0</td>\n",
              "      <td>35.000000</td>\n",
              "      <td>3.0</td>\n",
              "    </tr>\n",
              "    <tr>\n",
              "      <th>4</th>\n",
              "      <td>3</td>\n",
              "      <td>male</td>\n",
              "      <td>35.000000</td>\n",
              "      <td>0</td>\n",
              "      <td>0</td>\n",
              "      <td>8.0500</td>\n",
              "      <td>S</td>\n",
              "      <td>Mr</td>\n",
              "      <td>1</td>\n",
              "      <td>1</td>\n",
              "      <td>105.000000</td>\n",
              "      <td>3.0</td>\n",
              "    </tr>\n",
              "    <tr>\n",
              "      <th>...</th>\n",
              "      <td>...</td>\n",
              "      <td>...</td>\n",
              "      <td>...</td>\n",
              "      <td>...</td>\n",
              "      <td>...</td>\n",
              "      <td>...</td>\n",
              "      <td>...</td>\n",
              "      <td>...</td>\n",
              "      <td>...</td>\n",
              "      <td>...</td>\n",
              "      <td>...</td>\n",
              "      <td>...</td>\n",
              "    </tr>\n",
              "    <tr>\n",
              "      <th>886</th>\n",
              "      <td>2</td>\n",
              "      <td>male</td>\n",
              "      <td>27.000000</td>\n",
              "      <td>0</td>\n",
              "      <td>0</td>\n",
              "      <td>13.0000</td>\n",
              "      <td>S</td>\n",
              "      <td>Other</td>\n",
              "      <td>1</td>\n",
              "      <td>1</td>\n",
              "      <td>54.000000</td>\n",
              "      <td>2.0</td>\n",
              "    </tr>\n",
              "    <tr>\n",
              "      <th>887</th>\n",
              "      <td>1</td>\n",
              "      <td>female</td>\n",
              "      <td>19.000000</td>\n",
              "      <td>0</td>\n",
              "      <td>0</td>\n",
              "      <td>30.0000</td>\n",
              "      <td>S</td>\n",
              "      <td>Miss</td>\n",
              "      <td>1</td>\n",
              "      <td>1</td>\n",
              "      <td>19.000000</td>\n",
              "      <td>1.0</td>\n",
              "    </tr>\n",
              "    <tr>\n",
              "      <th>888</th>\n",
              "      <td>3</td>\n",
              "      <td>female</td>\n",
              "      <td>16.123188</td>\n",
              "      <td>1</td>\n",
              "      <td>2</td>\n",
              "      <td>23.4500</td>\n",
              "      <td>S</td>\n",
              "      <td>Miss</td>\n",
              "      <td>4</td>\n",
              "      <td>0</td>\n",
              "      <td>48.369565</td>\n",
              "      <td>1.0</td>\n",
              "    </tr>\n",
              "    <tr>\n",
              "      <th>889</th>\n",
              "      <td>1</td>\n",
              "      <td>male</td>\n",
              "      <td>26.000000</td>\n",
              "      <td>0</td>\n",
              "      <td>0</td>\n",
              "      <td>30.0000</td>\n",
              "      <td>C</td>\n",
              "      <td>Mr</td>\n",
              "      <td>1</td>\n",
              "      <td>1</td>\n",
              "      <td>26.000000</td>\n",
              "      <td>2.0</td>\n",
              "    </tr>\n",
              "    <tr>\n",
              "      <th>890</th>\n",
              "      <td>3</td>\n",
              "      <td>male</td>\n",
              "      <td>32.000000</td>\n",
              "      <td>0</td>\n",
              "      <td>0</td>\n",
              "      <td>7.7500</td>\n",
              "      <td>Q</td>\n",
              "      <td>Mr</td>\n",
              "      <td>1</td>\n",
              "      <td>1</td>\n",
              "      <td>96.000000</td>\n",
              "      <td>3.0</td>\n",
              "    </tr>\n",
              "  </tbody>\n",
              "</table>\n",
              "<p>891 rows × 12 columns</p>\n",
              "</div>"
            ],
            "text/plain": [
              "     Pclass     Sex        Age  SibSp  ...  FamilySize  IsAlone   AgePclass AgeBand\n",
              "0         3    male  22.000000      1  ...           2        0   66.000000     2.0\n",
              "1         1  female  38.000000      1  ...           2        0   38.000000     3.0\n",
              "2         3  female  26.000000      0  ...           1        1   78.000000     2.0\n",
              "3         1  female  35.000000      1  ...           2        0   35.000000     3.0\n",
              "4         3    male  35.000000      0  ...           1        1  105.000000     3.0\n",
              "..      ...     ...        ...    ...  ...         ...      ...         ...     ...\n",
              "886       2    male  27.000000      0  ...           1        1   54.000000     2.0\n",
              "887       1  female  19.000000      0  ...           1        1   19.000000     1.0\n",
              "888       3  female  16.123188      1  ...           4        0   48.369565     1.0\n",
              "889       1    male  26.000000      0  ...           1        1   26.000000     2.0\n",
              "890       3    male  32.000000      0  ...           1        1   96.000000     3.0\n",
              "\n",
              "[891 rows x 12 columns]"
            ]
          },
          "metadata": {
            "tags": []
          }
        },
        {
          "output_type": "display_data",
          "data": {
            "text/plain": [
              "0      0\n",
              "1      1\n",
              "2      1\n",
              "3      1\n",
              "4      0\n",
              "      ..\n",
              "886    0\n",
              "887    1\n",
              "888    0\n",
              "889    1\n",
              "890    0\n",
              "Name: Survived, Length: 891, dtype: int64"
            ]
          },
          "metadata": {
            "tags": []
          }
        }
      ]
    },
    {
      "cell_type": "code",
      "metadata": {
        "id": "0sZWAiDlCezW"
      },
      "source": [
        "X[\"Age\"] = X[\"Age\"].astype(int)\r\n",
        "X[\"AgeBand\"] = X[\"AgeBand\"].astype(int)\r\n",
        "X[\"IsAlone\"] = X[\"IsAlone\"].map({ 1: True, 0: False })"
      ],
      "execution_count": null,
      "outputs": []
    },
    {
      "cell_type": "markdown",
      "metadata": {
        "id": "BedK8e_6Uh6I"
      },
      "source": [
        "## Encoding the Data"
      ]
    },
    {
      "cell_type": "code",
      "metadata": {
        "id": "W1MT9uq8YoCK"
      },
      "source": [
        "\r\n",
        "numerical_cols = X.select_dtypes(include=['float64', 'int64']).columns\r\n",
        "categorical_cols = X.select_dtypes(include=['object', 'bool']).columns\r\n",
        "ordinal_cols = []"
      ],
      "execution_count": null,
      "outputs": []
    },
    {
      "cell_type": "code",
      "metadata": {
        "colab": {
          "base_uri": "https://localhost:8080/"
        },
        "id": "vHY6gQqjZfMn",
        "outputId": "52c7a175-105f-4912-839a-27f3268b5993"
      },
      "source": [
        "print(\"Numerical:\\t\", numerical_cols)\r\n",
        "print(\"Categorical:\\t\", categorical_cols)\r\n",
        "print(\"Ordinal:\\t\", ordinal_cols)"
      ],
      "execution_count": null,
      "outputs": [
        {
          "output_type": "stream",
          "text": [
            "Numerical:\t Index(['Pclass', 'Age', 'SibSp', 'Parch', 'Fare', 'FamilySize', 'AgePclass',\n",
            "       'AgeBand'],\n",
            "      dtype='object')\n",
            "Categorical:\t Index(['Sex', 'Embarked', 'Title', 'IsAlone'], dtype='object')\n",
            "Ordinal:\t []\n"
          ],
          "name": "stdout"
        }
      ]
    },
    {
      "cell_type": "markdown",
      "metadata": {
        "id": "S0BZvkGMUk9h"
      },
      "source": [
        "## Cross-Validation"
      ]
    },
    {
      "cell_type": "markdown",
      "metadata": {
        "id": "kEswiw0UTlsE"
      },
      "source": [
        "Now let's define some functions for cross-validation."
      ]
    },
    {
      "cell_type": "code",
      "metadata": {
        "id": "hd0zH07XZefq"
      },
      "source": [
        "def find_generator_len(generator, use_pbar=True):\r\n",
        "    i = 0\r\n",
        "    \r\n",
        "    if use_pbar:\r\n",
        "        pbar = tqdm(desc='Calculating Length', ncols=1000, bar_format='{desc}{bar:10}{r_bar}')\r\n",
        "\r\n",
        "    for a in generator:\r\n",
        "        i += 1\r\n",
        "\r\n",
        "        if use_pbar:\r\n",
        "            pbar.update()\r\n",
        "\r\n",
        "    if use_pbar:\r\n",
        "        pbar.close()\r\n",
        "\r\n",
        "    return i"
      ],
      "execution_count": null,
      "outputs": []
    },
    {
      "cell_type": "code",
      "metadata": {
        "id": "AJVeOba3aw_y"
      },
      "source": [
        "# calculate score and loss from cv (KFold or LPO) and display graphs\r\n",
        "def get_cv_score_and_loss(X, t, model, k=None, p=None, show_score_loss_graphs=False, use_pbar=True):\r\n",
        "    scores_losses_df = pd.DataFrame(columns=['fold_id', 'split', 'score', 'loss'])\r\n",
        "\r\n",
        "    if k is not None:\r\n",
        "      cv = KFold(n_splits=k, shuffle=True, random_state=2)\r\n",
        "    elif p is not None:\r\n",
        "      cv = LeavePOut(p)\r\n",
        "    else:\r\n",
        "      raise ValueError(\"Must specify either `K` or `P`.\")\r\n",
        "\r\n",
        "    if use_pbar:\r\n",
        "        pbar = tqdm(desc='Computing Models', total=find_generator_len(cv.split(X)))\r\n",
        "\r\n",
        "    for i, (train_ids, val_ids) in enumerate(cv.split(X)):\r\n",
        "        X_train = X.loc[train_ids]\r\n",
        "        t_train = t.loc[train_ids]\r\n",
        "        X_val = X.loc[val_ids]\r\n",
        "        t_val = t.loc[val_ids]\r\n",
        "\r\n",
        "        model.fit(X_train, t_train)\r\n",
        "\r\n",
        "        y_train = model.predict_proba(X_train)\r\n",
        "        y_val = model.predict_proba(X_val)\r\n",
        "\r\n",
        "        scores_losses_df.loc[len(scores_losses_df)] = [i, 'train', model.score(X_train, t_train), metrics.log_loss(t_train, y_train, labels=[0, 1])]\r\n",
        "        scores_losses_df.loc[len(scores_losses_df)] = [i, 'val', model.score(X_val, t_val), metrics.log_loss(t_val, y_val, labels=[0, 1])]\r\n",
        "\r\n",
        "        if use_pbar:\r\n",
        "            pbar.update()\r\n",
        "\r\n",
        "    if use_pbar:\r\n",
        "        pbar.close()\r\n",
        "\r\n",
        "    val_scores_losses_df = scores_losses_df[scores_losses_df['split']=='val']\r\n",
        "    train_scores_losses_df = scores_losses_df[scores_losses_df['split']=='train']\r\n",
        "\r\n",
        "    mean_val_score = val_scores_losses_df['score'].mean()\r\n",
        "    mean_val_loss = val_scores_losses_df['loss'].mean()\r\n",
        "    mean_train_score = train_scores_losses_df['score'].mean()\r\n",
        "    mean_train_loss = train_scores_losses_df['loss'].mean()\r\n",
        "\r\n",
        "    if show_score_loss_graphs:\r\n",
        "        fig = px.line(scores_losses_df, x='fold_id', y='score', color='split', title=f'Mean Validation Score: {mean_val_score:.2f}, Mean Train Score: {mean_train_score:.2f}')\r\n",
        "        fig.show()\r\n",
        "        fig = px.line(scores_losses_df, x='fold_id', y='loss', color='split', title=f'Mean Validation Loss: {mean_val_loss:.2f}, Mean Train Loss: {mean_train_loss:.2f}')\r\n",
        "        fig.show()\r\n",
        "\r\n",
        "    return mean_val_score, mean_val_loss, mean_train_score, mean_train_loss, confusion_matrix(t_train, model.predict(X_train)), confusion_matrix(t_val, model.predict(X_val))"
      ],
      "execution_count": null,
      "outputs": []
    },
    {
      "cell_type": "markdown",
      "metadata": {
        "id": "rZmHx9n9Tt6N"
      },
      "source": [
        "Let's see the general results of cross-validation so far, we will use 10-k-fold."
      ]
    },
    {
      "cell_type": "code",
      "metadata": {
        "colab": {
          "base_uri": "https://localhost:8080/",
          "height": 1000,
          "referenced_widgets": [
            "b35743edca4044feabbb4fd5b1fc18ac",
            "7e71e81654c04b1bb39864af3fab0c11",
            "737b11a12b7047bcaf8cc98c8d2fbfed",
            "8563327b6c3b4d1aa38bb56399962497",
            "6560134fb3884025b6d9180c096e380a",
            "32d3dd148f6f4888825d8d3738b19d6a",
            "5fe0b73693a54b0b8b8509626bfab0cf",
            "9f88d09cc31c42d8a512e4a470b0ee74",
            "3681ffad666f4fceb9039ed11310ff86",
            "48e6341d75894055befa1799660436d6",
            "f04304d1371c4ee5ac9866afadce5fa2",
            "1305ae5beb3e4b76963c733f61f82a06",
            "da3fefea58894f31afd530d2e29ba36e",
            "619e77d7d6cf40b9ad29a7d2c76345cb",
            "7e4164bbd29f4ce6a46e583bf1ee884d",
            "b097c339c6a24b79b6e76a5eb1294529"
          ]
        },
        "id": "e8iPjXcFcltJ",
        "outputId": "3be1a70d-fd25-4a63-b1ff-123af2142ea9"
      },
      "source": [
        "ct = ColumnTransformer([\r\n",
        "    (\"encoding_ohe\", OneHotEncoder(sparse=False, handle_unknown='ignore'), categorical_cols),\r\n",
        "    (\"standard\", StandardScaler(), numerical_cols),\r\n",
        "    (\"ordinal\", OrdinalEncoder(), ordinal_cols)])\r\n",
        "\r\n",
        "model_pipe = make_pipeline(ct, SGDClassifier(loss='log', random_state=2))\r\n",
        "val_score, val_loss, train_score, train_loss, train_cm, valid_cm = get_cv_score_and_loss(X, t, model_pipe, k=10, show_score_loss_graphs=True)"
      ],
      "execution_count": null,
      "outputs": [
        {
          "output_type": "display_data",
          "data": {
            "application/vnd.jupyter.widget-view+json": {
              "model_id": "b35743edca4044feabbb4fd5b1fc18ac",
              "version_minor": 0,
              "version_major": 2
            },
            "text/plain": [
              "HBox(children=(FloatProgress(value=1.0, bar_style='info', description='Calculating Length', layout=Layout(flex…"
            ]
          },
          "metadata": {
            "tags": []
          }
        },
        {
          "output_type": "stream",
          "text": [
            "\n"
          ],
          "name": "stdout"
        },
        {
          "output_type": "display_data",
          "data": {
            "application/vnd.jupyter.widget-view+json": {
              "model_id": "3681ffad666f4fceb9039ed11310ff86",
              "version_minor": 0,
              "version_major": 2
            },
            "text/plain": [
              "HBox(children=(FloatProgress(value=0.0, description='Computing Models', max=10.0, style=ProgressStyle(descript…"
            ]
          },
          "metadata": {
            "tags": []
          }
        },
        {
          "output_type": "stream",
          "text": [
            "\n"
          ],
          "name": "stdout"
        },
        {
          "output_type": "display_data",
          "data": {
            "text/html": [
              "<html>\n",
              "<head><meta charset=\"utf-8\" /></head>\n",
              "<body>\n",
              "    <div>\n",
              "            <script src=\"https://cdnjs.cloudflare.com/ajax/libs/mathjax/2.7.5/MathJax.js?config=TeX-AMS-MML_SVG\"></script><script type=\"text/javascript\">if (window.MathJax) {MathJax.Hub.Config({SVG: {font: \"STIX-Web\"}});}</script>\n",
              "                <script type=\"text/javascript\">window.PlotlyConfig = {MathJaxConfig: 'local'};</script>\n",
              "        <script src=\"https://cdn.plot.ly/plotly-latest.min.js\"></script>    \n",
              "            <div id=\"e79565fa-302a-4a69-85f4-344c759da88a\" class=\"plotly-graph-div\" style=\"height:525px; width:100%;\"></div>\n",
              "            <script type=\"text/javascript\">\n",
              "                \n",
              "                    window.PLOTLYENV=window.PLOTLYENV || {};\n",
              "                    \n",
              "                if (document.getElementById(\"e79565fa-302a-4a69-85f4-344c759da88a\")) {\n",
              "                    Plotly.newPlot(\n",
              "                        'e79565fa-302a-4a69-85f4-344c759da88a',\n",
              "                        [{\"hoverlabel\": {\"namelength\": 0}, \"hovertemplate\": \"split=train<br>fold_id=%{x}<br>score=%{y}\", \"legendgroup\": \"split=train\", \"line\": {\"color\": \"#636efa\", \"dash\": \"solid\"}, \"mode\": \"lines\", \"name\": \"split=train\", \"showlegend\": true, \"type\": \"scatter\", \"x\": [0, 1, 2, 3, 4, 5, 6, 7, 8, 9], \"xaxis\": \"x\", \"y\": [0.8314606741573034, 0.7855361596009975, 0.7244389027431422, 0.8241895261845387, 0.786783042394015, 0.8017456359102244, 0.683291770573566, 0.827930174563591, 0.8204488778054863, 0.7980049875311721], \"yaxis\": \"y\"}, {\"hoverlabel\": {\"namelength\": 0}, \"hovertemplate\": \"split=val<br>fold_id=%{x}<br>score=%{y}\", \"legendgroup\": \"split=val\", \"line\": {\"color\": \"#EF553B\", \"dash\": \"solid\"}, \"mode\": \"lines\", \"name\": \"split=val\", \"showlegend\": true, \"type\": \"scatter\", \"x\": [0, 1, 2, 3, 4, 5, 6, 7, 8, 9], \"xaxis\": \"x\", \"y\": [0.7555555555555555, 0.7752808988764045, 0.6179775280898876, 0.8651685393258427, 0.8089887640449438, 0.797752808988764, 0.6629213483146067, 0.7865168539325843, 0.8202247191011236, 0.8202247191011236], \"yaxis\": \"y\"}],\n",
              "                        {\"legend\": {\"tracegroupgap\": 0}, \"template\": {\"data\": {\"bar\": [{\"error_x\": {\"color\": \"#2a3f5f\"}, \"error_y\": {\"color\": \"#2a3f5f\"}, \"marker\": {\"line\": {\"color\": \"#E5ECF6\", \"width\": 0.5}}, \"type\": \"bar\"}], \"barpolar\": [{\"marker\": {\"line\": {\"color\": \"#E5ECF6\", \"width\": 0.5}}, \"type\": \"barpolar\"}], \"carpet\": [{\"aaxis\": {\"endlinecolor\": \"#2a3f5f\", \"gridcolor\": \"white\", \"linecolor\": \"white\", \"minorgridcolor\": \"white\", \"startlinecolor\": \"#2a3f5f\"}, \"baxis\": {\"endlinecolor\": \"#2a3f5f\", \"gridcolor\": \"white\", \"linecolor\": \"white\", \"minorgridcolor\": \"white\", \"startlinecolor\": \"#2a3f5f\"}, \"type\": \"carpet\"}], \"choropleth\": [{\"colorbar\": {\"outlinewidth\": 0, \"ticks\": \"\"}, \"type\": \"choropleth\"}], \"contour\": [{\"colorbar\": {\"outlinewidth\": 0, \"ticks\": \"\"}, \"colorscale\": [[0.0, \"#0d0887\"], [0.1111111111111111, \"#46039f\"], [0.2222222222222222, \"#7201a8\"], [0.3333333333333333, \"#9c179e\"], [0.4444444444444444, \"#bd3786\"], [0.5555555555555556, \"#d8576b\"], [0.6666666666666666, \"#ed7953\"], [0.7777777777777778, \"#fb9f3a\"], [0.8888888888888888, \"#fdca26\"], [1.0, \"#f0f921\"]], \"type\": \"contour\"}], \"contourcarpet\": [{\"colorbar\": {\"outlinewidth\": 0, \"ticks\": \"\"}, \"type\": \"contourcarpet\"}], \"heatmap\": [{\"colorbar\": {\"outlinewidth\": 0, \"ticks\": \"\"}, \"colorscale\": [[0.0, \"#0d0887\"], [0.1111111111111111, \"#46039f\"], [0.2222222222222222, \"#7201a8\"], [0.3333333333333333, \"#9c179e\"], [0.4444444444444444, \"#bd3786\"], [0.5555555555555556, \"#d8576b\"], [0.6666666666666666, \"#ed7953\"], [0.7777777777777778, \"#fb9f3a\"], [0.8888888888888888, \"#fdca26\"], [1.0, \"#f0f921\"]], \"type\": \"heatmap\"}], \"heatmapgl\": [{\"colorbar\": {\"outlinewidth\": 0, \"ticks\": \"\"}, \"colorscale\": [[0.0, \"#0d0887\"], [0.1111111111111111, \"#46039f\"], [0.2222222222222222, \"#7201a8\"], [0.3333333333333333, \"#9c179e\"], [0.4444444444444444, \"#bd3786\"], [0.5555555555555556, \"#d8576b\"], [0.6666666666666666, \"#ed7953\"], [0.7777777777777778, \"#fb9f3a\"], [0.8888888888888888, \"#fdca26\"], [1.0, \"#f0f921\"]], \"type\": \"heatmapgl\"}], \"histogram\": [{\"marker\": {\"colorbar\": {\"outlinewidth\": 0, \"ticks\": \"\"}}, \"type\": \"histogram\"}], \"histogram2d\": [{\"colorbar\": {\"outlinewidth\": 0, \"ticks\": \"\"}, \"colorscale\": [[0.0, \"#0d0887\"], [0.1111111111111111, \"#46039f\"], [0.2222222222222222, \"#7201a8\"], [0.3333333333333333, \"#9c179e\"], [0.4444444444444444, \"#bd3786\"], [0.5555555555555556, \"#d8576b\"], [0.6666666666666666, \"#ed7953\"], [0.7777777777777778, \"#fb9f3a\"], [0.8888888888888888, \"#fdca26\"], [1.0, \"#f0f921\"]], \"type\": \"histogram2d\"}], \"histogram2dcontour\": [{\"colorbar\": {\"outlinewidth\": 0, \"ticks\": \"\"}, \"colorscale\": [[0.0, \"#0d0887\"], [0.1111111111111111, \"#46039f\"], [0.2222222222222222, \"#7201a8\"], [0.3333333333333333, \"#9c179e\"], [0.4444444444444444, \"#bd3786\"], [0.5555555555555556, \"#d8576b\"], [0.6666666666666666, \"#ed7953\"], [0.7777777777777778, \"#fb9f3a\"], [0.8888888888888888, \"#fdca26\"], [1.0, \"#f0f921\"]], \"type\": \"histogram2dcontour\"}], \"mesh3d\": [{\"colorbar\": {\"outlinewidth\": 0, \"ticks\": \"\"}, \"type\": \"mesh3d\"}], \"parcoords\": [{\"line\": {\"colorbar\": {\"outlinewidth\": 0, \"ticks\": \"\"}}, \"type\": \"parcoords\"}], \"pie\": [{\"automargin\": true, \"type\": \"pie\"}], \"scatter\": [{\"marker\": {\"colorbar\": {\"outlinewidth\": 0, \"ticks\": \"\"}}, \"type\": \"scatter\"}], \"scatter3d\": [{\"line\": {\"colorbar\": {\"outlinewidth\": 0, \"ticks\": \"\"}}, \"marker\": {\"colorbar\": {\"outlinewidth\": 0, \"ticks\": \"\"}}, \"type\": \"scatter3d\"}], \"scattercarpet\": [{\"marker\": {\"colorbar\": {\"outlinewidth\": 0, \"ticks\": \"\"}}, \"type\": \"scattercarpet\"}], \"scattergeo\": [{\"marker\": {\"colorbar\": {\"outlinewidth\": 0, \"ticks\": \"\"}}, \"type\": \"scattergeo\"}], \"scattergl\": [{\"marker\": {\"colorbar\": {\"outlinewidth\": 0, \"ticks\": \"\"}}, \"type\": \"scattergl\"}], \"scattermapbox\": [{\"marker\": {\"colorbar\": {\"outlinewidth\": 0, \"ticks\": \"\"}}, \"type\": \"scattermapbox\"}], \"scatterpolar\": [{\"marker\": {\"colorbar\": {\"outlinewidth\": 0, \"ticks\": \"\"}}, \"type\": \"scatterpolar\"}], \"scatterpolargl\": [{\"marker\": {\"colorbar\": {\"outlinewidth\": 0, \"ticks\": \"\"}}, \"type\": \"scatterpolargl\"}], \"scatterternary\": [{\"marker\": {\"colorbar\": {\"outlinewidth\": 0, \"ticks\": \"\"}}, \"type\": \"scatterternary\"}], \"surface\": [{\"colorbar\": {\"outlinewidth\": 0, \"ticks\": \"\"}, \"colorscale\": [[0.0, \"#0d0887\"], [0.1111111111111111, \"#46039f\"], [0.2222222222222222, \"#7201a8\"], [0.3333333333333333, \"#9c179e\"], [0.4444444444444444, \"#bd3786\"], [0.5555555555555556, \"#d8576b\"], [0.6666666666666666, \"#ed7953\"], [0.7777777777777778, \"#fb9f3a\"], [0.8888888888888888, \"#fdca26\"], [1.0, \"#f0f921\"]], \"type\": \"surface\"}], \"table\": [{\"cells\": {\"fill\": {\"color\": \"#EBF0F8\"}, \"line\": {\"color\": \"white\"}}, \"header\": {\"fill\": {\"color\": \"#C8D4E3\"}, \"line\": {\"color\": \"white\"}}, \"type\": \"table\"}]}, \"layout\": {\"annotationdefaults\": {\"arrowcolor\": \"#2a3f5f\", \"arrowhead\": 0, \"arrowwidth\": 1}, \"coloraxis\": {\"colorbar\": {\"outlinewidth\": 0, \"ticks\": \"\"}}, \"colorscale\": {\"diverging\": [[0, \"#8e0152\"], [0.1, \"#c51b7d\"], [0.2, \"#de77ae\"], [0.3, \"#f1b6da\"], [0.4, \"#fde0ef\"], [0.5, \"#f7f7f7\"], [0.6, \"#e6f5d0\"], [0.7, \"#b8e186\"], [0.8, \"#7fbc41\"], [0.9, \"#4d9221\"], [1, \"#276419\"]], \"sequential\": [[0.0, \"#0d0887\"], [0.1111111111111111, \"#46039f\"], [0.2222222222222222, \"#7201a8\"], [0.3333333333333333, \"#9c179e\"], [0.4444444444444444, \"#bd3786\"], [0.5555555555555556, \"#d8576b\"], [0.6666666666666666, \"#ed7953\"], [0.7777777777777778, \"#fb9f3a\"], [0.8888888888888888, \"#fdca26\"], [1.0, \"#f0f921\"]], \"sequentialminus\": [[0.0, \"#0d0887\"], [0.1111111111111111, \"#46039f\"], [0.2222222222222222, \"#7201a8\"], [0.3333333333333333, \"#9c179e\"], [0.4444444444444444, \"#bd3786\"], [0.5555555555555556, \"#d8576b\"], [0.6666666666666666, \"#ed7953\"], [0.7777777777777778, \"#fb9f3a\"], [0.8888888888888888, \"#fdca26\"], [1.0, \"#f0f921\"]]}, \"colorway\": [\"#636efa\", \"#EF553B\", \"#00cc96\", \"#ab63fa\", \"#FFA15A\", \"#19d3f3\", \"#FF6692\", \"#B6E880\", \"#FF97FF\", \"#FECB52\"], \"font\": {\"color\": \"#2a3f5f\"}, \"geo\": {\"bgcolor\": \"white\", \"lakecolor\": \"white\", \"landcolor\": \"#E5ECF6\", \"showlakes\": true, \"showland\": true, \"subunitcolor\": \"white\"}, \"hoverlabel\": {\"align\": \"left\"}, \"hovermode\": \"closest\", \"mapbox\": {\"style\": \"light\"}, \"paper_bgcolor\": \"white\", \"plot_bgcolor\": \"#E5ECF6\", \"polar\": {\"angularaxis\": {\"gridcolor\": \"white\", \"linecolor\": \"white\", \"ticks\": \"\"}, \"bgcolor\": \"#E5ECF6\", \"radialaxis\": {\"gridcolor\": \"white\", \"linecolor\": \"white\", \"ticks\": \"\"}}, \"scene\": {\"xaxis\": {\"backgroundcolor\": \"#E5ECF6\", \"gridcolor\": \"white\", \"gridwidth\": 2, \"linecolor\": \"white\", \"showbackground\": true, \"ticks\": \"\", \"zerolinecolor\": \"white\"}, \"yaxis\": {\"backgroundcolor\": \"#E5ECF6\", \"gridcolor\": \"white\", \"gridwidth\": 2, \"linecolor\": \"white\", \"showbackground\": true, \"ticks\": \"\", \"zerolinecolor\": \"white\"}, \"zaxis\": {\"backgroundcolor\": \"#E5ECF6\", \"gridcolor\": \"white\", \"gridwidth\": 2, \"linecolor\": \"white\", \"showbackground\": true, \"ticks\": \"\", \"zerolinecolor\": \"white\"}}, \"shapedefaults\": {\"line\": {\"color\": \"#2a3f5f\"}}, \"ternary\": {\"aaxis\": {\"gridcolor\": \"white\", \"linecolor\": \"white\", \"ticks\": \"\"}, \"baxis\": {\"gridcolor\": \"white\", \"linecolor\": \"white\", \"ticks\": \"\"}, \"bgcolor\": \"#E5ECF6\", \"caxis\": {\"gridcolor\": \"white\", \"linecolor\": \"white\", \"ticks\": \"\"}}, \"title\": {\"x\": 0.05}, \"xaxis\": {\"automargin\": true, \"gridcolor\": \"white\", \"linecolor\": \"white\", \"ticks\": \"\", \"title\": {\"standoff\": 15}, \"zerolinecolor\": \"white\", \"zerolinewidth\": 2}, \"yaxis\": {\"automargin\": true, \"gridcolor\": \"white\", \"linecolor\": \"white\", \"ticks\": \"\", \"title\": {\"standoff\": 15}, \"zerolinecolor\": \"white\", \"zerolinewidth\": 2}}}, \"title\": {\"text\": \"Mean Validation Score: 0.77, Mean Train Score: 0.79\"}, \"xaxis\": {\"anchor\": \"y\", \"domain\": [0.0, 1.0], \"title\": {\"text\": \"fold_id\"}}, \"yaxis\": {\"anchor\": \"x\", \"domain\": [0.0, 1.0], \"title\": {\"text\": \"score\"}}},\n",
              "                        {\"responsive\": true}\n",
              "                    ).then(function(){\n",
              "                            \n",
              "var gd = document.getElementById('e79565fa-302a-4a69-85f4-344c759da88a');\n",
              "var x = new MutationObserver(function (mutations, observer) {{\n",
              "        var display = window.getComputedStyle(gd).display;\n",
              "        if (!display || display === 'none') {{\n",
              "            console.log([gd, 'removed!']);\n",
              "            Plotly.purge(gd);\n",
              "            observer.disconnect();\n",
              "        }}\n",
              "}});\n",
              "\n",
              "// Listen for the removal of the full notebook cells\n",
              "var notebookContainer = gd.closest('#notebook-container');\n",
              "if (notebookContainer) {{\n",
              "    x.observe(notebookContainer, {childList: true});\n",
              "}}\n",
              "\n",
              "// Listen for the clearing of the current output cell\n",
              "var outputEl = gd.closest('.output');\n",
              "if (outputEl) {{\n",
              "    x.observe(outputEl, {childList: true});\n",
              "}}\n",
              "\n",
              "                        })\n",
              "                };\n",
              "                \n",
              "            </script>\n",
              "        </div>\n",
              "</body>\n",
              "</html>"
            ]
          },
          "metadata": {
            "tags": []
          }
        },
        {
          "output_type": "display_data",
          "data": {
            "text/html": [
              "<html>\n",
              "<head><meta charset=\"utf-8\" /></head>\n",
              "<body>\n",
              "    <div>\n",
              "            <script src=\"https://cdnjs.cloudflare.com/ajax/libs/mathjax/2.7.5/MathJax.js?config=TeX-AMS-MML_SVG\"></script><script type=\"text/javascript\">if (window.MathJax) {MathJax.Hub.Config({SVG: {font: \"STIX-Web\"}});}</script>\n",
              "                <script type=\"text/javascript\">window.PlotlyConfig = {MathJaxConfig: 'local'};</script>\n",
              "        <script src=\"https://cdn.plot.ly/plotly-latest.min.js\"></script>    \n",
              "            <div id=\"420efacf-ab31-41b4-b140-66da67e01b5c\" class=\"plotly-graph-div\" style=\"height:525px; width:100%;\"></div>\n",
              "            <script type=\"text/javascript\">\n",
              "                \n",
              "                    window.PLOTLYENV=window.PLOTLYENV || {};\n",
              "                    \n",
              "                if (document.getElementById(\"420efacf-ab31-41b4-b140-66da67e01b5c\")) {\n",
              "                    Plotly.newPlot(\n",
              "                        '420efacf-ab31-41b4-b140-66da67e01b5c',\n",
              "                        [{\"hoverlabel\": {\"namelength\": 0}, \"hovertemplate\": \"split=train<br>fold_id=%{x}<br>loss=%{y}\", \"legendgroup\": \"split=train\", \"line\": {\"color\": \"#636efa\", \"dash\": \"solid\"}, \"mode\": \"lines\", \"name\": \"split=train\", \"showlegend\": true, \"type\": \"scatter\", \"x\": [0, 1, 2, 3, 4, 5, 6, 7, 8, 9], \"xaxis\": \"x\", \"y\": [0.43653141972476456, 0.49510643631825063, 0.5814002899664359, 0.4462324205563255, 0.7134001318767692, 0.49323326064173795, 0.6941555428927757, 0.5804632873518732, 0.46026888326154664, 0.5018131122329066], \"yaxis\": \"y\"}, {\"hoverlabel\": {\"namelength\": 0}, \"hovertemplate\": \"split=val<br>fold_id=%{x}<br>loss=%{y}\", \"legendgroup\": \"split=val\", \"line\": {\"color\": \"#EF553B\", \"dash\": \"solid\"}, \"mode\": \"lines\", \"name\": \"split=val\", \"showlegend\": true, \"type\": \"scatter\", \"x\": [0, 1, 2, 3, 4, 5, 6, 7, 8, 9], \"xaxis\": \"x\", \"y\": [0.6056524418145778, 0.5906728344263071, 0.717451859807717, 0.38844421000400337, 0.6616431654487034, 0.5053888950831975, 0.6574712677954795, 0.5919137948665437, 0.5129171491109435, 0.5107590181229328], \"yaxis\": \"y\"}],\n",
              "                        {\"legend\": {\"tracegroupgap\": 0}, \"template\": {\"data\": {\"bar\": [{\"error_x\": {\"color\": \"#2a3f5f\"}, \"error_y\": {\"color\": \"#2a3f5f\"}, \"marker\": {\"line\": {\"color\": \"#E5ECF6\", \"width\": 0.5}}, \"type\": \"bar\"}], \"barpolar\": [{\"marker\": {\"line\": {\"color\": \"#E5ECF6\", \"width\": 0.5}}, \"type\": \"barpolar\"}], \"carpet\": [{\"aaxis\": {\"endlinecolor\": \"#2a3f5f\", \"gridcolor\": \"white\", \"linecolor\": \"white\", \"minorgridcolor\": \"white\", \"startlinecolor\": \"#2a3f5f\"}, \"baxis\": {\"endlinecolor\": \"#2a3f5f\", \"gridcolor\": \"white\", \"linecolor\": \"white\", \"minorgridcolor\": \"white\", \"startlinecolor\": \"#2a3f5f\"}, \"type\": \"carpet\"}], \"choropleth\": [{\"colorbar\": {\"outlinewidth\": 0, \"ticks\": \"\"}, \"type\": \"choropleth\"}], \"contour\": [{\"colorbar\": {\"outlinewidth\": 0, \"ticks\": \"\"}, \"colorscale\": [[0.0, \"#0d0887\"], [0.1111111111111111, \"#46039f\"], [0.2222222222222222, \"#7201a8\"], [0.3333333333333333, \"#9c179e\"], [0.4444444444444444, \"#bd3786\"], [0.5555555555555556, \"#d8576b\"], [0.6666666666666666, \"#ed7953\"], [0.7777777777777778, \"#fb9f3a\"], [0.8888888888888888, \"#fdca26\"], [1.0, \"#f0f921\"]], \"type\": \"contour\"}], \"contourcarpet\": [{\"colorbar\": {\"outlinewidth\": 0, \"ticks\": \"\"}, \"type\": \"contourcarpet\"}], \"heatmap\": [{\"colorbar\": {\"outlinewidth\": 0, \"ticks\": \"\"}, \"colorscale\": [[0.0, \"#0d0887\"], [0.1111111111111111, \"#46039f\"], [0.2222222222222222, \"#7201a8\"], [0.3333333333333333, \"#9c179e\"], [0.4444444444444444, \"#bd3786\"], [0.5555555555555556, \"#d8576b\"], [0.6666666666666666, \"#ed7953\"], [0.7777777777777778, \"#fb9f3a\"], [0.8888888888888888, \"#fdca26\"], [1.0, \"#f0f921\"]], \"type\": \"heatmap\"}], \"heatmapgl\": [{\"colorbar\": {\"outlinewidth\": 0, \"ticks\": \"\"}, \"colorscale\": [[0.0, \"#0d0887\"], [0.1111111111111111, \"#46039f\"], [0.2222222222222222, \"#7201a8\"], [0.3333333333333333, \"#9c179e\"], [0.4444444444444444, \"#bd3786\"], [0.5555555555555556, \"#d8576b\"], [0.6666666666666666, \"#ed7953\"], [0.7777777777777778, \"#fb9f3a\"], [0.8888888888888888, \"#fdca26\"], [1.0, \"#f0f921\"]], \"type\": \"heatmapgl\"}], \"histogram\": [{\"marker\": {\"colorbar\": {\"outlinewidth\": 0, \"ticks\": \"\"}}, \"type\": \"histogram\"}], \"histogram2d\": [{\"colorbar\": {\"outlinewidth\": 0, \"ticks\": \"\"}, \"colorscale\": [[0.0, \"#0d0887\"], [0.1111111111111111, \"#46039f\"], [0.2222222222222222, \"#7201a8\"], [0.3333333333333333, \"#9c179e\"], [0.4444444444444444, \"#bd3786\"], [0.5555555555555556, \"#d8576b\"], [0.6666666666666666, \"#ed7953\"], [0.7777777777777778, \"#fb9f3a\"], [0.8888888888888888, \"#fdca26\"], [1.0, \"#f0f921\"]], \"type\": \"histogram2d\"}], \"histogram2dcontour\": [{\"colorbar\": {\"outlinewidth\": 0, \"ticks\": \"\"}, \"colorscale\": [[0.0, \"#0d0887\"], [0.1111111111111111, \"#46039f\"], [0.2222222222222222, \"#7201a8\"], [0.3333333333333333, \"#9c179e\"], [0.4444444444444444, \"#bd3786\"], [0.5555555555555556, \"#d8576b\"], [0.6666666666666666, \"#ed7953\"], [0.7777777777777778, \"#fb9f3a\"], [0.8888888888888888, \"#fdca26\"], [1.0, \"#f0f921\"]], \"type\": \"histogram2dcontour\"}], \"mesh3d\": [{\"colorbar\": {\"outlinewidth\": 0, \"ticks\": \"\"}, \"type\": \"mesh3d\"}], \"parcoords\": [{\"line\": {\"colorbar\": {\"outlinewidth\": 0, \"ticks\": \"\"}}, \"type\": \"parcoords\"}], \"pie\": [{\"automargin\": true, \"type\": \"pie\"}], \"scatter\": [{\"marker\": {\"colorbar\": {\"outlinewidth\": 0, \"ticks\": \"\"}}, \"type\": \"scatter\"}], \"scatter3d\": [{\"line\": {\"colorbar\": {\"outlinewidth\": 0, \"ticks\": \"\"}}, \"marker\": {\"colorbar\": {\"outlinewidth\": 0, \"ticks\": \"\"}}, \"type\": \"scatter3d\"}], \"scattercarpet\": [{\"marker\": {\"colorbar\": {\"outlinewidth\": 0, \"ticks\": \"\"}}, \"type\": \"scattercarpet\"}], \"scattergeo\": [{\"marker\": {\"colorbar\": {\"outlinewidth\": 0, \"ticks\": \"\"}}, \"type\": \"scattergeo\"}], \"scattergl\": [{\"marker\": {\"colorbar\": {\"outlinewidth\": 0, \"ticks\": \"\"}}, \"type\": \"scattergl\"}], \"scattermapbox\": [{\"marker\": {\"colorbar\": {\"outlinewidth\": 0, \"ticks\": \"\"}}, \"type\": \"scattermapbox\"}], \"scatterpolar\": [{\"marker\": {\"colorbar\": {\"outlinewidth\": 0, \"ticks\": \"\"}}, \"type\": \"scatterpolar\"}], \"scatterpolargl\": [{\"marker\": {\"colorbar\": {\"outlinewidth\": 0, \"ticks\": \"\"}}, \"type\": \"scatterpolargl\"}], \"scatterternary\": [{\"marker\": {\"colorbar\": {\"outlinewidth\": 0, \"ticks\": \"\"}}, \"type\": \"scatterternary\"}], \"surface\": [{\"colorbar\": {\"outlinewidth\": 0, \"ticks\": \"\"}, \"colorscale\": [[0.0, \"#0d0887\"], [0.1111111111111111, \"#46039f\"], [0.2222222222222222, \"#7201a8\"], [0.3333333333333333, \"#9c179e\"], [0.4444444444444444, \"#bd3786\"], [0.5555555555555556, \"#d8576b\"], [0.6666666666666666, \"#ed7953\"], [0.7777777777777778, \"#fb9f3a\"], [0.8888888888888888, \"#fdca26\"], [1.0, \"#f0f921\"]], \"type\": \"surface\"}], \"table\": [{\"cells\": {\"fill\": {\"color\": \"#EBF0F8\"}, \"line\": {\"color\": \"white\"}}, \"header\": {\"fill\": {\"color\": \"#C8D4E3\"}, \"line\": {\"color\": \"white\"}}, \"type\": \"table\"}]}, \"layout\": {\"annotationdefaults\": {\"arrowcolor\": \"#2a3f5f\", \"arrowhead\": 0, \"arrowwidth\": 1}, \"coloraxis\": {\"colorbar\": {\"outlinewidth\": 0, \"ticks\": \"\"}}, \"colorscale\": {\"diverging\": [[0, \"#8e0152\"], [0.1, \"#c51b7d\"], [0.2, \"#de77ae\"], [0.3, \"#f1b6da\"], [0.4, \"#fde0ef\"], [0.5, \"#f7f7f7\"], [0.6, \"#e6f5d0\"], [0.7, \"#b8e186\"], [0.8, \"#7fbc41\"], [0.9, \"#4d9221\"], [1, \"#276419\"]], \"sequential\": [[0.0, \"#0d0887\"], [0.1111111111111111, \"#46039f\"], [0.2222222222222222, \"#7201a8\"], [0.3333333333333333, \"#9c179e\"], [0.4444444444444444, \"#bd3786\"], [0.5555555555555556, \"#d8576b\"], [0.6666666666666666, \"#ed7953\"], [0.7777777777777778, \"#fb9f3a\"], [0.8888888888888888, \"#fdca26\"], [1.0, \"#f0f921\"]], \"sequentialminus\": [[0.0, \"#0d0887\"], [0.1111111111111111, \"#46039f\"], [0.2222222222222222, \"#7201a8\"], [0.3333333333333333, \"#9c179e\"], [0.4444444444444444, \"#bd3786\"], [0.5555555555555556, \"#d8576b\"], [0.6666666666666666, \"#ed7953\"], [0.7777777777777778, \"#fb9f3a\"], [0.8888888888888888, \"#fdca26\"], [1.0, \"#f0f921\"]]}, \"colorway\": [\"#636efa\", \"#EF553B\", \"#00cc96\", \"#ab63fa\", \"#FFA15A\", \"#19d3f3\", \"#FF6692\", \"#B6E880\", \"#FF97FF\", \"#FECB52\"], \"font\": {\"color\": \"#2a3f5f\"}, \"geo\": {\"bgcolor\": \"white\", \"lakecolor\": \"white\", \"landcolor\": \"#E5ECF6\", \"showlakes\": true, \"showland\": true, \"subunitcolor\": \"white\"}, \"hoverlabel\": {\"align\": \"left\"}, \"hovermode\": \"closest\", \"mapbox\": {\"style\": \"light\"}, \"paper_bgcolor\": \"white\", \"plot_bgcolor\": \"#E5ECF6\", \"polar\": {\"angularaxis\": {\"gridcolor\": \"white\", \"linecolor\": \"white\", \"ticks\": \"\"}, \"bgcolor\": \"#E5ECF6\", \"radialaxis\": {\"gridcolor\": \"white\", \"linecolor\": \"white\", \"ticks\": \"\"}}, \"scene\": {\"xaxis\": {\"backgroundcolor\": \"#E5ECF6\", \"gridcolor\": \"white\", \"gridwidth\": 2, \"linecolor\": \"white\", \"showbackground\": true, \"ticks\": \"\", \"zerolinecolor\": \"white\"}, \"yaxis\": {\"backgroundcolor\": \"#E5ECF6\", \"gridcolor\": \"white\", \"gridwidth\": 2, \"linecolor\": \"white\", \"showbackground\": true, \"ticks\": \"\", \"zerolinecolor\": \"white\"}, \"zaxis\": {\"backgroundcolor\": \"#E5ECF6\", \"gridcolor\": \"white\", \"gridwidth\": 2, \"linecolor\": \"white\", \"showbackground\": true, \"ticks\": \"\", \"zerolinecolor\": \"white\"}}, \"shapedefaults\": {\"line\": {\"color\": \"#2a3f5f\"}}, \"ternary\": {\"aaxis\": {\"gridcolor\": \"white\", \"linecolor\": \"white\", \"ticks\": \"\"}, \"baxis\": {\"gridcolor\": \"white\", \"linecolor\": \"white\", \"ticks\": \"\"}, \"bgcolor\": \"#E5ECF6\", \"caxis\": {\"gridcolor\": \"white\", \"linecolor\": \"white\", \"ticks\": \"\"}}, \"title\": {\"x\": 0.05}, \"xaxis\": {\"automargin\": true, \"gridcolor\": \"white\", \"linecolor\": \"white\", \"ticks\": \"\", \"title\": {\"standoff\": 15}, \"zerolinecolor\": \"white\", \"zerolinewidth\": 2}, \"yaxis\": {\"automargin\": true, \"gridcolor\": \"white\", \"linecolor\": \"white\", \"ticks\": \"\", \"title\": {\"standoff\": 15}, \"zerolinecolor\": \"white\", \"zerolinewidth\": 2}}}, \"title\": {\"text\": \"Mean Validation Loss: 0.57, Mean Train Loss: 0.54\"}, \"xaxis\": {\"anchor\": \"y\", \"domain\": [0.0, 1.0], \"title\": {\"text\": \"fold_id\"}}, \"yaxis\": {\"anchor\": \"x\", \"domain\": [0.0, 1.0], \"title\": {\"text\": \"loss\"}}},\n",
              "                        {\"responsive\": true}\n",
              "                    ).then(function(){\n",
              "                            \n",
              "var gd = document.getElementById('420efacf-ab31-41b4-b140-66da67e01b5c');\n",
              "var x = new MutationObserver(function (mutations, observer) {{\n",
              "        var display = window.getComputedStyle(gd).display;\n",
              "        if (!display || display === 'none') {{\n",
              "            console.log([gd, 'removed!']);\n",
              "            Plotly.purge(gd);\n",
              "            observer.disconnect();\n",
              "        }}\n",
              "}});\n",
              "\n",
              "// Listen for the removal of the full notebook cells\n",
              "var notebookContainer = gd.closest('#notebook-container');\n",
              "if (notebookContainer) {{\n",
              "    x.observe(notebookContainer, {childList: true});\n",
              "}}\n",
              "\n",
              "// Listen for the clearing of the current output cell\n",
              "var outputEl = gd.closest('.output');\n",
              "if (outputEl) {{\n",
              "    x.observe(outputEl, {childList: true});\n",
              "}}\n",
              "\n",
              "                        })\n",
              "                };\n",
              "                \n",
              "            </script>\n",
              "        </div>\n",
              "</body>\n",
              "</html>"
            ]
          },
          "metadata": {
            "tags": []
          }
        }
      ]
    },
    {
      "cell_type": "markdown",
      "metadata": {
        "id": "B2uqfTiFx3NO"
      },
      "source": [
        "Now let's print the confiusion matrix and calculate the KPI's statistics of the training and the validation."
      ]
    },
    {
      "cell_type": "code",
      "metadata": {
        "colab": {
          "base_uri": "https://localhost:8080/",
          "height": 430
        },
        "id": "TtCObKFKx_Fa",
        "outputId": "75a20d6d-86cc-46f5-a35c-68d35aca7fa4"
      },
      "source": [
        "def print_conf_mat_train_valid(cm_train, cm_valid):\r\n",
        "    cm_train_df = pd.DataFrame(cm_train, index=['actual_die', 'actual_survive'], columns=['predicted_die', 'predicted_survive'])\r\n",
        "    cm_val_df = pd.DataFrame(cm_valid, index=['actual_die', 'actual_survive'], columns=['predicted_die', 'predicted_survive'])\r\n",
        "\r\n",
        "    fig, ax = plt.subplots(ncols=2, figsize=(10,3))\r\n",
        "    i = 0\r\n",
        "    for mat, name in zip([cm_train_df, cm_val_df], ['train', 'valid']):\r\n",
        "        fig = sns.heatmap(mat, annot=True, ax=ax[i], cmap=plt.cm.Pastel1, fmt='g')\r\n",
        "        fig.set_title(name,  fontsize=20.0)\r\n",
        "        i += 1\r\n",
        "\r\n",
        "    plt.subplots_adjust(top=1.5, bottom=0, left=0, right=1)\r\n",
        "    plt.show()\r\n",
        "\r\n",
        "print_conf_mat_train_valid(train_cm, valid_cm)\r\n",
        "\r\n",
        "def precision(cm):\r\n",
        "    tn, fp, fn, tp = cm.ravel()\r\n",
        "    return tp/(tp+fp)\r\n",
        "\r\n",
        "def recall(cm):\r\n",
        "    tn, fp, fn, tp = cm.ravel()\r\n",
        "    return tp/(tp+fn)\r\n",
        "\r\n",
        "def specificity(cm):\r\n",
        "    tn, fp, fn, tp = cm.ravel()\r\n",
        "    return tn/(tn+fp)\r\n",
        "\r\n",
        "def fpr(cm):\r\n",
        "    tn, fp, fn, tp = cm.ravel()\r\n",
        "    return fp/(fp+tn)\r\n",
        "\r\n",
        "def accuracy(cm):\r\n",
        "    tn, fp, fn, tp = cm.ravel()\r\n",
        "    return (tp+tn)/(tp+tn+fp+fn)\r\n",
        "\r\n",
        "print(f'Train: precision {precision(train_cm):.2f}, recall {recall(train_cm):.2f}, specificity {specificity(train_cm):.2f}, fpr {fpr(train_cm):.2f}, accuracy {accuracy(train_cm):.2f}')\r\n",
        "print(f'Valid: precision {precision(valid_cm):.2f}, recall {recall(valid_cm):.2f}, specificity {specificity(valid_cm):.2f}, fpr {fpr(valid_cm):.2f}, accuracy {accuracy(valid_cm):.2f}')"
      ],
      "execution_count": null,
      "outputs": [
        {
          "output_type": "display_data",
          "data": {
            "image/png": "[encoded data removed]",
            "text/plain": [
              "<Figure size 720x216 with 4 Axes>"
            ]
          },
          "metadata": {
            "tags": [],
            "needs_background": "light"
          }
        },
        {
          "output_type": "stream",
          "text": [
            "Train: precision 0.76, recall 0.71, specificity 0.85, fpr 0.15, accuracy 0.80\n",
            "Valid: precision 0.68, recall 0.87, specificity 0.80, fpr 0.20, accuracy 0.82\n"
          ],
          "name": "stdout"
        }
      ]
    },
    {
      "cell_type": "markdown",
      "metadata": {
        "id": "1fCvCwUWyw9O"
      },
      "source": [
        "We would like to see high precision, recall, specificity, accuracy, and low fpr.  \r\n",
        "We can see from these numbers:\r\n",
        "* Precision in both is not very high, which indicates that our false-negative is quite high. In other words, there are a lot of passengers the model predicted that survived, but died. \r\n",
        "* Recall in validation set is quite good, which means the model's false-negative is low. It means that the number of passengers the model falsely predicted that died but they did not, is not high (the actual number is 6). \r\n",
        "* Specificity in both is not high, which means the model's false positive is high. That means that out of the passenger who died, the model predicted a lot of them as they survived. \r\n",
        "\r\n",
        "We would like to improve the recall and precision scores, that means we want to reduce the `FP` and `FN`, let's calculate the `F1-Score` which is the harmonic mean of reacall and precision."
      ]
    },
    {
      "cell_type": "code",
      "metadata": {
        "colab": {
          "base_uri": "https://localhost:8080/"
        },
        "id": "5JfsAgLoKtc8",
        "outputId": "c0f2ad6f-f12d-4b0e-de23-fa6445fab519"
      },
      "source": [
        "def f1(cm):\r\n",
        "    precision_calc = precision(cm)\r\n",
        "    recall_calc = recall(cm)\r\n",
        "    return (2*precision_calc*recall_calc)/(precision_calc+recall_calc)\r\n",
        "\r\n",
        "print(f'Train: f1 {f1(train_cm):.2f}')\r\n",
        "print(f'Valid: f1 {f1(valid_cm):.2f}')"
      ],
      "execution_count": null,
      "outputs": [
        {
          "output_type": "stream",
          "text": [
            "Train: f1 0.73\n",
            "Valid: f1 0.76\n"
          ],
          "name": "stdout"
        }
      ]
    },
    {
      "cell_type": "markdown",
      "metadata": {
        "id": "noiC81FHLENG"
      },
      "source": [
        "Quite low score, we can try to change the threshold of the prediction."
      ]
    },
    {
      "cell_type": "code",
      "metadata": {
        "colab": {
          "base_uri": "https://localhost:8080/",
          "height": 542
        },
        "id": "ADqr6TxbLXU1",
        "outputId": "16780832-d306-4b30-8ff4-0e4d7590dc44"
      },
      "source": [
        "# plot graph of precision and recall as function of the threshold\r\n",
        "def plot_precision_recall_by_threshold(labels, probabilities):\r\n",
        "    precision_recall_df = pd.DataFrame(columns=['threshold', 'precision', 'recall'])\r\n",
        "    for threshold in np.linspace(0.1, 1, 9, endpoint=False):\r\n",
        "        preds = np.where(probabilities[:,1] > threshold, 1, 0)\r\n",
        "        cm = confusion_matrix(labels, preds)\r\n",
        "        precision_recall_df.loc[len(precision_recall_df)] = [threshold, precision(cm), recall(cm)]\r\n",
        "\r\n",
        "    fig = go.Figure()\r\n",
        "    fig.add_trace(go.Scatter(x=precision_recall_df[\"threshold\"], y=precision_recall_df[\"precision\"], name=\"Precision\"))\r\n",
        "    fig.add_trace(go.Scatter(x=precision_recall_df[\"threshold\"], y=precision_recall_df[\"recall\"], name=\"Recall\"))\r\n",
        "\r\n",
        "    fig.show()\r\n",
        "\r\n",
        "y_proba_train = model_pipe.predict_proba(X)\r\n",
        "plot_precision_recall_by_threshold(t, y_proba_train)"
      ],
      "execution_count": null,
      "outputs": [
        {
          "output_type": "display_data",
          "data": {
            "text/html": [
              "<html>\n",
              "<head><meta charset=\"utf-8\" /></head>\n",
              "<body>\n",
              "    <div>\n",
              "            <script src=\"https://cdnjs.cloudflare.com/ajax/libs/mathjax/2.7.5/MathJax.js?config=TeX-AMS-MML_SVG\"></script><script type=\"text/javascript\">if (window.MathJax) {MathJax.Hub.Config({SVG: {font: \"STIX-Web\"}});}</script>\n",
              "                <script type=\"text/javascript\">window.PlotlyConfig = {MathJaxConfig: 'local'};</script>\n",
              "        <script src=\"https://cdn.plot.ly/plotly-latest.min.js\"></script>    \n",
              "            <div id=\"b5ba1528-91ee-48ff-8a8d-96b8262fae10\" class=\"plotly-graph-div\" style=\"height:525px; width:100%;\"></div>\n",
              "            <script type=\"text/javascript\">\n",
              "                \n",
              "                    window.PLOTLYENV=window.PLOTLYENV || {};\n",
              "                    \n",
              "                if (document.getElementById(\"b5ba1528-91ee-48ff-8a8d-96b8262fae10\")) {\n",
              "                    Plotly.newPlot(\n",
              "                        'b5ba1528-91ee-48ff-8a8d-96b8262fae10',\n",
              "                        [{\"name\": \"Precision\", \"type\": \"scatter\", \"x\": [0.1, 0.2, 0.30000000000000004, 0.4, 0.5, 0.6, 0.7000000000000001, 0.8, 0.9], \"y\": [0.5637707948243993, 0.6231263383297645, 0.6757425742574258, 0.707774798927614, 0.7469879518072289, 0.7891156462585034, 0.8082706766917294, 0.8604651162790697, 0.9096385542168675]}, {\"name\": \"Recall\", \"type\": \"scatter\", \"x\": [0.1, 0.2, 0.30000000000000004, 0.4, 0.5, 0.6, 0.7000000000000001, 0.8, 0.9], \"y\": [0.8918128654970761, 0.8508771929824561, 0.7982456140350878, 0.7719298245614035, 0.7251461988304093, 0.6783625730994152, 0.6286549707602339, 0.5409356725146199, 0.4415204678362573]}],\n",
              "                        {\"template\": {\"data\": {\"bar\": [{\"error_x\": {\"color\": \"#2a3f5f\"}, \"error_y\": {\"color\": \"#2a3f5f\"}, \"marker\": {\"line\": {\"color\": \"#E5ECF6\", \"width\": 0.5}}, \"type\": \"bar\"}], \"barpolar\": [{\"marker\": {\"line\": {\"color\": \"#E5ECF6\", \"width\": 0.5}}, \"type\": \"barpolar\"}], \"carpet\": [{\"aaxis\": {\"endlinecolor\": \"#2a3f5f\", \"gridcolor\": \"white\", \"linecolor\": \"white\", \"minorgridcolor\": \"white\", \"startlinecolor\": \"#2a3f5f\"}, \"baxis\": {\"endlinecolor\": \"#2a3f5f\", \"gridcolor\": \"white\", \"linecolor\": \"white\", \"minorgridcolor\": \"white\", \"startlinecolor\": \"#2a3f5f\"}, \"type\": \"carpet\"}], \"choropleth\": [{\"colorbar\": {\"outlinewidth\": 0, \"ticks\": \"\"}, \"type\": \"choropleth\"}], \"contour\": [{\"colorbar\": {\"outlinewidth\": 0, \"ticks\": \"\"}, \"colorscale\": [[0.0, \"#0d0887\"], [0.1111111111111111, \"#46039f\"], [0.2222222222222222, \"#7201a8\"], [0.3333333333333333, \"#9c179e\"], [0.4444444444444444, \"#bd3786\"], [0.5555555555555556, \"#d8576b\"], [0.6666666666666666, \"#ed7953\"], [0.7777777777777778, \"#fb9f3a\"], [0.8888888888888888, \"#fdca26\"], [1.0, \"#f0f921\"]], \"type\": \"contour\"}], \"contourcarpet\": [{\"colorbar\": {\"outlinewidth\": 0, \"ticks\": \"\"}, \"type\": \"contourcarpet\"}], \"heatmap\": [{\"colorbar\": {\"outlinewidth\": 0, \"ticks\": \"\"}, \"colorscale\": [[0.0, \"#0d0887\"], [0.1111111111111111, \"#46039f\"], [0.2222222222222222, \"#7201a8\"], [0.3333333333333333, \"#9c179e\"], [0.4444444444444444, \"#bd3786\"], [0.5555555555555556, \"#d8576b\"], [0.6666666666666666, \"#ed7953\"], [0.7777777777777778, \"#fb9f3a\"], [0.8888888888888888, \"#fdca26\"], [1.0, \"#f0f921\"]], \"type\": \"heatmap\"}], \"heatmapgl\": [{\"colorbar\": {\"outlinewidth\": 0, \"ticks\": \"\"}, \"colorscale\": [[0.0, \"#0d0887\"], [0.1111111111111111, \"#46039f\"], [0.2222222222222222, \"#7201a8\"], [0.3333333333333333, \"#9c179e\"], [0.4444444444444444, \"#bd3786\"], [0.5555555555555556, \"#d8576b\"], [0.6666666666666666, \"#ed7953\"], [0.7777777777777778, \"#fb9f3a\"], [0.8888888888888888, \"#fdca26\"], [1.0, \"#f0f921\"]], \"type\": \"heatmapgl\"}], \"histogram\": [{\"marker\": {\"colorbar\": {\"outlinewidth\": 0, \"ticks\": \"\"}}, \"type\": \"histogram\"}], \"histogram2d\": [{\"colorbar\": {\"outlinewidth\": 0, \"ticks\": \"\"}, \"colorscale\": [[0.0, \"#0d0887\"], [0.1111111111111111, \"#46039f\"], [0.2222222222222222, \"#7201a8\"], [0.3333333333333333, \"#9c179e\"], [0.4444444444444444, \"#bd3786\"], [0.5555555555555556, \"#d8576b\"], [0.6666666666666666, \"#ed7953\"], [0.7777777777777778, \"#fb9f3a\"], [0.8888888888888888, \"#fdca26\"], [1.0, \"#f0f921\"]], \"type\": \"histogram2d\"}], \"histogram2dcontour\": [{\"colorbar\": {\"outlinewidth\": 0, \"ticks\": \"\"}, \"colorscale\": [[0.0, \"#0d0887\"], [0.1111111111111111, \"#46039f\"], [0.2222222222222222, \"#7201a8\"], [0.3333333333333333, \"#9c179e\"], [0.4444444444444444, \"#bd3786\"], [0.5555555555555556, \"#d8576b\"], [0.6666666666666666, \"#ed7953\"], [0.7777777777777778, \"#fb9f3a\"], [0.8888888888888888, \"#fdca26\"], [1.0, \"#f0f921\"]], \"type\": \"histogram2dcontour\"}], \"mesh3d\": [{\"colorbar\": {\"outlinewidth\": 0, \"ticks\": \"\"}, \"type\": \"mesh3d\"}], \"parcoords\": [{\"line\": {\"colorbar\": {\"outlinewidth\": 0, \"ticks\": \"\"}}, \"type\": \"parcoords\"}], \"pie\": [{\"automargin\": true, \"type\": \"pie\"}], \"scatter\": [{\"marker\": {\"colorbar\": {\"outlinewidth\": 0, \"ticks\": \"\"}}, \"type\": \"scatter\"}], \"scatter3d\": [{\"line\": {\"colorbar\": {\"outlinewidth\": 0, \"ticks\": \"\"}}, \"marker\": {\"colorbar\": {\"outlinewidth\": 0, \"ticks\": \"\"}}, \"type\": \"scatter3d\"}], \"scattercarpet\": [{\"marker\": {\"colorbar\": {\"outlinewidth\": 0, \"ticks\": \"\"}}, \"type\": \"scattercarpet\"}], \"scattergeo\": [{\"marker\": {\"colorbar\": {\"outlinewidth\": 0, \"ticks\": \"\"}}, \"type\": \"scattergeo\"}], \"scattergl\": [{\"marker\": {\"colorbar\": {\"outlinewidth\": 0, \"ticks\": \"\"}}, \"type\": \"scattergl\"}], \"scattermapbox\": [{\"marker\": {\"colorbar\": {\"outlinewidth\": 0, \"ticks\": \"\"}}, \"type\": \"scattermapbox\"}], \"scatterpolar\": [{\"marker\": {\"colorbar\": {\"outlinewidth\": 0, \"ticks\": \"\"}}, \"type\": \"scatterpolar\"}], \"scatterpolargl\": [{\"marker\": {\"colorbar\": {\"outlinewidth\": 0, \"ticks\": \"\"}}, \"type\": \"scatterpolargl\"}], \"scatterternary\": [{\"marker\": {\"colorbar\": {\"outlinewidth\": 0, \"ticks\": \"\"}}, \"type\": \"scatterternary\"}], \"surface\": [{\"colorbar\": {\"outlinewidth\": 0, \"ticks\": \"\"}, \"colorscale\": [[0.0, \"#0d0887\"], [0.1111111111111111, \"#46039f\"], [0.2222222222222222, \"#7201a8\"], [0.3333333333333333, \"#9c179e\"], [0.4444444444444444, \"#bd3786\"], [0.5555555555555556, \"#d8576b\"], [0.6666666666666666, \"#ed7953\"], [0.7777777777777778, \"#fb9f3a\"], [0.8888888888888888, \"#fdca26\"], [1.0, \"#f0f921\"]], \"type\": \"surface\"}], \"table\": [{\"cells\": {\"fill\": {\"color\": \"#EBF0F8\"}, \"line\": {\"color\": \"white\"}}, \"header\": {\"fill\": {\"color\": \"#C8D4E3\"}, \"line\": {\"color\": \"white\"}}, \"type\": \"table\"}]}, \"layout\": {\"annotationdefaults\": {\"arrowcolor\": \"#2a3f5f\", \"arrowhead\": 0, \"arrowwidth\": 1}, \"coloraxis\": {\"colorbar\": {\"outlinewidth\": 0, \"ticks\": \"\"}}, \"colorscale\": {\"diverging\": [[0, \"#8e0152\"], [0.1, \"#c51b7d\"], [0.2, \"#de77ae\"], [0.3, \"#f1b6da\"], [0.4, \"#fde0ef\"], [0.5, \"#f7f7f7\"], [0.6, \"#e6f5d0\"], [0.7, \"#b8e186\"], [0.8, \"#7fbc41\"], [0.9, \"#4d9221\"], [1, \"#276419\"]], \"sequential\": [[0.0, \"#0d0887\"], [0.1111111111111111, \"#46039f\"], [0.2222222222222222, \"#7201a8\"], [0.3333333333333333, \"#9c179e\"], [0.4444444444444444, \"#bd3786\"], [0.5555555555555556, \"#d8576b\"], [0.6666666666666666, \"#ed7953\"], [0.7777777777777778, \"#fb9f3a\"], [0.8888888888888888, \"#fdca26\"], [1.0, \"#f0f921\"]], \"sequentialminus\": [[0.0, \"#0d0887\"], [0.1111111111111111, \"#46039f\"], [0.2222222222222222, \"#7201a8\"], [0.3333333333333333, \"#9c179e\"], [0.4444444444444444, \"#bd3786\"], [0.5555555555555556, \"#d8576b\"], [0.6666666666666666, \"#ed7953\"], [0.7777777777777778, \"#fb9f3a\"], [0.8888888888888888, \"#fdca26\"], [1.0, \"#f0f921\"]]}, \"colorway\": [\"#636efa\", \"#EF553B\", \"#00cc96\", \"#ab63fa\", \"#FFA15A\", \"#19d3f3\", \"#FF6692\", \"#B6E880\", \"#FF97FF\", \"#FECB52\"], \"font\": {\"color\": \"#2a3f5f\"}, \"geo\": {\"bgcolor\": \"white\", \"lakecolor\": \"white\", \"landcolor\": \"#E5ECF6\", \"showlakes\": true, \"showland\": true, \"subunitcolor\": \"white\"}, \"hoverlabel\": {\"align\": \"left\"}, \"hovermode\": \"closest\", \"mapbox\": {\"style\": \"light\"}, \"paper_bgcolor\": \"white\", \"plot_bgcolor\": \"#E5ECF6\", \"polar\": {\"angularaxis\": {\"gridcolor\": \"white\", \"linecolor\": \"white\", \"ticks\": \"\"}, \"bgcolor\": \"#E5ECF6\", \"radialaxis\": {\"gridcolor\": \"white\", \"linecolor\": \"white\", \"ticks\": \"\"}}, \"scene\": {\"xaxis\": {\"backgroundcolor\": \"#E5ECF6\", \"gridcolor\": \"white\", \"gridwidth\": 2, \"linecolor\": \"white\", \"showbackground\": true, \"ticks\": \"\", \"zerolinecolor\": \"white\"}, \"yaxis\": {\"backgroundcolor\": \"#E5ECF6\", \"gridcolor\": \"white\", \"gridwidth\": 2, \"linecolor\": \"white\", \"showbackground\": true, \"ticks\": \"\", \"zerolinecolor\": \"white\"}, \"zaxis\": {\"backgroundcolor\": \"#E5ECF6\", \"gridcolor\": \"white\", \"gridwidth\": 2, \"linecolor\": \"white\", \"showbackground\": true, \"ticks\": \"\", \"zerolinecolor\": \"white\"}}, \"shapedefaults\": {\"line\": {\"color\": \"#2a3f5f\"}}, \"ternary\": {\"aaxis\": {\"gridcolor\": \"white\", \"linecolor\": \"white\", \"ticks\": \"\"}, \"baxis\": {\"gridcolor\": \"white\", \"linecolor\": \"white\", \"ticks\": \"\"}, \"bgcolor\": \"#E5ECF6\", \"caxis\": {\"gridcolor\": \"white\", \"linecolor\": \"white\", \"ticks\": \"\"}}, \"title\": {\"x\": 0.05}, \"xaxis\": {\"automargin\": true, \"gridcolor\": \"white\", \"linecolor\": \"white\", \"ticks\": \"\", \"title\": {\"standoff\": 15}, \"zerolinecolor\": \"white\", \"zerolinewidth\": 2}, \"yaxis\": {\"automargin\": true, \"gridcolor\": \"white\", \"linecolor\": \"white\", \"ticks\": \"\", \"title\": {\"standoff\": 15}, \"zerolinecolor\": \"white\", \"zerolinewidth\": 2}}}},\n",
              "                        {\"responsive\": true}\n",
              "                    ).then(function(){\n",
              "                            \n",
              "var gd = document.getElementById('b5ba1528-91ee-48ff-8a8d-96b8262fae10');\n",
              "var x = new MutationObserver(function (mutations, observer) {{\n",
              "        var display = window.getComputedStyle(gd).display;\n",
              "        if (!display || display === 'none') {{\n",
              "            console.log([gd, 'removed!']);\n",
              "            Plotly.purge(gd);\n",
              "            observer.disconnect();\n",
              "        }}\n",
              "}});\n",
              "\n",
              "// Listen for the removal of the full notebook cells\n",
              "var notebookContainer = gd.closest('#notebook-container');\n",
              "if (notebookContainer) {{\n",
              "    x.observe(notebookContainer, {childList: true});\n",
              "}}\n",
              "\n",
              "// Listen for the clearing of the current output cell\n",
              "var outputEl = gd.closest('.output');\n",
              "if (outputEl) {{\n",
              "    x.observe(outputEl, {childList: true});\n",
              "}}\n",
              "\n",
              "                        })\n",
              "                };\n",
              "                \n",
              "            </script>\n",
              "        </div>\n",
              "</body>\n",
              "</html>"
            ]
          },
          "metadata": {
            "tags": []
          }
        }
      ]
    },
    {
      "cell_type": "markdown",
      "metadata": {
        "id": "nzFuO8eboziF"
      },
      "source": [
        "We wish to maximize both scores, we can see that we would get them both as high as possible in the same threshold is with 0.5, therfore, we will not change it.  \r\n",
        "Let's try to plot the ROC curve for better understanding it."
      ]
    },
    {
      "cell_type": "code",
      "metadata": {
        "colab": {
          "base_uri": "https://localhost:8080/",
          "height": 542
        },
        "id": "0W2V18zOWQB1",
        "outputId": "0682111a-04a5-472a-e763-042b82c0f64e"
      },
      "source": [
        "# plot ROC curve and calculate AUC score\r\n",
        "def plot_roc_curve(labels_t, probabilities_t, labels_v=[], probabilities_v=[]):\r\n",
        "    fig = go.Figure()\r\n",
        "    title = \"\"\r\n",
        "    for name, labels, probabilities in zip([\"Train\", \"Valid\"], [labels_t, labels_v], [probabilities_t, probabilities_v]):\r\n",
        "        if len(labels) == 0:\r\n",
        "            continue\r\n",
        "        auc_score = roc_auc_score(labels, probabilities[:,1])\r\n",
        "        fpr, tpr, thresholds = roc_curve(labels, probabilities[:,1], pos_label=1)\r\n",
        "        roc_df = pd.DataFrame({'fpr': fpr, 'tpr': tpr, 'thresholds': thresholds})\r\n",
        "        fig.add_trace(go.Scatter(x=roc_df[\"fpr\"], y=roc_df[\"tpr\"], name=name, mode='lines'))\r\n",
        "        title += f'{name} AUC: {auc_score:.2f}\\t' \r\n",
        "    fig.update_layout(title=title)\r\n",
        "    fig.show()\r\n",
        "\r\n",
        "y_proba_train = model_pipe.predict_proba(X)\r\n",
        "plot_roc_curve(t, y_proba_train)"
      ],
      "execution_count": null,
      "outputs": [
        {
          "output_type": "display_data",
          "data": {
            "text/html": [
              "<html>\n",
              "<head><meta charset=\"utf-8\" /></head>\n",
              "<body>\n",
              "    <div>\n",
              "            <script src=\"https://cdnjs.cloudflare.com/ajax/libs/mathjax/2.7.5/MathJax.js?config=TeX-AMS-MML_SVG\"></script><script type=\"text/javascript\">if (window.MathJax) {MathJax.Hub.Config({SVG: {font: \"STIX-Web\"}});}</script>\n",
              "                <script type=\"text/javascript\">window.PlotlyConfig = {MathJaxConfig: 'local'};</script>\n",
              "        <script src=\"https://cdn.plot.ly/plotly-latest.min.js\"></script>    \n",
              "            <div id=\"425d928e-bdab-4349-8f67-f5252bd5db12\" class=\"plotly-graph-div\" style=\"height:525px; width:100%;\"></div>\n",
              "            <script type=\"text/javascript\">\n",
              "                \n",
              "                    window.PLOTLYENV=window.PLOTLYENV || {};\n",
              "                    \n",
              "                if (document.getElementById(\"425d928e-bdab-4349-8f67-f5252bd5db12\")) {\n",
              "                    Plotly.newPlot(\n",
              "                        '425d928e-bdab-4349-8f67-f5252bd5db12',\n",
              "                        [{\"mode\": \"lines\", \"name\": \"Train\", \"type\": \"scatter\", \"x\": [0.0, 0.0, 0.0, 0.0018214936247723133, 0.0018214936247723133, 0.0036429872495446266, 0.0036429872495446266, 0.00546448087431694, 0.00546448087431694, 0.00546448087431694, 0.00546448087431694, 0.007285974499089253, 0.007285974499089253, 0.009107468123861567, 0.009107468123861567, 0.01092896174863388, 0.01092896174863388, 0.012750455373406194, 0.012750455373406194, 0.014571948998178506, 0.014571948998178506, 0.014571948998178506, 0.014571948998178506, 0.01639344262295082, 0.01639344262295082, 0.018214936247723135, 0.018214936247723135, 0.020036429872495445, 0.020036429872495445, 0.02185792349726776, 0.02185792349726776, 0.023679417122040074, 0.023679417122040074, 0.025500910746812388, 0.025500910746812388, 0.0273224043715847, 0.0273224043715847, 0.03460837887067395, 0.03460837887067395, 0.03825136612021858, 0.03825136612021858, 0.04007285974499089, 0.04189435336976321, 0.04189435336976321, 0.04189435336976321, 0.04735883424408015, 0.04735883424408015, 0.04918032786885246, 0.04918032786885246, 0.051001821493624776, 0.051001821493624776, 0.052823315118397086, 0.052823315118397086, 0.0546448087431694, 0.0546448087431694, 0.0546448087431694, 0.0546448087431694, 0.058287795992714025, 0.058287795992714025, 0.06739526411657559, 0.06739526411657559, 0.0692167577413479, 0.0692167577413479, 0.07103825136612021, 0.07103825136612021, 0.07103825136612021, 0.07285974499089254, 0.07285974499089254, 0.07832422586520947, 0.07832422586520947, 0.08196721311475409, 0.08196721311475409, 0.08378870673952642, 0.08378870673952642, 0.08743169398907104, 0.08743169398907104, 0.09107468123861566, 0.09107468123861566, 0.09289617486338798, 0.09289617486338798, 0.09289617486338798, 0.09289617486338798, 0.09836065573770492, 0.09836065573770492, 0.10018214936247723, 0.10018214936247723, 0.10382513661202186, 0.10382513661202186, 0.1092896174863388, 0.1092896174863388, 0.11293260473588343, 0.11293260473588343, 0.11657559198542805, 0.11657559198542805, 0.122040072859745, 0.122040072859745, 0.12750455373406194, 0.12750455373406194, 0.12932604735883424, 0.12932604735883424, 0.13114754098360656, 0.13114754098360656, 0.1366120218579235, 0.1366120218579235, 0.1384335154826958, 0.1384335154826958, 0.14571948998178508, 0.14571948998178508, 0.15300546448087432, 0.15300546448087432, 0.15664845173041894, 0.16029143897996356, 0.16393442622950818, 0.16393442622950818, 0.16757741347905283, 0.16757741347905283, 0.17486338797814208, 0.17486338797814208, 0.18032786885245902, 0.18032786885245902, 0.18214936247723132, 0.18214936247723132, 0.18397085610200364, 0.18761384335154827, 0.18761384335154827, 0.1894353369763206, 0.1894353369763206, 0.1912568306010929, 0.1912568306010929, 0.1930783242258652, 0.1930783242258652, 0.19672131147540983, 0.19672131147540983, 0.19854280510018216, 0.20036429872495445, 0.21311475409836064, 0.21311475409836064, 0.2167577413479053, 0.2167577413479053, 0.2185792349726776, 0.2185792349726776, 0.2222222222222222, 0.2222222222222222, 0.22768670309653916, 0.22768670309653916, 0.23679417122040072, 0.23679417122040072, 0.23861566484517305, 0.23861566484517305, 0.23861566484517305, 0.23861566484517305, 0.2459016393442623, 0.2459016393442623, 0.25136612021857924, 0.25318761384335153, 0.25318761384335153, 0.2568306010928962, 0.2586520947176685, 0.273224043715847, 0.273224043715847, 0.2768670309653916, 0.2768670309653916, 0.2786885245901639, 0.28415300546448086, 0.28415300546448086, 0.2896174863387978, 0.302367941712204, 0.302367941712204, 0.30601092896174864, 0.3114754098360656, 0.3114754098360656, 0.31693989071038253, 0.31693989071038253, 0.33697632058287796, 0.33697632058287796, 0.34790528233151186, 0.34790528233151186, 0.34972677595628415, 0.34972677595628415, 0.3533697632058288, 0.3533697632058288, 0.3588342440801457, 0.36429872495446264, 0.366120218579235, 0.3770491803278688, 0.3825136612021858, 0.3825136612021858, 0.3861566484517304, 0.3861566484517304, 0.3879781420765027, 0.3879781420765027, 0.3989071038251366, 0.3989071038251366, 0.40437158469945356, 0.40437158469945356, 0.40619307832422585, 0.40619307832422585, 0.4134790528233151, 0.4134790528233151, 0.41712204007285975, 0.41894353369763204, 0.424408014571949, 0.42805100182149364, 0.42805100182149364, 0.44626593806921677, 0.44990892531876137, 0.4517304189435337, 0.46265938069216755, 0.4644808743169399, 0.4681238615664845, 0.48451730418943534, 0.48451730418943534, 0.48816029143898, 0.4918032786885246, 0.4918032786885246, 0.5009107468123861, 0.5100182149362478, 0.5154826958105647, 0.5227686703096539, 0.5264116575591985, 0.5264116575591985, 0.5373406193078324, 0.5373406193078324, 0.5428051001821493, 0.5500910746812386, 0.5537340619307832, 0.5573770491803278, 0.5664845173041895, 0.5701275045537341, 0.5792349726775956, 0.5792349726775956, 0.5828779599271403, 0.5865209471766849, 0.5883424408014571, 0.5974499089253188, 0.5974499089253188, 0.6174863387978142, 0.6211293260473588, 0.6247723132969034, 0.6247723132969034, 0.6302367941712204, 0.6338797814207651, 0.6466302367941712, 0.6502732240437158, 0.6539162112932605, 0.6539162112932605, 0.6575591985428051, 0.6575591985428051, 0.6593806921675774, 0.6593806921675774, 0.6648451730418944, 0.668488160291439, 0.6739526411657559, 0.6903460837887068, 0.697632058287796, 0.7012750455373407, 0.7067395264116576, 0.7103825136612022, 0.7213114754098361, 0.7213114754098361, 0.7431693989071039, 0.7668488160291439, 0.7686703096539163, 0.7723132969034608, 0.7777777777777778, 0.7814207650273224, 0.7814207650273224, 0.7814207650273224, 0.7832422586520947, 0.7832422586520947, 0.7905282331511839, 0.7923497267759563, 0.7959927140255009, 0.7959927140255009, 0.7996357012750456, 0.8123861566484517, 0.819672131147541, 0.8306010928961749, 0.8306010928961749, 0.8397085610200364, 0.8397085610200364, 0.843351548269581, 0.8451730418943534, 0.8451730418943534, 0.8633879781420765, 0.8670309653916212, 0.8743169398907104, 0.8779599271402551, 0.8943533697632058, 0.8943533697632058, 0.9162112932604736, 0.9162112932604736, 0.9180327868852459, 0.9198542805100182, 0.9216757741347905, 0.9216757741347905, 0.9508196721311475, 0.9544626593806922, 0.9544626593806922, 0.9599271402550091, 0.9653916211293261, 0.994535519125683, 1.0], \"y\": [0.0, 0.0029239766081871343, 0.02046783625730994, 0.02046783625730994, 0.06140350877192982, 0.06140350877192982, 0.12280701754385964, 0.12280701754385964, 0.15204678362573099, 0.15789473684210525, 0.17251461988304093, 0.17251461988304093, 0.2719298245614035, 0.2719298245614035, 0.3304093567251462, 0.3304093567251462, 0.3362573099415205, 0.3362573099415205, 0.3538011695906433, 0.3538011695906433, 0.3567251461988304, 0.36257309941520466, 0.3684210526315789, 0.3684210526315789, 0.37719298245614036, 0.37719298245614036, 0.4093567251461988, 0.4093567251461988, 0.41228070175438597, 0.41228070175438597, 0.4152046783625731, 0.4152046783625731, 0.4239766081871345, 0.4239766081871345, 0.43859649122807015, 0.43859649122807015, 0.45614035087719296, 0.45614035087719296, 0.47368421052631576, 0.47368421052631576, 0.4824561403508772, 0.4824561403508772, 0.4853801169590643, 0.48830409356725146, 0.49415204678362573, 0.49415204678362573, 0.5058479532163743, 0.5058479532163743, 0.5146198830409356, 0.5146198830409356, 0.5175438596491229, 0.5175438596491229, 0.5321637426900585, 0.5321637426900585, 0.5350877192982456, 0.5409356725146199, 0.5467836257309941, 0.5467836257309941, 0.5497076023391813, 0.5497076023391813, 0.5555555555555556, 0.5555555555555556, 0.5614035087719298, 0.5614035087719298, 0.5701754385964912, 0.5760233918128655, 0.5964912280701754, 0.6023391812865497, 0.6023391812865497, 0.6081871345029239, 0.6081871345029239, 0.6111111111111112, 0.6111111111111112, 0.6140350877192983, 0.6140350877192983, 0.6169590643274854, 0.6169590643274854, 0.6228070175438597, 0.6228070175438597, 0.6345029239766082, 0.6403508771929824, 0.6432748538011696, 0.6432748538011696, 0.6461988304093568, 0.6461988304093568, 0.6608187134502924, 0.6608187134502924, 0.672514619883041, 0.672514619883041, 0.6754385964912281, 0.6754385964912281, 0.6842105263157895, 0.6842105263157895, 0.6871345029239766, 0.6871345029239766, 0.6900584795321637, 0.6900584795321637, 0.6988304093567251, 0.6988304093567251, 0.7105263157894737, 0.7105263157894737, 0.7134502923976608, 0.7134502923976608, 0.716374269005848, 0.716374269005848, 0.7192982456140351, 0.7192982456140351, 0.7222222222222222, 0.7222222222222222, 0.7251461988304093, 0.7251461988304093, 0.7251461988304093, 0.7251461988304093, 0.7309941520467836, 0.7309941520467836, 0.7339181286549707, 0.7339181286549707, 0.7368421052631579, 0.7368421052631579, 0.7397660818713451, 0.7397660818713451, 0.7485380116959064, 0.7485380116959064, 0.7485380116959064, 0.7514619883040936, 0.7514619883040936, 0.7602339181286549, 0.7602339181286549, 0.7631578947368421, 0.7631578947368421, 0.7660818713450293, 0.7660818713450293, 0.7719298245614035, 0.7719298245614035, 0.7748538011695907, 0.7748538011695907, 0.7807017543859649, 0.7807017543859649, 0.783625730994152, 0.783625730994152, 0.7865497076023392, 0.7865497076023392, 0.7894736842105263, 0.7894736842105263, 0.7923976608187134, 0.7923976608187134, 0.7953216374269005, 0.7953216374269005, 0.804093567251462, 0.8099415204678363, 0.8128654970760234, 0.8128654970760234, 0.8157894736842105, 0.8157894736842105, 0.8157894736842105, 0.8187134502923976, 0.8187134502923976, 0.8216374269005848, 0.8216374269005848, 0.827485380116959, 0.827485380116959, 0.8304093567251462, 0.8304093567251462, 0.8304093567251462, 0.8333333333333334, 0.8333333333333334, 0.8333333333333334, 0.8391812865497076, 0.8391812865497076, 0.8391812865497076, 0.8450292397660819, 0.8450292397660819, 0.8508771929824561, 0.8508771929824561, 0.8538011695906432, 0.8538011695906432, 0.8567251461988304, 0.8567251461988304, 0.8596491228070176, 0.8596491228070176, 0.8625730994152047, 0.8625730994152047, 0.8625730994152047, 0.8654970760233918, 0.8654970760233918, 0.8654970760233918, 0.868421052631579, 0.868421052631579, 0.8713450292397661, 0.8713450292397661, 0.8742690058479532, 0.8742690058479532, 0.8771929824561403, 0.8771929824561403, 0.8801169590643275, 0.8801169590643275, 0.8830409356725146, 0.8830409356725146, 0.8859649122807017, 0.8859649122807017, 0.8888888888888888, 0.8888888888888888, 0.8888888888888888, 0.8918128654970761, 0.8918128654970761, 0.8918128654970761, 0.8918128654970761, 0.8918128654970761, 0.8918128654970761, 0.8947368421052632, 0.8947368421052632, 0.8976608187134503, 0.8976608187134503, 0.8976608187134503, 0.9005847953216374, 0.9035087719298246, 0.9035087719298246, 0.9035087719298246, 0.9035087719298246, 0.9035087719298246, 0.9064327485380117, 0.9064327485380117, 0.9122807017543859, 0.9122807017543859, 0.9122807017543859, 0.9122807017543859, 0.9122807017543859, 0.9122807017543859, 0.9122807017543859, 0.9122807017543859, 0.9152046783625731, 0.9152046783625731, 0.9152046783625731, 0.9210526315789473, 0.9210526315789473, 0.9239766081871345, 0.9239766081871345, 0.9239766081871345, 0.9239766081871345, 0.9298245614035088, 0.9298245614035088, 0.9298245614035088, 0.9298245614035088, 0.9298245614035088, 0.9298245614035088, 0.9327485380116959, 0.9327485380116959, 0.935672514619883, 0.935672514619883, 0.9415204678362573, 0.9415204678362573, 0.9415204678362573, 0.9415204678362573, 0.9444444444444444, 0.9444444444444444, 0.9444444444444444, 0.9444444444444444, 0.9444444444444444, 0.9444444444444444, 0.9473684210526315, 0.9473684210526315, 0.9473684210526315, 0.9502923976608187, 0.9502923976608187, 0.9502923976608187, 0.9502923976608187, 0.9532163742690059, 0.9590643274853801, 0.9590643274853801, 0.9619883040935673, 0.9619883040935673, 0.9649122807017544, 0.9649122807017544, 0.9678362573099415, 0.9678362573099415, 0.9678362573099415, 0.9678362573099415, 0.9678362573099415, 0.9707602339181286, 0.9707602339181286, 0.9736842105263158, 0.9766081871345029, 0.9766081871345029, 0.97953216374269, 0.97953216374269, 0.97953216374269, 0.97953216374269, 0.97953216374269, 0.97953216374269, 0.9824561403508771, 0.9824561403508771, 0.9853801169590644, 0.9853801169590644, 0.9883040935672515, 0.9883040935672515, 0.9912280701754386, 0.9912280701754386, 0.9912280701754386, 1.0, 1.0, 1.0, 1.0, 1.0]}],\n",
              "                        {\"template\": {\"data\": {\"bar\": [{\"error_x\": {\"color\": \"#2a3f5f\"}, \"error_y\": {\"color\": \"#2a3f5f\"}, \"marker\": {\"line\": {\"color\": \"#E5ECF6\", \"width\": 0.5}}, \"type\": \"bar\"}], \"barpolar\": [{\"marker\": {\"line\": {\"color\": \"#E5ECF6\", \"width\": 0.5}}, \"type\": \"barpolar\"}], \"carpet\": [{\"aaxis\": {\"endlinecolor\": \"#2a3f5f\", \"gridcolor\": \"white\", \"linecolor\": \"white\", \"minorgridcolor\": \"white\", \"startlinecolor\": \"#2a3f5f\"}, \"baxis\": {\"endlinecolor\": \"#2a3f5f\", \"gridcolor\": \"white\", \"linecolor\": \"white\", \"minorgridcolor\": \"white\", \"startlinecolor\": \"#2a3f5f\"}, \"type\": \"carpet\"}], \"choropleth\": [{\"colorbar\": {\"outlinewidth\": 0, \"ticks\": \"\"}, \"type\": \"choropleth\"}], \"contour\": [{\"colorbar\": {\"outlinewidth\": 0, \"ticks\": \"\"}, \"colorscale\": [[0.0, \"#0d0887\"], [0.1111111111111111, \"#46039f\"], [0.2222222222222222, \"#7201a8\"], [0.3333333333333333, \"#9c179e\"], [0.4444444444444444, \"#bd3786\"], [0.5555555555555556, \"#d8576b\"], [0.6666666666666666, \"#ed7953\"], [0.7777777777777778, \"#fb9f3a\"], [0.8888888888888888, \"#fdca26\"], [1.0, \"#f0f921\"]], \"type\": \"contour\"}], \"contourcarpet\": [{\"colorbar\": {\"outlinewidth\": 0, \"ticks\": \"\"}, \"type\": \"contourcarpet\"}], \"heatmap\": [{\"colorbar\": {\"outlinewidth\": 0, \"ticks\": \"\"}, \"colorscale\": [[0.0, \"#0d0887\"], [0.1111111111111111, \"#46039f\"], [0.2222222222222222, \"#7201a8\"], [0.3333333333333333, \"#9c179e\"], [0.4444444444444444, \"#bd3786\"], [0.5555555555555556, \"#d8576b\"], [0.6666666666666666, \"#ed7953\"], [0.7777777777777778, \"#fb9f3a\"], [0.8888888888888888, \"#fdca26\"], [1.0, \"#f0f921\"]], \"type\": \"heatmap\"}], \"heatmapgl\": [{\"colorbar\": {\"outlinewidth\": 0, \"ticks\": \"\"}, \"colorscale\": [[0.0, \"#0d0887\"], [0.1111111111111111, \"#46039f\"], [0.2222222222222222, \"#7201a8\"], [0.3333333333333333, \"#9c179e\"], [0.4444444444444444, \"#bd3786\"], [0.5555555555555556, \"#d8576b\"], [0.6666666666666666, \"#ed7953\"], [0.7777777777777778, \"#fb9f3a\"], [0.8888888888888888, \"#fdca26\"], [1.0, \"#f0f921\"]], \"type\": \"heatmapgl\"}], \"histogram\": [{\"marker\": {\"colorbar\": {\"outlinewidth\": 0, \"ticks\": \"\"}}, \"type\": \"histogram\"}], \"histogram2d\": [{\"colorbar\": {\"outlinewidth\": 0, \"ticks\": \"\"}, \"colorscale\": [[0.0, \"#0d0887\"], [0.1111111111111111, \"#46039f\"], [0.2222222222222222, \"#7201a8\"], [0.3333333333333333, \"#9c179e\"], [0.4444444444444444, \"#bd3786\"], [0.5555555555555556, \"#d8576b\"], [0.6666666666666666, \"#ed7953\"], [0.7777777777777778, \"#fb9f3a\"], [0.8888888888888888, \"#fdca26\"], [1.0, \"#f0f921\"]], \"type\": \"histogram2d\"}], \"histogram2dcontour\": [{\"colorbar\": {\"outlinewidth\": 0, \"ticks\": \"\"}, \"colorscale\": [[0.0, \"#0d0887\"], [0.1111111111111111, \"#46039f\"], [0.2222222222222222, \"#7201a8\"], [0.3333333333333333, \"#9c179e\"], [0.4444444444444444, \"#bd3786\"], [0.5555555555555556, \"#d8576b\"], [0.6666666666666666, \"#ed7953\"], [0.7777777777777778, \"#fb9f3a\"], [0.8888888888888888, \"#fdca26\"], [1.0, \"#f0f921\"]], \"type\": \"histogram2dcontour\"}], \"mesh3d\": [{\"colorbar\": {\"outlinewidth\": 0, \"ticks\": \"\"}, \"type\": \"mesh3d\"}], \"parcoords\": [{\"line\": {\"colorbar\": {\"outlinewidth\": 0, \"ticks\": \"\"}}, \"type\": \"parcoords\"}], \"pie\": [{\"automargin\": true, \"type\": \"pie\"}], \"scatter\": [{\"marker\": {\"colorbar\": {\"outlinewidth\": 0, \"ticks\": \"\"}}, \"type\": \"scatter\"}], \"scatter3d\": [{\"line\": {\"colorbar\": {\"outlinewidth\": 0, \"ticks\": \"\"}}, \"marker\": {\"colorbar\": {\"outlinewidth\": 0, \"ticks\": \"\"}}, \"type\": \"scatter3d\"}], \"scattercarpet\": [{\"marker\": {\"colorbar\": {\"outlinewidth\": 0, \"ticks\": \"\"}}, \"type\": \"scattercarpet\"}], \"scattergeo\": [{\"marker\": {\"colorbar\": {\"outlinewidth\": 0, \"ticks\": \"\"}}, \"type\": \"scattergeo\"}], \"scattergl\": [{\"marker\": {\"colorbar\": {\"outlinewidth\": 0, \"ticks\": \"\"}}, \"type\": \"scattergl\"}], \"scattermapbox\": [{\"marker\": {\"colorbar\": {\"outlinewidth\": 0, \"ticks\": \"\"}}, \"type\": \"scattermapbox\"}], \"scatterpolar\": [{\"marker\": {\"colorbar\": {\"outlinewidth\": 0, \"ticks\": \"\"}}, \"type\": \"scatterpolar\"}], \"scatterpolargl\": [{\"marker\": {\"colorbar\": {\"outlinewidth\": 0, \"ticks\": \"\"}}, \"type\": \"scatterpolargl\"}], \"scatterternary\": [{\"marker\": {\"colorbar\": {\"outlinewidth\": 0, \"ticks\": \"\"}}, \"type\": \"scatterternary\"}], \"surface\": [{\"colorbar\": {\"outlinewidth\": 0, \"ticks\": \"\"}, \"colorscale\": [[0.0, \"#0d0887\"], [0.1111111111111111, \"#46039f\"], [0.2222222222222222, \"#7201a8\"], [0.3333333333333333, \"#9c179e\"], [0.4444444444444444, \"#bd3786\"], [0.5555555555555556, \"#d8576b\"], [0.6666666666666666, \"#ed7953\"], [0.7777777777777778, \"#fb9f3a\"], [0.8888888888888888, \"#fdca26\"], [1.0, \"#f0f921\"]], \"type\": \"surface\"}], \"table\": [{\"cells\": {\"fill\": {\"color\": \"#EBF0F8\"}, \"line\": {\"color\": \"white\"}}, \"header\": {\"fill\": {\"color\": \"#C8D4E3\"}, \"line\": {\"color\": \"white\"}}, \"type\": \"table\"}]}, \"layout\": {\"annotationdefaults\": {\"arrowcolor\": \"#2a3f5f\", \"arrowhead\": 0, \"arrowwidth\": 1}, \"coloraxis\": {\"colorbar\": {\"outlinewidth\": 0, \"ticks\": \"\"}}, \"colorscale\": {\"diverging\": [[0, \"#8e0152\"], [0.1, \"#c51b7d\"], [0.2, \"#de77ae\"], [0.3, \"#f1b6da\"], [0.4, \"#fde0ef\"], [0.5, \"#f7f7f7\"], [0.6, \"#e6f5d0\"], [0.7, \"#b8e186\"], [0.8, \"#7fbc41\"], [0.9, \"#4d9221\"], [1, \"#276419\"]], \"sequential\": [[0.0, \"#0d0887\"], [0.1111111111111111, \"#46039f\"], [0.2222222222222222, \"#7201a8\"], [0.3333333333333333, \"#9c179e\"], [0.4444444444444444, \"#bd3786\"], [0.5555555555555556, \"#d8576b\"], [0.6666666666666666, \"#ed7953\"], [0.7777777777777778, \"#fb9f3a\"], [0.8888888888888888, \"#fdca26\"], [1.0, \"#f0f921\"]], \"sequentialminus\": [[0.0, \"#0d0887\"], [0.1111111111111111, \"#46039f\"], [0.2222222222222222, \"#7201a8\"], [0.3333333333333333, \"#9c179e\"], [0.4444444444444444, \"#bd3786\"], [0.5555555555555556, \"#d8576b\"], [0.6666666666666666, \"#ed7953\"], [0.7777777777777778, \"#fb9f3a\"], [0.8888888888888888, \"#fdca26\"], [1.0, \"#f0f921\"]]}, \"colorway\": [\"#636efa\", \"#EF553B\", \"#00cc96\", \"#ab63fa\", \"#FFA15A\", \"#19d3f3\", \"#FF6692\", \"#B6E880\", \"#FF97FF\", \"#FECB52\"], \"font\": {\"color\": \"#2a3f5f\"}, \"geo\": {\"bgcolor\": \"white\", \"lakecolor\": \"white\", \"landcolor\": \"#E5ECF6\", \"showlakes\": true, \"showland\": true, \"subunitcolor\": \"white\"}, \"hoverlabel\": {\"align\": \"left\"}, \"hovermode\": \"closest\", \"mapbox\": {\"style\": \"light\"}, \"paper_bgcolor\": \"white\", \"plot_bgcolor\": \"#E5ECF6\", \"polar\": {\"angularaxis\": {\"gridcolor\": \"white\", \"linecolor\": \"white\", \"ticks\": \"\"}, \"bgcolor\": \"#E5ECF6\", \"radialaxis\": {\"gridcolor\": \"white\", \"linecolor\": \"white\", \"ticks\": \"\"}}, \"scene\": {\"xaxis\": {\"backgroundcolor\": \"#E5ECF6\", \"gridcolor\": \"white\", \"gridwidth\": 2, \"linecolor\": \"white\", \"showbackground\": true, \"ticks\": \"\", \"zerolinecolor\": \"white\"}, \"yaxis\": {\"backgroundcolor\": \"#E5ECF6\", \"gridcolor\": \"white\", \"gridwidth\": 2, \"linecolor\": \"white\", \"showbackground\": true, \"ticks\": \"\", \"zerolinecolor\": \"white\"}, \"zaxis\": {\"backgroundcolor\": \"#E5ECF6\", \"gridcolor\": \"white\", \"gridwidth\": 2, \"linecolor\": \"white\", \"showbackground\": true, \"ticks\": \"\", \"zerolinecolor\": \"white\"}}, \"shapedefaults\": {\"line\": {\"color\": \"#2a3f5f\"}}, \"ternary\": {\"aaxis\": {\"gridcolor\": \"white\", \"linecolor\": \"white\", \"ticks\": \"\"}, \"baxis\": {\"gridcolor\": \"white\", \"linecolor\": \"white\", \"ticks\": \"\"}, \"bgcolor\": \"#E5ECF6\", \"caxis\": {\"gridcolor\": \"white\", \"linecolor\": \"white\", \"ticks\": \"\"}}, \"title\": {\"x\": 0.05}, \"xaxis\": {\"automargin\": true, \"gridcolor\": \"white\", \"linecolor\": \"white\", \"ticks\": \"\", \"title\": {\"standoff\": 15}, \"zerolinecolor\": \"white\", \"zerolinewidth\": 2}, \"yaxis\": {\"automargin\": true, \"gridcolor\": \"white\", \"linecolor\": \"white\", \"ticks\": \"\", \"title\": {\"standoff\": 15}, \"zerolinecolor\": \"white\", \"zerolinewidth\": 2}}}, \"title\": {\"text\": \"Train AUC: 0.85\\t\"}},\n",
              "                        {\"responsive\": true}\n",
              "                    ).then(function(){\n",
              "                            \n",
              "var gd = document.getElementById('425d928e-bdab-4349-8f67-f5252bd5db12');\n",
              "var x = new MutationObserver(function (mutations, observer) {{\n",
              "        var display = window.getComputedStyle(gd).display;\n",
              "        if (!display || display === 'none') {{\n",
              "            console.log([gd, 'removed!']);\n",
              "            Plotly.purge(gd);\n",
              "            observer.disconnect();\n",
              "        }}\n",
              "}});\n",
              "\n",
              "// Listen for the removal of the full notebook cells\n",
              "var notebookContainer = gd.closest('#notebook-container');\n",
              "if (notebookContainer) {{\n",
              "    x.observe(notebookContainer, {childList: true});\n",
              "}}\n",
              "\n",
              "// Listen for the clearing of the current output cell\n",
              "var outputEl = gd.closest('.output');\n",
              "if (outputEl) {{\n",
              "    x.observe(outputEl, {childList: true});\n",
              "}}\n",
              "\n",
              "                        })\n",
              "                };\n",
              "                \n",
              "            </script>\n",
              "        </div>\n",
              "</body>\n",
              "</html>"
            ]
          },
          "metadata": {
            "tags": []
          }
        }
      ]
    },
    {
      "cell_type": "markdown",
      "metadata": {
        "id": "IGQzbTvdplRk"
      },
      "source": [
        "As the ROC curve is base on `Recall` and `FPR` (which we would like to maintain low), we would like to see the curve getting high while the `FPR` remains low, in other words, we want to see the curve soared in small values.\r\n",
        "From the AUC score, we can understand that it is not as good as we would want to see, let's try to select the best features, and tuning the hyper-parameters."
      ]
    },
    {
      "cell_type": "markdown",
      "metadata": {
        "id": "9WDJkAqpUsCv"
      },
      "source": [
        "## Polynomial Degree"
      ]
    },
    {
      "cell_type": "markdown",
      "metadata": {
        "id": "fw9T7_1iKWTu"
      },
      "source": [
        "Now let's do see if we can get better results with a different polynomial degree."
      ]
    },
    {
      "cell_type": "code",
      "metadata": {
        "colab": {
          "base_uri": "https://localhost:8080/",
          "height": 1000,
          "referenced_widgets": [
            "273b7bb4ea924135b4254994086ac87b",
            "d5c3a468f89945b3900025dc317f8b27",
            "834473626d434408b8758aaa94a49df0",
            "ab98e267c18142e8945d3099854a2282",
            "815b26f47b994d149d853b680d825bd9",
            "1fd079eac0c94b558c42d6120eec2526",
            "38fb445a07ea4ad1985f929e4fec9d59",
            "dcd033ebe9fe49c5a521b3053cef47bf"
          ]
        },
        "id": "OQRyVxdTeRLi",
        "outputId": "418d67ab-6a45-4c13-c8b0-ccde43133bf1"
      },
      "source": [
        "# show graph of score and loss by plynomial degree of numerical features\r\n",
        "def show_degree_graphs_cv_train(X, t, model, k, max_degree=10):\r\n",
        "    numerical_cols = X.select_dtypes(include=['int64', 'float64']).columns\r\n",
        "    categorical_cols = X.select_dtypes(include=['object', 'bool']).columns\r\n",
        "    ordinal_cols = []\r\n",
        "    \r\n",
        "    val_train_score_loss_df = pd.DataFrame(columns=['degree', 'split', 'score', 'loss'])\r\n",
        "    for i in tqdm(range(1, max_degree), desc='Poly Degree'):\r\n",
        "        ct_enc_std_poly = ColumnTransformer([\r\n",
        "            (\"encoding\", OneHotEncoder(sparse=False, handle_unknown='ignore'), categorical_cols),\r\n",
        "            (\"standard_poly\", make_pipeline(PolynomialFeatures(degree=i), StandardScaler()), numerical_cols),\r\n",
        "            (\"ordinal_poly\", make_pipeline(PolynomialFeatures(degree=i), OrdinalEncoder()), ordinal_cols)])\r\n",
        "        model_pipe = make_pipeline(ct_enc_std_poly, model)\r\n",
        "        val_score, val_loss, train_score, train_loss, train_cm, valid_cm = get_cv_score_and_loss(X, t, model_pipe, k=k, show_score_loss_graphs=False, use_pbar=False)\r\n",
        "        val_train_score_loss_df.loc[len(val_train_score_loss_df)] = [i, 'train', train_score, train_loss]\r\n",
        "        val_train_score_loss_df.loc[len(val_train_score_loss_df)] = [i, 'cv', val_score, val_loss]\r\n",
        "\r\n",
        "    fig = px.line(val_train_score_loss_df, x='degree', y='score', color='split')\r\n",
        "    fig.show()\r\n",
        "    fig = px.line(val_train_score_loss_df, x='degree', y='loss', color='split')\r\n",
        "    fig.show()\r\n",
        "    \r\n",
        "show_degree_graphs_cv_train(X, t, SGDClassifier(loss='log', random_state=2), k=5, max_degree=10)"
      ],
      "execution_count": null,
      "outputs": [
        {
          "output_type": "display_data",
          "data": {
            "application/vnd.jupyter.widget-view+json": {
              "model_id": "273b7bb4ea924135b4254994086ac87b",
              "version_minor": 0,
              "version_major": 2
            },
            "text/plain": [
              "HBox(children=(FloatProgress(value=0.0, description='Poly Degree', max=9.0, style=ProgressStyle(description_wi…"
            ]
          },
          "metadata": {
            "tags": []
          }
        },
        {
          "output_type": "stream",
          "text": [
            "\n"
          ],
          "name": "stdout"
        },
        {
          "output_type": "display_data",
          "data": {
            "text/html": [
              "<html>\n",
              "<head><meta charset=\"utf-8\" /></head>\n",
              "<body>\n",
              "    <div>\n",
              "            <script src=\"https://cdnjs.cloudflare.com/ajax/libs/mathjax/2.7.5/MathJax.js?config=TeX-AMS-MML_SVG\"></script><script type=\"text/javascript\">if (window.MathJax) {MathJax.Hub.Config({SVG: {font: \"STIX-Web\"}});}</script>\n",
              "                <script type=\"text/javascript\">window.PlotlyConfig = {MathJaxConfig: 'local'};</script>\n",
              "        <script src=\"https://cdn.plot.ly/plotly-latest.min.js\"></script>    \n",
              "            <div id=\"413cf4af-d8da-46f0-bf2b-5ee135655d66\" class=\"plotly-graph-div\" style=\"height:525px; width:100%;\"></div>\n",
              "            <script type=\"text/javascript\">\n",
              "                \n",
              "                    window.PLOTLYENV=window.PLOTLYENV || {};\n",
              "                    \n",
              "                if (document.getElementById(\"413cf4af-d8da-46f0-bf2b-5ee135655d66\")) {\n",
              "                    Plotly.newPlot(\n",
              "                        '413cf4af-d8da-46f0-bf2b-5ee135655d66',\n",
              "                        [{\"hoverlabel\": {\"namelength\": 0}, \"hovertemplate\": \"split=train<br>degree=%{x}<br>score=%{y}\", \"legendgroup\": \"split=train\", \"line\": {\"color\": \"#636efa\", \"dash\": \"solid\"}, \"mode\": \"lines\", \"name\": \"split=train\", \"showlegend\": true, \"type\": \"scatter\", \"x\": [1, 2, 3, 4, 5, 6, 7, 8, 9], \"xaxis\": \"x\", \"y\": [0.8044317411790661, 0.7354168964810817, 0.8063858203192712, 0.7646031958649163, 0.7752560789195833, 0.789555525789117, 0.7483248498983563, 0.7472051940684243, 0.7957360890051531], \"yaxis\": \"y\"}, {\"hoverlabel\": {\"namelength\": 0}, \"hovertemplate\": \"split=cv<br>degree=%{x}<br>score=%{y}\", \"legendgroup\": \"split=cv\", \"line\": {\"color\": \"#EF553B\", \"dash\": \"solid\"}, \"mode\": \"lines\", \"name\": \"split=cv\", \"showlegend\": true, \"type\": \"scatter\", \"x\": [1, 2, 3, 4, 5, 6, 7, 8, 9], \"xaxis\": \"x\", \"y\": [0.7856820036407004, 0.7294959512899378, 0.7733475613583579, 0.720538572594313, 0.7463122214550248, 0.7699516665620488, 0.7396145879103634, 0.6856631724311091, 0.7710438767183478], \"yaxis\": \"y\"}],\n",
              "                        {\"legend\": {\"tracegroupgap\": 0}, \"margin\": {\"t\": 60}, \"template\": {\"data\": {\"bar\": [{\"error_x\": {\"color\": \"#2a3f5f\"}, \"error_y\": {\"color\": \"#2a3f5f\"}, \"marker\": {\"line\": {\"color\": \"#E5ECF6\", \"width\": 0.5}}, \"type\": \"bar\"}], \"barpolar\": [{\"marker\": {\"line\": {\"color\": \"#E5ECF6\", \"width\": 0.5}}, \"type\": \"barpolar\"}], \"carpet\": [{\"aaxis\": {\"endlinecolor\": \"#2a3f5f\", \"gridcolor\": \"white\", \"linecolor\": \"white\", \"minorgridcolor\": \"white\", \"startlinecolor\": \"#2a3f5f\"}, \"baxis\": {\"endlinecolor\": \"#2a3f5f\", \"gridcolor\": \"white\", \"linecolor\": \"white\", \"minorgridcolor\": \"white\", \"startlinecolor\": \"#2a3f5f\"}, \"type\": \"carpet\"}], \"choropleth\": [{\"colorbar\": {\"outlinewidth\": 0, \"ticks\": \"\"}, \"type\": \"choropleth\"}], \"contour\": [{\"colorbar\": {\"outlinewidth\": 0, \"ticks\": \"\"}, \"colorscale\": [[0.0, \"#0d0887\"], [0.1111111111111111, \"#46039f\"], [0.2222222222222222, \"#7201a8\"], [0.3333333333333333, \"#9c179e\"], [0.4444444444444444, \"#bd3786\"], [0.5555555555555556, \"#d8576b\"], [0.6666666666666666, \"#ed7953\"], [0.7777777777777778, \"#fb9f3a\"], [0.8888888888888888, \"#fdca26\"], [1.0, \"#f0f921\"]], \"type\": \"contour\"}], \"contourcarpet\": [{\"colorbar\": {\"outlinewidth\": 0, \"ticks\": \"\"}, \"type\": \"contourcarpet\"}], \"heatmap\": [{\"colorbar\": {\"outlinewidth\": 0, \"ticks\": \"\"}, \"colorscale\": [[0.0, \"#0d0887\"], [0.1111111111111111, \"#46039f\"], [0.2222222222222222, \"#7201a8\"], [0.3333333333333333, \"#9c179e\"], [0.4444444444444444, \"#bd3786\"], [0.5555555555555556, \"#d8576b\"], [0.6666666666666666, \"#ed7953\"], [0.7777777777777778, \"#fb9f3a\"], [0.8888888888888888, \"#fdca26\"], [1.0, \"#f0f921\"]], \"type\": \"heatmap\"}], \"heatmapgl\": [{\"colorbar\": {\"outlinewidth\": 0, \"ticks\": \"\"}, \"colorscale\": [[0.0, \"#0d0887\"], [0.1111111111111111, \"#46039f\"], [0.2222222222222222, \"#7201a8\"], [0.3333333333333333, \"#9c179e\"], [0.4444444444444444, \"#bd3786\"], [0.5555555555555556, \"#d8576b\"], [0.6666666666666666, \"#ed7953\"], [0.7777777777777778, \"#fb9f3a\"], [0.8888888888888888, \"#fdca26\"], [1.0, \"#f0f921\"]], \"type\": \"heatmapgl\"}], \"histogram\": [{\"marker\": {\"colorbar\": {\"outlinewidth\": 0, \"ticks\": \"\"}}, \"type\": \"histogram\"}], \"histogram2d\": [{\"colorbar\": {\"outlinewidth\": 0, \"ticks\": \"\"}, \"colorscale\": [[0.0, \"#0d0887\"], [0.1111111111111111, \"#46039f\"], [0.2222222222222222, \"#7201a8\"], [0.3333333333333333, \"#9c179e\"], [0.4444444444444444, \"#bd3786\"], [0.5555555555555556, \"#d8576b\"], [0.6666666666666666, \"#ed7953\"], [0.7777777777777778, \"#fb9f3a\"], [0.8888888888888888, \"#fdca26\"], [1.0, \"#f0f921\"]], \"type\": \"histogram2d\"}], \"histogram2dcontour\": [{\"colorbar\": {\"outlinewidth\": 0, \"ticks\": \"\"}, \"colorscale\": [[0.0, \"#0d0887\"], [0.1111111111111111, \"#46039f\"], [0.2222222222222222, \"#7201a8\"], [0.3333333333333333, \"#9c179e\"], [0.4444444444444444, \"#bd3786\"], [0.5555555555555556, \"#d8576b\"], [0.6666666666666666, \"#ed7953\"], [0.7777777777777778, \"#fb9f3a\"], [0.8888888888888888, \"#fdca26\"], [1.0, \"#f0f921\"]], \"type\": \"histogram2dcontour\"}], \"mesh3d\": [{\"colorbar\": {\"outlinewidth\": 0, \"ticks\": \"\"}, \"type\": \"mesh3d\"}], \"parcoords\": [{\"line\": {\"colorbar\": {\"outlinewidth\": 0, \"ticks\": \"\"}}, \"type\": \"parcoords\"}], \"pie\": [{\"automargin\": true, \"type\": \"pie\"}], \"scatter\": [{\"marker\": {\"colorbar\": {\"outlinewidth\": 0, \"ticks\": \"\"}}, \"type\": \"scatter\"}], \"scatter3d\": [{\"line\": {\"colorbar\": {\"outlinewidth\": 0, \"ticks\": \"\"}}, \"marker\": {\"colorbar\": {\"outlinewidth\": 0, \"ticks\": \"\"}}, \"type\": \"scatter3d\"}], \"scattercarpet\": [{\"marker\": {\"colorbar\": {\"outlinewidth\": 0, \"ticks\": \"\"}}, \"type\": \"scattercarpet\"}], \"scattergeo\": [{\"marker\": {\"colorbar\": {\"outlinewidth\": 0, \"ticks\": \"\"}}, \"type\": \"scattergeo\"}], \"scattergl\": [{\"marker\": {\"colorbar\": {\"outlinewidth\": 0, \"ticks\": \"\"}}, \"type\": \"scattergl\"}], \"scattermapbox\": [{\"marker\": {\"colorbar\": {\"outlinewidth\": 0, \"ticks\": \"\"}}, \"type\": \"scattermapbox\"}], \"scatterpolar\": [{\"marker\": {\"colorbar\": {\"outlinewidth\": 0, \"ticks\": \"\"}}, \"type\": \"scatterpolar\"}], \"scatterpolargl\": [{\"marker\": {\"colorbar\": {\"outlinewidth\": 0, \"ticks\": \"\"}}, \"type\": \"scatterpolargl\"}], \"scatterternary\": [{\"marker\": {\"colorbar\": {\"outlinewidth\": 0, \"ticks\": \"\"}}, \"type\": \"scatterternary\"}], \"surface\": [{\"colorbar\": {\"outlinewidth\": 0, \"ticks\": \"\"}, \"colorscale\": [[0.0, \"#0d0887\"], [0.1111111111111111, \"#46039f\"], [0.2222222222222222, \"#7201a8\"], [0.3333333333333333, \"#9c179e\"], [0.4444444444444444, \"#bd3786\"], [0.5555555555555556, \"#d8576b\"], [0.6666666666666666, \"#ed7953\"], [0.7777777777777778, \"#fb9f3a\"], [0.8888888888888888, \"#fdca26\"], [1.0, \"#f0f921\"]], \"type\": \"surface\"}], \"table\": [{\"cells\": {\"fill\": {\"color\": \"#EBF0F8\"}, \"line\": {\"color\": \"white\"}}, \"header\": {\"fill\": {\"color\": \"#C8D4E3\"}, \"line\": {\"color\": \"white\"}}, \"type\": \"table\"}]}, \"layout\": {\"annotationdefaults\": {\"arrowcolor\": \"#2a3f5f\", \"arrowhead\": 0, \"arrowwidth\": 1}, \"coloraxis\": {\"colorbar\": {\"outlinewidth\": 0, \"ticks\": \"\"}}, \"colorscale\": {\"diverging\": [[0, \"#8e0152\"], [0.1, \"#c51b7d\"], [0.2, \"#de77ae\"], [0.3, \"#f1b6da\"], [0.4, \"#fde0ef\"], [0.5, \"#f7f7f7\"], [0.6, \"#e6f5d0\"], [0.7, \"#b8e186\"], [0.8, \"#7fbc41\"], [0.9, \"#4d9221\"], [1, \"#276419\"]], \"sequential\": [[0.0, \"#0d0887\"], [0.1111111111111111, \"#46039f\"], [0.2222222222222222, \"#7201a8\"], [0.3333333333333333, \"#9c179e\"], [0.4444444444444444, \"#bd3786\"], [0.5555555555555556, \"#d8576b\"], [0.6666666666666666, \"#ed7953\"], [0.7777777777777778, \"#fb9f3a\"], [0.8888888888888888, \"#fdca26\"], [1.0, \"#f0f921\"]], \"sequentialminus\": [[0.0, \"#0d0887\"], [0.1111111111111111, \"#46039f\"], [0.2222222222222222, \"#7201a8\"], [0.3333333333333333, \"#9c179e\"], [0.4444444444444444, \"#bd3786\"], [0.5555555555555556, \"#d8576b\"], [0.6666666666666666, \"#ed7953\"], [0.7777777777777778, \"#fb9f3a\"], [0.8888888888888888, \"#fdca26\"], [1.0, \"#f0f921\"]]}, \"colorway\": [\"#636efa\", \"#EF553B\", \"#00cc96\", \"#ab63fa\", \"#FFA15A\", \"#19d3f3\", \"#FF6692\", \"#B6E880\", \"#FF97FF\", \"#FECB52\"], \"font\": {\"color\": \"#2a3f5f\"}, \"geo\": {\"bgcolor\": \"white\", \"lakecolor\": \"white\", \"landcolor\": \"#E5ECF6\", \"showlakes\": true, \"showland\": true, \"subunitcolor\": \"white\"}, \"hoverlabel\": {\"align\": \"left\"}, \"hovermode\": \"closest\", \"mapbox\": {\"style\": \"light\"}, \"paper_bgcolor\": \"white\", \"plot_bgcolor\": \"#E5ECF6\", \"polar\": {\"angularaxis\": {\"gridcolor\": \"white\", \"linecolor\": \"white\", \"ticks\": \"\"}, \"bgcolor\": \"#E5ECF6\", \"radialaxis\": {\"gridcolor\": \"white\", \"linecolor\": \"white\", \"ticks\": \"\"}}, \"scene\": {\"xaxis\": {\"backgroundcolor\": \"#E5ECF6\", \"gridcolor\": \"white\", \"gridwidth\": 2, \"linecolor\": \"white\", \"showbackground\": true, \"ticks\": \"\", \"zerolinecolor\": \"white\"}, \"yaxis\": {\"backgroundcolor\": \"#E5ECF6\", \"gridcolor\": \"white\", \"gridwidth\": 2, \"linecolor\": \"white\", \"showbackground\": true, \"ticks\": \"\", \"zerolinecolor\": \"white\"}, \"zaxis\": {\"backgroundcolor\": \"#E5ECF6\", \"gridcolor\": \"white\", \"gridwidth\": 2, \"linecolor\": \"white\", \"showbackground\": true, \"ticks\": \"\", \"zerolinecolor\": \"white\"}}, \"shapedefaults\": {\"line\": {\"color\": \"#2a3f5f\"}}, \"ternary\": {\"aaxis\": {\"gridcolor\": \"white\", \"linecolor\": \"white\", \"ticks\": \"\"}, \"baxis\": {\"gridcolor\": \"white\", \"linecolor\": \"white\", \"ticks\": \"\"}, \"bgcolor\": \"#E5ECF6\", \"caxis\": {\"gridcolor\": \"white\", \"linecolor\": \"white\", \"ticks\": \"\"}}, \"title\": {\"x\": 0.05}, \"xaxis\": {\"automargin\": true, \"gridcolor\": \"white\", \"linecolor\": \"white\", \"ticks\": \"\", \"title\": {\"standoff\": 15}, \"zerolinecolor\": \"white\", \"zerolinewidth\": 2}, \"yaxis\": {\"automargin\": true, \"gridcolor\": \"white\", \"linecolor\": \"white\", \"ticks\": \"\", \"title\": {\"standoff\": 15}, \"zerolinecolor\": \"white\", \"zerolinewidth\": 2}}}, \"xaxis\": {\"anchor\": \"y\", \"domain\": [0.0, 1.0], \"title\": {\"text\": \"degree\"}}, \"yaxis\": {\"anchor\": \"x\", \"domain\": [0.0, 1.0], \"title\": {\"text\": \"score\"}}},\n",
              "                        {\"responsive\": true}\n",
              "                    ).then(function(){\n",
              "                            \n",
              "var gd = document.getElementById('413cf4af-d8da-46f0-bf2b-5ee135655d66');\n",
              "var x = new MutationObserver(function (mutations, observer) {{\n",
              "        var display = window.getComputedStyle(gd).display;\n",
              "        if (!display || display === 'none') {{\n",
              "            console.log([gd, 'removed!']);\n",
              "            Plotly.purge(gd);\n",
              "            observer.disconnect();\n",
              "        }}\n",
              "}});\n",
              "\n",
              "// Listen for the removal of the full notebook cells\n",
              "var notebookContainer = gd.closest('#notebook-container');\n",
              "if (notebookContainer) {{\n",
              "    x.observe(notebookContainer, {childList: true});\n",
              "}}\n",
              "\n",
              "// Listen for the clearing of the current output cell\n",
              "var outputEl = gd.closest('.output');\n",
              "if (outputEl) {{\n",
              "    x.observe(outputEl, {childList: true});\n",
              "}}\n",
              "\n",
              "                        })\n",
              "                };\n",
              "                \n",
              "            </script>\n",
              "        </div>\n",
              "</body>\n",
              "</html>"
            ]
          },
          "metadata": {
            "tags": []
          }
        },
        {
          "output_type": "display_data",
          "data": {
            "text/html": [
              "<html>\n",
              "<head><meta charset=\"utf-8\" /></head>\n",
              "<body>\n",
              "    <div>\n",
              "            <script src=\"https://cdnjs.cloudflare.com/ajax/libs/mathjax/2.7.5/MathJax.js?config=TeX-AMS-MML_SVG\"></script><script type=\"text/javascript\">if (window.MathJax) {MathJax.Hub.Config({SVG: {font: \"STIX-Web\"}});}</script>\n",
              "                <script type=\"text/javascript\">window.PlotlyConfig = {MathJaxConfig: 'local'};</script>\n",
              "        <script src=\"https://cdn.plot.ly/plotly-latest.min.js\"></script>    \n",
              "            <div id=\"375e736c-ae34-419a-ba4f-c3ecffd25e70\" class=\"plotly-graph-div\" style=\"height:525px; width:100%;\"></div>\n",
              "            <script type=\"text/javascript\">\n",
              "                \n",
              "                    window.PLOTLYENV=window.PLOTLYENV || {};\n",
              "                    \n",
              "                if (document.getElementById(\"375e736c-ae34-419a-ba4f-c3ecffd25e70\")) {\n",
              "                    Plotly.newPlot(\n",
              "                        '375e736c-ae34-419a-ba4f-c3ecffd25e70',\n",
              "                        [{\"hoverlabel\": {\"namelength\": 0}, \"hovertemplate\": \"split=train<br>degree=%{x}<br>loss=%{y}\", \"legendgroup\": \"split=train\", \"line\": {\"color\": \"#636efa\", \"dash\": \"solid\"}, \"mode\": \"lines\", \"name\": \"split=train\", \"showlegend\": true, \"type\": \"scatter\", \"x\": [1, 2, 3, 4, 5, 6, 7, 8, 9], \"xaxis\": \"x\", \"y\": [0.6314275339543259, 2.0584226338613774, 3.195066612772136, 5.8825062434864375, 6.352179521410638, 6.494017987011565, 8.014175816573857, 8.337444539831925, 6.9170789597767195], \"yaxis\": \"y\"}, {\"hoverlabel\": {\"namelength\": 0}, \"hovertemplate\": \"split=cv<br>degree=%{x}<br>loss=%{y}\", \"legendgroup\": \"split=cv\", \"line\": {\"color\": \"#EF553B\", \"dash\": \"solid\"}, \"mode\": \"lines\", \"name\": \"split=cv\", \"showlegend\": true, \"type\": \"scatter\", \"x\": [1, 2, 3, 4, 5, 6, 7, 8, 9], \"xaxis\": \"x\", \"y\": [0.7206518027205799, 2.141485307648266, 4.053996707224863, 7.240347668737057, 7.54591229905788, 7.38697753733905, 8.414241218912942, 10.54751066601401, 7.724387408432513], \"yaxis\": \"y\"}],\n",
              "                        {\"legend\": {\"tracegroupgap\": 0}, \"margin\": {\"t\": 60}, \"template\": {\"data\": {\"bar\": [{\"error_x\": {\"color\": \"#2a3f5f\"}, \"error_y\": {\"color\": \"#2a3f5f\"}, \"marker\": {\"line\": {\"color\": \"#E5ECF6\", \"width\": 0.5}}, \"type\": \"bar\"}], \"barpolar\": [{\"marker\": {\"line\": {\"color\": \"#E5ECF6\", \"width\": 0.5}}, \"type\": \"barpolar\"}], \"carpet\": [{\"aaxis\": {\"endlinecolor\": \"#2a3f5f\", \"gridcolor\": \"white\", \"linecolor\": \"white\", \"minorgridcolor\": \"white\", \"startlinecolor\": \"#2a3f5f\"}, \"baxis\": {\"endlinecolor\": \"#2a3f5f\", \"gridcolor\": \"white\", \"linecolor\": \"white\", \"minorgridcolor\": \"white\", \"startlinecolor\": \"#2a3f5f\"}, \"type\": \"carpet\"}], \"choropleth\": [{\"colorbar\": {\"outlinewidth\": 0, \"ticks\": \"\"}, \"type\": \"choropleth\"}], \"contour\": [{\"colorbar\": {\"outlinewidth\": 0, \"ticks\": \"\"}, \"colorscale\": [[0.0, \"#0d0887\"], [0.1111111111111111, \"#46039f\"], [0.2222222222222222, \"#7201a8\"], [0.3333333333333333, \"#9c179e\"], [0.4444444444444444, \"#bd3786\"], [0.5555555555555556, \"#d8576b\"], [0.6666666666666666, \"#ed7953\"], [0.7777777777777778, \"#fb9f3a\"], [0.8888888888888888, \"#fdca26\"], [1.0, \"#f0f921\"]], \"type\": \"contour\"}], \"contourcarpet\": [{\"colorbar\": {\"outlinewidth\": 0, \"ticks\": \"\"}, \"type\": \"contourcarpet\"}], \"heatmap\": [{\"colorbar\": {\"outlinewidth\": 0, \"ticks\": \"\"}, \"colorscale\": [[0.0, \"#0d0887\"], [0.1111111111111111, \"#46039f\"], [0.2222222222222222, \"#7201a8\"], [0.3333333333333333, \"#9c179e\"], [0.4444444444444444, \"#bd3786\"], [0.5555555555555556, \"#d8576b\"], [0.6666666666666666, \"#ed7953\"], [0.7777777777777778, \"#fb9f3a\"], [0.8888888888888888, \"#fdca26\"], [1.0, \"#f0f921\"]], \"type\": \"heatmap\"}], \"heatmapgl\": [{\"colorbar\": {\"outlinewidth\": 0, \"ticks\": \"\"}, \"colorscale\": [[0.0, \"#0d0887\"], [0.1111111111111111, \"#46039f\"], [0.2222222222222222, \"#7201a8\"], [0.3333333333333333, \"#9c179e\"], [0.4444444444444444, \"#bd3786\"], [0.5555555555555556, \"#d8576b\"], [0.6666666666666666, \"#ed7953\"], [0.7777777777777778, \"#fb9f3a\"], [0.8888888888888888, \"#fdca26\"], [1.0, \"#f0f921\"]], \"type\": \"heatmapgl\"}], \"histogram\": [{\"marker\": {\"colorbar\": {\"outlinewidth\": 0, \"ticks\": \"\"}}, \"type\": \"histogram\"}], \"histogram2d\": [{\"colorbar\": {\"outlinewidth\": 0, \"ticks\": \"\"}, \"colorscale\": [[0.0, \"#0d0887\"], [0.1111111111111111, \"#46039f\"], [0.2222222222222222, \"#7201a8\"], [0.3333333333333333, \"#9c179e\"], [0.4444444444444444, \"#bd3786\"], [0.5555555555555556, \"#d8576b\"], [0.6666666666666666, \"#ed7953\"], [0.7777777777777778, \"#fb9f3a\"], [0.8888888888888888, \"#fdca26\"], [1.0, \"#f0f921\"]], \"type\": \"histogram2d\"}], \"histogram2dcontour\": [{\"colorbar\": {\"outlinewidth\": 0, \"ticks\": \"\"}, \"colorscale\": [[0.0, \"#0d0887\"], [0.1111111111111111, \"#46039f\"], [0.2222222222222222, \"#7201a8\"], [0.3333333333333333, \"#9c179e\"], [0.4444444444444444, \"#bd3786\"], [0.5555555555555556, \"#d8576b\"], [0.6666666666666666, \"#ed7953\"], [0.7777777777777778, \"#fb9f3a\"], [0.8888888888888888, \"#fdca26\"], [1.0, \"#f0f921\"]], \"type\": \"histogram2dcontour\"}], \"mesh3d\": [{\"colorbar\": {\"outlinewidth\": 0, \"ticks\": \"\"}, \"type\": \"mesh3d\"}], \"parcoords\": [{\"line\": {\"colorbar\": {\"outlinewidth\": 0, \"ticks\": \"\"}}, \"type\": \"parcoords\"}], \"pie\": [{\"automargin\": true, \"type\": \"pie\"}], \"scatter\": [{\"marker\": {\"colorbar\": {\"outlinewidth\": 0, \"ticks\": \"\"}}, \"type\": \"scatter\"}], \"scatter3d\": [{\"line\": {\"colorbar\": {\"outlinewidth\": 0, \"ticks\": \"\"}}, \"marker\": {\"colorbar\": {\"outlinewidth\": 0, \"ticks\": \"\"}}, \"type\": \"scatter3d\"}], \"scattercarpet\": [{\"marker\": {\"colorbar\": {\"outlinewidth\": 0, \"ticks\": \"\"}}, \"type\": \"scattercarpet\"}], \"scattergeo\": [{\"marker\": {\"colorbar\": {\"outlinewidth\": 0, \"ticks\": \"\"}}, \"type\": \"scattergeo\"}], \"scattergl\": [{\"marker\": {\"colorbar\": {\"outlinewidth\": 0, \"ticks\": \"\"}}, \"type\": \"scattergl\"}], \"scattermapbox\": [{\"marker\": {\"colorbar\": {\"outlinewidth\": 0, \"ticks\": \"\"}}, \"type\": \"scattermapbox\"}], \"scatterpolar\": [{\"marker\": {\"colorbar\": {\"outlinewidth\": 0, \"ticks\": \"\"}}, \"type\": \"scatterpolar\"}], \"scatterpolargl\": [{\"marker\": {\"colorbar\": {\"outlinewidth\": 0, \"ticks\": \"\"}}, \"type\": \"scatterpolargl\"}], \"scatterternary\": [{\"marker\": {\"colorbar\": {\"outlinewidth\": 0, \"ticks\": \"\"}}, \"type\": \"scatterternary\"}], \"surface\": [{\"colorbar\": {\"outlinewidth\": 0, \"ticks\": \"\"}, \"colorscale\": [[0.0, \"#0d0887\"], [0.1111111111111111, \"#46039f\"], [0.2222222222222222, \"#7201a8\"], [0.3333333333333333, \"#9c179e\"], [0.4444444444444444, \"#bd3786\"], [0.5555555555555556, \"#d8576b\"], [0.6666666666666666, \"#ed7953\"], [0.7777777777777778, \"#fb9f3a\"], [0.8888888888888888, \"#fdca26\"], [1.0, \"#f0f921\"]], \"type\": \"surface\"}], \"table\": [{\"cells\": {\"fill\": {\"color\": \"#EBF0F8\"}, \"line\": {\"color\": \"white\"}}, \"header\": {\"fill\": {\"color\": \"#C8D4E3\"}, \"line\": {\"color\": \"white\"}}, \"type\": \"table\"}]}, \"layout\": {\"annotationdefaults\": {\"arrowcolor\": \"#2a3f5f\", \"arrowhead\": 0, \"arrowwidth\": 1}, \"coloraxis\": {\"colorbar\": {\"outlinewidth\": 0, \"ticks\": \"\"}}, \"colorscale\": {\"diverging\": [[0, \"#8e0152\"], [0.1, \"#c51b7d\"], [0.2, \"#de77ae\"], [0.3, \"#f1b6da\"], [0.4, \"#fde0ef\"], [0.5, \"#f7f7f7\"], [0.6, \"#e6f5d0\"], [0.7, \"#b8e186\"], [0.8, \"#7fbc41\"], [0.9, \"#4d9221\"], [1, \"#276419\"]], \"sequential\": [[0.0, \"#0d0887\"], [0.1111111111111111, \"#46039f\"], [0.2222222222222222, \"#7201a8\"], [0.3333333333333333, \"#9c179e\"], [0.4444444444444444, \"#bd3786\"], [0.5555555555555556, \"#d8576b\"], [0.6666666666666666, \"#ed7953\"], [0.7777777777777778, \"#fb9f3a\"], [0.8888888888888888, \"#fdca26\"], [1.0, \"#f0f921\"]], \"sequentialminus\": [[0.0, \"#0d0887\"], [0.1111111111111111, \"#46039f\"], [0.2222222222222222, \"#7201a8\"], [0.3333333333333333, \"#9c179e\"], [0.4444444444444444, \"#bd3786\"], [0.5555555555555556, \"#d8576b\"], [0.6666666666666666, \"#ed7953\"], [0.7777777777777778, \"#fb9f3a\"], [0.8888888888888888, \"#fdca26\"], [1.0, \"#f0f921\"]]}, \"colorway\": [\"#636efa\", \"#EF553B\", \"#00cc96\", \"#ab63fa\", \"#FFA15A\", \"#19d3f3\", \"#FF6692\", \"#B6E880\", \"#FF97FF\", \"#FECB52\"], \"font\": {\"color\": \"#2a3f5f\"}, \"geo\": {\"bgcolor\": \"white\", \"lakecolor\": \"white\", \"landcolor\": \"#E5ECF6\", \"showlakes\": true, \"showland\": true, \"subunitcolor\": \"white\"}, \"hoverlabel\": {\"align\": \"left\"}, \"hovermode\": \"closest\", \"mapbox\": {\"style\": \"light\"}, \"paper_bgcolor\": \"white\", \"plot_bgcolor\": \"#E5ECF6\", \"polar\": {\"angularaxis\": {\"gridcolor\": \"white\", \"linecolor\": \"white\", \"ticks\": \"\"}, \"bgcolor\": \"#E5ECF6\", \"radialaxis\": {\"gridcolor\": \"white\", \"linecolor\": \"white\", \"ticks\": \"\"}}, \"scene\": {\"xaxis\": {\"backgroundcolor\": \"#E5ECF6\", \"gridcolor\": \"white\", \"gridwidth\": 2, \"linecolor\": \"white\", \"showbackground\": true, \"ticks\": \"\", \"zerolinecolor\": \"white\"}, \"yaxis\": {\"backgroundcolor\": \"#E5ECF6\", \"gridcolor\": \"white\", \"gridwidth\": 2, \"linecolor\": \"white\", \"showbackground\": true, \"ticks\": \"\", \"zerolinecolor\": \"white\"}, \"zaxis\": {\"backgroundcolor\": \"#E5ECF6\", \"gridcolor\": \"white\", \"gridwidth\": 2, \"linecolor\": \"white\", \"showbackground\": true, \"ticks\": \"\", \"zerolinecolor\": \"white\"}}, \"shapedefaults\": {\"line\": {\"color\": \"#2a3f5f\"}}, \"ternary\": {\"aaxis\": {\"gridcolor\": \"white\", \"linecolor\": \"white\", \"ticks\": \"\"}, \"baxis\": {\"gridcolor\": \"white\", \"linecolor\": \"white\", \"ticks\": \"\"}, \"bgcolor\": \"#E5ECF6\", \"caxis\": {\"gridcolor\": \"white\", \"linecolor\": \"white\", \"ticks\": \"\"}}, \"title\": {\"x\": 0.05}, \"xaxis\": {\"automargin\": true, \"gridcolor\": \"white\", \"linecolor\": \"white\", \"ticks\": \"\", \"title\": {\"standoff\": 15}, \"zerolinecolor\": \"white\", \"zerolinewidth\": 2}, \"yaxis\": {\"automargin\": true, \"gridcolor\": \"white\", \"linecolor\": \"white\", \"ticks\": \"\", \"title\": {\"standoff\": 15}, \"zerolinecolor\": \"white\", \"zerolinewidth\": 2}}}, \"xaxis\": {\"anchor\": \"y\", \"domain\": [0.0, 1.0], \"title\": {\"text\": \"degree\"}}, \"yaxis\": {\"anchor\": \"x\", \"domain\": [0.0, 1.0], \"title\": {\"text\": \"loss\"}}},\n",
              "                        {\"responsive\": true}\n",
              "                    ).then(function(){\n",
              "                            \n",
              "var gd = document.getElementById('375e736c-ae34-419a-ba4f-c3ecffd25e70');\n",
              "var x = new MutationObserver(function (mutations, observer) {{\n",
              "        var display = window.getComputedStyle(gd).display;\n",
              "        if (!display || display === 'none') {{\n",
              "            console.log([gd, 'removed!']);\n",
              "            Plotly.purge(gd);\n",
              "            observer.disconnect();\n",
              "        }}\n",
              "}});\n",
              "\n",
              "// Listen for the removal of the full notebook cells\n",
              "var notebookContainer = gd.closest('#notebook-container');\n",
              "if (notebookContainer) {{\n",
              "    x.observe(notebookContainer, {childList: true});\n",
              "}}\n",
              "\n",
              "// Listen for the clearing of the current output cell\n",
              "var outputEl = gd.closest('.output');\n",
              "if (outputEl) {{\n",
              "    x.observe(outputEl, {childList: true});\n",
              "}}\n",
              "\n",
              "                        })\n",
              "                };\n",
              "                \n",
              "            </script>\n",
              "        </div>\n",
              "</body>\n",
              "</html>"
            ]
          },
          "metadata": {
            "tags": []
          }
        }
      ]
    },
    {
      "cell_type": "markdown",
      "metadata": {
        "id": "Nr29NeH8TSqF"
      },
      "source": [
        "We can see that the best loss and score are with a polynomial degree of 1."
      ]
    },
    {
      "cell_type": "markdown",
      "metadata": {
        "id": "pqzdkUadUwTA"
      },
      "source": [
        "## Hyper-Parameters Tuning"
      ]
    },
    {
      "cell_type": "markdown",
      "metadata": {
        "id": "oHBuCLY875ZE"
      },
      "source": [
        "After we have found our most significant features, now let's try tuning the hyper-parameters of the SGDClassifier.  \r\n",
        "We will use `GridSearchCV` to find the subset of hyper-parametric that gives us the best accuracy score.  \r\n",
        "The `GridSearchCV` algorithm creates the power set of all the parameters we gave it, train a model with each subset, and finally save the model which performs best."
      ]
    },
    {
      "cell_type": "code",
      "metadata": {
        "id": "BRt4K98_FC6W"
      },
      "source": [
        "ct = ColumnTransformer([\r\n",
        "    (\"encoding_ohe\", OneHotEncoder(sparse=False, handle_unknown='ignore'), categorical_cols),\r\n",
        "    (\"standard\", StandardScaler(), numerical_cols),\r\n",
        "    (\"ordinal\", OrdinalEncoder(), ordinal_cols)])\r\n",
        "\r\n",
        "X_encoded = pd.DataFrame(ct.fit_transform(X))"
      ],
      "execution_count": null,
      "outputs": []
    },
    {
      "cell_type": "code",
      "metadata": {
        "colab": {
          "base_uri": "https://localhost:8080/"
        },
        "id": "Nchl2DWy2bct",
        "outputId": "ef033083-357a-43f0-ba6a-9fab86409751"
      },
      "source": [
        "hyper_parameter = { 'penalty': ('l1', 'l2', 'elasticnet'),\r\n",
        "                    'alpha': [0.1, 0.01, 0.001, 0.0001],\r\n",
        "                    'max_iter': [1000, 500],\r\n",
        "                    'learning_rate': ('constant', 'optimal', 'invscaling', 'adaptive'),\r\n",
        "                    'eta0': [0.1, 0.01, 0.001, 0.0001] }\r\n",
        "\r\n",
        "gs_model = GridSearchCV(SGDClassifier(loss='log', random_state=2), hyper_parameter).fit(X_encoded, t)\r\n",
        "print('grid search score:', gs_model.best_score_)\r\n",
        "print('grid search params:', gs_model.best_params_)"
      ],
      "execution_count": null,
      "outputs": [
        {
          "output_type": "stream",
          "text": [
            "grid search score: 0.827154604230745\n",
            "grid search params: {'alpha': 0.001, 'eta0': 0.1, 'learning_rate': 'adaptive', 'max_iter': 1000, 'penalty': 'l2'}\n"
          ],
          "name": "stdout"
        }
      ]
    },
    {
      "cell_type": "markdown",
      "metadata": {
        "id": "VlW9BXW7_4B3"
      },
      "source": [
        "We can see that the best results are with `Ridge` normalization, `eta0` as 0.1 which the initial state of the learning rate."
      ]
    },
    {
      "cell_type": "markdown",
      "metadata": {
        "id": "S_FA-nAXU6Lw"
      },
      "source": [
        "## Feature Selection\r\n",
        "Now, let's see which subset is the best to maximize the score.  \r\n",
        "We will use a greedy algorithm that each time pick the best `k` features, we will run it from `1` to `num_of_features`."
      ]
    },
    {
      "cell_type": "code",
      "metadata": {
        "colab": {
          "base_uri": "https://localhost:8080/",
          "height": 610,
          "referenced_widgets": [
            "75882d9a42094ac3a4789127b9f5b703",
            "f4ae59f311384e3695a3fc9d6b74c6bf",
            "d5c797db6d8c45ecaa34759c2d9f03b0",
            "6a33558b7d2540ceb48d39cf0b439e4f",
            "e74399fee9274733a4c46fc654945e88",
            "f869bf481dcc4d2cb93e30338510412a",
            "3a9ddea60c6b4c21a29ec03ff8a664ed",
            "b45308072b7c4c23a12ea9d38ce44f5d"
          ]
        },
        "id": "ML4qb_aYgzNz",
        "outputId": "aa117c59-4952-4cde-a320-21433970221b"
      },
      "source": [
        "def select_features(x, t, k=10, model_params={}):\r\n",
        "  initial_state = 1\r\n",
        "  features = None\r\n",
        "  scores = pd.DataFrame(columns=[\"num\", \"val_score\", \"val_loss\", \"train_score\", \"train_loss\"])\r\n",
        "  for i in tqdm(range(initial_state, len(x.keys()) + 1), desc='Feature Selection'):\r\n",
        "    selector = RFE(SGDClassifier(loss='log', random_state=2, **model_params), n_features_to_select=i).fit(x, t)\r\n",
        "    mean_val_score, mean_val_loss, mean_train_score, mean_train_loss, train_cm, valid_cm = get_cv_score_and_loss(x, t, selector, k=k, show_score_loss_graphs=False, use_pbar=False)\r\n",
        "    if mean_val_score < 0:\r\n",
        "      break\r\n",
        "    if i == initial_state or mean_val_score > scores[\"val_score\"].max():\r\n",
        "      features = selector.support_\r\n",
        "    scores.loc[i] = [i, mean_val_score, mean_val_loss, mean_train_score, mean_train_loss]\r\n",
        "\r\n",
        "  fig = go.Figure()\r\n",
        "  fig.add_trace(go.Scatter(x=scores[\"num\"], y=scores[\"val_score\"]))\r\n",
        "  fig.update_xaxes(title_text=\"Number of features selected\")\r\n",
        "  fig.update_yaxes(title_text=\"Cross validation score (no. of correct classifications)\")\r\n",
        "  fig.show()\r\n",
        "\r\n",
        "  return features, scores[\"val_score\"].max()\r\n",
        "\r\n",
        "best_model_ft, best_score = select_features(X_encoded, t, k=10, model_params=gs_model.best_params_)\r\n",
        "print(\"Number of features: {} with score {}\".format(len(X_encoded.loc[:, best_model_ft].keys()), best_score))"
      ],
      "execution_count": null,
      "outputs": [
        {
          "output_type": "display_data",
          "data": {
            "application/vnd.jupyter.widget-view+json": {
              "model_id": "75882d9a42094ac3a4789127b9f5b703",
              "version_minor": 0,
              "version_major": 2
            },
            "text/plain": [
              "HBox(children=(FloatProgress(value=0.0, description='Feature Selection', max=20.0, style=ProgressStyle(descrip…"
            ]
          },
          "metadata": {
            "tags": []
          }
        },
        {
          "output_type": "stream",
          "text": [
            "\n"
          ],
          "name": "stdout"
        },
        {
          "output_type": "display_data",
          "data": {
            "text/html": [
              "<html>\n",
              "<head><meta charset=\"utf-8\" /></head>\n",
              "<body>\n",
              "    <div>\n",
              "            <script src=\"https://cdnjs.cloudflare.com/ajax/libs/mathjax/2.7.5/MathJax.js?config=TeX-AMS-MML_SVG\"></script><script type=\"text/javascript\">if (window.MathJax) {MathJax.Hub.Config({SVG: {font: \"STIX-Web\"}});}</script>\n",
              "                <script type=\"text/javascript\">window.PlotlyConfig = {MathJaxConfig: 'local'};</script>\n",
              "        <script src=\"https://cdn.plot.ly/plotly-latest.min.js\"></script>    \n",
              "            <div id=\"00961ab3-bf9b-4d30-82cb-600669c2cd2e\" class=\"plotly-graph-div\" style=\"height:525px; width:100%;\"></div>\n",
              "            <script type=\"text/javascript\">\n",
              "                \n",
              "                    window.PLOTLYENV=window.PLOTLYENV || {};\n",
              "                    \n",
              "                if (document.getElementById(\"00961ab3-bf9b-4d30-82cb-600669c2cd2e\")) {\n",
              "                    Plotly.newPlot(\n",
              "                        '00961ab3-bf9b-4d30-82cb-600669c2cd2e',\n",
              "                        [{\"type\": \"scatter\", \"x\": [1.0, 2.0, 3.0, 4.0, 5.0, 6.0, 7.0, 8.0, 9.0, 10.0, 11.0, 12.0, 13.0, 14.0, 15.0, 16.0, 17.0, 18.0, 19.0, 20.0], \"y\": [0.7822846441947566, 0.7934956304619226, 0.7934956304619226, 0.7946192259675405, 0.7946192259675405, 0.8002247191011236, 0.8058302122347067, 0.8249313358302123, 0.8283021223470662, 0.828314606741573, 0.826067415730337, 0.8271910112359551, 0.826067415730337, 0.826067415730337, 0.8260674157303372, 0.8305742821473159, 0.829450686641698, 0.8316978776529339, 0.8316978776529339, 0.8305742821473159]}],\n",
              "                        {\"template\": {\"data\": {\"bar\": [{\"error_x\": {\"color\": \"#2a3f5f\"}, \"error_y\": {\"color\": \"#2a3f5f\"}, \"marker\": {\"line\": {\"color\": \"#E5ECF6\", \"width\": 0.5}}, \"type\": \"bar\"}], \"barpolar\": [{\"marker\": {\"line\": {\"color\": \"#E5ECF6\", \"width\": 0.5}}, \"type\": \"barpolar\"}], \"carpet\": [{\"aaxis\": {\"endlinecolor\": \"#2a3f5f\", \"gridcolor\": \"white\", \"linecolor\": \"white\", \"minorgridcolor\": \"white\", \"startlinecolor\": \"#2a3f5f\"}, \"baxis\": {\"endlinecolor\": \"#2a3f5f\", \"gridcolor\": \"white\", \"linecolor\": \"white\", \"minorgridcolor\": \"white\", \"startlinecolor\": \"#2a3f5f\"}, \"type\": \"carpet\"}], \"choropleth\": [{\"colorbar\": {\"outlinewidth\": 0, \"ticks\": \"\"}, \"type\": \"choropleth\"}], \"contour\": [{\"colorbar\": {\"outlinewidth\": 0, \"ticks\": \"\"}, \"colorscale\": [[0.0, \"#0d0887\"], [0.1111111111111111, \"#46039f\"], [0.2222222222222222, \"#7201a8\"], [0.3333333333333333, \"#9c179e\"], [0.4444444444444444, \"#bd3786\"], [0.5555555555555556, \"#d8576b\"], [0.6666666666666666, \"#ed7953\"], [0.7777777777777778, \"#fb9f3a\"], [0.8888888888888888, \"#fdca26\"], [1.0, \"#f0f921\"]], \"type\": \"contour\"}], \"contourcarpet\": [{\"colorbar\": {\"outlinewidth\": 0, \"ticks\": \"\"}, \"type\": \"contourcarpet\"}], \"heatmap\": [{\"colorbar\": {\"outlinewidth\": 0, \"ticks\": \"\"}, \"colorscale\": [[0.0, \"#0d0887\"], [0.1111111111111111, \"#46039f\"], [0.2222222222222222, \"#7201a8\"], [0.3333333333333333, \"#9c179e\"], [0.4444444444444444, \"#bd3786\"], [0.5555555555555556, \"#d8576b\"], [0.6666666666666666, \"#ed7953\"], [0.7777777777777778, \"#fb9f3a\"], [0.8888888888888888, \"#fdca26\"], [1.0, \"#f0f921\"]], \"type\": \"heatmap\"}], \"heatmapgl\": [{\"colorbar\": {\"outlinewidth\": 0, \"ticks\": \"\"}, \"colorscale\": [[0.0, \"#0d0887\"], [0.1111111111111111, \"#46039f\"], [0.2222222222222222, \"#7201a8\"], [0.3333333333333333, \"#9c179e\"], [0.4444444444444444, \"#bd3786\"], [0.5555555555555556, \"#d8576b\"], [0.6666666666666666, \"#ed7953\"], [0.7777777777777778, \"#fb9f3a\"], [0.8888888888888888, \"#fdca26\"], [1.0, \"#f0f921\"]], \"type\": \"heatmapgl\"}], \"histogram\": [{\"marker\": {\"colorbar\": {\"outlinewidth\": 0, \"ticks\": \"\"}}, \"type\": \"histogram\"}], \"histogram2d\": [{\"colorbar\": {\"outlinewidth\": 0, \"ticks\": \"\"}, \"colorscale\": [[0.0, \"#0d0887\"], [0.1111111111111111, \"#46039f\"], [0.2222222222222222, \"#7201a8\"], [0.3333333333333333, \"#9c179e\"], [0.4444444444444444, \"#bd3786\"], [0.5555555555555556, \"#d8576b\"], [0.6666666666666666, \"#ed7953\"], [0.7777777777777778, \"#fb9f3a\"], [0.8888888888888888, \"#fdca26\"], [1.0, \"#f0f921\"]], \"type\": \"histogram2d\"}], \"histogram2dcontour\": [{\"colorbar\": {\"outlinewidth\": 0, \"ticks\": \"\"}, \"colorscale\": [[0.0, \"#0d0887\"], [0.1111111111111111, \"#46039f\"], [0.2222222222222222, \"#7201a8\"], [0.3333333333333333, \"#9c179e\"], [0.4444444444444444, \"#bd3786\"], [0.5555555555555556, \"#d8576b\"], [0.6666666666666666, \"#ed7953\"], [0.7777777777777778, \"#fb9f3a\"], [0.8888888888888888, \"#fdca26\"], [1.0, \"#f0f921\"]], \"type\": \"histogram2dcontour\"}], \"mesh3d\": [{\"colorbar\": {\"outlinewidth\": 0, \"ticks\": \"\"}, \"type\": \"mesh3d\"}], \"parcoords\": [{\"line\": {\"colorbar\": {\"outlinewidth\": 0, \"ticks\": \"\"}}, \"type\": \"parcoords\"}], \"pie\": [{\"automargin\": true, \"type\": \"pie\"}], \"scatter\": [{\"marker\": {\"colorbar\": {\"outlinewidth\": 0, \"ticks\": \"\"}}, \"type\": \"scatter\"}], \"scatter3d\": [{\"line\": {\"colorbar\": {\"outlinewidth\": 0, \"ticks\": \"\"}}, \"marker\": {\"colorbar\": {\"outlinewidth\": 0, \"ticks\": \"\"}}, \"type\": \"scatter3d\"}], \"scattercarpet\": [{\"marker\": {\"colorbar\": {\"outlinewidth\": 0, \"ticks\": \"\"}}, \"type\": \"scattercarpet\"}], \"scattergeo\": [{\"marker\": {\"colorbar\": {\"outlinewidth\": 0, \"ticks\": \"\"}}, \"type\": \"scattergeo\"}], \"scattergl\": [{\"marker\": {\"colorbar\": {\"outlinewidth\": 0, \"ticks\": \"\"}}, \"type\": \"scattergl\"}], \"scattermapbox\": [{\"marker\": {\"colorbar\": {\"outlinewidth\": 0, \"ticks\": \"\"}}, \"type\": \"scattermapbox\"}], \"scatterpolar\": [{\"marker\": {\"colorbar\": {\"outlinewidth\": 0, \"ticks\": \"\"}}, \"type\": \"scatterpolar\"}], \"scatterpolargl\": [{\"marker\": {\"colorbar\": {\"outlinewidth\": 0, \"ticks\": \"\"}}, \"type\": \"scatterpolargl\"}], \"scatterternary\": [{\"marker\": {\"colorbar\": {\"outlinewidth\": 0, \"ticks\": \"\"}}, \"type\": \"scatterternary\"}], \"surface\": [{\"colorbar\": {\"outlinewidth\": 0, \"ticks\": \"\"}, \"colorscale\": [[0.0, \"#0d0887\"], [0.1111111111111111, \"#46039f\"], [0.2222222222222222, \"#7201a8\"], [0.3333333333333333, \"#9c179e\"], [0.4444444444444444, \"#bd3786\"], [0.5555555555555556, \"#d8576b\"], [0.6666666666666666, \"#ed7953\"], [0.7777777777777778, \"#fb9f3a\"], [0.8888888888888888, \"#fdca26\"], [1.0, \"#f0f921\"]], \"type\": \"surface\"}], \"table\": [{\"cells\": {\"fill\": {\"color\": \"#EBF0F8\"}, \"line\": {\"color\": \"white\"}}, \"header\": {\"fill\": {\"color\": \"#C8D4E3\"}, \"line\": {\"color\": \"white\"}}, \"type\": \"table\"}]}, \"layout\": {\"annotationdefaults\": {\"arrowcolor\": \"#2a3f5f\", \"arrowhead\": 0, \"arrowwidth\": 1}, \"coloraxis\": {\"colorbar\": {\"outlinewidth\": 0, \"ticks\": \"\"}}, \"colorscale\": {\"diverging\": [[0, \"#8e0152\"], [0.1, \"#c51b7d\"], [0.2, \"#de77ae\"], [0.3, \"#f1b6da\"], [0.4, \"#fde0ef\"], [0.5, \"#f7f7f7\"], [0.6, \"#e6f5d0\"], [0.7, \"#b8e186\"], [0.8, \"#7fbc41\"], [0.9, \"#4d9221\"], [1, \"#276419\"]], \"sequential\": [[0.0, \"#0d0887\"], [0.1111111111111111, \"#46039f\"], [0.2222222222222222, \"#7201a8\"], [0.3333333333333333, \"#9c179e\"], [0.4444444444444444, \"#bd3786\"], [0.5555555555555556, \"#d8576b\"], [0.6666666666666666, \"#ed7953\"], [0.7777777777777778, \"#fb9f3a\"], [0.8888888888888888, \"#fdca26\"], [1.0, \"#f0f921\"]], \"sequentialminus\": [[0.0, \"#0d0887\"], [0.1111111111111111, \"#46039f\"], [0.2222222222222222, \"#7201a8\"], [0.3333333333333333, \"#9c179e\"], [0.4444444444444444, \"#bd3786\"], [0.5555555555555556, \"#d8576b\"], [0.6666666666666666, \"#ed7953\"], [0.7777777777777778, \"#fb9f3a\"], [0.8888888888888888, \"#fdca26\"], [1.0, \"#f0f921\"]]}, \"colorway\": [\"#636efa\", \"#EF553B\", \"#00cc96\", \"#ab63fa\", \"#FFA15A\", \"#19d3f3\", \"#FF6692\", \"#B6E880\", \"#FF97FF\", \"#FECB52\"], \"font\": {\"color\": \"#2a3f5f\"}, \"geo\": {\"bgcolor\": \"white\", \"lakecolor\": \"white\", \"landcolor\": \"#E5ECF6\", \"showlakes\": true, \"showland\": true, \"subunitcolor\": \"white\"}, \"hoverlabel\": {\"align\": \"left\"}, \"hovermode\": \"closest\", \"mapbox\": {\"style\": \"light\"}, \"paper_bgcolor\": \"white\", \"plot_bgcolor\": \"#E5ECF6\", \"polar\": {\"angularaxis\": {\"gridcolor\": \"white\", \"linecolor\": \"white\", \"ticks\": \"\"}, \"bgcolor\": \"#E5ECF6\", \"radialaxis\": {\"gridcolor\": \"white\", \"linecolor\": \"white\", \"ticks\": \"\"}}, \"scene\": {\"xaxis\": {\"backgroundcolor\": \"#E5ECF6\", \"gridcolor\": \"white\", \"gridwidth\": 2, \"linecolor\": \"white\", \"showbackground\": true, \"ticks\": \"\", \"zerolinecolor\": \"white\"}, \"yaxis\": {\"backgroundcolor\": \"#E5ECF6\", \"gridcolor\": \"white\", \"gridwidth\": 2, \"linecolor\": \"white\", \"showbackground\": true, \"ticks\": \"\", \"zerolinecolor\": \"white\"}, \"zaxis\": {\"backgroundcolor\": \"#E5ECF6\", \"gridcolor\": \"white\", \"gridwidth\": 2, \"linecolor\": \"white\", \"showbackground\": true, \"ticks\": \"\", \"zerolinecolor\": \"white\"}}, \"shapedefaults\": {\"line\": {\"color\": \"#2a3f5f\"}}, \"ternary\": {\"aaxis\": {\"gridcolor\": \"white\", \"linecolor\": \"white\", \"ticks\": \"\"}, \"baxis\": {\"gridcolor\": \"white\", \"linecolor\": \"white\", \"ticks\": \"\"}, \"bgcolor\": \"#E5ECF6\", \"caxis\": {\"gridcolor\": \"white\", \"linecolor\": \"white\", \"ticks\": \"\"}}, \"title\": {\"x\": 0.05}, \"xaxis\": {\"automargin\": true, \"gridcolor\": \"white\", \"linecolor\": \"white\", \"ticks\": \"\", \"title\": {\"standoff\": 15}, \"zerolinecolor\": \"white\", \"zerolinewidth\": 2}, \"yaxis\": {\"automargin\": true, \"gridcolor\": \"white\", \"linecolor\": \"white\", \"ticks\": \"\", \"title\": {\"standoff\": 15}, \"zerolinecolor\": \"white\", \"zerolinewidth\": 2}}}, \"xaxis\": {\"title\": {\"text\": \"Number of features selected\"}}, \"yaxis\": {\"title\": {\"text\": \"Cross validation score (no. of correct classifications)\"}}},\n",
              "                        {\"responsive\": true}\n",
              "                    ).then(function(){\n",
              "                            \n",
              "var gd = document.getElementById('00961ab3-bf9b-4d30-82cb-600669c2cd2e');\n",
              "var x = new MutationObserver(function (mutations, observer) {{\n",
              "        var display = window.getComputedStyle(gd).display;\n",
              "        if (!display || display === 'none') {{\n",
              "            console.log([gd, 'removed!']);\n",
              "            Plotly.purge(gd);\n",
              "            observer.disconnect();\n",
              "        }}\n",
              "}});\n",
              "\n",
              "// Listen for the removal of the full notebook cells\n",
              "var notebookContainer = gd.closest('#notebook-container');\n",
              "if (notebookContainer) {{\n",
              "    x.observe(notebookContainer, {childList: true});\n",
              "}}\n",
              "\n",
              "// Listen for the clearing of the current output cell\n",
              "var outputEl = gd.closest('.output');\n",
              "if (outputEl) {{\n",
              "    x.observe(outputEl, {childList: true});\n",
              "}}\n",
              "\n",
              "                        })\n",
              "                };\n",
              "                \n",
              "            </script>\n",
              "        </div>\n",
              "</body>\n",
              "</html>"
            ]
          },
          "metadata": {
            "tags": []
          }
        },
        {
          "output_type": "stream",
          "text": [
            "Number of features: 18 with score 0.8316978776529339\n"
          ],
          "name": "stdout"
        }
      ]
    },
    {
      "cell_type": "code",
      "metadata": {
        "id": "5xV1rYRMEllx"
      },
      "source": [
        "X_best_feature = X_encoded.loc[:, best_model_ft]"
      ],
      "execution_count": null,
      "outputs": []
    },
    {
      "cell_type": "markdown",
      "metadata": {
        "id": "RicvKtVyaSZK"
      },
      "source": [
        "We can see that out of 20 encoded features (after encoding the categorical to `OHE`), the best result is with 18 features."
      ]
    },
    {
      "cell_type": "markdown",
      "metadata": {
        "id": "ynMB-nXeaSU0"
      },
      "source": [
        ""
      ]
    },
    {
      "cell_type": "markdown",
      "metadata": {
        "id": "Q8634ZNQQWJ8"
      },
      "source": [
        "## Ensemble"
      ]
    },
    {
      "cell_type": "markdown",
      "metadata": {
        "id": "zbA3SmTyR51Z"
      },
      "source": [
        "First of all, let's try to use a bagging ensemble with N-fold which is the same as K-Fold, we will create 20 models using the K-Fold method and use all of the 20 models to predict."
      ]
    },
    {
      "cell_type": "code",
      "metadata": {
        "colab": {
          "base_uri": "https://localhost:8080/"
        },
        "id": "p-w3qXjtjn7e",
        "outputId": "ab52b84d-1113-450e-f62b-e6d3ee79f64f"
      },
      "source": [
        "bag_fold_model = BaggingClassifier(base_estimator=SGDClassifier(loss='log', random_state=2, **gs_model.best_params_), n_estimators=20, random_state=2, bootstrap=False).fit(X_best_feature, t)\r\n",
        "print(\"bag_fold_model mean score:\", bag_fold_model.score(X_best_feature, t))"
      ],
      "execution_count": null,
      "outputs": [
        {
          "output_type": "stream",
          "text": [
            "bag_fold_model mean score: 0.8338945005611672\n"
          ],
          "name": "stdout"
        }
      ]
    },
    {
      "cell_type": "markdown",
      "metadata": {
        "id": "r7BRa-WkThqh"
      },
      "source": [
        "Now, let's try the bootstrap method, which picks randomly samples from the dataset, and duplicate them. This method leads to increasing the size of the sample in the dataset. The unique samples in the dataset will be used to train the models and the non-unique samples will be used as a validation set."
      ]
    },
    {
      "cell_type": "code",
      "metadata": {
        "colab": {
          "base_uri": "https://localhost:8080/"
        },
        "id": "bZ5Jcq_Tj8YW",
        "outputId": "dcbcd0d1-e105-40c0-fd36-74c50edc8b29"
      },
      "source": [
        "bag_boot_model = BaggingClassifier(base_estimator=SGDClassifier(loss='log', random_state=2, **gs_model.best_params_), n_estimators=20, random_state=2, bootstrap=True).fit(X_best_feature, t)\r\n",
        "print(\"bag_boot_model mean score:\", bag_boot_model.score(X_best_feature, t))"
      ],
      "execution_count": null,
      "outputs": [
        {
          "output_type": "stream",
          "text": [
            "bag_boot_model mean score: 0.835016835016835\n"
          ],
          "name": "stdout"
        }
      ]
    },
    {
      "cell_type": "markdown",
      "metadata": {
        "id": "5zIazLhETmYw"
      },
      "source": [
        "We can see that with BaggingClassifier we get the best results when using N-Fold (K-Fold), which gives us the best results for this point.\r\n",
        "Now, let's try to use a boosting method with AdaBoostClassifier."
      ]
    },
    {
      "cell_type": "code",
      "metadata": {
        "id": "OTZ5lBbVQVYU",
        "colab": {
          "base_uri": "https://localhost:8080/"
        },
        "outputId": "fc2ccedc-618c-4b3b-9f61-3d32fc473f3f"
      },
      "source": [
        "ada_boost_model = AdaBoostClassifier(base_estimator=SGDClassifier(loss='log', **gs_model.best_params_), n_estimators=100, random_state=2, algorithm='SAMME').fit(X_best_feature, t)\r\n",
        "print(\"ada_boost_model mean score:\", ada_boost_model.score(X_best_feature, t))"
      ],
      "execution_count": null,
      "outputs": [
        {
          "output_type": "stream",
          "text": [
            "ada_boost_model mean score: 0.8181818181818182\n"
          ],
          "name": "stdout"
        }
      ]
    },
    {
      "cell_type": "markdown",
      "metadata": {
        "id": "xUwYPoK8r1tf"
      },
      "source": [
        "Let's plot the graphs of the models."
      ]
    },
    {
      "cell_type": "code",
      "metadata": {
        "colab": {
          "base_uri": "https://localhost:8080/",
          "height": 542
        },
        "id": "_eMLwZOgr02x",
        "outputId": "48fab9cb-0bf7-4860-f847-690b67bea187"
      },
      "source": [
        "# show the accuracy by model\r\n",
        "hp_models = {'BaggingClassifier (Fold)': bag_fold_model, 'BaggingClassifier (Bootstrap)': bag_boot_model, 'AdaBoostClassifier': ada_boost_model}\r\n",
        "\r\n",
        "def show_accuracy_by_model(X_train, t_train, X_val, t_val, models):\r\n",
        "    accuracy_df = pd.DataFrame(columns=['model_name', 'split', 'accuracy'])\r\n",
        "\r\n",
        "    for model_name, model in models.items():\r\n",
        "        model_pipe = make_pipeline(model)\r\n",
        "        model_pipe.fit(X_train, t_train)\r\n",
        "        accuracy_df.loc[len(accuracy_df)] = [model_name, 'train', model_pipe.score(X_train, t_train)]\r\n",
        "        accuracy_df.loc[len(accuracy_df)] = [model_name, 'val', model_pipe.score(X_val, t_val)]\r\n",
        "\r\n",
        "    fig = px.bar(accuracy_df, x='model_name', y='accuracy', color='split', barmode='group')\r\n",
        "    fig.show()\r\n",
        "\r\n",
        "\r\n",
        "X_t, X_v, t_t, t_v = model_selection.train_test_split(X_best_feature, t, test_size=0.2, random_state=2)\r\n",
        "show_accuracy_by_model(X_t, t_t, X_v, t_v, hp_models)"
      ],
      "execution_count": null,
      "outputs": [
        {
          "output_type": "display_data",
          "data": {
            "text/html": [
              "<html>\n",
              "<head><meta charset=\"utf-8\" /></head>\n",
              "<body>\n",
              "    <div>\n",
              "            <script src=\"https://cdnjs.cloudflare.com/ajax/libs/mathjax/2.7.5/MathJax.js?config=TeX-AMS-MML_SVG\"></script><script type=\"text/javascript\">if (window.MathJax) {MathJax.Hub.Config({SVG: {font: \"STIX-Web\"}});}</script>\n",
              "                <script type=\"text/javascript\">window.PlotlyConfig = {MathJaxConfig: 'local'};</script>\n",
              "        <script src=\"https://cdn.plot.ly/plotly-latest.min.js\"></script>    \n",
              "            <div id=\"7ce11e1e-43b3-45da-947a-48059f91f7ce\" class=\"plotly-graph-div\" style=\"height:525px; width:100%;\"></div>\n",
              "            <script type=\"text/javascript\">\n",
              "                \n",
              "                    window.PLOTLYENV=window.PLOTLYENV || {};\n",
              "                    \n",
              "                if (document.getElementById(\"7ce11e1e-43b3-45da-947a-48059f91f7ce\")) {\n",
              "                    Plotly.newPlot(\n",
              "                        '7ce11e1e-43b3-45da-947a-48059f91f7ce',\n",
              "                        [{\"alignmentgroup\": \"True\", \"hoverlabel\": {\"namelength\": 0}, \"hovertemplate\": \"split=train<br>model_name=%{x}<br>accuracy=%{y}\", \"legendgroup\": \"split=train\", \"marker\": {\"color\": \"#636efa\"}, \"name\": \"split=train\", \"offsetgroup\": \"split=train\", \"orientation\": \"v\", \"showlegend\": true, \"textposition\": \"auto\", \"type\": \"bar\", \"x\": [\"BaggingClassifier (Fold)\", \"BaggingClassifier (Bootstrap)\", \"AdaBoostClassifier\"], \"xaxis\": \"x\", \"y\": [0.8412921348314607, 0.8441011235955056, 0.8258426966292135], \"yaxis\": \"y\"}, {\"alignmentgroup\": \"True\", \"hoverlabel\": {\"namelength\": 0}, \"hovertemplate\": \"split=val<br>model_name=%{x}<br>accuracy=%{y}\", \"legendgroup\": \"split=val\", \"marker\": {\"color\": \"#EF553B\"}, \"name\": \"split=val\", \"offsetgroup\": \"split=val\", \"orientation\": \"v\", \"showlegend\": true, \"textposition\": \"auto\", \"type\": \"bar\", \"x\": [\"BaggingClassifier (Fold)\", \"BaggingClassifier (Bootstrap)\", \"AdaBoostClassifier\"], \"xaxis\": \"x\", \"y\": [0.7932960893854749, 0.7877094972067039, 0.7821229050279329], \"yaxis\": \"y\"}],\n",
              "                        {\"barmode\": \"group\", \"legend\": {\"tracegroupgap\": 0}, \"margin\": {\"t\": 60}, \"template\": {\"data\": {\"bar\": [{\"error_x\": {\"color\": \"#2a3f5f\"}, \"error_y\": {\"color\": \"#2a3f5f\"}, \"marker\": {\"line\": {\"color\": \"#E5ECF6\", \"width\": 0.5}}, \"type\": \"bar\"}], \"barpolar\": [{\"marker\": {\"line\": {\"color\": \"#E5ECF6\", \"width\": 0.5}}, \"type\": \"barpolar\"}], \"carpet\": [{\"aaxis\": {\"endlinecolor\": \"#2a3f5f\", \"gridcolor\": \"white\", \"linecolor\": \"white\", \"minorgridcolor\": \"white\", \"startlinecolor\": \"#2a3f5f\"}, \"baxis\": {\"endlinecolor\": \"#2a3f5f\", \"gridcolor\": \"white\", \"linecolor\": \"white\", \"minorgridcolor\": \"white\", \"startlinecolor\": \"#2a3f5f\"}, \"type\": \"carpet\"}], \"choropleth\": [{\"colorbar\": {\"outlinewidth\": 0, \"ticks\": \"\"}, \"type\": \"choropleth\"}], \"contour\": [{\"colorbar\": {\"outlinewidth\": 0, \"ticks\": \"\"}, \"colorscale\": [[0.0, \"#0d0887\"], [0.1111111111111111, \"#46039f\"], [0.2222222222222222, \"#7201a8\"], [0.3333333333333333, \"#9c179e\"], [0.4444444444444444, \"#bd3786\"], [0.5555555555555556, \"#d8576b\"], [0.6666666666666666, \"#ed7953\"], [0.7777777777777778, \"#fb9f3a\"], [0.8888888888888888, \"#fdca26\"], [1.0, \"#f0f921\"]], \"type\": \"contour\"}], \"contourcarpet\": [{\"colorbar\": {\"outlinewidth\": 0, \"ticks\": \"\"}, \"type\": \"contourcarpet\"}], \"heatmap\": [{\"colorbar\": {\"outlinewidth\": 0, \"ticks\": \"\"}, \"colorscale\": [[0.0, \"#0d0887\"], [0.1111111111111111, \"#46039f\"], [0.2222222222222222, \"#7201a8\"], [0.3333333333333333, \"#9c179e\"], [0.4444444444444444, \"#bd3786\"], [0.5555555555555556, \"#d8576b\"], [0.6666666666666666, \"#ed7953\"], [0.7777777777777778, \"#fb9f3a\"], [0.8888888888888888, \"#fdca26\"], [1.0, \"#f0f921\"]], \"type\": \"heatmap\"}], \"heatmapgl\": [{\"colorbar\": {\"outlinewidth\": 0, \"ticks\": \"\"}, \"colorscale\": [[0.0, \"#0d0887\"], [0.1111111111111111, \"#46039f\"], [0.2222222222222222, \"#7201a8\"], [0.3333333333333333, \"#9c179e\"], [0.4444444444444444, \"#bd3786\"], [0.5555555555555556, \"#d8576b\"], [0.6666666666666666, \"#ed7953\"], [0.7777777777777778, \"#fb9f3a\"], [0.8888888888888888, \"#fdca26\"], [1.0, \"#f0f921\"]], \"type\": \"heatmapgl\"}], \"histogram\": [{\"marker\": {\"colorbar\": {\"outlinewidth\": 0, \"ticks\": \"\"}}, \"type\": \"histogram\"}], \"histogram2d\": [{\"colorbar\": {\"outlinewidth\": 0, \"ticks\": \"\"}, \"colorscale\": [[0.0, \"#0d0887\"], [0.1111111111111111, \"#46039f\"], [0.2222222222222222, \"#7201a8\"], [0.3333333333333333, \"#9c179e\"], [0.4444444444444444, \"#bd3786\"], [0.5555555555555556, \"#d8576b\"], [0.6666666666666666, \"#ed7953\"], [0.7777777777777778, \"#fb9f3a\"], [0.8888888888888888, \"#fdca26\"], [1.0, \"#f0f921\"]], \"type\": \"histogram2d\"}], \"histogram2dcontour\": [{\"colorbar\": {\"outlinewidth\": 0, \"ticks\": \"\"}, \"colorscale\": [[0.0, \"#0d0887\"], [0.1111111111111111, \"#46039f\"], [0.2222222222222222, \"#7201a8\"], [0.3333333333333333, \"#9c179e\"], [0.4444444444444444, \"#bd3786\"], [0.5555555555555556, \"#d8576b\"], [0.6666666666666666, \"#ed7953\"], [0.7777777777777778, \"#fb9f3a\"], [0.8888888888888888, \"#fdca26\"], [1.0, \"#f0f921\"]], \"type\": \"histogram2dcontour\"}], \"mesh3d\": [{\"colorbar\": {\"outlinewidth\": 0, \"ticks\": \"\"}, \"type\": \"mesh3d\"}], \"parcoords\": [{\"line\": {\"colorbar\": {\"outlinewidth\": 0, \"ticks\": \"\"}}, \"type\": \"parcoords\"}], \"pie\": [{\"automargin\": true, \"type\": \"pie\"}], \"scatter\": [{\"marker\": {\"colorbar\": {\"outlinewidth\": 0, \"ticks\": \"\"}}, \"type\": \"scatter\"}], \"scatter3d\": [{\"line\": {\"colorbar\": {\"outlinewidth\": 0, \"ticks\": \"\"}}, \"marker\": {\"colorbar\": {\"outlinewidth\": 0, \"ticks\": \"\"}}, \"type\": \"scatter3d\"}], \"scattercarpet\": [{\"marker\": {\"colorbar\": {\"outlinewidth\": 0, \"ticks\": \"\"}}, \"type\": \"scattercarpet\"}], \"scattergeo\": [{\"marker\": {\"colorbar\": {\"outlinewidth\": 0, \"ticks\": \"\"}}, \"type\": \"scattergeo\"}], \"scattergl\": [{\"marker\": {\"colorbar\": {\"outlinewidth\": 0, \"ticks\": \"\"}}, \"type\": \"scattergl\"}], \"scattermapbox\": [{\"marker\": {\"colorbar\": {\"outlinewidth\": 0, \"ticks\": \"\"}}, \"type\": \"scattermapbox\"}], \"scatterpolar\": [{\"marker\": {\"colorbar\": {\"outlinewidth\": 0, \"ticks\": \"\"}}, \"type\": \"scatterpolar\"}], \"scatterpolargl\": [{\"marker\": {\"colorbar\": {\"outlinewidth\": 0, \"ticks\": \"\"}}, \"type\": \"scatterpolargl\"}], \"scatterternary\": [{\"marker\": {\"colorbar\": {\"outlinewidth\": 0, \"ticks\": \"\"}}, \"type\": \"scatterternary\"}], \"surface\": [{\"colorbar\": {\"outlinewidth\": 0, \"ticks\": \"\"}, \"colorscale\": [[0.0, \"#0d0887\"], [0.1111111111111111, \"#46039f\"], [0.2222222222222222, \"#7201a8\"], [0.3333333333333333, \"#9c179e\"], [0.4444444444444444, \"#bd3786\"], [0.5555555555555556, \"#d8576b\"], [0.6666666666666666, \"#ed7953\"], [0.7777777777777778, \"#fb9f3a\"], [0.8888888888888888, \"#fdca26\"], [1.0, \"#f0f921\"]], \"type\": \"surface\"}], \"table\": [{\"cells\": {\"fill\": {\"color\": \"#EBF0F8\"}, \"line\": {\"color\": \"white\"}}, \"header\": {\"fill\": {\"color\": \"#C8D4E3\"}, \"line\": {\"color\": \"white\"}}, \"type\": \"table\"}]}, \"layout\": {\"annotationdefaults\": {\"arrowcolor\": \"#2a3f5f\", \"arrowhead\": 0, \"arrowwidth\": 1}, \"coloraxis\": {\"colorbar\": {\"outlinewidth\": 0, \"ticks\": \"\"}}, \"colorscale\": {\"diverging\": [[0, \"#8e0152\"], [0.1, \"#c51b7d\"], [0.2, \"#de77ae\"], [0.3, \"#f1b6da\"], [0.4, \"#fde0ef\"], [0.5, \"#f7f7f7\"], [0.6, \"#e6f5d0\"], [0.7, \"#b8e186\"], [0.8, \"#7fbc41\"], [0.9, \"#4d9221\"], [1, \"#276419\"]], \"sequential\": [[0.0, \"#0d0887\"], [0.1111111111111111, \"#46039f\"], [0.2222222222222222, \"#7201a8\"], [0.3333333333333333, \"#9c179e\"], [0.4444444444444444, \"#bd3786\"], [0.5555555555555556, \"#d8576b\"], [0.6666666666666666, \"#ed7953\"], [0.7777777777777778, \"#fb9f3a\"], [0.8888888888888888, \"#fdca26\"], [1.0, \"#f0f921\"]], \"sequentialminus\": [[0.0, \"#0d0887\"], [0.1111111111111111, \"#46039f\"], [0.2222222222222222, \"#7201a8\"], [0.3333333333333333, \"#9c179e\"], [0.4444444444444444, \"#bd3786\"], [0.5555555555555556, \"#d8576b\"], [0.6666666666666666, \"#ed7953\"], [0.7777777777777778, \"#fb9f3a\"], [0.8888888888888888, \"#fdca26\"], [1.0, \"#f0f921\"]]}, \"colorway\": [\"#636efa\", \"#EF553B\", \"#00cc96\", \"#ab63fa\", \"#FFA15A\", \"#19d3f3\", \"#FF6692\", \"#B6E880\", \"#FF97FF\", \"#FECB52\"], \"font\": {\"color\": \"#2a3f5f\"}, \"geo\": {\"bgcolor\": \"white\", \"lakecolor\": \"white\", \"landcolor\": \"#E5ECF6\", \"showlakes\": true, \"showland\": true, \"subunitcolor\": \"white\"}, \"hoverlabel\": {\"align\": \"left\"}, \"hovermode\": \"closest\", \"mapbox\": {\"style\": \"light\"}, \"paper_bgcolor\": \"white\", \"plot_bgcolor\": \"#E5ECF6\", \"polar\": {\"angularaxis\": {\"gridcolor\": \"white\", \"linecolor\": \"white\", \"ticks\": \"\"}, \"bgcolor\": \"#E5ECF6\", \"radialaxis\": {\"gridcolor\": \"white\", \"linecolor\": \"white\", \"ticks\": \"\"}}, \"scene\": {\"xaxis\": {\"backgroundcolor\": \"#E5ECF6\", \"gridcolor\": \"white\", \"gridwidth\": 2, \"linecolor\": \"white\", \"showbackground\": true, \"ticks\": \"\", \"zerolinecolor\": \"white\"}, \"yaxis\": {\"backgroundcolor\": \"#E5ECF6\", \"gridcolor\": \"white\", \"gridwidth\": 2, \"linecolor\": \"white\", \"showbackground\": true, \"ticks\": \"\", \"zerolinecolor\": \"white\"}, \"zaxis\": {\"backgroundcolor\": \"#E5ECF6\", \"gridcolor\": \"white\", \"gridwidth\": 2, \"linecolor\": \"white\", \"showbackground\": true, \"ticks\": \"\", \"zerolinecolor\": \"white\"}}, \"shapedefaults\": {\"line\": {\"color\": \"#2a3f5f\"}}, \"ternary\": {\"aaxis\": {\"gridcolor\": \"white\", \"linecolor\": \"white\", \"ticks\": \"\"}, \"baxis\": {\"gridcolor\": \"white\", \"linecolor\": \"white\", \"ticks\": \"\"}, \"bgcolor\": \"#E5ECF6\", \"caxis\": {\"gridcolor\": \"white\", \"linecolor\": \"white\", \"ticks\": \"\"}}, \"title\": {\"x\": 0.05}, \"xaxis\": {\"automargin\": true, \"gridcolor\": \"white\", \"linecolor\": \"white\", \"ticks\": \"\", \"title\": {\"standoff\": 15}, \"zerolinecolor\": \"white\", \"zerolinewidth\": 2}, \"yaxis\": {\"automargin\": true, \"gridcolor\": \"white\", \"linecolor\": \"white\", \"ticks\": \"\", \"title\": {\"standoff\": 15}, \"zerolinecolor\": \"white\", \"zerolinewidth\": 2}}}, \"xaxis\": {\"anchor\": \"y\", \"domain\": [0.0, 1.0], \"title\": {\"text\": \"model_name\"}}, \"yaxis\": {\"anchor\": \"x\", \"domain\": [0.0, 1.0], \"title\": {\"text\": \"accuracy\"}}},\n",
              "                        {\"responsive\": true}\n",
              "                    ).then(function(){\n",
              "                            \n",
              "var gd = document.getElementById('7ce11e1e-43b3-45da-947a-48059f91f7ce');\n",
              "var x = new MutationObserver(function (mutations, observer) {{\n",
              "        var display = window.getComputedStyle(gd).display;\n",
              "        if (!display || display === 'none') {{\n",
              "            console.log([gd, 'removed!']);\n",
              "            Plotly.purge(gd);\n",
              "            observer.disconnect();\n",
              "        }}\n",
              "}});\n",
              "\n",
              "// Listen for the removal of the full notebook cells\n",
              "var notebookContainer = gd.closest('#notebook-container');\n",
              "if (notebookContainer) {{\n",
              "    x.observe(notebookContainer, {childList: true});\n",
              "}}\n",
              "\n",
              "// Listen for the clearing of the current output cell\n",
              "var outputEl = gd.closest('.output');\n",
              "if (outputEl) {{\n",
              "    x.observe(outputEl, {childList: true});\n",
              "}}\n",
              "\n",
              "                        })\n",
              "                };\n",
              "                \n",
              "            </script>\n",
              "        </div>\n",
              "</body>\n",
              "</html>"
            ]
          },
          "metadata": {
            "tags": []
          }
        }
      ]
    },
    {
      "cell_type": "markdown",
      "metadata": {
        "id": "LJjC71tWTe8V"
      },
      "source": [
        "As for ensembling models, although the best score (accuracy) was given to the BaggingClassifier with Bootstrap, we can see that actually, the best score for the validation was given to the BaggingClassifier with N-Fold."
      ]
    },
    {
      "cell_type": "code",
      "metadata": {
        "colab": {
          "base_uri": "https://localhost:8080/",
          "height": 542
        },
        "id": "iTYAvj66kRT6",
        "outputId": "3edcc9c4-4a83-4662-8df1-7b6090d94f8a"
      },
      "source": [
        "y_proba_t = bag_fold_model.predict_proba(X_t)\r\n",
        "y_proba_v = bag_fold_model.predict_proba(X_v)\r\n",
        "plot_roc_curve(t_t, y_proba_t, t_v, y_proba_v)"
      ],
      "execution_count": null,
      "outputs": [
        {
          "output_type": "display_data",
          "data": {
            "text/html": [
              "<html>\n",
              "<head><meta charset=\"utf-8\" /></head>\n",
              "<body>\n",
              "    <div>\n",
              "            <script src=\"https://cdnjs.cloudflare.com/ajax/libs/mathjax/2.7.5/MathJax.js?config=TeX-AMS-MML_SVG\"></script><script type=\"text/javascript\">if (window.MathJax) {MathJax.Hub.Config({SVG: {font: \"STIX-Web\"}});}</script>\n",
              "                <script type=\"text/javascript\">window.PlotlyConfig = {MathJaxConfig: 'local'};</script>\n",
              "        <script src=\"https://cdn.plot.ly/plotly-latest.min.js\"></script>    \n",
              "            <div id=\"73d81289-e728-4ea3-8fdd-415d1eb714d3\" class=\"plotly-graph-div\" style=\"height:525px; width:100%;\"></div>\n",
              "            <script type=\"text/javascript\">\n",
              "                \n",
              "                    window.PLOTLYENV=window.PLOTLYENV || {};\n",
              "                    \n",
              "                if (document.getElementById(\"73d81289-e728-4ea3-8fdd-415d1eb714d3\")) {\n",
              "                    Plotly.newPlot(\n",
              "                        '73d81289-e728-4ea3-8fdd-415d1eb714d3',\n",
              "                        [{\"mode\": \"lines\", \"name\": \"Train\", \"type\": \"scatter\", \"x\": [0.0, 0.0, 0.0, 0.0022271714922048997, 0.0022271714922048997, 0.004454342984409799, 0.004454342984409799, 0.0066815144766146995, 0.0066815144766146995, 0.0066815144766146995, 0.0066815144766146995, 0.008908685968819599, 0.008908685968819599, 0.011135857461024499, 0.011135857461024499, 0.013363028953229399, 0.013363028953229399, 0.015590200445434299, 0.015590200445434299, 0.015590200445434299, 0.015590200445434299, 0.0200445434298441, 0.0200445434298441, 0.022271714922048998, 0.022271714922048998, 0.024498886414253896, 0.024498886414253896, 0.026726057906458798, 0.026726057906458798, 0.028953229398663696, 0.028953229398663696, 0.031180400890868598, 0.031180400890868598, 0.0334075723830735, 0.0334075723830735, 0.0378619153674833, 0.0378619153674833, 0.0378619153674833, 0.0400890868596882, 0.0400890868596882, 0.04899777282850779, 0.04899777282850779, 0.051224944320712694, 0.051224944320712694, 0.053452115812917596, 0.053452115812917596, 0.053452115812917596, 0.053452115812917596, 0.05790645879732739, 0.05790645879732739, 0.062360801781737196, 0.062360801781737196, 0.066815144766147, 0.066815144766147, 0.06904231625835189, 0.06904231625835189, 0.07349665924276169, 0.07349665924276169, 0.0801781737193764, 0.0801781737193764, 0.08240534521158129, 0.08240534521158129, 0.08908685968819599, 0.08908685968819599, 0.09131403118040089, 0.09131403118040089, 0.0957683741648107, 0.0957683741648107, 0.09799554565701558, 0.09799554565701558, 0.10244988864142539, 0.10244988864142539, 0.1091314031180401, 0.1091314031180401, 0.111358574610245, 0.111358574610245, 0.11358574610244988, 0.11358574610244988, 0.1291759465478842, 0.1291759465478842, 0.13140311804008908, 0.13140311804008908, 0.13808463251670378, 0.13808463251670378, 0.14699331848552338, 0.14699331848552338, 0.1514476614699332, 0.1514476614699332, 0.15812917594654788, 0.15812917594654788, 0.16258351893095768, 0.16258351893095768, 0.16703786191536749, 0.16703786191536749, 0.1714922048997773, 0.1714922048997773, 0.1759465478841871, 0.1759465478841871, 0.18262806236080179, 0.18262806236080179, 0.1870824053452116, 0.1915367483296214, 0.1915367483296214, 0.20935412026726058, 0.20935412026726058, 0.22271714922049, 0.22271714922049, 0.25389755011135856, 0.25389755011135856, 0.2583518930957684, 0.26280623608017817, 0.26948775055679286, 0.2739420935412027, 0.2739420935412027, 0.27839643652561247, 0.2806236080178174, 0.30066815144766146, 0.30066815144766146, 0.30957683741648107, 0.311804008908686, 0.3184855233853007, 0.3207126948775056, 0.3207126948775056, 0.33407572383073497, 0.33407572383073497, 0.35412026726057905, 0.35412026726057905, 0.36080178173719374, 0.36971046770601335, 0.36971046770601335, 0.38084632516703787, 0.38084632516703787, 0.3830734966592428, 0.38752783964365256, 0.39198218262806234, 0.3986636971046771, 0.4142538975501114, 0.4142538975501114, 0.41870824053452116, 0.42316258351893093, 0.42316258351893093, 0.4298440979955457, 0.43207126948775054, 0.43429844097995546, 0.43429844097995546, 0.44320712694877507, 0.44988864142538976, 0.4521158129175947, 0.45657015590200445, 0.4610244988864143, 0.4610244988864143, 0.49443207126948774, 0.5033407572383074, 0.5189309576837416, 0.5189309576837416, 0.5300668151447662, 0.5300668151447662, 0.5367483296213809, 0.5545657015590201, 0.5545657015590201, 0.5746102449888641, 0.579064587973274, 0.579064587973274, 0.5857461024498887, 0.5857461024498887, 0.5991091314031181, 0.6035634743875279, 0.6035634743875279, 0.6191536748329621, 0.6191536748329621, 0.6325167037861915, 0.6369710467706013, 0.6481069042316259, 0.6570155902004454, 0.6614699331848553, 0.6614699331848553, 0.6703786191536748, 0.6703786191536748, 0.6904231625835189, 0.6904231625835189, 0.6926503340757239, 0.6948775055679287, 0.6971046770601337, 0.6971046770601337, 0.6993318485523385, 0.7082405345211581, 0.7193763919821826, 0.7416481069042317, 0.7594654788418709, 0.7639198218262806, 0.7839643652561247, 0.7951002227171492, 0.799554565701559, 0.8129175946547884, 0.8129175946547884, 0.8151447661469933, 0.8151447661469933, 0.8418708240534521, 0.8463251670378619, 0.8463251670378619, 0.8596881959910914, 0.9242761692650334, 0.9287305122494433, 0.9398663697104677, 0.9398663697104677, 0.9443207126948775, 0.9443207126948775, 0.9844097995545658, 0.9910913140311804, 0.9955456570155902, 1.0], \"y\": [0.0, 0.0038022813688212928, 0.10646387832699619, 0.10646387832699619, 0.1634980988593156, 0.1634980988593156, 0.2889733840304182, 0.2889733840304182, 0.3155893536121673, 0.3231939163498099, 0.3574144486692015, 0.3574144486692015, 0.41825095057034223, 0.41825095057034223, 0.43346007604562736, 0.43346007604562736, 0.4448669201520912, 0.44866920152091255, 0.5133079847908745, 0.5209125475285171, 0.5285171102661597, 0.5285171102661597, 0.5361216730038023, 0.5361216730038023, 0.5513307984790875, 0.5513307984790875, 0.55893536121673, 0.55893536121673, 0.5741444866920152, 0.5741444866920152, 0.5779467680608364, 0.5779467680608364, 0.596958174904943, 0.596958174904943, 0.6121673003802282, 0.6121673003802282, 0.623574144486692, 0.6311787072243346, 0.6539923954372624, 0.6615969581749049, 0.6615969581749049, 0.6653992395437263, 0.6653992395437263, 0.6692015209125475, 0.6692015209125475, 0.6730038022813688, 0.6806083650190115, 0.6844106463878327, 0.6844106463878327, 0.6920152091254753, 0.6920152091254753, 0.7034220532319392, 0.7034220532319392, 0.7072243346007605, 0.7072243346007605, 0.7110266159695817, 0.7110266159695817, 0.7186311787072244, 0.7186311787072244, 0.7224334600760456, 0.7224334600760456, 0.7338403041825095, 0.7338403041825095, 0.7376425855513308, 0.7376425855513308, 0.7414448669201521, 0.7414448669201521, 0.7452471482889734, 0.7452471482889734, 0.7490494296577946, 0.7490494296577946, 0.752851711026616, 0.752851711026616, 0.7642585551330798, 0.7642585551330798, 0.7680608365019012, 0.7680608365019012, 0.7718631178707225, 0.7718631178707225, 0.7756653992395437, 0.7756653992395437, 0.779467680608365, 0.779467680608365, 0.7908745247148289, 0.7908745247148289, 0.7984790874524715, 0.7984790874524715, 0.8022813688212928, 0.8022813688212928, 0.8098859315589354, 0.8098859315589354, 0.8136882129277566, 0.8136882129277566, 0.8212927756653993, 0.8212927756653993, 0.8250950570342205, 0.8250950570342205, 0.8288973384030418, 0.8288973384030418, 0.8403041825095057, 0.8403041825095057, 0.8403041825095057, 0.8479087452471483, 0.8479087452471483, 0.8517110266159695, 0.8517110266159695, 0.8555133079847909, 0.8555133079847909, 0.8593155893536122, 0.8593155893536122, 0.8593155893536122, 0.8593155893536122, 0.8593155893536122, 0.8631178707224335, 0.8631178707224335, 0.8669201520912547, 0.8669201520912547, 0.870722433460076, 0.870722433460076, 0.870722433460076, 0.870722433460076, 0.870722433460076, 0.8745247148288974, 0.8745247148288974, 0.8783269961977186, 0.8783269961977186, 0.8859315589353612, 0.8859315589353612, 0.8859315589353612, 0.8897338403041825, 0.8897338403041825, 0.8935361216730038, 0.8935361216730038, 0.8973384030418251, 0.8973384030418251, 0.8973384030418251, 0.8973384030418251, 0.9011406844106464, 0.9011406844106464, 0.9011406844106464, 0.9049429657794676, 0.9049429657794676, 0.908745247148289, 0.908745247148289, 0.9125475285171103, 0.9125475285171103, 0.9125475285171103, 0.9125475285171103, 0.9125475285171103, 0.9125475285171103, 0.9163498098859315, 0.9163498098859315, 0.9163498098859315, 0.9163498098859315, 0.9201520912547528, 0.9201520912547528, 0.9239543726235742, 0.9239543726235742, 0.9239543726235742, 0.9277566539923955, 0.9277566539923955, 0.9277566539923955, 0.9315589353612167, 0.9315589353612167, 0.935361216730038, 0.935361216730038, 0.935361216730038, 0.9391634980988594, 0.9391634980988594, 0.9467680608365019, 0.9467680608365019, 0.9467680608365019, 0.9505703422053232, 0.9505703422053232, 0.9505703422053232, 0.9581749049429658, 0.9581749049429658, 0.9619771863117871, 0.9619771863117871, 0.9657794676806084, 0.9657794676806084, 0.9695817490494296, 0.9695817490494296, 0.973384030418251, 0.973384030418251, 0.973384030418251, 0.973384030418251, 0.973384030418251, 0.973384030418251, 0.973384030418251, 0.9771863117870723, 0.9771863117870723, 0.9771863117870723, 0.9771863117870723, 0.9809885931558935, 0.9809885931558935, 0.9847908745247148, 0.9847908745247148, 0.9847908745247148, 0.9923954372623575, 0.9923954372623575, 0.9923954372623575, 0.9923954372623575, 0.9923954372623575, 0.9961977186311787, 0.9961977186311787, 1.0, 1.0, 1.0, 1.0, 1.0]}, {\"mode\": \"lines\", \"name\": \"Valid\", \"type\": \"scatter\", \"x\": [0.0, 0.0, 0.0, 0.01, 0.01, 0.02, 0.02, 0.03, 0.03, 0.04, 0.04, 0.05, 0.05, 0.06, 0.06, 0.07, 0.07, 0.1, 0.1, 0.11, 0.11, 0.12, 0.12, 0.14, 0.14, 0.16, 0.16, 0.17, 0.17, 0.21, 0.21, 0.23, 0.23, 0.24, 0.24, 0.29, 0.31, 0.35, 0.35, 0.43, 0.43, 0.47, 0.47, 0.61, 0.61, 0.63, 0.63, 0.65, 0.65, 0.71, 0.71, 0.73, 0.78, 0.78, 0.8, 0.8, 0.82, 0.82, 0.92, 0.92, 1.0], \"y\": [0.0, 0.012658227848101266, 0.3037974683544304, 0.3037974683544304, 0.3670886075949367, 0.3670886075949367, 0.45569620253164556, 0.45569620253164556, 0.5063291139240507, 0.5063291139240507, 0.5189873417721519, 0.5189873417721519, 0.5569620253164557, 0.5569620253164557, 0.5822784810126582, 0.5822784810126582, 0.620253164556962, 0.620253164556962, 0.6582278481012658, 0.6582278481012658, 0.6708860759493671, 0.6708860759493671, 0.7088607594936709, 0.7088607594936709, 0.7215189873417721, 0.7215189873417721, 0.7341772151898734, 0.7341772151898734, 0.759493670886076, 0.759493670886076, 0.7848101265822784, 0.7848101265822784, 0.7974683544303798, 0.7974683544303798, 0.810126582278481, 0.810126582278481, 0.810126582278481, 0.810126582278481, 0.8227848101265823, 0.8227848101265823, 0.8354430379746836, 0.8354430379746836, 0.8481012658227848, 0.8481012658227848, 0.8607594936708861, 0.8607594936708861, 0.8860759493670886, 0.8860759493670886, 0.9240506329113924, 0.9240506329113924, 0.9367088607594937, 0.9367088607594937, 0.9367088607594937, 0.9493670886075949, 0.9493670886075949, 0.9620253164556962, 0.9620253164556962, 0.9746835443037974, 0.9746835443037974, 1.0, 1.0]}],\n",
              "                        {\"template\": {\"data\": {\"bar\": [{\"error_x\": {\"color\": \"#2a3f5f\"}, \"error_y\": {\"color\": \"#2a3f5f\"}, \"marker\": {\"line\": {\"color\": \"#E5ECF6\", \"width\": 0.5}}, \"type\": \"bar\"}], \"barpolar\": [{\"marker\": {\"line\": {\"color\": \"#E5ECF6\", \"width\": 0.5}}, \"type\": \"barpolar\"}], \"carpet\": [{\"aaxis\": {\"endlinecolor\": \"#2a3f5f\", \"gridcolor\": \"white\", \"linecolor\": \"white\", \"minorgridcolor\": \"white\", \"startlinecolor\": \"#2a3f5f\"}, \"baxis\": {\"endlinecolor\": \"#2a3f5f\", \"gridcolor\": \"white\", \"linecolor\": \"white\", \"minorgridcolor\": \"white\", \"startlinecolor\": \"#2a3f5f\"}, \"type\": \"carpet\"}], \"choropleth\": [{\"colorbar\": {\"outlinewidth\": 0, \"ticks\": \"\"}, \"type\": \"choropleth\"}], \"contour\": [{\"colorbar\": {\"outlinewidth\": 0, \"ticks\": \"\"}, \"colorscale\": [[0.0, \"#0d0887\"], [0.1111111111111111, \"#46039f\"], [0.2222222222222222, \"#7201a8\"], [0.3333333333333333, \"#9c179e\"], [0.4444444444444444, \"#bd3786\"], [0.5555555555555556, \"#d8576b\"], [0.6666666666666666, \"#ed7953\"], [0.7777777777777778, \"#fb9f3a\"], [0.8888888888888888, \"#fdca26\"], [1.0, \"#f0f921\"]], \"type\": \"contour\"}], \"contourcarpet\": [{\"colorbar\": {\"outlinewidth\": 0, \"ticks\": \"\"}, \"type\": \"contourcarpet\"}], \"heatmap\": [{\"colorbar\": {\"outlinewidth\": 0, \"ticks\": \"\"}, \"colorscale\": [[0.0, \"#0d0887\"], [0.1111111111111111, \"#46039f\"], [0.2222222222222222, \"#7201a8\"], [0.3333333333333333, \"#9c179e\"], [0.4444444444444444, \"#bd3786\"], [0.5555555555555556, \"#d8576b\"], [0.6666666666666666, \"#ed7953\"], [0.7777777777777778, \"#fb9f3a\"], [0.8888888888888888, \"#fdca26\"], [1.0, \"#f0f921\"]], \"type\": \"heatmap\"}], \"heatmapgl\": [{\"colorbar\": {\"outlinewidth\": 0, \"ticks\": \"\"}, \"colorscale\": [[0.0, \"#0d0887\"], [0.1111111111111111, \"#46039f\"], [0.2222222222222222, \"#7201a8\"], [0.3333333333333333, \"#9c179e\"], [0.4444444444444444, \"#bd3786\"], [0.5555555555555556, \"#d8576b\"], [0.6666666666666666, \"#ed7953\"], [0.7777777777777778, \"#fb9f3a\"], [0.8888888888888888, \"#fdca26\"], [1.0, \"#f0f921\"]], \"type\": \"heatmapgl\"}], \"histogram\": [{\"marker\": {\"colorbar\": {\"outlinewidth\": 0, \"ticks\": \"\"}}, \"type\": \"histogram\"}], \"histogram2d\": [{\"colorbar\": {\"outlinewidth\": 0, \"ticks\": \"\"}, \"colorscale\": [[0.0, \"#0d0887\"], [0.1111111111111111, \"#46039f\"], [0.2222222222222222, \"#7201a8\"], [0.3333333333333333, \"#9c179e\"], [0.4444444444444444, \"#bd3786\"], [0.5555555555555556, \"#d8576b\"], [0.6666666666666666, \"#ed7953\"], [0.7777777777777778, \"#fb9f3a\"], [0.8888888888888888, \"#fdca26\"], [1.0, \"#f0f921\"]], \"type\": \"histogram2d\"}], \"histogram2dcontour\": [{\"colorbar\": {\"outlinewidth\": 0, \"ticks\": \"\"}, \"colorscale\": [[0.0, \"#0d0887\"], [0.1111111111111111, \"#46039f\"], [0.2222222222222222, \"#7201a8\"], [0.3333333333333333, \"#9c179e\"], [0.4444444444444444, \"#bd3786\"], [0.5555555555555556, \"#d8576b\"], [0.6666666666666666, \"#ed7953\"], [0.7777777777777778, \"#fb9f3a\"], [0.8888888888888888, \"#fdca26\"], [1.0, \"#f0f921\"]], \"type\": \"histogram2dcontour\"}], \"mesh3d\": [{\"colorbar\": {\"outlinewidth\": 0, \"ticks\": \"\"}, \"type\": \"mesh3d\"}], \"parcoords\": [{\"line\": {\"colorbar\": {\"outlinewidth\": 0, \"ticks\": \"\"}}, \"type\": \"parcoords\"}], \"pie\": [{\"automargin\": true, \"type\": \"pie\"}], \"scatter\": [{\"marker\": {\"colorbar\": {\"outlinewidth\": 0, \"ticks\": \"\"}}, \"type\": \"scatter\"}], \"scatter3d\": [{\"line\": {\"colorbar\": {\"outlinewidth\": 0, \"ticks\": \"\"}}, \"marker\": {\"colorbar\": {\"outlinewidth\": 0, \"ticks\": \"\"}}, \"type\": \"scatter3d\"}], \"scattercarpet\": [{\"marker\": {\"colorbar\": {\"outlinewidth\": 0, \"ticks\": \"\"}}, \"type\": \"scattercarpet\"}], \"scattergeo\": [{\"marker\": {\"colorbar\": {\"outlinewidth\": 0, \"ticks\": \"\"}}, \"type\": \"scattergeo\"}], \"scattergl\": [{\"marker\": {\"colorbar\": {\"outlinewidth\": 0, \"ticks\": \"\"}}, \"type\": \"scattergl\"}], \"scattermapbox\": [{\"marker\": {\"colorbar\": {\"outlinewidth\": 0, \"ticks\": \"\"}}, \"type\": \"scattermapbox\"}], \"scatterpolar\": [{\"marker\": {\"colorbar\": {\"outlinewidth\": 0, \"ticks\": \"\"}}, \"type\": \"scatterpolar\"}], \"scatterpolargl\": [{\"marker\": {\"colorbar\": {\"outlinewidth\": 0, \"ticks\": \"\"}}, \"type\": \"scatterpolargl\"}], \"scatterternary\": [{\"marker\": {\"colorbar\": {\"outlinewidth\": 0, \"ticks\": \"\"}}, \"type\": \"scatterternary\"}], \"surface\": [{\"colorbar\": {\"outlinewidth\": 0, \"ticks\": \"\"}, \"colorscale\": [[0.0, \"#0d0887\"], [0.1111111111111111, \"#46039f\"], [0.2222222222222222, \"#7201a8\"], [0.3333333333333333, \"#9c179e\"], [0.4444444444444444, \"#bd3786\"], [0.5555555555555556, \"#d8576b\"], [0.6666666666666666, \"#ed7953\"], [0.7777777777777778, \"#fb9f3a\"], [0.8888888888888888, \"#fdca26\"], [1.0, \"#f0f921\"]], \"type\": \"surface\"}], \"table\": [{\"cells\": {\"fill\": {\"color\": \"#EBF0F8\"}, \"line\": {\"color\": \"white\"}}, \"header\": {\"fill\": {\"color\": \"#C8D4E3\"}, \"line\": {\"color\": \"white\"}}, \"type\": \"table\"}]}, \"layout\": {\"annotationdefaults\": {\"arrowcolor\": \"#2a3f5f\", \"arrowhead\": 0, \"arrowwidth\": 1}, \"coloraxis\": {\"colorbar\": {\"outlinewidth\": 0, \"ticks\": \"\"}}, \"colorscale\": {\"diverging\": [[0, \"#8e0152\"], [0.1, \"#c51b7d\"], [0.2, \"#de77ae\"], [0.3, \"#f1b6da\"], [0.4, \"#fde0ef\"], [0.5, \"#f7f7f7\"], [0.6, \"#e6f5d0\"], [0.7, \"#b8e186\"], [0.8, \"#7fbc41\"], [0.9, \"#4d9221\"], [1, \"#276419\"]], \"sequential\": [[0.0, \"#0d0887\"], [0.1111111111111111, \"#46039f\"], [0.2222222222222222, \"#7201a8\"], [0.3333333333333333, \"#9c179e\"], [0.4444444444444444, \"#bd3786\"], [0.5555555555555556, \"#d8576b\"], [0.6666666666666666, \"#ed7953\"], [0.7777777777777778, \"#fb9f3a\"], [0.8888888888888888, \"#fdca26\"], [1.0, \"#f0f921\"]], \"sequentialminus\": [[0.0, \"#0d0887\"], [0.1111111111111111, \"#46039f\"], [0.2222222222222222, \"#7201a8\"], [0.3333333333333333, \"#9c179e\"], [0.4444444444444444, \"#bd3786\"], [0.5555555555555556, \"#d8576b\"], [0.6666666666666666, \"#ed7953\"], [0.7777777777777778, \"#fb9f3a\"], [0.8888888888888888, \"#fdca26\"], [1.0, \"#f0f921\"]]}, \"colorway\": [\"#636efa\", \"#EF553B\", \"#00cc96\", \"#ab63fa\", \"#FFA15A\", \"#19d3f3\", \"#FF6692\", \"#B6E880\", \"#FF97FF\", \"#FECB52\"], \"font\": {\"color\": \"#2a3f5f\"}, \"geo\": {\"bgcolor\": \"white\", \"lakecolor\": \"white\", \"landcolor\": \"#E5ECF6\", \"showlakes\": true, \"showland\": true, \"subunitcolor\": \"white\"}, \"hoverlabel\": {\"align\": \"left\"}, \"hovermode\": \"closest\", \"mapbox\": {\"style\": \"light\"}, \"paper_bgcolor\": \"white\", \"plot_bgcolor\": \"#E5ECF6\", \"polar\": {\"angularaxis\": {\"gridcolor\": \"white\", \"linecolor\": \"white\", \"ticks\": \"\"}, \"bgcolor\": \"#E5ECF6\", \"radialaxis\": {\"gridcolor\": \"white\", \"linecolor\": \"white\", \"ticks\": \"\"}}, \"scene\": {\"xaxis\": {\"backgroundcolor\": \"#E5ECF6\", \"gridcolor\": \"white\", \"gridwidth\": 2, \"linecolor\": \"white\", \"showbackground\": true, \"ticks\": \"\", \"zerolinecolor\": \"white\"}, \"yaxis\": {\"backgroundcolor\": \"#E5ECF6\", \"gridcolor\": \"white\", \"gridwidth\": 2, \"linecolor\": \"white\", \"showbackground\": true, \"ticks\": \"\", \"zerolinecolor\": \"white\"}, \"zaxis\": {\"backgroundcolor\": \"#E5ECF6\", \"gridcolor\": \"white\", \"gridwidth\": 2, \"linecolor\": \"white\", \"showbackground\": true, \"ticks\": \"\", \"zerolinecolor\": \"white\"}}, \"shapedefaults\": {\"line\": {\"color\": \"#2a3f5f\"}}, \"ternary\": {\"aaxis\": {\"gridcolor\": \"white\", \"linecolor\": \"white\", \"ticks\": \"\"}, \"baxis\": {\"gridcolor\": \"white\", \"linecolor\": \"white\", \"ticks\": \"\"}, \"bgcolor\": \"#E5ECF6\", \"caxis\": {\"gridcolor\": \"white\", \"linecolor\": \"white\", \"ticks\": \"\"}}, \"title\": {\"x\": 0.05}, \"xaxis\": {\"automargin\": true, \"gridcolor\": \"white\", \"linecolor\": \"white\", \"ticks\": \"\", \"title\": {\"standoff\": 15}, \"zerolinecolor\": \"white\", \"zerolinewidth\": 2}, \"yaxis\": {\"automargin\": true, \"gridcolor\": \"white\", \"linecolor\": \"white\", \"ticks\": \"\", \"title\": {\"standoff\": 15}, \"zerolinecolor\": \"white\", \"zerolinewidth\": 2}}}, \"title\": {\"text\": \"Train AUC: 0.89\\tValid AUC: 0.83\\t\"}},\n",
              "                        {\"responsive\": true}\n",
              "                    ).then(function(){\n",
              "                            \n",
              "var gd = document.getElementById('73d81289-e728-4ea3-8fdd-415d1eb714d3');\n",
              "var x = new MutationObserver(function (mutations, observer) {{\n",
              "        var display = window.getComputedStyle(gd).display;\n",
              "        if (!display || display === 'none') {{\n",
              "            console.log([gd, 'removed!']);\n",
              "            Plotly.purge(gd);\n",
              "            observer.disconnect();\n",
              "        }}\n",
              "}});\n",
              "\n",
              "// Listen for the removal of the full notebook cells\n",
              "var notebookContainer = gd.closest('#notebook-container');\n",
              "if (notebookContainer) {{\n",
              "    x.observe(notebookContainer, {childList: true});\n",
              "}}\n",
              "\n",
              "// Listen for the clearing of the current output cell\n",
              "var outputEl = gd.closest('.output');\n",
              "if (outputEl) {{\n",
              "    x.observe(outputEl, {childList: true});\n",
              "}}\n",
              "\n",
              "                        })\n",
              "                };\n",
              "                \n",
              "            </script>\n",
              "        </div>\n",
              "</body>\n",
              "</html>"
            ]
          },
          "metadata": {
            "tags": []
          }
        }
      ]
    },
    {
      "cell_type": "markdown",
      "metadata": {
        "id": "ILJPDuhbakdZ"
      },
      "source": [
        "We get a pretty good result with the BagginClassifier with K-Fold, now let's try different models."
      ]
    },
    {
      "cell_type": "markdown",
      "metadata": {
        "id": "gRc-P-DQUTK_"
      },
      "source": [
        "## KNN\r\n",
        "`KNN` does not do any training actually, it uses the distance from a test sample from the nearest `k` training samples to classify its prediction.  \r\n",
        "The model is based on the assumption that the data distributed in a similar way between each label we are trying to classify.  \r\n",
        "We will use `GridSearchCV` to determine the best amount of neighbors needed to predict the best results, and different ways to calculate the distance between the samples."
      ]
    },
    {
      "cell_type": "code",
      "metadata": {
        "id": "Ea5QMZchQVVr",
        "colab": {
          "base_uri": "https://localhost:8080/"
        },
        "outputId": "dd6faa4b-dd40-4c03-bf0d-5657dee6d534"
      },
      "source": [
        "hyper_parameters = { 'n_neighbors': list(range(1, 100)),\r\n",
        "                     'weights': ('uniform', 'distance'),\r\n",
        "                     'algorithm': ('auto', 'ball_tree', 'kd_tree', 'brute') }\r\n",
        "\r\n",
        "gs_neigh_model = GridSearchCV(KNeighborsClassifier(), hyper_parameters).fit(X_best_feature, t)\r\n",
        "print('Accuracy score for classification:')\r\n",
        "print('gs_neigh_model', gs_neigh_model.best_score_)\r\n",
        "print('best params', gs_neigh_model.best_params_)"
      ],
      "execution_count": null,
      "outputs": [
        {
          "output_type": "stream",
          "text": [
            "Accuracy score for classification:\n",
            "gs_neigh_model 0.8226727763480006\n",
            "best params {'algorithm': 'ball_tree', 'n_neighbors': 53, 'weights': 'uniform'}\n"
          ],
          "name": "stdout"
        }
      ]
    },
    {
      "cell_type": "markdown",
      "metadata": {
        "id": "GUIbH3CvWTQJ"
      },
      "source": [
        "So we get a good result with KNN, with the GridSearchCV we search for the best `K`, between 1 to 100 and we can see that the best result is with `53-NN` and the score is `0.82267`, which is not better than the ensemble model we got earlier."
      ]
    },
    {
      "cell_type": "markdown",
      "metadata": {
        "id": "Z__RxcWqicAE"
      },
      "source": [
        "## Naive-Bayes\r\n",
        "The `Naive-Bayes` method is based on the assumption that every 2 features are conditional independent.  \r\n",
        "It is considered as a decent classifier and as a bad estimator so we will not give a big weight for its results.  \r\n",
        "To use the Naive-Bayes method to determine passenger's survival rate, we will use `MultinomialNB`, but it would not accept negative values, so we can not use `StandartScaler` here."
      ]
    },
    {
      "cell_type": "code",
      "metadata": {
        "id": "tgXqQ4gbQVQv",
        "colab": {
          "base_uri": "https://localhost:8080/"
        },
        "outputId": "7364b592-c3d3-49ce-f507-283e0e1f475c"
      },
      "source": [
        "ctNB = ColumnTransformer([\r\n",
        "    (\"encoding_ohe\", OneHotEncoder(sparse=False, handle_unknown='ignore'), categorical_cols),\r\n",
        "    (\"scaling\", MinMaxScaler((0, 1)), numerical_cols),\r\n",
        "    (\"ordinal\", OrdinalEncoder(), ordinal_cols)])\r\n",
        "\r\n",
        "X_encoded_BN = pd.DataFrame(ctNB.fit_transform(X))\r\n",
        "X_encoded_BN = X_encoded_BN.loc[:, best_model_ft]\r\n",
        "\r\n",
        "print('MultinomialNB score:', cross_val_score(MultinomialNB(), X_encoded_BN, t, cv=10).mean())"
      ],
      "execution_count": null,
      "outputs": [
        {
          "output_type": "stream",
          "text": [
            "MultinomialNB score: 0.7945942571785267\n"
          ],
          "name": "stdout"
        }
      ]
    },
    {
      "cell_type": "markdown",
      "metadata": {
        "id": "CsbnViqjoVwP"
      },
      "source": [
        "We can see that neither the `KNN` nor the `Naive-Bayes` models gave us better results than the `SDGClassifier`."
      ]
    },
    {
      "cell_type": "markdown",
      "metadata": {
        "id": "OgEJH1CvsyEW"
      },
      "source": [
        "## Test\r\n",
        "We will use the best SGDClassifier we had from the GridSearchCV algorithm to perform the test.  \r\n",
        "The parameters are:\r\n",
        "\r\n",
        "\r\n",
        "*   alpha: 0.001\r\n",
        "*   eta0: 0.1\r\n",
        "*   learning_rate: adaptive\r\n",
        "*   max_iter: 1000\r\n",
        "*   penalty: l2\r\n",
        "\r\n"
      ]
    },
    {
      "cell_type": "code",
      "metadata": {
        "id": "WaBA6ijLLFEL",
        "colab": {
          "base_uri": "https://localhost:8080/"
        },
        "outputId": "12adee36-b79f-4b43-8d1f-5aba943ded2a"
      },
      "source": [
        "X_best_feature.shape"
      ],
      "execution_count": null,
      "outputs": [
        {
          "output_type": "execute_result",
          "data": {
            "text/plain": [
              "(891, 18)"
            ]
          },
          "metadata": {
            "tags": []
          },
          "execution_count": 85
        }
      ]
    },
    {
      "cell_type": "code",
      "metadata": {
        "id": "IQVhOV9HbIkE"
      },
      "source": [
        "final_model = bag_fold_model"
      ],
      "execution_count": null,
      "outputs": []
    },
    {
      "cell_type": "code",
      "metadata": {
        "id": "TinUFDV5bI73"
      },
      "source": [
        "test_df = test[X.keys()]\r\n",
        "\r\n",
        "ct = ColumnTransformer([\r\n",
        "    (\"encoding_ohe\", OneHotEncoder(sparse=False, handle_unknown='ignore'), categorical_cols),\r\n",
        "    (\"standard\", StandardScaler(), numerical_cols),\r\n",
        "    (\"ordinal\", OrdinalEncoder(), ordinal_cols)])\r\n",
        "\r\n",
        "test_encode = pd.DataFrame(ct.fit_transform(test_df))\r\n",
        "test_encode = test_encode.loc[:, best_model_ft]"
      ],
      "execution_count": null,
      "outputs": []
    },
    {
      "cell_type": "code",
      "metadata": {
        "id": "bwvVuDABbOQr"
      },
      "source": [
        "y_pred = final_model.predict(test_encode)"
      ],
      "execution_count": null,
      "outputs": []
    },
    {
      "cell_type": "code",
      "metadata": {
        "id": "ZcRTVHLxbPmW"
      },
      "source": [
        "submission = pd.DataFrame({\r\n",
        "        \"PassengerId\": test[\"PassengerId\"],\r\n",
        "        \"Survived\": y_pred\r\n",
        "    })\r\n",
        "submission.to_csv('submission.csv', index=False)"
      ],
      "execution_count": null,
      "outputs": []
    },
    {
      "cell_type": "markdown",
      "metadata": {
        "id": "2xxg3fNrvIH1"
      },
      "source": [
        "## Scores\r\n",
        "![a](https://user-images.githubusercontent.com/52006798/103460762-a4424c80-4d21-11eb-81fb-98da8842505e.png)\r\n",
        "![b](https://user-images.githubusercontent.com/52006798/103460763-a5737980-4d21-11eb-99f4-b6ca99683a58.png)\r\n"
      ]
    },
    {
      "cell_type": "markdown",
      "metadata": {
        "id": "5bEIxtx9trgo"
      },
      "source": [
        "## Conclusions\r\n",
        "\r\n",
        "In this exercise I have tried different models with the data I have modified in the previous assignment, I have tried different ensemble method (`K-Fold`, `Bootstrap` and `AdaBoost`).  \r\n",
        "I have tried different `KNN` models with different values for `k` and weight methods, and a `Native-Bayes` model which was not that good as predicted.  \r\n",
        "Like with the previous assignment, I tried different hyper-parameters, but at this time I have used `GridSearchCV` which finds the best hyper-parameters with cross-validation.\r\n"
      ]
    },
    {
      "cell_type": "markdown",
      "metadata": {
        "id": "ZGxc4_w1woNH"
      },
      "source": [
        "## Links\r\n",
        "\r\n",
        "* [Aviad's notebooks](https://github.com/aviasd/Machine-Learning-Practices-Afeka-2020)"
      ]
    }
  ]
}